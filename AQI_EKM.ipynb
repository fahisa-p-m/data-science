{
  "cells": [
    {
      "cell_type": "markdown",
      "metadata": {
        "id": "lf6xlokkoonE"
      },
      "source": [
        "#**Air Quality Index (AQI) Regression model** "
      ]
    },
    {
      "cell_type": "markdown",
      "source": [
        "**predicting the AQI using the Brahmapuram sewage plant fire (march 2 2023) incident**"
      ],
      "metadata": {
        "id": "uG_aO1UUVuoR"
      }
    },
    {
      "cell_type": "markdown",
      "metadata": {
        "id": "4shMx0CroyOd"
      },
      "source": [
        "#Objective:\n",
        "The objective of this project is to analyze the air quality parameters and AQI index in Ernakulam district before, during and after the Brahmapuram sewage plant fire incident. The project aims to identify the key air pollutants and their sources that contribute to the degradation of air quality in the region. Furthermore, the project intends to explore the relationship between the air pollutants and AQI index to determine the impact of air pollution on public health. The project also aims to provide recommendations to mitigate the adverse effects of air pollution on the environment and public health.\n",
        "\n",
        "* The recent fire incident in Brahmapuram waste ground in Ernakulam district, Kerala has resulted in severe air pollution and health hazards for local residents. The fire, which was reportedly caused by a waste pile that caught fire, has been burning for several days, releasing toxic smoke and pollutants into the air.\n",
        "\n",
        "* The Air Quality Index (AQI) in the area has been recorded at hazardous levels, with particulate matter (PM2.5) levels reaching over 200 micrograms per cubic meter, which is significantly higher than the national safe standard of 60 micrograms per cubic meter. This indicates that the air quality in the area is extremely poor and poses a serious health risk to local residents.\n",
        "\n",
        "* That local hospitals have seen an increase in the number of patients seeking treatment for respiratory problems and other health issues related to the poor air quality. Schools and colleges in the area have been closed as a precautionary measure to protect the health of students and staff.\n",
        "\n",
        "* In response to the air quality issues, local authorities have deployed firefighting teams and other personnel to contain the fire and limit the release of pollutants.The State Pollution Control Board is monitoring the air quality in the area and has issued warnings to residents to stay indoors and avoid outdoor activities.\n",
        "* Overall, the situation in Brahmapuram waste ground in Ernakulam district, Kerala is a serious public health concern. The high levels of particulate matter and other pollutants in the air pose a significant risk to the health of local residents, particularly those with respiratory problems and other underlying health issues. It is crucial that immediate action is taken to address the situation, including measures to limit exposure to the smoke and pollutants and prevent future fires from occurring"
      ]
    },
    {
      "cell_type": "markdown",
      "metadata": {
        "id": "VAGVsMKFpIGI"
      },
      "source": [
        "#About the dataset:\n",
        "The dataset was collected from the Kerala State Pollution Control Board (KSPCB) and contains air quality parameters and AQI index data for the Ernakulam district in Kerala, India. The dataset has eight features and one target variable:\n",
        "\n",
        "👉 **Date**: \n",
        "* The date on which the air quality parameters and AQI index were measured.\n",
        "\n",
        "👉 **NOx(µg/m3)**: \n",
        "* Nitrogen Oxides (NOx) concentration in micrograms per cubic meter (µg/m3).\n",
        "* NOx is a family of poisonous gases that contribute to the formation of smog and acid rain.\n",
        "* NOx can cause respiratory problems, particularly in people with asthma or other lung conditions.\n",
        "*  It can also cause irritation of the eyes, nose, and throat. \n",
        "\n",
        "🚩 *NOx is emitted by automobiles, trucks and various non-road vehicles (e.g., construction equipment, boats, etc.) as well as industrial sources such as power plants, industrial boilers, cement kilns, and turbines.*\n",
        "\n",
        " 👉 **O3(µg/m3)**: \n",
        "* Ozone (O3) concentration in micrograms per cubic meter (µg/m3).\n",
        "\n",
        "* Ozone is a highly reactive gas that can irritate the respiratory system and cause breathing difficulties.It can also cause coughing, chest pain, and shortness of breath, and may contribute to the formation of smog.\n",
        "\n",
        "🚩 *Ozone is formed in the atmosphere through chemical reactions between pollutants emitted from vehicles, factories, plastic treatment plants and other industrial sources, fossil fuels, combustion, consumer products, evaporation of paints, and many other sources.*\n",
        "\n",
        " 👉 **PM10(µg/m3)**: \n",
        "* Particulate Matter (PM10) concentration in micrograms per cubic meter (µg/m3).\n",
        "\n",
        "* A mixture of Sulfate, Nitrate, Chloride, Organic carbon and Elemental carbon having a size of 10 microns, PM 10 will also have traces of water, which can penetrate into the respiratory system and cause adverse health effects.\n",
        "\n",
        "* It can also cause irritation of the eyes, nose, and throat, and may contribute to the development of heart disease and lung cancer.\n",
        "\n",
        "🚩 *Emissions from combustion of gasoline, oil, diesel fuel or wood produce PM10. It also includes dust from construction sites, landfills and agriculture, wildfires and brush/waste burning, industrial sources, wind-blown dust from open lands, pollen and fragments of bacteria.*\n",
        "\n",
        " 👉 **CO(mg/m3)**:\n",
        " * Carbon Monoxide (CO) concentration in milligrams per cubic meter (mg/m3).\n",
        " * CO is a poisonous gas that reduces the amount of oxygen that can be absorbed by the body. \n",
        " * CO can cause headaches, dizziness, nausea, and confusion.\n",
        " * It is an odourless,colourless gas which causes death when inhaled at high levels.\n",
        "\n",
        "🚩 *The greatest sources of CO to outdoor air are cars, trucks and other vehicles or machinery that burn fossil fuels. A variety of items in your home such as unvented kerosene and gas space heaters, leaking chimneys and furnaces, damaged air-conditioners and gas stoves also release CO and can affect air quality indoors*\n",
        "\n",
        "\n",
        "\n",
        "👉 **NH3(µg/m3)**:\n",
        " * Ammonia (NH3) concentration in micrograms per cubic meter (µg/m3).\n",
        " * Ammonia is a colorless gas with a pungent odor that can irritate the respiratory system.\n",
        "\n",
        "🚩 *The largest source of NH3 emissions is agriculture, including animal husbandry and NH3-based fertilizer applications. Other sources of NH3 include industrial processes, vehicular emissions and volatilization from soils and oceans.* \n",
        "\n",
        "\n",
        "\n",
        "👉 **SO2(µg/m3)**: \n",
        "* Sulfur Dioxide (SO2) concentration in micrograms per cubic meter (µg/m3). \n",
        "\n",
        "* SO2 is a toxic gas that can cause respiratory problems and contribute to acid rain.\n",
        "\n",
        "* SO2 also causes lung diseases.\n",
        "\n",
        "🚩 *Sources of SO2 are factories dealing with hydrocarbons and vehicles and the smelting of mineral ores (aluminum, copper, zinc, lead, and iron) that contain sulfur.*\n",
        "\n",
        "\n",
        "\n",
        "👉 **PM2.5(µg/m3)**: \n",
        "* Particulate Matter(PM2.5) concentration in micrograms per cubic meter (µg/m3).\n",
        "\n",
        "* This is a mixture of dust comprising Ammonium, Sulfate, Nitrate, ash, Sodium and Silicon. \n",
        "\n",
        "* PM2.5 refers to inhalable particles with a diameter of 2.5 micrometers or less,gets dissolved in blood and is deposited in all parts of the body.It could lead to lung diseases, lack of energy, depression and sterility.\n",
        "\n",
        "🚩 *PM2.5 primarily come from car, truck, bus and off-road vehicle (e.g., construction equipment, snowmobile, locomotive) exhausts, other operations that involve the burning of fuels such as wood, heating oil or coal and natural sources such as forest and grass fires..*\n",
        "\n",
        "\n",
        "\n",
        "👉 **AQI**:\n",
        " * Air Quality Index (AQI) is a number used by government agencies to communicate to the public how polluted the air currently is or how polluted it is forecast to become. \n",
        " \n",
        " * AQI is calculated based on the concentration levels of the air pollutants and provides a single value that represents the overall air quality level.\n"
      ]
    },
    {
      "cell_type": "markdown",
      "metadata": {
        "id": "NJP27jVZvkZq"
      },
      "source": [
        "**Importing required libraries**"
      ]
    },
    {
      "cell_type": "code",
      "execution_count": null,
      "metadata": {
        "id": "APjv08TLQD7z"
      },
      "outputs": [],
      "source": [
        "import numpy as np\n",
        "import pandas as pd\n",
        "import matplotlib.pyplot as plt\n",
        "import seaborn as sns\n",
        "\n",
        "import warnings\n",
        "warnings.filterwarnings('ignore')"
      ]
    },
    {
      "cell_type": "markdown",
      "metadata": {
        "id": "vs-ljSRtvqVk"
      },
      "source": [
        "**Loading dataset**"
      ]
    },
    {
      "cell_type": "code",
      "execution_count": null,
      "metadata": {
        "colab": {
          "base_uri": "https://localhost:8080/",
          "height": 661
        },
        "id": "eugXNBgJQjy-",
        "outputId": "b187e46e-67b6-4eb6-f23a-efb82ceeb950"
      },
      "outputs": [
        {
          "output_type": "execute_result",
          "data": {
            "text/plain": [
              "          Date  NOx(µg/m3)  O3(µg/m3)  PM10(µg/m3)  CO(mg/m3)  NH3(µg/m3)  \\\n",
              "0   2022-01-01       28.20      15.33        47.04       1.44        5.45   \n",
              "1   2022-01-02       28.40      12.20        56.64       1.45        5.51   \n",
              "2   2022-01-03       27.10      12.28        59.56       1.47        5.18   \n",
              "3   2022-01-04       27.20      17.99        69.44       1.48        5.21   \n",
              "4   2022-01-05       27.90      19.98       109.55       1.53        5.36   \n",
              "..         ...         ...        ...          ...        ...         ...   \n",
              "419 2023-02-24       20.27       1.48       107.40       1.10        0.00   \n",
              "420 2023-02-25       20.32       1.47       111.50       1.11        0.00   \n",
              "421 2023-02-26       20.25       1.49       104.50       1.05        0.00   \n",
              "422 2023-02-27       49.87       1.51        95.83       1.03        0.05   \n",
              "423 2023-02-28       65.19       1.53       108.81       1.15        4.03   \n",
              "\n",
              "     SO2(µg/m3)  PM2.5(µg/m3)    AQI  \n",
              "0         18.17         36.51   72.0  \n",
              "1         18.91         44.61   74.0  \n",
              "2         18.74         47.04   78.0  \n",
              "3         19.08         55.04   92.0  \n",
              "4         20.66         88.56  195.0  \n",
              "..          ...           ...    ...  \n",
              "419       21.13         67.72  126.0  \n",
              "420       23.20         73.73  108.0  \n",
              "421       24.46         78.60  103.0  \n",
              "422       22.88         57.30   96.0  \n",
              "423       17.52         70.31  106.0  \n",
              "\n",
              "[424 rows x 9 columns]"
            ],
            "text/html": [
              "\n",
              "  <div id=\"df-3f2689e6-cb03-4cff-8c9d-fe810d61d15c\">\n",
              "    <div class=\"colab-df-container\">\n",
              "      <div>\n",
              "<style scoped>\n",
              "    .dataframe tbody tr th:only-of-type {\n",
              "        vertical-align: middle;\n",
              "    }\n",
              "\n",
              "    .dataframe tbody tr th {\n",
              "        vertical-align: top;\n",
              "    }\n",
              "\n",
              "    .dataframe thead th {\n",
              "        text-align: right;\n",
              "    }\n",
              "</style>\n",
              "<table border=\"1\" class=\"dataframe\">\n",
              "  <thead>\n",
              "    <tr style=\"text-align: right;\">\n",
              "      <th></th>\n",
              "      <th>Date</th>\n",
              "      <th>NOx(µg/m3)</th>\n",
              "      <th>O3(µg/m3)</th>\n",
              "      <th>PM10(µg/m3)</th>\n",
              "      <th>CO(mg/m3)</th>\n",
              "      <th>NH3(µg/m3)</th>\n",
              "      <th>SO2(µg/m3)</th>\n",
              "      <th>PM2.5(µg/m3)</th>\n",
              "      <th>AQI</th>\n",
              "    </tr>\n",
              "  </thead>\n",
              "  <tbody>\n",
              "    <tr>\n",
              "      <th>0</th>\n",
              "      <td>2022-01-01</td>\n",
              "      <td>28.20</td>\n",
              "      <td>15.33</td>\n",
              "      <td>47.04</td>\n",
              "      <td>1.44</td>\n",
              "      <td>5.45</td>\n",
              "      <td>18.17</td>\n",
              "      <td>36.51</td>\n",
              "      <td>72.0</td>\n",
              "    </tr>\n",
              "    <tr>\n",
              "      <th>1</th>\n",
              "      <td>2022-01-02</td>\n",
              "      <td>28.40</td>\n",
              "      <td>12.20</td>\n",
              "      <td>56.64</td>\n",
              "      <td>1.45</td>\n",
              "      <td>5.51</td>\n",
              "      <td>18.91</td>\n",
              "      <td>44.61</td>\n",
              "      <td>74.0</td>\n",
              "    </tr>\n",
              "    <tr>\n",
              "      <th>2</th>\n",
              "      <td>2022-01-03</td>\n",
              "      <td>27.10</td>\n",
              "      <td>12.28</td>\n",
              "      <td>59.56</td>\n",
              "      <td>1.47</td>\n",
              "      <td>5.18</td>\n",
              "      <td>18.74</td>\n",
              "      <td>47.04</td>\n",
              "      <td>78.0</td>\n",
              "    </tr>\n",
              "    <tr>\n",
              "      <th>3</th>\n",
              "      <td>2022-01-04</td>\n",
              "      <td>27.20</td>\n",
              "      <td>17.99</td>\n",
              "      <td>69.44</td>\n",
              "      <td>1.48</td>\n",
              "      <td>5.21</td>\n",
              "      <td>19.08</td>\n",
              "      <td>55.04</td>\n",
              "      <td>92.0</td>\n",
              "    </tr>\n",
              "    <tr>\n",
              "      <th>4</th>\n",
              "      <td>2022-01-05</td>\n",
              "      <td>27.90</td>\n",
              "      <td>19.98</td>\n",
              "      <td>109.55</td>\n",
              "      <td>1.53</td>\n",
              "      <td>5.36</td>\n",
              "      <td>20.66</td>\n",
              "      <td>88.56</td>\n",
              "      <td>195.0</td>\n",
              "    </tr>\n",
              "    <tr>\n",
              "      <th>...</th>\n",
              "      <td>...</td>\n",
              "      <td>...</td>\n",
              "      <td>...</td>\n",
              "      <td>...</td>\n",
              "      <td>...</td>\n",
              "      <td>...</td>\n",
              "      <td>...</td>\n",
              "      <td>...</td>\n",
              "      <td>...</td>\n",
              "    </tr>\n",
              "    <tr>\n",
              "      <th>419</th>\n",
              "      <td>2023-02-24</td>\n",
              "      <td>20.27</td>\n",
              "      <td>1.48</td>\n",
              "      <td>107.40</td>\n",
              "      <td>1.10</td>\n",
              "      <td>0.00</td>\n",
              "      <td>21.13</td>\n",
              "      <td>67.72</td>\n",
              "      <td>126.0</td>\n",
              "    </tr>\n",
              "    <tr>\n",
              "      <th>420</th>\n",
              "      <td>2023-02-25</td>\n",
              "      <td>20.32</td>\n",
              "      <td>1.47</td>\n",
              "      <td>111.50</td>\n",
              "      <td>1.11</td>\n",
              "      <td>0.00</td>\n",
              "      <td>23.20</td>\n",
              "      <td>73.73</td>\n",
              "      <td>108.0</td>\n",
              "    </tr>\n",
              "    <tr>\n",
              "      <th>421</th>\n",
              "      <td>2023-02-26</td>\n",
              "      <td>20.25</td>\n",
              "      <td>1.49</td>\n",
              "      <td>104.50</td>\n",
              "      <td>1.05</td>\n",
              "      <td>0.00</td>\n",
              "      <td>24.46</td>\n",
              "      <td>78.60</td>\n",
              "      <td>103.0</td>\n",
              "    </tr>\n",
              "    <tr>\n",
              "      <th>422</th>\n",
              "      <td>2023-02-27</td>\n",
              "      <td>49.87</td>\n",
              "      <td>1.51</td>\n",
              "      <td>95.83</td>\n",
              "      <td>1.03</td>\n",
              "      <td>0.05</td>\n",
              "      <td>22.88</td>\n",
              "      <td>57.30</td>\n",
              "      <td>96.0</td>\n",
              "    </tr>\n",
              "    <tr>\n",
              "      <th>423</th>\n",
              "      <td>2023-02-28</td>\n",
              "      <td>65.19</td>\n",
              "      <td>1.53</td>\n",
              "      <td>108.81</td>\n",
              "      <td>1.15</td>\n",
              "      <td>4.03</td>\n",
              "      <td>17.52</td>\n",
              "      <td>70.31</td>\n",
              "      <td>106.0</td>\n",
              "    </tr>\n",
              "  </tbody>\n",
              "</table>\n",
              "<p>424 rows × 9 columns</p>\n",
              "</div>\n",
              "      <button class=\"colab-df-convert\" onclick=\"convertToInteractive('df-3f2689e6-cb03-4cff-8c9d-fe810d61d15c')\"\n",
              "              title=\"Convert this dataframe to an interactive table.\"\n",
              "              style=\"display:none;\">\n",
              "        \n",
              "  <svg xmlns=\"http://www.w3.org/2000/svg\" height=\"24px\"viewBox=\"0 0 24 24\"\n",
              "       width=\"24px\">\n",
              "    <path d=\"M0 0h24v24H0V0z\" fill=\"none\"/>\n",
              "    <path d=\"M18.56 5.44l.94 2.06.94-2.06 2.06-.94-2.06-.94-.94-2.06-.94 2.06-2.06.94zm-11 1L8.5 8.5l.94-2.06 2.06-.94-2.06-.94L8.5 2.5l-.94 2.06-2.06.94zm10 10l.94 2.06.94-2.06 2.06-.94-2.06-.94-.94-2.06-.94 2.06-2.06.94z\"/><path d=\"M17.41 7.96l-1.37-1.37c-.4-.4-.92-.59-1.43-.59-.52 0-1.04.2-1.43.59L10.3 9.45l-7.72 7.72c-.78.78-.78 2.05 0 2.83L4 21.41c.39.39.9.59 1.41.59.51 0 1.02-.2 1.41-.59l7.78-7.78 2.81-2.81c.8-.78.8-2.07 0-2.86zM5.41 20L4 18.59l7.72-7.72 1.47 1.35L5.41 20z\"/>\n",
              "  </svg>\n",
              "      </button>\n",
              "      \n",
              "  <style>\n",
              "    .colab-df-container {\n",
              "      display:flex;\n",
              "      flex-wrap:wrap;\n",
              "      gap: 12px;\n",
              "    }\n",
              "\n",
              "    .colab-df-convert {\n",
              "      background-color: #E8F0FE;\n",
              "      border: none;\n",
              "      border-radius: 50%;\n",
              "      cursor: pointer;\n",
              "      display: none;\n",
              "      fill: #1967D2;\n",
              "      height: 32px;\n",
              "      padding: 0 0 0 0;\n",
              "      width: 32px;\n",
              "    }\n",
              "\n",
              "    .colab-df-convert:hover {\n",
              "      background-color: #E2EBFA;\n",
              "      box-shadow: 0px 1px 2px rgba(60, 64, 67, 0.3), 0px 1px 3px 1px rgba(60, 64, 67, 0.15);\n",
              "      fill: #174EA6;\n",
              "    }\n",
              "\n",
              "    [theme=dark] .colab-df-convert {\n",
              "      background-color: #3B4455;\n",
              "      fill: #D2E3FC;\n",
              "    }\n",
              "\n",
              "    [theme=dark] .colab-df-convert:hover {\n",
              "      background-color: #434B5C;\n",
              "      box-shadow: 0px 1px 3px 1px rgba(0, 0, 0, 0.15);\n",
              "      filter: drop-shadow(0px 1px 2px rgba(0, 0, 0, 0.3));\n",
              "      fill: #FFFFFF;\n",
              "    }\n",
              "  </style>\n",
              "\n",
              "      <script>\n",
              "        const buttonEl =\n",
              "          document.querySelector('#df-3f2689e6-cb03-4cff-8c9d-fe810d61d15c button.colab-df-convert');\n",
              "        buttonEl.style.display =\n",
              "          google.colab.kernel.accessAllowed ? 'block' : 'none';\n",
              "\n",
              "        async function convertToInteractive(key) {\n",
              "          const element = document.querySelector('#df-3f2689e6-cb03-4cff-8c9d-fe810d61d15c');\n",
              "          const dataTable =\n",
              "            await google.colab.kernel.invokeFunction('convertToInteractive',\n",
              "                                                     [key], {});\n",
              "          if (!dataTable) return;\n",
              "\n",
              "          const docLinkHtml = 'Like what you see? Visit the ' +\n",
              "            '<a target=\"_blank\" href=https://colab.research.google.com/notebooks/data_table.ipynb>data table notebook</a>'\n",
              "            + ' to learn more about interactive tables.';\n",
              "          element.innerHTML = '';\n",
              "          dataTable['output_type'] = 'display_data';\n",
              "          await google.colab.output.renderOutput(dataTable, element);\n",
              "          const docLink = document.createElement('div');\n",
              "          docLink.innerHTML = docLinkHtml;\n",
              "          element.appendChild(docLink);\n",
              "        }\n",
              "      </script>\n",
              "    </div>\n",
              "  </div>\n",
              "  "
            ]
          },
          "metadata": {},
          "execution_count": 141
        }
      ],
      "source": [
        "df=pd.read_excel(\"/content/Vyttila (eklm) AQI 2022-23 dataset.xlsx\",)\n",
        "df"
      ]
    },
    {
      "cell_type": "code",
      "execution_count": null,
      "metadata": {
        "colab": {
          "base_uri": "https://localhost:8080/",
          "height": 357
        },
        "id": "VSQpJzDQQouR",
        "outputId": "c2592228-552c-46b8-c5aa-7a7baa17bde3"
      },
      "outputs": [
        {
          "output_type": "execute_result",
          "data": {
            "text/plain": [
              "        Date  NOx(µg/m3)  O3(µg/m3)  PM10(µg/m3)  CO(mg/m3)  NH3(µg/m3)  \\\n",
              "0 2022-01-01        28.2      15.33        47.04       1.44        5.45   \n",
              "1 2022-01-02        28.4      12.20        56.64       1.45        5.51   \n",
              "2 2022-01-03        27.1      12.28        59.56       1.47        5.18   \n",
              "3 2022-01-04        27.2      17.99        69.44       1.48        5.21   \n",
              "4 2022-01-05        27.9      19.98       109.55       1.53        5.36   \n",
              "\n",
              "   SO2(µg/m3)  PM2.5(µg/m3)    AQI  \n",
              "0       18.17         36.51   72.0  \n",
              "1       18.91         44.61   74.0  \n",
              "2       18.74         47.04   78.0  \n",
              "3       19.08         55.04   92.0  \n",
              "4       20.66         88.56  195.0  "
            ],
            "text/html": [
              "\n",
              "  <div id=\"df-1458c445-9f9b-4ed1-823e-11ec4bcedddb\">\n",
              "    <div class=\"colab-df-container\">\n",
              "      <div>\n",
              "<style scoped>\n",
              "    .dataframe tbody tr th:only-of-type {\n",
              "        vertical-align: middle;\n",
              "    }\n",
              "\n",
              "    .dataframe tbody tr th {\n",
              "        vertical-align: top;\n",
              "    }\n",
              "\n",
              "    .dataframe thead th {\n",
              "        text-align: right;\n",
              "    }\n",
              "</style>\n",
              "<table border=\"1\" class=\"dataframe\">\n",
              "  <thead>\n",
              "    <tr style=\"text-align: right;\">\n",
              "      <th></th>\n",
              "      <th>Date</th>\n",
              "      <th>NOx(µg/m3)</th>\n",
              "      <th>O3(µg/m3)</th>\n",
              "      <th>PM10(µg/m3)</th>\n",
              "      <th>CO(mg/m3)</th>\n",
              "      <th>NH3(µg/m3)</th>\n",
              "      <th>SO2(µg/m3)</th>\n",
              "      <th>PM2.5(µg/m3)</th>\n",
              "      <th>AQI</th>\n",
              "    </tr>\n",
              "  </thead>\n",
              "  <tbody>\n",
              "    <tr>\n",
              "      <th>0</th>\n",
              "      <td>2022-01-01</td>\n",
              "      <td>28.2</td>\n",
              "      <td>15.33</td>\n",
              "      <td>47.04</td>\n",
              "      <td>1.44</td>\n",
              "      <td>5.45</td>\n",
              "      <td>18.17</td>\n",
              "      <td>36.51</td>\n",
              "      <td>72.0</td>\n",
              "    </tr>\n",
              "    <tr>\n",
              "      <th>1</th>\n",
              "      <td>2022-01-02</td>\n",
              "      <td>28.4</td>\n",
              "      <td>12.20</td>\n",
              "      <td>56.64</td>\n",
              "      <td>1.45</td>\n",
              "      <td>5.51</td>\n",
              "      <td>18.91</td>\n",
              "      <td>44.61</td>\n",
              "      <td>74.0</td>\n",
              "    </tr>\n",
              "    <tr>\n",
              "      <th>2</th>\n",
              "      <td>2022-01-03</td>\n",
              "      <td>27.1</td>\n",
              "      <td>12.28</td>\n",
              "      <td>59.56</td>\n",
              "      <td>1.47</td>\n",
              "      <td>5.18</td>\n",
              "      <td>18.74</td>\n",
              "      <td>47.04</td>\n",
              "      <td>78.0</td>\n",
              "    </tr>\n",
              "    <tr>\n",
              "      <th>3</th>\n",
              "      <td>2022-01-04</td>\n",
              "      <td>27.2</td>\n",
              "      <td>17.99</td>\n",
              "      <td>69.44</td>\n",
              "      <td>1.48</td>\n",
              "      <td>5.21</td>\n",
              "      <td>19.08</td>\n",
              "      <td>55.04</td>\n",
              "      <td>92.0</td>\n",
              "    </tr>\n",
              "    <tr>\n",
              "      <th>4</th>\n",
              "      <td>2022-01-05</td>\n",
              "      <td>27.9</td>\n",
              "      <td>19.98</td>\n",
              "      <td>109.55</td>\n",
              "      <td>1.53</td>\n",
              "      <td>5.36</td>\n",
              "      <td>20.66</td>\n",
              "      <td>88.56</td>\n",
              "      <td>195.0</td>\n",
              "    </tr>\n",
              "  </tbody>\n",
              "</table>\n",
              "</div>\n",
              "      <button class=\"colab-df-convert\" onclick=\"convertToInteractive('df-1458c445-9f9b-4ed1-823e-11ec4bcedddb')\"\n",
              "              title=\"Convert this dataframe to an interactive table.\"\n",
              "              style=\"display:none;\">\n",
              "        \n",
              "  <svg xmlns=\"http://www.w3.org/2000/svg\" height=\"24px\"viewBox=\"0 0 24 24\"\n",
              "       width=\"24px\">\n",
              "    <path d=\"M0 0h24v24H0V0z\" fill=\"none\"/>\n",
              "    <path d=\"M18.56 5.44l.94 2.06.94-2.06 2.06-.94-2.06-.94-.94-2.06-.94 2.06-2.06.94zm-11 1L8.5 8.5l.94-2.06 2.06-.94-2.06-.94L8.5 2.5l-.94 2.06-2.06.94zm10 10l.94 2.06.94-2.06 2.06-.94-2.06-.94-.94-2.06-.94 2.06-2.06.94z\"/><path d=\"M17.41 7.96l-1.37-1.37c-.4-.4-.92-.59-1.43-.59-.52 0-1.04.2-1.43.59L10.3 9.45l-7.72 7.72c-.78.78-.78 2.05 0 2.83L4 21.41c.39.39.9.59 1.41.59.51 0 1.02-.2 1.41-.59l7.78-7.78 2.81-2.81c.8-.78.8-2.07 0-2.86zM5.41 20L4 18.59l7.72-7.72 1.47 1.35L5.41 20z\"/>\n",
              "  </svg>\n",
              "      </button>\n",
              "      \n",
              "  <style>\n",
              "    .colab-df-container {\n",
              "      display:flex;\n",
              "      flex-wrap:wrap;\n",
              "      gap: 12px;\n",
              "    }\n",
              "\n",
              "    .colab-df-convert {\n",
              "      background-color: #E8F0FE;\n",
              "      border: none;\n",
              "      border-radius: 50%;\n",
              "      cursor: pointer;\n",
              "      display: none;\n",
              "      fill: #1967D2;\n",
              "      height: 32px;\n",
              "      padding: 0 0 0 0;\n",
              "      width: 32px;\n",
              "    }\n",
              "\n",
              "    .colab-df-convert:hover {\n",
              "      background-color: #E2EBFA;\n",
              "      box-shadow: 0px 1px 2px rgba(60, 64, 67, 0.3), 0px 1px 3px 1px rgba(60, 64, 67, 0.15);\n",
              "      fill: #174EA6;\n",
              "    }\n",
              "\n",
              "    [theme=dark] .colab-df-convert {\n",
              "      background-color: #3B4455;\n",
              "      fill: #D2E3FC;\n",
              "    }\n",
              "\n",
              "    [theme=dark] .colab-df-convert:hover {\n",
              "      background-color: #434B5C;\n",
              "      box-shadow: 0px 1px 3px 1px rgba(0, 0, 0, 0.15);\n",
              "      filter: drop-shadow(0px 1px 2px rgba(0, 0, 0, 0.3));\n",
              "      fill: #FFFFFF;\n",
              "    }\n",
              "  </style>\n",
              "\n",
              "      <script>\n",
              "        const buttonEl =\n",
              "          document.querySelector('#df-1458c445-9f9b-4ed1-823e-11ec4bcedddb button.colab-df-convert');\n",
              "        buttonEl.style.display =\n",
              "          google.colab.kernel.accessAllowed ? 'block' : 'none';\n",
              "\n",
              "        async function convertToInteractive(key) {\n",
              "          const element = document.querySelector('#df-1458c445-9f9b-4ed1-823e-11ec4bcedddb');\n",
              "          const dataTable =\n",
              "            await google.colab.kernel.invokeFunction('convertToInteractive',\n",
              "                                                     [key], {});\n",
              "          if (!dataTable) return;\n",
              "\n",
              "          const docLinkHtml = 'Like what you see? Visit the ' +\n",
              "            '<a target=\"_blank\" href=https://colab.research.google.com/notebooks/data_table.ipynb>data table notebook</a>'\n",
              "            + ' to learn more about interactive tables.';\n",
              "          element.innerHTML = '';\n",
              "          dataTable['output_type'] = 'display_data';\n",
              "          await google.colab.output.renderOutput(dataTable, element);\n",
              "          const docLink = document.createElement('div');\n",
              "          docLink.innerHTML = docLinkHtml;\n",
              "          element.appendChild(docLink);\n",
              "        }\n",
              "      </script>\n",
              "    </div>\n",
              "  </div>\n",
              "  "
            ]
          },
          "metadata": {},
          "execution_count": 142
        }
      ],
      "source": [
        "df.head()"
      ]
    },
    {
      "cell_type": "code",
      "execution_count": null,
      "metadata": {
        "colab": {
          "base_uri": "https://localhost:8080/",
          "height": 357
        },
        "id": "xV8XHpuERhwf",
        "outputId": "ffb78de5-579f-4aa3-8222-f677a1d3bb5a"
      },
      "outputs": [
        {
          "output_type": "execute_result",
          "data": {
            "text/plain": [
              "          Date  NOx(µg/m3)  O3(µg/m3)  PM10(µg/m3)  CO(mg/m3)  NH3(µg/m3)  \\\n",
              "419 2023-02-24       20.27       1.48       107.40       1.10        0.00   \n",
              "420 2023-02-25       20.32       1.47       111.50       1.11        0.00   \n",
              "421 2023-02-26       20.25       1.49       104.50       1.05        0.00   \n",
              "422 2023-02-27       49.87       1.51        95.83       1.03        0.05   \n",
              "423 2023-02-28       65.19       1.53       108.81       1.15        4.03   \n",
              "\n",
              "     SO2(µg/m3)  PM2.5(µg/m3)    AQI  \n",
              "419       21.13         67.72  126.0  \n",
              "420       23.20         73.73  108.0  \n",
              "421       24.46         78.60  103.0  \n",
              "422       22.88         57.30   96.0  \n",
              "423       17.52         70.31  106.0  "
            ],
            "text/html": [
              "\n",
              "  <div id=\"df-98df2352-3c6e-4ac1-b9d7-bb8aea9ed564\">\n",
              "    <div class=\"colab-df-container\">\n",
              "      <div>\n",
              "<style scoped>\n",
              "    .dataframe tbody tr th:only-of-type {\n",
              "        vertical-align: middle;\n",
              "    }\n",
              "\n",
              "    .dataframe tbody tr th {\n",
              "        vertical-align: top;\n",
              "    }\n",
              "\n",
              "    .dataframe thead th {\n",
              "        text-align: right;\n",
              "    }\n",
              "</style>\n",
              "<table border=\"1\" class=\"dataframe\">\n",
              "  <thead>\n",
              "    <tr style=\"text-align: right;\">\n",
              "      <th></th>\n",
              "      <th>Date</th>\n",
              "      <th>NOx(µg/m3)</th>\n",
              "      <th>O3(µg/m3)</th>\n",
              "      <th>PM10(µg/m3)</th>\n",
              "      <th>CO(mg/m3)</th>\n",
              "      <th>NH3(µg/m3)</th>\n",
              "      <th>SO2(µg/m3)</th>\n",
              "      <th>PM2.5(µg/m3)</th>\n",
              "      <th>AQI</th>\n",
              "    </tr>\n",
              "  </thead>\n",
              "  <tbody>\n",
              "    <tr>\n",
              "      <th>419</th>\n",
              "      <td>2023-02-24</td>\n",
              "      <td>20.27</td>\n",
              "      <td>1.48</td>\n",
              "      <td>107.40</td>\n",
              "      <td>1.10</td>\n",
              "      <td>0.00</td>\n",
              "      <td>21.13</td>\n",
              "      <td>67.72</td>\n",
              "      <td>126.0</td>\n",
              "    </tr>\n",
              "    <tr>\n",
              "      <th>420</th>\n",
              "      <td>2023-02-25</td>\n",
              "      <td>20.32</td>\n",
              "      <td>1.47</td>\n",
              "      <td>111.50</td>\n",
              "      <td>1.11</td>\n",
              "      <td>0.00</td>\n",
              "      <td>23.20</td>\n",
              "      <td>73.73</td>\n",
              "      <td>108.0</td>\n",
              "    </tr>\n",
              "    <tr>\n",
              "      <th>421</th>\n",
              "      <td>2023-02-26</td>\n",
              "      <td>20.25</td>\n",
              "      <td>1.49</td>\n",
              "      <td>104.50</td>\n",
              "      <td>1.05</td>\n",
              "      <td>0.00</td>\n",
              "      <td>24.46</td>\n",
              "      <td>78.60</td>\n",
              "      <td>103.0</td>\n",
              "    </tr>\n",
              "    <tr>\n",
              "      <th>422</th>\n",
              "      <td>2023-02-27</td>\n",
              "      <td>49.87</td>\n",
              "      <td>1.51</td>\n",
              "      <td>95.83</td>\n",
              "      <td>1.03</td>\n",
              "      <td>0.05</td>\n",
              "      <td>22.88</td>\n",
              "      <td>57.30</td>\n",
              "      <td>96.0</td>\n",
              "    </tr>\n",
              "    <tr>\n",
              "      <th>423</th>\n",
              "      <td>2023-02-28</td>\n",
              "      <td>65.19</td>\n",
              "      <td>1.53</td>\n",
              "      <td>108.81</td>\n",
              "      <td>1.15</td>\n",
              "      <td>4.03</td>\n",
              "      <td>17.52</td>\n",
              "      <td>70.31</td>\n",
              "      <td>106.0</td>\n",
              "    </tr>\n",
              "  </tbody>\n",
              "</table>\n",
              "</div>\n",
              "      <button class=\"colab-df-convert\" onclick=\"convertToInteractive('df-98df2352-3c6e-4ac1-b9d7-bb8aea9ed564')\"\n",
              "              title=\"Convert this dataframe to an interactive table.\"\n",
              "              style=\"display:none;\">\n",
              "        \n",
              "  <svg xmlns=\"http://www.w3.org/2000/svg\" height=\"24px\"viewBox=\"0 0 24 24\"\n",
              "       width=\"24px\">\n",
              "    <path d=\"M0 0h24v24H0V0z\" fill=\"none\"/>\n",
              "    <path d=\"M18.56 5.44l.94 2.06.94-2.06 2.06-.94-2.06-.94-.94-2.06-.94 2.06-2.06.94zm-11 1L8.5 8.5l.94-2.06 2.06-.94-2.06-.94L8.5 2.5l-.94 2.06-2.06.94zm10 10l.94 2.06.94-2.06 2.06-.94-2.06-.94-.94-2.06-.94 2.06-2.06.94z\"/><path d=\"M17.41 7.96l-1.37-1.37c-.4-.4-.92-.59-1.43-.59-.52 0-1.04.2-1.43.59L10.3 9.45l-7.72 7.72c-.78.78-.78 2.05 0 2.83L4 21.41c.39.39.9.59 1.41.59.51 0 1.02-.2 1.41-.59l7.78-7.78 2.81-2.81c.8-.78.8-2.07 0-2.86zM5.41 20L4 18.59l7.72-7.72 1.47 1.35L5.41 20z\"/>\n",
              "  </svg>\n",
              "      </button>\n",
              "      \n",
              "  <style>\n",
              "    .colab-df-container {\n",
              "      display:flex;\n",
              "      flex-wrap:wrap;\n",
              "      gap: 12px;\n",
              "    }\n",
              "\n",
              "    .colab-df-convert {\n",
              "      background-color: #E8F0FE;\n",
              "      border: none;\n",
              "      border-radius: 50%;\n",
              "      cursor: pointer;\n",
              "      display: none;\n",
              "      fill: #1967D2;\n",
              "      height: 32px;\n",
              "      padding: 0 0 0 0;\n",
              "      width: 32px;\n",
              "    }\n",
              "\n",
              "    .colab-df-convert:hover {\n",
              "      background-color: #E2EBFA;\n",
              "      box-shadow: 0px 1px 2px rgba(60, 64, 67, 0.3), 0px 1px 3px 1px rgba(60, 64, 67, 0.15);\n",
              "      fill: #174EA6;\n",
              "    }\n",
              "\n",
              "    [theme=dark] .colab-df-convert {\n",
              "      background-color: #3B4455;\n",
              "      fill: #D2E3FC;\n",
              "    }\n",
              "\n",
              "    [theme=dark] .colab-df-convert:hover {\n",
              "      background-color: #434B5C;\n",
              "      box-shadow: 0px 1px 3px 1px rgba(0, 0, 0, 0.15);\n",
              "      filter: drop-shadow(0px 1px 2px rgba(0, 0, 0, 0.3));\n",
              "      fill: #FFFFFF;\n",
              "    }\n",
              "  </style>\n",
              "\n",
              "      <script>\n",
              "        const buttonEl =\n",
              "          document.querySelector('#df-98df2352-3c6e-4ac1-b9d7-bb8aea9ed564 button.colab-df-convert');\n",
              "        buttonEl.style.display =\n",
              "          google.colab.kernel.accessAllowed ? 'block' : 'none';\n",
              "\n",
              "        async function convertToInteractive(key) {\n",
              "          const element = document.querySelector('#df-98df2352-3c6e-4ac1-b9d7-bb8aea9ed564');\n",
              "          const dataTable =\n",
              "            await google.colab.kernel.invokeFunction('convertToInteractive',\n",
              "                                                     [key], {});\n",
              "          if (!dataTable) return;\n",
              "\n",
              "          const docLinkHtml = 'Like what you see? Visit the ' +\n",
              "            '<a target=\"_blank\" href=https://colab.research.google.com/notebooks/data_table.ipynb>data table notebook</a>'\n",
              "            + ' to learn more about interactive tables.';\n",
              "          element.innerHTML = '';\n",
              "          dataTable['output_type'] = 'display_data';\n",
              "          await google.colab.output.renderOutput(dataTable, element);\n",
              "          const docLink = document.createElement('div');\n",
              "          docLink.innerHTML = docLinkHtml;\n",
              "          element.appendChild(docLink);\n",
              "        }\n",
              "      </script>\n",
              "    </div>\n",
              "  </div>\n",
              "  "
            ]
          },
          "metadata": {},
          "execution_count": 143
        }
      ],
      "source": [
        "df.tail()"
      ]
    },
    {
      "cell_type": "code",
      "execution_count": null,
      "metadata": {
        "colab": {
          "base_uri": "https://localhost:8080/"
        },
        "id": "pmohBYI4ioNW",
        "outputId": "da7ab944-1297-452c-c1ad-e843fa490f54"
      },
      "outputs": [
        {
          "output_type": "execute_result",
          "data": {
            "text/plain": [
              "Index(['Date', 'NOx(µg/m3)', 'O3(µg/m3)', 'PM10(µg/m3)', 'CO(mg/m3)',\n",
              "       'NH3(µg/m3)', 'SO2(µg/m3)', 'PM2.5(µg/m3)', 'AQI'],\n",
              "      dtype='object')"
            ]
          },
          "metadata": {},
          "execution_count": 144
        }
      ],
      "source": [
        "df.columns"
      ]
    },
    {
      "cell_type": "code",
      "execution_count": null,
      "metadata": {
        "colab": {
          "base_uri": "https://localhost:8080/"
        },
        "id": "3jf5DwdKnNWj",
        "outputId": "dbf44ecf-e2ee-4d91-e472-3121261576d6"
      },
      "outputs": [
        {
          "output_type": "stream",
          "name": "stdout",
          "text": [
            "<class 'pandas.core.frame.DataFrame'>\n",
            "RangeIndex: 424 entries, 0 to 423\n",
            "Data columns (total 9 columns):\n",
            " #   Column        Non-Null Count  Dtype         \n",
            "---  ------        --------------  -----         \n",
            " 0   Date          424 non-null    datetime64[ns]\n",
            " 1   NOx(µg/m3)    414 non-null    float64       \n",
            " 2   O3(µg/m3)     414 non-null    float64       \n",
            " 3   PM10(µg/m3)   414 non-null    float64       \n",
            " 4   CO(mg/m3)     414 non-null    float64       \n",
            " 5   NH3(µg/m3)    414 non-null    float64       \n",
            " 6   SO2(µg/m3)    414 non-null    float64       \n",
            " 7   PM2.5(µg/m3)  399 non-null    float64       \n",
            " 8   AQI           414 non-null    float64       \n",
            "dtypes: datetime64[ns](1), float64(8)\n",
            "memory usage: 29.9 KB\n"
          ]
        }
      ],
      "source": [
        "df.info()"
      ]
    },
    {
      "cell_type": "code",
      "execution_count": null,
      "metadata": {
        "colab": {
          "base_uri": "https://localhost:8080/",
          "height": 364
        },
        "id": "pLPI_T-inYSo",
        "outputId": "a0cc5d8b-97f9-457e-bcaa-1174fdb2d99f"
      },
      "outputs": [
        {
          "output_type": "execute_result",
          "data": {
            "text/plain": [
              "       NOx(µg/m3)   O3(µg/m3)  PM10(µg/m3)   CO(mg/m3)  NH3(µg/m3)  \\\n",
              "count  414.000000  414.000000   414.000000  414.000000  414.000000   \n",
              "mean    35.710652    3.365556    68.393671    0.916715   11.730531   \n",
              "std     23.647157    4.699145    31.769392    0.462329   12.083734   \n",
              "min      0.740000    0.000000    21.360000    0.000000    0.000000   \n",
              "25%     21.362500    1.440000    42.155000    0.600000    4.257500   \n",
              "50%     33.750000    1.550000    59.845000    0.870000    7.235000   \n",
              "75%     49.325000    1.837500    90.792500    1.100000   12.290000   \n",
              "max    178.800000   33.330000   215.430000    2.980000   74.420000   \n",
              "\n",
              "       SO2(µg/m3)  PM2.5(µg/m3)         AQI  \n",
              "count  414.000000    399.000000  414.000000  \n",
              "mean     6.507899     45.444662   86.471014  \n",
              "std      8.581719     20.658108   40.751570  \n",
              "min      0.000000     10.350000   37.000000  \n",
              "25%      0.660000     29.240000   53.000000  \n",
              "50%      1.780000     38.180000   74.000000  \n",
              "75%     10.422500     60.440000  108.000000  \n",
              "max     35.000000    121.400000  301.000000  "
            ],
            "text/html": [
              "\n",
              "  <div id=\"df-677d6d44-33b1-4a1a-bbcf-7e5a2f0d7409\">\n",
              "    <div class=\"colab-df-container\">\n",
              "      <div>\n",
              "<style scoped>\n",
              "    .dataframe tbody tr th:only-of-type {\n",
              "        vertical-align: middle;\n",
              "    }\n",
              "\n",
              "    .dataframe tbody tr th {\n",
              "        vertical-align: top;\n",
              "    }\n",
              "\n",
              "    .dataframe thead th {\n",
              "        text-align: right;\n",
              "    }\n",
              "</style>\n",
              "<table border=\"1\" class=\"dataframe\">\n",
              "  <thead>\n",
              "    <tr style=\"text-align: right;\">\n",
              "      <th></th>\n",
              "      <th>NOx(µg/m3)</th>\n",
              "      <th>O3(µg/m3)</th>\n",
              "      <th>PM10(µg/m3)</th>\n",
              "      <th>CO(mg/m3)</th>\n",
              "      <th>NH3(µg/m3)</th>\n",
              "      <th>SO2(µg/m3)</th>\n",
              "      <th>PM2.5(µg/m3)</th>\n",
              "      <th>AQI</th>\n",
              "    </tr>\n",
              "  </thead>\n",
              "  <tbody>\n",
              "    <tr>\n",
              "      <th>count</th>\n",
              "      <td>414.000000</td>\n",
              "      <td>414.000000</td>\n",
              "      <td>414.000000</td>\n",
              "      <td>414.000000</td>\n",
              "      <td>414.000000</td>\n",
              "      <td>414.000000</td>\n",
              "      <td>399.000000</td>\n",
              "      <td>414.000000</td>\n",
              "    </tr>\n",
              "    <tr>\n",
              "      <th>mean</th>\n",
              "      <td>35.710652</td>\n",
              "      <td>3.365556</td>\n",
              "      <td>68.393671</td>\n",
              "      <td>0.916715</td>\n",
              "      <td>11.730531</td>\n",
              "      <td>6.507899</td>\n",
              "      <td>45.444662</td>\n",
              "      <td>86.471014</td>\n",
              "    </tr>\n",
              "    <tr>\n",
              "      <th>std</th>\n",
              "      <td>23.647157</td>\n",
              "      <td>4.699145</td>\n",
              "      <td>31.769392</td>\n",
              "      <td>0.462329</td>\n",
              "      <td>12.083734</td>\n",
              "      <td>8.581719</td>\n",
              "      <td>20.658108</td>\n",
              "      <td>40.751570</td>\n",
              "    </tr>\n",
              "    <tr>\n",
              "      <th>min</th>\n",
              "      <td>0.740000</td>\n",
              "      <td>0.000000</td>\n",
              "      <td>21.360000</td>\n",
              "      <td>0.000000</td>\n",
              "      <td>0.000000</td>\n",
              "      <td>0.000000</td>\n",
              "      <td>10.350000</td>\n",
              "      <td>37.000000</td>\n",
              "    </tr>\n",
              "    <tr>\n",
              "      <th>25%</th>\n",
              "      <td>21.362500</td>\n",
              "      <td>1.440000</td>\n",
              "      <td>42.155000</td>\n",
              "      <td>0.600000</td>\n",
              "      <td>4.257500</td>\n",
              "      <td>0.660000</td>\n",
              "      <td>29.240000</td>\n",
              "      <td>53.000000</td>\n",
              "    </tr>\n",
              "    <tr>\n",
              "      <th>50%</th>\n",
              "      <td>33.750000</td>\n",
              "      <td>1.550000</td>\n",
              "      <td>59.845000</td>\n",
              "      <td>0.870000</td>\n",
              "      <td>7.235000</td>\n",
              "      <td>1.780000</td>\n",
              "      <td>38.180000</td>\n",
              "      <td>74.000000</td>\n",
              "    </tr>\n",
              "    <tr>\n",
              "      <th>75%</th>\n",
              "      <td>49.325000</td>\n",
              "      <td>1.837500</td>\n",
              "      <td>90.792500</td>\n",
              "      <td>1.100000</td>\n",
              "      <td>12.290000</td>\n",
              "      <td>10.422500</td>\n",
              "      <td>60.440000</td>\n",
              "      <td>108.000000</td>\n",
              "    </tr>\n",
              "    <tr>\n",
              "      <th>max</th>\n",
              "      <td>178.800000</td>\n",
              "      <td>33.330000</td>\n",
              "      <td>215.430000</td>\n",
              "      <td>2.980000</td>\n",
              "      <td>74.420000</td>\n",
              "      <td>35.000000</td>\n",
              "      <td>121.400000</td>\n",
              "      <td>301.000000</td>\n",
              "    </tr>\n",
              "  </tbody>\n",
              "</table>\n",
              "</div>\n",
              "      <button class=\"colab-df-convert\" onclick=\"convertToInteractive('df-677d6d44-33b1-4a1a-bbcf-7e5a2f0d7409')\"\n",
              "              title=\"Convert this dataframe to an interactive table.\"\n",
              "              style=\"display:none;\">\n",
              "        \n",
              "  <svg xmlns=\"http://www.w3.org/2000/svg\" height=\"24px\"viewBox=\"0 0 24 24\"\n",
              "       width=\"24px\">\n",
              "    <path d=\"M0 0h24v24H0V0z\" fill=\"none\"/>\n",
              "    <path d=\"M18.56 5.44l.94 2.06.94-2.06 2.06-.94-2.06-.94-.94-2.06-.94 2.06-2.06.94zm-11 1L8.5 8.5l.94-2.06 2.06-.94-2.06-.94L8.5 2.5l-.94 2.06-2.06.94zm10 10l.94 2.06.94-2.06 2.06-.94-2.06-.94-.94-2.06-.94 2.06-2.06.94z\"/><path d=\"M17.41 7.96l-1.37-1.37c-.4-.4-.92-.59-1.43-.59-.52 0-1.04.2-1.43.59L10.3 9.45l-7.72 7.72c-.78.78-.78 2.05 0 2.83L4 21.41c.39.39.9.59 1.41.59.51 0 1.02-.2 1.41-.59l7.78-7.78 2.81-2.81c.8-.78.8-2.07 0-2.86zM5.41 20L4 18.59l7.72-7.72 1.47 1.35L5.41 20z\"/>\n",
              "  </svg>\n",
              "      </button>\n",
              "      \n",
              "  <style>\n",
              "    .colab-df-container {\n",
              "      display:flex;\n",
              "      flex-wrap:wrap;\n",
              "      gap: 12px;\n",
              "    }\n",
              "\n",
              "    .colab-df-convert {\n",
              "      background-color: #E8F0FE;\n",
              "      border: none;\n",
              "      border-radius: 50%;\n",
              "      cursor: pointer;\n",
              "      display: none;\n",
              "      fill: #1967D2;\n",
              "      height: 32px;\n",
              "      padding: 0 0 0 0;\n",
              "      width: 32px;\n",
              "    }\n",
              "\n",
              "    .colab-df-convert:hover {\n",
              "      background-color: #E2EBFA;\n",
              "      box-shadow: 0px 1px 2px rgba(60, 64, 67, 0.3), 0px 1px 3px 1px rgba(60, 64, 67, 0.15);\n",
              "      fill: #174EA6;\n",
              "    }\n",
              "\n",
              "    [theme=dark] .colab-df-convert {\n",
              "      background-color: #3B4455;\n",
              "      fill: #D2E3FC;\n",
              "    }\n",
              "\n",
              "    [theme=dark] .colab-df-convert:hover {\n",
              "      background-color: #434B5C;\n",
              "      box-shadow: 0px 1px 3px 1px rgba(0, 0, 0, 0.15);\n",
              "      filter: drop-shadow(0px 1px 2px rgba(0, 0, 0, 0.3));\n",
              "      fill: #FFFFFF;\n",
              "    }\n",
              "  </style>\n",
              "\n",
              "      <script>\n",
              "        const buttonEl =\n",
              "          document.querySelector('#df-677d6d44-33b1-4a1a-bbcf-7e5a2f0d7409 button.colab-df-convert');\n",
              "        buttonEl.style.display =\n",
              "          google.colab.kernel.accessAllowed ? 'block' : 'none';\n",
              "\n",
              "        async function convertToInteractive(key) {\n",
              "          const element = document.querySelector('#df-677d6d44-33b1-4a1a-bbcf-7e5a2f0d7409');\n",
              "          const dataTable =\n",
              "            await google.colab.kernel.invokeFunction('convertToInteractive',\n",
              "                                                     [key], {});\n",
              "          if (!dataTable) return;\n",
              "\n",
              "          const docLinkHtml = 'Like what you see? Visit the ' +\n",
              "            '<a target=\"_blank\" href=https://colab.research.google.com/notebooks/data_table.ipynb>data table notebook</a>'\n",
              "            + ' to learn more about interactive tables.';\n",
              "          element.innerHTML = '';\n",
              "          dataTable['output_type'] = 'display_data';\n",
              "          await google.colab.output.renderOutput(dataTable, element);\n",
              "          const docLink = document.createElement('div');\n",
              "          docLink.innerHTML = docLinkHtml;\n",
              "          element.appendChild(docLink);\n",
              "        }\n",
              "      </script>\n",
              "    </div>\n",
              "  </div>\n",
              "  "
            ]
          },
          "metadata": {},
          "execution_count": 146
        }
      ],
      "source": [
        "df.describe()"
      ]
    },
    {
      "cell_type": "code",
      "execution_count": null,
      "metadata": {
        "colab": {
          "base_uri": "https://localhost:8080/"
        },
        "id": "REob3VrSAYd-",
        "outputId": "8524d770-992e-4ff0-d801-45972751784e"
      },
      "outputs": [
        {
          "output_type": "execute_result",
          "data": {
            "text/plain": [
              "Date             0\n",
              "NOx(µg/m3)      10\n",
              "O3(µg/m3)       10\n",
              "PM10(µg/m3)     10\n",
              "CO(mg/m3)       10\n",
              "NH3(µg/m3)      10\n",
              "SO2(µg/m3)      10\n",
              "PM2.5(µg/m3)    25\n",
              "AQI             10\n",
              "dtype: int64"
            ]
          },
          "metadata": {},
          "execution_count": 147
        }
      ],
      "source": [
        "df.isna().sum()"
      ]
    },
    {
      "cell_type": "code",
      "execution_count": null,
      "metadata": {
        "id": "vVB3rdu_GL8R"
      },
      "outputs": [],
      "source": [
        "#renaming columns\n",
        "df.rename(columns={'NOx(µg/m3)':'NOx','O3(µg/m3)':'O3','PM10(µg/m3)':'PM10','CO(mg/m3)':'CO','NH3(µg/m3)':'NH3','SO2(µg/m3)':'SO2','PM2.5(µg/m3)':'PM2.5'},inplace=True)"
      ]
    },
    {
      "cell_type": "markdown",
      "metadata": {
        "id": "jmyZtqIO-giV"
      },
      "source": [
        "**Analyzing missing values**"
      ]
    },
    {
      "cell_type": "code",
      "execution_count": null,
      "metadata": {
        "colab": {
          "base_uri": "https://localhost:8080/",
          "height": 308
        },
        "id": "lyX9-wj8AbKM",
        "outputId": "e34c7164-35ec-4e88-e388-663e85593070"
      },
      "outputs": [
        {
          "output_type": "execute_result",
          "data": {
            "text/plain": [
              "<Axes: >"
            ]
          },
          "metadata": {},
          "execution_count": 149
        },
        {
          "output_type": "display_data",
          "data": {
            "text/plain": [
              "<Figure size 1800x720 with 2 Axes>"
            ],
            "image/png": "[encoded data removed]"
          },
          "metadata": {
            "needs_background": "light"
          }
        }
      ],
      "source": [
        "plt.rcParams['figure.figsize']=(12,6)\n",
        "import missingno as msno\n",
        "msno.matrix(df)"
      ]
    },
    {
      "cell_type": "markdown",
      "metadata": {
        "id": "1UWnqZGc-ltw"
      },
      "source": [
        "* All columns except date column contains missing values.\n",
        "* PM2.5 has most number of rows with missing values.\n",
        "* We can fill PM2.5 with mean values and drop all other rows which are completely vacant."
      ]
    },
    {
      "cell_type": "code",
      "execution_count": null,
      "metadata": {
        "id": "kLPmPDpevLmK"
      },
      "outputs": [],
      "source": [
        "df['PM2.5'].fillna(df['PM2.5'].mean(),inplace=True)"
      ]
    },
    {
      "cell_type": "code",
      "execution_count": null,
      "metadata": {
        "id": "qHC02lV2AxWm"
      },
      "outputs": [],
      "source": [
        "df.dropna(inplace=True)"
      ]
    },
    {
      "cell_type": "markdown",
      "metadata": {
        "id": "ERQGUODpwqBn"
      },
      "source": [
        "**Splitting the date**"
      ]
    },
    {
      "cell_type": "code",
      "execution_count": null,
      "metadata": {
        "colab": {
          "base_uri": "https://localhost:8080/",
          "height": 250
        },
        "id": "S1kqDTxwYlw4",
        "outputId": "d4c1b351-4502-4784-a7bb-90989d7dba24"
      },
      "outputs": [
        {
          "output_type": "execute_result",
          "data": {
            "text/plain": [
              "        Date   NOx     O3    PM10    CO   NH3    SO2  PM2.5    AQI    Day  \\\n",
              "0 2022-01-01  28.2  15.33   47.04  1.44  5.45  18.17  36.51   72.0  01-01   \n",
              "1 2022-01-02  28.4  12.20   56.64  1.45  5.51  18.91  44.61   74.0  02-01   \n",
              "2 2022-01-03  27.1  12.28   59.56  1.47  5.18  18.74  47.04   78.0  03-01   \n",
              "3 2022-01-04  27.2  17.99   69.44  1.48  5.21  19.08  55.04   92.0  04-01   \n",
              "4 2022-01-05  27.9  19.98  109.55  1.53  5.36  20.66  88.56  195.0  05-01   \n",
              "\n",
              "   Month Year  \n",
              "0  01-22   22  \n",
              "1  01-22   22  \n",
              "2  01-22   22  \n",
              "3  01-22   22  \n",
              "4  01-22   22  "
            ],
            "text/html": [
              "\n",
              "  <div id=\"df-37d92a06-fceb-4b9e-bfdd-751201b62cb5\">\n",
              "    <div class=\"colab-df-container\">\n",
              "      <div>\n",
              "<style scoped>\n",
              "    .dataframe tbody tr th:only-of-type {\n",
              "        vertical-align: middle;\n",
              "    }\n",
              "\n",
              "    .dataframe tbody tr th {\n",
              "        vertical-align: top;\n",
              "    }\n",
              "\n",
              "    .dataframe thead th {\n",
              "        text-align: right;\n",
              "    }\n",
              "</style>\n",
              "<table border=\"1\" class=\"dataframe\">\n",
              "  <thead>\n",
              "    <tr style=\"text-align: right;\">\n",
              "      <th></th>\n",
              "      <th>Date</th>\n",
              "      <th>NOx</th>\n",
              "      <th>O3</th>\n",
              "      <th>PM10</th>\n",
              "      <th>CO</th>\n",
              "      <th>NH3</th>\n",
              "      <th>SO2</th>\n",
              "      <th>PM2.5</th>\n",
              "      <th>AQI</th>\n",
              "      <th>Day</th>\n",
              "      <th>Month</th>\n",
              "      <th>Year</th>\n",
              "    </tr>\n",
              "  </thead>\n",
              "  <tbody>\n",
              "    <tr>\n",
              "      <th>0</th>\n",
              "      <td>2022-01-01</td>\n",
              "      <td>28.2</td>\n",
              "      <td>15.33</td>\n",
              "      <td>47.04</td>\n",
              "      <td>1.44</td>\n",
              "      <td>5.45</td>\n",
              "      <td>18.17</td>\n",
              "      <td>36.51</td>\n",
              "      <td>72.0</td>\n",
              "      <td>01-01</td>\n",
              "      <td>01-22</td>\n",
              "      <td>22</td>\n",
              "    </tr>\n",
              "    <tr>\n",
              "      <th>1</th>\n",
              "      <td>2022-01-02</td>\n",
              "      <td>28.4</td>\n",
              "      <td>12.20</td>\n",
              "      <td>56.64</td>\n",
              "      <td>1.45</td>\n",
              "      <td>5.51</td>\n",
              "      <td>18.91</td>\n",
              "      <td>44.61</td>\n",
              "      <td>74.0</td>\n",
              "      <td>02-01</td>\n",
              "      <td>01-22</td>\n",
              "      <td>22</td>\n",
              "    </tr>\n",
              "    <tr>\n",
              "      <th>2</th>\n",
              "      <td>2022-01-03</td>\n",
              "      <td>27.1</td>\n",
              "      <td>12.28</td>\n",
              "      <td>59.56</td>\n",
              "      <td>1.47</td>\n",
              "      <td>5.18</td>\n",
              "      <td>18.74</td>\n",
              "      <td>47.04</td>\n",
              "      <td>78.0</td>\n",
              "      <td>03-01</td>\n",
              "      <td>01-22</td>\n",
              "      <td>22</td>\n",
              "    </tr>\n",
              "    <tr>\n",
              "      <th>3</th>\n",
              "      <td>2022-01-04</td>\n",
              "      <td>27.2</td>\n",
              "      <td>17.99</td>\n",
              "      <td>69.44</td>\n",
              "      <td>1.48</td>\n",
              "      <td>5.21</td>\n",
              "      <td>19.08</td>\n",
              "      <td>55.04</td>\n",
              "      <td>92.0</td>\n",
              "      <td>04-01</td>\n",
              "      <td>01-22</td>\n",
              "      <td>22</td>\n",
              "    </tr>\n",
              "    <tr>\n",
              "      <th>4</th>\n",
              "      <td>2022-01-05</td>\n",
              "      <td>27.9</td>\n",
              "      <td>19.98</td>\n",
              "      <td>109.55</td>\n",
              "      <td>1.53</td>\n",
              "      <td>5.36</td>\n",
              "      <td>20.66</td>\n",
              "      <td>88.56</td>\n",
              "      <td>195.0</td>\n",
              "      <td>05-01</td>\n",
              "      <td>01-22</td>\n",
              "      <td>22</td>\n",
              "    </tr>\n",
              "  </tbody>\n",
              "</table>\n",
              "</div>\n",
              "      <button class=\"colab-df-convert\" onclick=\"convertToInteractive('df-37d92a06-fceb-4b9e-bfdd-751201b62cb5')\"\n",
              "              title=\"Convert this dataframe to an interactive table.\"\n",
              "              style=\"display:none;\">\n",
              "        \n",
              "  <svg xmlns=\"http://www.w3.org/2000/svg\" height=\"24px\"viewBox=\"0 0 24 24\"\n",
              "       width=\"24px\">\n",
              "    <path d=\"M0 0h24v24H0V0z\" fill=\"none\"/>\n",
              "    <path d=\"M18.56 5.44l.94 2.06.94-2.06 2.06-.94-2.06-.94-.94-2.06-.94 2.06-2.06.94zm-11 1L8.5 8.5l.94-2.06 2.06-.94-2.06-.94L8.5 2.5l-.94 2.06-2.06.94zm10 10l.94 2.06.94-2.06 2.06-.94-2.06-.94-.94-2.06-.94 2.06-2.06.94z\"/><path d=\"M17.41 7.96l-1.37-1.37c-.4-.4-.92-.59-1.43-.59-.52 0-1.04.2-1.43.59L10.3 9.45l-7.72 7.72c-.78.78-.78 2.05 0 2.83L4 21.41c.39.39.9.59 1.41.59.51 0 1.02-.2 1.41-.59l7.78-7.78 2.81-2.81c.8-.78.8-2.07 0-2.86zM5.41 20L4 18.59l7.72-7.72 1.47 1.35L5.41 20z\"/>\n",
              "  </svg>\n",
              "      </button>\n",
              "      \n",
              "  <style>\n",
              "    .colab-df-container {\n",
              "      display:flex;\n",
              "      flex-wrap:wrap;\n",
              "      gap: 12px;\n",
              "    }\n",
              "\n",
              "    .colab-df-convert {\n",
              "      background-color: #E8F0FE;\n",
              "      border: none;\n",
              "      border-radius: 50%;\n",
              "      cursor: pointer;\n",
              "      display: none;\n",
              "      fill: #1967D2;\n",
              "      height: 32px;\n",
              "      padding: 0 0 0 0;\n",
              "      width: 32px;\n",
              "    }\n",
              "\n",
              "    .colab-df-convert:hover {\n",
              "      background-color: #E2EBFA;\n",
              "      box-shadow: 0px 1px 2px rgba(60, 64, 67, 0.3), 0px 1px 3px 1px rgba(60, 64, 67, 0.15);\n",
              "      fill: #174EA6;\n",
              "    }\n",
              "\n",
              "    [theme=dark] .colab-df-convert {\n",
              "      background-color: #3B4455;\n",
              "      fill: #D2E3FC;\n",
              "    }\n",
              "\n",
              "    [theme=dark] .colab-df-convert:hover {\n",
              "      background-color: #434B5C;\n",
              "      box-shadow: 0px 1px 3px 1px rgba(0, 0, 0, 0.15);\n",
              "      filter: drop-shadow(0px 1px 2px rgba(0, 0, 0, 0.3));\n",
              "      fill: #FFFFFF;\n",
              "    }\n",
              "  </style>\n",
              "\n",
              "      <script>\n",
              "        const buttonEl =\n",
              "          document.querySelector('#df-37d92a06-fceb-4b9e-bfdd-751201b62cb5 button.colab-df-convert');\n",
              "        buttonEl.style.display =\n",
              "          google.colab.kernel.accessAllowed ? 'block' : 'none';\n",
              "\n",
              "        async function convertToInteractive(key) {\n",
              "          const element = document.querySelector('#df-37d92a06-fceb-4b9e-bfdd-751201b62cb5');\n",
              "          const dataTable =\n",
              "            await google.colab.kernel.invokeFunction('convertToInteractive',\n",
              "                                                     [key], {});\n",
              "          if (!dataTable) return;\n",
              "\n",
              "          const docLinkHtml = 'Like what you see? Visit the ' +\n",
              "            '<a target=\"_blank\" href=https://colab.research.google.com/notebooks/data_table.ipynb>data table notebook</a>'\n",
              "            + ' to learn more about interactive tables.';\n",
              "          element.innerHTML = '';\n",
              "          dataTable['output_type'] = 'display_data';\n",
              "          await google.colab.output.renderOutput(dataTable, element);\n",
              "          const docLink = document.createElement('div');\n",
              "          docLink.innerHTML = docLinkHtml;\n",
              "          element.appendChild(docLink);\n",
              "        }\n",
              "      </script>\n",
              "    </div>\n",
              "  </div>\n",
              "  "
            ]
          },
          "metadata": {},
          "execution_count": 152
        }
      ],
      "source": [
        "df['Date']=pd.to_datetime(df['Date'])\n",
        "df['Day']=df['Date'].dt.strftime('%d'+'-'+'%m')\n",
        "df['Month']=df['Date'].dt.strftime('%m'+'-'+'%y')\n",
        "df['Year']=df['Date'].dt.strftime('%y')\n",
        "\n",
        "df.head()"
      ]
    },
    {
      "cell_type": "markdown",
      "metadata": {
        "id": "Xp1CVlmWRP4U"
      },
      "source": [
        "**Plotting correlation matrix**"
      ]
    },
    {
      "cell_type": "code",
      "execution_count": null,
      "metadata": {
        "colab": {
          "base_uri": "https://localhost:8080/",
          "height": 395
        },
        "id": "I1yxYBCplToE",
        "outputId": "b4441bc7-64bf-4ef2-ff2e-45aa4d85f5c2"
      },
      "outputs": [
        {
          "output_type": "execute_result",
          "data": {
            "text/plain": [
              "<Axes: >"
            ]
          },
          "metadata": {},
          "execution_count": 153
        },
        {
          "output_type": "display_data",
          "data": {
            "text/plain": [
              "<Figure size 864x432 with 2 Axes>"
            ],
            "image/png": "[encoded data removed]"
          },
          "metadata": {
            "needs_background": "light"
          }
        }
      ],
      "source": [
        "sns.heatmap(df.corr(),annot=True)"
      ]
    },
    {
      "cell_type": "markdown",
      "metadata": {
        "id": "XSGswQNaoFz0"
      },
      "source": [
        "From the given correlation matrix, we can infer the following:\n",
        "\n",
        "* The AQI is positively correlated with all air pollutants, with the highest correlation coefficient being 0.88 for PM2.5.\n",
        "\n",
        "* PM10, CO, NH3, and SO2 have moderately high positive correlation coefficients with AQI, ranging from 0.46 to 0.57.\n",
        "\n",
        "* NOx and PM10 have a moderate positive correlation coefficient of 0.41, indicating a possible link between these two pollutants.\n",
        "\n",
        "* NH3 has a moderately high positive correlation coefficient with NOx and SO2, indicating that these pollutants may be produced together or may have a common source.\n",
        "\n",
        "* O3 has a weak positive correlation coefficient with AQI, indicating that it may not be a major contributor to poor air quality.\n",
        "\n",
        "* PM2.5 has a high positive correlation coefficient with PM10 and a moderately high positive correlation coefficient with CO and NH3, indicating that these pollutants may be related to the generation of particulate matter"
      ]
    },
    {
      "cell_type": "markdown",
      "metadata": {
        "id": "ugo4GeNARLnK"
      },
      "source": [
        "**Plotting relationship between AQI and pollutants that affect AQI the most**\n"
      ]
    },
    {
      "cell_type": "code",
      "execution_count": null,
      "metadata": {
        "colab": {
          "base_uri": "https://localhost:8080/",
          "height": 354
        },
        "id": "pWR5heJQF4Q5",
        "outputId": "8e149678-7fa0-47dc-dadf-3025e8fe3948"
      },
      "outputs": [
        {
          "output_type": "display_data",
          "data": {
            "text/plain": [
              "<Figure size 864x432 with 1 Axes>"
            ],
            "image/png": "[encoded data removed]"
          },
          "metadata": {
            "needs_background": "light"
          }
        }
      ],
      "source": [
        "sns.regplot(x='PM2.5', y='AQI', data=df, color='green', label='PM2.5')\n",
        "sns.regplot(x='PM10', y='AQI', data=df, color='red', label='PM10')\n",
        "\n",
        "sns.despine(left=True)\n",
        "plt.gca().set_facecolor('lightgray')\n",
        "plt.xlabel('')\n",
        "plt.ylabel('AQI')\n",
        "plt.title('Pollutants that affect AQI the most',fontsize=20,fontweight='bold')\n",
        "plt.legend(fontsize=12)\n",
        "\n",
        "plt.show()"
      ]
    },
    {
      "cell_type": "markdown",
      "metadata": {
        "id": "63YWbe2vMF3z"
      },
      "source": [
        "* The regression lines indicate that PM2.5 and PM10 have a strong positive linear relationship with AQI\n",
        "* "
      ]
    },
    {
      "cell_type": "markdown",
      "metadata": {
        "id": "kprMj7iTQvwR"
      },
      "source": [
        "**Plotting relationship between AQI and Pollutants that affect AQI the least**\n"
      ]
    },
    {
      "cell_type": "code",
      "execution_count": null,
      "metadata": {
        "colab": {
          "base_uri": "https://localhost:8080/",
          "height": 354
        },
        "id": "w8eo8isxMyO6",
        "outputId": "de594dd0-5cd0-4bfd-d71f-e82efa306456"
      },
      "outputs": [
        {
          "output_type": "display_data",
          "data": {
            "text/plain": [
              "<Figure size 864x432 with 1 Axes>"
            ],
            "image/png": "[encoded data removed]"
          },
          "metadata": {
            "needs_background": "light"
          }
        }
      ],
      "source": [
        "sns.regplot(x='O3', y='AQI', data=df, color='blue', label='O3')\n",
        "sns.regplot(x='NH3', y='AQI', data=df, color='green', label='NH3')\n",
        "\n",
        "sns.despine(left=True)\n",
        "plt.gca().set_facecolor('lightgray')\n",
        "plt.xlabel('')\n",
        "plt.ylabel('AQI')\n",
        "plt.title('Pollutants that affect AQI the least',fontsize=20,fontweight='bold')\n",
        "plt.legend(fontsize=12)\n",
        "\n",
        "plt.show()\n",
        "\n"
      ]
    },
    {
      "cell_type": "markdown",
      "metadata": {
        "id": "-Il0hHQ-Ofdc"
      },
      "source": [
        "* From the slope of the regression lines, it is visible that the correlation between AQI and O3 is very weak.\n",
        "* This indicates that higher values of O3 are slightly associated with higher values of AQI, but the relationship is not strong."
      ]
    },
    {
      "cell_type": "markdown",
      "metadata": {
        "id": "NnB_I70EwcEa"
      },
      "source": [
        "**Analyzing AQI each month**"
      ]
    },
    {
      "cell_type": "code",
      "execution_count": null,
      "metadata": {
        "colab": {
          "base_uri": "https://localhost:8080/"
        },
        "id": "VNvfkH8oYwgM",
        "outputId": "ce82fee8-8c6c-4cef-bfc8-435ace4f080f"
      },
      "outputs": [
        {
          "output_type": "execute_result",
          "data": {
            "text/plain": [
              "Month\n",
              "01-22    195.0\n",
              "01-23    220.0\n",
              "02-22    200.0\n",
              "02-23    128.0\n",
              "03-22    160.0\n",
              "04-22    170.0\n",
              "05-22    191.0\n",
              "06-22    133.0\n",
              "07-22    177.0\n",
              "08-22     76.0\n",
              "09-22     69.0\n",
              "10-22     69.0\n",
              "11-22     59.0\n",
              "12-22    301.0\n",
              "Name: AQI, dtype: float64"
            ]
          },
          "metadata": {},
          "execution_count": 156
        }
      ],
      "source": [
        "aqi_by_month=df.groupby('Month') ['AQI'].max()\n",
        "aqi_by_month"
      ]
    },
    {
      "cell_type": "code",
      "execution_count": null,
      "metadata": {
        "colab": {
          "base_uri": "https://localhost:8080/",
          "height": 380
        },
        "id": "U7J0czzuxhzl",
        "outputId": "72549cdc-32e1-4fbf-c93f-2d48a1476a41"
      },
      "outputs": [
        {
          "output_type": "execute_result",
          "data": {
            "text/plain": [
              "Text(0, 0.5, 'Maximum AQI')"
            ]
          },
          "metadata": {},
          "execution_count": 157
        },
        {
          "output_type": "display_data",
          "data": {
            "text/plain": [
              "<Figure size 864x432 with 1 Axes>"
            ],
            "image/png": "[encoded data removed]"
          },
          "metadata": {
            "needs_background": "light"
          }
        }
      ],
      "source": [
        "aqi_by_month.plot(kind='line',marker='o',markerfacecolor='k')\n",
        "\n",
        "\n",
        "plt.grid(True)\n",
        "plt.rcParams['axes.grid'] = True\n",
        "plt.title('Maximum AQI by Month')\n",
        "plt.xlabel('Month')\n",
        "plt.ylabel('Maximum AQI')"
      ]
    },
    {
      "cell_type": "markdown",
      "metadata": {
        "id": "6s_6kfQVRnHd"
      },
      "source": [
        "* There is a significant variation in AQI values across different months. The values range from a low of 59 in November to a high of 301 in December.\n",
        "\n",
        "* January and February have relatively higher AQI values compared to other months, with values of 195 and 220, respectively.\n",
        "\n",
        "* The AQI values gradually increase from March to May, with the highest value of 191 being recorded in May. This may be due to increased agricultural activities and fires during this time.\n",
        "\n",
        "* There is a sudden drop in AQI values in June, which is likely due to the onset of monsoon rains that help to reduce air pollution levels.\n",
        "\n",
        "* AQI values remain relatively low from July to September, before increasing slightly in October.\n",
        "\n",
        "* November has the lowest AQI value of 59, likely due to the impact of the northeast monsoon.\n",
        "\n",
        "* December has the highest AQI value of 301, possibly due to the increase in air pollution during the winter months."
      ]
    },
    {
      "cell_type": "markdown",
      "source": [
        "**Grouping AQI into categories**"
      ],
      "metadata": {
        "id": "11kT8wnhWejY"
      }
    },
    {
      "cell_type": "code",
      "execution_count": null,
      "metadata": {
        "colab": {
          "base_uri": "https://localhost:8080/",
          "height": 661
        },
        "id": "EyTsjNLzFppK",
        "outputId": "b39c2830-0529-4629-d8df-1ecb3000be47"
      },
      "outputs": [
        {
          "output_type": "execute_result",
          "data": {
            "text/plain": [
              "          Date    NOx     O3    PM10    CO   NH3    SO2  PM2.5    AQI    Day  \\\n",
              "0   2022-01-01  28.20  15.33   47.04  1.44  5.45  18.17  36.51   72.0  01-01   \n",
              "1   2022-01-02  28.40  12.20   56.64  1.45  5.51  18.91  44.61   74.0  02-01   \n",
              "2   2022-01-03  27.10  12.28   59.56  1.47  5.18  18.74  47.04   78.0  03-01   \n",
              "3   2022-01-04  27.20  17.99   69.44  1.48  5.21  19.08  55.04   92.0  04-01   \n",
              "4   2022-01-05  27.90  19.98  109.55  1.53  5.36  20.66  88.56  195.0  05-01   \n",
              "..         ...    ...    ...     ...   ...   ...    ...    ...    ...    ...   \n",
              "419 2023-02-24  20.27   1.48  107.40  1.10  0.00  21.13  67.72  126.0  24-02   \n",
              "420 2023-02-25  20.32   1.47  111.50  1.11  0.00  23.20  73.73  108.0  25-02   \n",
              "421 2023-02-26  20.25   1.49  104.50  1.05  0.00  24.46  78.60  103.0  26-02   \n",
              "422 2023-02-27  49.87   1.51   95.83  1.03  0.05  22.88  57.30   96.0  27-02   \n",
              "423 2023-02-28  65.19   1.53  108.81  1.15  4.03  17.52  70.31  106.0  28-02   \n",
              "\n",
              "     Month Year      Category  \n",
              "0    01-22   22  Satisfactory  \n",
              "1    01-22   22  Satisfactory  \n",
              "2    01-22   22  Satisfactory  \n",
              "3    01-22   22  Satisfactory  \n",
              "4    01-22   22      Moderate  \n",
              "..     ...  ...           ...  \n",
              "419  02-23   23      Moderate  \n",
              "420  02-23   23      Moderate  \n",
              "421  02-23   23      Moderate  \n",
              "422  02-23   23  Satisfactory  \n",
              "423  02-23   23      Moderate  \n",
              "\n",
              "[414 rows x 13 columns]"
            ],
            "text/html": [
              "\n",
              "  <div id=\"df-5950eeea-1552-45b9-bb5c-0893c8aff6e9\">\n",
              "    <div class=\"colab-df-container\">\n",
              "      <div>\n",
              "<style scoped>\n",
              "    .dataframe tbody tr th:only-of-type {\n",
              "        vertical-align: middle;\n",
              "    }\n",
              "\n",
              "    .dataframe tbody tr th {\n",
              "        vertical-align: top;\n",
              "    }\n",
              "\n",
              "    .dataframe thead th {\n",
              "        text-align: right;\n",
              "    }\n",
              "</style>\n",
              "<table border=\"1\" class=\"dataframe\">\n",
              "  <thead>\n",
              "    <tr style=\"text-align: right;\">\n",
              "      <th></th>\n",
              "      <th>Date</th>\n",
              "      <th>NOx</th>\n",
              "      <th>O3</th>\n",
              "      <th>PM10</th>\n",
              "      <th>CO</th>\n",
              "      <th>NH3</th>\n",
              "      <th>SO2</th>\n",
              "      <th>PM2.5</th>\n",
              "      <th>AQI</th>\n",
              "      <th>Day</th>\n",
              "      <th>Month</th>\n",
              "      <th>Year</th>\n",
              "      <th>Category</th>\n",
              "    </tr>\n",
              "  </thead>\n",
              "  <tbody>\n",
              "    <tr>\n",
              "      <th>0</th>\n",
              "      <td>2022-01-01</td>\n",
              "      <td>28.20</td>\n",
              "      <td>15.33</td>\n",
              "      <td>47.04</td>\n",
              "      <td>1.44</td>\n",
              "      <td>5.45</td>\n",
              "      <td>18.17</td>\n",
              "      <td>36.51</td>\n",
              "      <td>72.0</td>\n",
              "      <td>01-01</td>\n",
              "      <td>01-22</td>\n",
              "      <td>22</td>\n",
              "      <td>Satisfactory</td>\n",
              "    </tr>\n",
              "    <tr>\n",
              "      <th>1</th>\n",
              "      <td>2022-01-02</td>\n",
              "      <td>28.40</td>\n",
              "      <td>12.20</td>\n",
              "      <td>56.64</td>\n",
              "      <td>1.45</td>\n",
              "      <td>5.51</td>\n",
              "      <td>18.91</td>\n",
              "      <td>44.61</td>\n",
              "      <td>74.0</td>\n",
              "      <td>02-01</td>\n",
              "      <td>01-22</td>\n",
              "      <td>22</td>\n",
              "      <td>Satisfactory</td>\n",
              "    </tr>\n",
              "    <tr>\n",
              "      <th>2</th>\n",
              "      <td>2022-01-03</td>\n",
              "      <td>27.10</td>\n",
              "      <td>12.28</td>\n",
              "      <td>59.56</td>\n",
              "      <td>1.47</td>\n",
              "      <td>5.18</td>\n",
              "      <td>18.74</td>\n",
              "      <td>47.04</td>\n",
              "      <td>78.0</td>\n",
              "      <td>03-01</td>\n",
              "      <td>01-22</td>\n",
              "      <td>22</td>\n",
              "      <td>Satisfactory</td>\n",
              "    </tr>\n",
              "    <tr>\n",
              "      <th>3</th>\n",
              "      <td>2022-01-04</td>\n",
              "      <td>27.20</td>\n",
              "      <td>17.99</td>\n",
              "      <td>69.44</td>\n",
              "      <td>1.48</td>\n",
              "      <td>5.21</td>\n",
              "      <td>19.08</td>\n",
              "      <td>55.04</td>\n",
              "      <td>92.0</td>\n",
              "      <td>04-01</td>\n",
              "      <td>01-22</td>\n",
              "      <td>22</td>\n",
              "      <td>Satisfactory</td>\n",
              "    </tr>\n",
              "    <tr>\n",
              "      <th>4</th>\n",
              "      <td>2022-01-05</td>\n",
              "      <td>27.90</td>\n",
              "      <td>19.98</td>\n",
              "      <td>109.55</td>\n",
              "      <td>1.53</td>\n",
              "      <td>5.36</td>\n",
              "      <td>20.66</td>\n",
              "      <td>88.56</td>\n",
              "      <td>195.0</td>\n",
              "      <td>05-01</td>\n",
              "      <td>01-22</td>\n",
              "      <td>22</td>\n",
              "      <td>Moderate</td>\n",
              "    </tr>\n",
              "    <tr>\n",
              "      <th>...</th>\n",
              "      <td>...</td>\n",
              "      <td>...</td>\n",
              "      <td>...</td>\n",
              "      <td>...</td>\n",
              "      <td>...</td>\n",
              "      <td>...</td>\n",
              "      <td>...</td>\n",
              "      <td>...</td>\n",
              "      <td>...</td>\n",
              "      <td>...</td>\n",
              "      <td>...</td>\n",
              "      <td>...</td>\n",
              "      <td>...</td>\n",
              "    </tr>\n",
              "    <tr>\n",
              "      <th>419</th>\n",
              "      <td>2023-02-24</td>\n",
              "      <td>20.27</td>\n",
              "      <td>1.48</td>\n",
              "      <td>107.40</td>\n",
              "      <td>1.10</td>\n",
              "      <td>0.00</td>\n",
              "      <td>21.13</td>\n",
              "      <td>67.72</td>\n",
              "      <td>126.0</td>\n",
              "      <td>24-02</td>\n",
              "      <td>02-23</td>\n",
              "      <td>23</td>\n",
              "      <td>Moderate</td>\n",
              "    </tr>\n",
              "    <tr>\n",
              "      <th>420</th>\n",
              "      <td>2023-02-25</td>\n",
              "      <td>20.32</td>\n",
              "      <td>1.47</td>\n",
              "      <td>111.50</td>\n",
              "      <td>1.11</td>\n",
              "      <td>0.00</td>\n",
              "      <td>23.20</td>\n",
              "      <td>73.73</td>\n",
              "      <td>108.0</td>\n",
              "      <td>25-02</td>\n",
              "      <td>02-23</td>\n",
              "      <td>23</td>\n",
              "      <td>Moderate</td>\n",
              "    </tr>\n",
              "    <tr>\n",
              "      <th>421</th>\n",
              "      <td>2023-02-26</td>\n",
              "      <td>20.25</td>\n",
              "      <td>1.49</td>\n",
              "      <td>104.50</td>\n",
              "      <td>1.05</td>\n",
              "      <td>0.00</td>\n",
              "      <td>24.46</td>\n",
              "      <td>78.60</td>\n",
              "      <td>103.0</td>\n",
              "      <td>26-02</td>\n",
              "      <td>02-23</td>\n",
              "      <td>23</td>\n",
              "      <td>Moderate</td>\n",
              "    </tr>\n",
              "    <tr>\n",
              "      <th>422</th>\n",
              "      <td>2023-02-27</td>\n",
              "      <td>49.87</td>\n",
              "      <td>1.51</td>\n",
              "      <td>95.83</td>\n",
              "      <td>1.03</td>\n",
              "      <td>0.05</td>\n",
              "      <td>22.88</td>\n",
              "      <td>57.30</td>\n",
              "      <td>96.0</td>\n",
              "      <td>27-02</td>\n",
              "      <td>02-23</td>\n",
              "      <td>23</td>\n",
              "      <td>Satisfactory</td>\n",
              "    </tr>\n",
              "    <tr>\n",
              "      <th>423</th>\n",
              "      <td>2023-02-28</td>\n",
              "      <td>65.19</td>\n",
              "      <td>1.53</td>\n",
              "      <td>108.81</td>\n",
              "      <td>1.15</td>\n",
              "      <td>4.03</td>\n",
              "      <td>17.52</td>\n",
              "      <td>70.31</td>\n",
              "      <td>106.0</td>\n",
              "      <td>28-02</td>\n",
              "      <td>02-23</td>\n",
              "      <td>23</td>\n",
              "      <td>Moderate</td>\n",
              "    </tr>\n",
              "  </tbody>\n",
              "</table>\n",
              "<p>414 rows × 13 columns</p>\n",
              "</div>\n",
              "      <button class=\"colab-df-convert\" onclick=\"convertToInteractive('df-5950eeea-1552-45b9-bb5c-0893c8aff6e9')\"\n",
              "              title=\"Convert this dataframe to an interactive table.\"\n",
              "              style=\"display:none;\">\n",
              "        \n",
              "  <svg xmlns=\"http://www.w3.org/2000/svg\" height=\"24px\"viewBox=\"0 0 24 24\"\n",
              "       width=\"24px\">\n",
              "    <path d=\"M0 0h24v24H0V0z\" fill=\"none\"/>\n",
              "    <path d=\"M18.56 5.44l.94 2.06.94-2.06 2.06-.94-2.06-.94-.94-2.06-.94 2.06-2.06.94zm-11 1L8.5 8.5l.94-2.06 2.06-.94-2.06-.94L8.5 2.5l-.94 2.06-2.06.94zm10 10l.94 2.06.94-2.06 2.06-.94-2.06-.94-.94-2.06-.94 2.06-2.06.94z\"/><path d=\"M17.41 7.96l-1.37-1.37c-.4-.4-.92-.59-1.43-.59-.52 0-1.04.2-1.43.59L10.3 9.45l-7.72 7.72c-.78.78-.78 2.05 0 2.83L4 21.41c.39.39.9.59 1.41.59.51 0 1.02-.2 1.41-.59l7.78-7.78 2.81-2.81c.8-.78.8-2.07 0-2.86zM5.41 20L4 18.59l7.72-7.72 1.47 1.35L5.41 20z\"/>\n",
              "  </svg>\n",
              "      </button>\n",
              "      \n",
              "  <style>\n",
              "    .colab-df-container {\n",
              "      display:flex;\n",
              "      flex-wrap:wrap;\n",
              "      gap: 12px;\n",
              "    }\n",
              "\n",
              "    .colab-df-convert {\n",
              "      background-color: #E8F0FE;\n",
              "      border: none;\n",
              "      border-radius: 50%;\n",
              "      cursor: pointer;\n",
              "      display: none;\n",
              "      fill: #1967D2;\n",
              "      height: 32px;\n",
              "      padding: 0 0 0 0;\n",
              "      width: 32px;\n",
              "    }\n",
              "\n",
              "    .colab-df-convert:hover {\n",
              "      background-color: #E2EBFA;\n",
              "      box-shadow: 0px 1px 2px rgba(60, 64, 67, 0.3), 0px 1px 3px 1px rgba(60, 64, 67, 0.15);\n",
              "      fill: #174EA6;\n",
              "    }\n",
              "\n",
              "    [theme=dark] .colab-df-convert {\n",
              "      background-color: #3B4455;\n",
              "      fill: #D2E3FC;\n",
              "    }\n",
              "\n",
              "    [theme=dark] .colab-df-convert:hover {\n",
              "      background-color: #434B5C;\n",
              "      box-shadow: 0px 1px 3px 1px rgba(0, 0, 0, 0.15);\n",
              "      filter: drop-shadow(0px 1px 2px rgba(0, 0, 0, 0.3));\n",
              "      fill: #FFFFFF;\n",
              "    }\n",
              "  </style>\n",
              "\n",
              "      <script>\n",
              "        const buttonEl =\n",
              "          document.querySelector('#df-5950eeea-1552-45b9-bb5c-0893c8aff6e9 button.colab-df-convert');\n",
              "        buttonEl.style.display =\n",
              "          google.colab.kernel.accessAllowed ? 'block' : 'none';\n",
              "\n",
              "        async function convertToInteractive(key) {\n",
              "          const element = document.querySelector('#df-5950eeea-1552-45b9-bb5c-0893c8aff6e9');\n",
              "          const dataTable =\n",
              "            await google.colab.kernel.invokeFunction('convertToInteractive',\n",
              "                                                     [key], {});\n",
              "          if (!dataTable) return;\n",
              "\n",
              "          const docLinkHtml = 'Like what you see? Visit the ' +\n",
              "            '<a target=\"_blank\" href=https://colab.research.google.com/notebooks/data_table.ipynb>data table notebook</a>'\n",
              "            + ' to learn more about interactive tables.';\n",
              "          element.innerHTML = '';\n",
              "          dataTable['output_type'] = 'display_data';\n",
              "          await google.colab.output.renderOutput(dataTable, element);\n",
              "          const docLink = document.createElement('div');\n",
              "          docLink.innerHTML = docLinkHtml;\n",
              "          element.appendChild(docLink);\n",
              "        }\n",
              "      </script>\n",
              "    </div>\n",
              "  </div>\n",
              "  "
            ]
          },
          "metadata": {},
          "execution_count": 158
        }
      ],
      "source": [
        "df['Category']=df.apply(lambda row:'Good' if row['AQI']<=50\n",
        "                                 else 'Satisfactory' if row['AQI']<=100\n",
        "                                 else 'Moderate' if row['AQI']<=200\n",
        "                                 else 'Poor' if row['AQI']<=300\n",
        "                                 else 'Very Poor' if row['AQI']<=400\n",
        "                                 else 'Severe', axis=1)\n",
        "df"
      ]
    },
    {
      "cell_type": "code",
      "execution_count": null,
      "metadata": {
        "colab": {
          "base_uri": "https://localhost:8080/"
        },
        "id": "ZmsXOeKnFytB",
        "outputId": "1737f2a0-0967-42be-8828-df51c77dc394"
      },
      "outputs": [
        {
          "output_type": "execute_result",
          "data": {
            "text/plain": [
              "Satisfactory    200\n",
              "Moderate        126\n",
              "Good             83\n",
              "Poor              4\n",
              "Very Poor         1\n",
              "Name: Category, dtype: int64"
            ]
          },
          "metadata": {},
          "execution_count": 159
        }
      ],
      "source": [
        "df['Category'].value_counts()"
      ]
    },
    {
      "cell_type": "markdown",
      "metadata": {
        "id": "5LXumi29Qh-t"
      },
      "source": [
        "**Distribution of AQI**"
      ]
    },
    {
      "cell_type": "code",
      "execution_count": null,
      "metadata": {
        "colab": {
          "base_uri": "https://localhost:8080/",
          "height": 378
        },
        "id": "xlmJ4Aqd1Xzb",
        "outputId": "a3d4419b-814a-43b6-a5c7-7403604ece9e"
      },
      "outputs": [
        {
          "output_type": "execute_result",
          "data": {
            "text/plain": [
              "Text(0.5, 1.0, 'Distribution of AQI')"
            ]
          },
          "metadata": {},
          "execution_count": 160
        },
        {
          "output_type": "display_data",
          "data": {
            "text/plain": [
              "<Figure size 864x432 with 1 Axes>"
            ],
            "image/png": "[encoded data removed]"
          },
          "metadata": {
            "needs_background": "light"
          }
        }
      ],
      "source": [
        "sns.histplot(x=df['AQI'],kde=True,color='k',hue=df['Category'],palette='Set1')\n",
        "sns.despine(left=True)\n",
        "plt.xlabel('')\n",
        "plt.ylabel('')\n",
        "plt.title('Distribution of AQI',fontsize=20,fontweight='bold')"
      ]
    },
    {
      "cell_type": "markdown",
      "metadata": {
        "id": "VETHpleV5UYG"
      },
      "source": [
        "* The plot shows that the majority of the AQI values fall between 50 to 150, with a few values exceeding 150.\n",
        "\n",
        "* The plot shows that most of the observations fall under the Satisfactory and Moderate categories. There are relatively fewer observations in the Good and Poor categories, and very few observations in the Very Poor and Severe categories.\n",
        "\n",
        "* Overall, the plot suggests that the air quality in the region represented by the dataset is mostly satisfactory and moderate, with occasional dips into the poor category. The plot also highlights the need for measures to be taken to prevent the air quality from deteriorating further.\n",
        "\n",
        "\n",
        "\n"
      ]
    },
    {
      "cell_type": "markdown",
      "metadata": {
        "id": "RJGi94hrVqj_"
      },
      "source": [
        "**Variation of different pollutants with month**"
      ]
    },
    {
      "cell_type": "markdown",
      "source": [
        "**Variation in NH3 with Month**"
      ],
      "metadata": {
        "id": "FyiKbInaYbPG"
      }
    },
    {
      "cell_type": "code",
      "execution_count": null,
      "metadata": {
        "colab": {
          "base_uri": "https://localhost:8080/"
        },
        "id": "ti1f4qeMUZ0h",
        "outputId": "e2708044-5517-4173-82f6-9706bc8c12da"
      },
      "outputs": [
        {
          "output_type": "execute_result",
          "data": {
            "text/plain": [
              "Not Harmful    414\n",
              "dtype: int64"
            ]
          },
          "metadata": {},
          "execution_count": 161
        }
      ],
      "source": [
        "NH3=df.apply(lambda row:'Not Harmful' if row['NH3']<100\n",
        "              else 'Harmful', axis=1)\n",
        "NH3.value_counts()"
      ]
    },
    {
      "cell_type": "code",
      "execution_count": null,
      "metadata": {
        "colab": {
          "base_uri": "https://localhost:8080/",
          "height": 381
        },
        "id": "-QnLe4aqV_Rl",
        "outputId": "eb50abc5-f914-4158-ee11-d8987585fc18"
      },
      "outputs": [
        {
          "output_type": "execute_result",
          "data": {
            "text/plain": [
              "Text(0.5, 1.0, 'Variation in NH3 with Month')"
            ]
          },
          "metadata": {},
          "execution_count": 162
        },
        {
          "output_type": "display_data",
          "data": {
            "text/plain": [
              "<Figure size 864x432 with 1 Axes>"
            ],
            "image/png": "[encoded data removed]"
          },
          "metadata": {
            "needs_background": "light"
          }
        }
      ],
      "source": [
        "sns.boxplot(x=df['Month'],y=df['NH3'],hue=NH3,palette='Set1', whiskerprops={'linewidth': 2})\n",
        "plt.xlabel('')\n",
        "plt.ylabel('')\n",
        "plt.title('Variation in NH3 with Month',fontsize=20,fontweight='bold')"
      ]
    },
    {
      "cell_type": "markdown",
      "metadata": {
        "id": "Xbbq_gaJ7Kad"
      },
      "source": [
        "The boxplot suggests that NH3 levels are generally not harmful and do not show significant variations across months, except for a few outliers in certain months."
      ]
    },
    {
      "cell_type": "markdown",
      "metadata": {
        "id": "IQBmSi3Lq-_H"
      },
      "source": [
        "**Variation in NOx with Month**"
      ]
    },
    {
      "cell_type": "code",
      "execution_count": null,
      "metadata": {
        "colab": {
          "base_uri": "https://localhost:8080/"
        },
        "id": "DwQJods0q-tO",
        "outputId": "c0682f07-20e8-4b0e-c80e-c30114fc1ab4"
      },
      "outputs": [
        {
          "output_type": "execute_result",
          "data": {
            "text/plain": [
              "Good         326\n",
              "Moderate      82\n",
              "Unhealthy      6\n",
              "dtype: int64"
            ]
          },
          "metadata": {},
          "execution_count": 163
        }
      ],
      "source": [
        "NOx=df.apply(lambda row:'Good' if row['NOx']<=53\n",
        "              else 'Moderate' if row['NOx']<=100\n",
        "              else 'Unhealthy',axis=1)\n",
        "NOx.value_counts()"
      ]
    },
    {
      "cell_type": "code",
      "execution_count": null,
      "metadata": {
        "colab": {
          "base_uri": "https://localhost:8080/",
          "height": 378
        },
        "id": "JnR1Ul8nrVDL",
        "outputId": "bbe5c875-a7f1-402f-b6f1-ac593038a19e"
      },
      "outputs": [
        {
          "output_type": "execute_result",
          "data": {
            "text/plain": [
              "Text(0.5, 1.0, 'Variation in NOx with Month')"
            ]
          },
          "metadata": {},
          "execution_count": 164
        },
        {
          "output_type": "display_data",
          "data": {
            "text/plain": [
              "<Figure size 864x432 with 1 Axes>"
            ],
            "image/png": "[encoded data removed]"
          },
          "metadata": {
            "needs_background": "light"
          }
        }
      ],
      "source": [
        "sns.boxplot(x=df['Month'],y=df['NOx'],hue=NOx,palette='Set1',width=1.5, whiskerprops={'linewidth': 2})\n",
        "plt.xlabel('')\n",
        "plt.ylabel('')\n",
        "plt.title('Variation in NOx with Month',fontsize=20,fontweight='bold')"
      ]
    },
    {
      "cell_type": "markdown",
      "metadata": {
        "id": "B8_guMz7-aI4"
      },
      "source": [
        "* It can be observed that the NOx levels are generally higher during the winter months (December to February) and lower during the summer months (June to August). \n",
        "* There are also more outliers in the winter months, indicating that there are some days with significantly higher NOx levels than usual. \n",
        "* The majority of the data points fall under the good category, with relatively few in the moderate or Unhealthy categories.\n",
        "* Overall, the boxplot suggests that the NOx levels in the area are generally within acceptable limits, but there may be some occasional spikes in pollution during certain months."
      ]
    },
    {
      "cell_type": "markdown",
      "metadata": {
        "id": "8iztX73YrrFD"
      },
      "source": [
        "**Variation in PM2.5 with Month**"
      ]
    },
    {
      "cell_type": "code",
      "execution_count": null,
      "metadata": {
        "colab": {
          "base_uri": "https://localhost:8080/"
        },
        "id": "09vqgpcErvLX",
        "outputId": "f81c8277-ed99-496c-e409-d9dd3d1b3bb8"
      },
      "outputs": [
        {
          "output_type": "execute_result",
          "data": {
            "text/plain": [
              "Moderate                          176\n",
              "Unhealthy                         122\n",
              "Unhealthy for sensitive groups    113\n",
              "Good                                3\n",
              "dtype: int64"
            ]
          },
          "metadata": {},
          "execution_count": 165
        }
      ],
      "source": [
        "PM2_5=df.apply(lambda row:'Good' if row['PM2.5']<=12\n",
        "              else 'Moderate' if row['PM2.5']<=35\n",
        "              else 'Unhealthy for sensitive groups'if row['PM2.5']<=55.4\n",
        "              else  'Unhealthy',axis=1)\n",
        "PM2_5.value_counts()"
      ]
    },
    {
      "cell_type": "code",
      "execution_count": null,
      "metadata": {
        "colab": {
          "base_uri": "https://localhost:8080/",
          "height": 378
        },
        "id": "4--Bg1Dqr10m",
        "outputId": "7304f965-e84d-4649-fc83-1238cdc74eaf"
      },
      "outputs": [
        {
          "output_type": "execute_result",
          "data": {
            "text/plain": [
              "Text(0.5, 1.0, 'Variation in PM2.5 with Month')"
            ]
          },
          "metadata": {},
          "execution_count": 166
        },
        {
          "output_type": "display_data",
          "data": {
            "text/plain": [
              "<Figure size 864x432 with 1 Axes>"
            ],
            "image/png": "[encoded data removed]"
          },
          "metadata": {
            "needs_background": "light"
          }
        }
      ],
      "source": [
        "sns.boxplot(x=df['Month'],y=df['PM2.5'],hue=PM2_5,palette='Set1',width=1.5, whiskerprops={'linewidth': 2})\n",
        "plt.xlabel('')\n",
        "plt.ylabel('')\n",
        "plt.title('Variation in PM2.5 with Month',fontsize=20,fontweight='bold')"
      ]
    },
    {
      "cell_type": "markdown",
      "metadata": {
        "id": "I_Sj12zQAAxh"
      },
      "source": [
        "* The median PM2.5 levels are highest in January, followed by December and February. \n",
        "* The boxplot also shows that there are more outliers in the 'Unhealthy for seneitive groups' category during the summer months, indicating that the pollution levels during this time are significantly higher than the rest of the year."
      ]
    },
    {
      "cell_type": "markdown",
      "metadata": {
        "id": "sdtwJOojwMTZ"
      },
      "source": [
        "**Variation in PM10 with Month**"
      ]
    },
    {
      "cell_type": "code",
      "execution_count": null,
      "metadata": {
        "colab": {
          "base_uri": "https://localhost:8080/"
        },
        "id": "MDCJZV6nwRRC",
        "outputId": "e7f17f4d-a388-43c6-baa7-e6e600ac3399"
      },
      "outputs": [
        {
          "output_type": "execute_result",
          "data": {
            "text/plain": [
              "Moderate                          222\n",
              "Good                              184\n",
              "Unhealthy for sensitive groups      8\n",
              "dtype: int64"
            ]
          },
          "metadata": {},
          "execution_count": 167
        }
      ],
      "source": [
        "PM10=df.apply(lambda row:'Good' if row['PM10']<=54\n",
        "              else 'Moderate' if row['PM10']<=154\n",
        "              else 'Unhealthy for sensitive groups'if row['PM10']<=254\n",
        "              else  'Unhealthy',axis=1)\n",
        "PM10.value_counts()"
      ]
    },
    {
      "cell_type": "code",
      "execution_count": null,
      "metadata": {
        "colab": {
          "base_uri": "https://localhost:8080/",
          "height": 378
        },
        "id": "fY6VBQcMwXa2",
        "outputId": "1a5dd1ef-612f-4de6-d86e-7c3c60fd48a7"
      },
      "outputs": [
        {
          "output_type": "execute_result",
          "data": {
            "text/plain": [
              "Text(0.5, 1.0, 'Variation in PM10 with Month')"
            ]
          },
          "metadata": {},
          "execution_count": 168
        },
        {
          "output_type": "display_data",
          "data": {
            "text/plain": [
              "<Figure size 864x432 with 1 Axes>"
            ],
            "image/png": "[encoded data removed]"
          },
          "metadata": {
            "needs_background": "light"
          }
        }
      ],
      "source": [
        "sns.boxplot(x=df['Month'],y=df['PM10'],hue=PM10,palette='Set1',width=1.5, whiskerprops={'linewidth': 2})\n",
        "plt.xlabel('')\n",
        "plt.ylabel('')\n",
        "plt.title('Variation in PM10 with Month',fontsize=20,fontweight='bold')"
      ]
    },
    {
      "cell_type": "markdown",
      "metadata": {
        "id": "2lhSszNDBte8"
      },
      "source": [
        "* The median PM10 value is higher in the months of December, January, and February, indicating that the air quality is generally worse during this period. \n",
        "* The IQR for PM10 is wider in the months of December, January, and February, indicating that the variability in PM10 values is higher during this period.\n",
        "* Overall, the PM10 values in Kerala are mostly in the \"Good\" to \"Moderate\" range, with few instances of \"Unhealthy\" levels."
      ]
    },
    {
      "cell_type": "markdown",
      "metadata": {
        "id": "5JlqBAfowoKz"
      },
      "source": [
        "**Variation in CO with Month**"
      ]
    },
    {
      "cell_type": "code",
      "execution_count": null,
      "metadata": {
        "colab": {
          "base_uri": "https://localhost:8080/"
        },
        "id": "RydXmXkdweWI",
        "outputId": "b9895036-ae55-4e0b-94f8-791fd48dc055"
      },
      "outputs": [
        {
          "output_type": "execute_result",
          "data": {
            "text/plain": [
              "Good    414\n",
              "dtype: int64"
            ]
          },
          "metadata": {},
          "execution_count": 169
        }
      ],
      "source": [
        "CO=df.apply(lambda row:'Good' if row['CO']<=4.4\n",
        "              else 'Moderate' if row['CO']<=9.4\n",
        "              else 'Unhealthy for sensitive groups'if row['CO']<=12.4\n",
        "              else  'Unhealthy',axis=1)\n",
        "CO.value_counts()"
      ]
    },
    {
      "cell_type": "code",
      "execution_count": null,
      "metadata": {
        "colab": {
          "base_uri": "https://localhost:8080/",
          "height": 380
        },
        "id": "yR6Xifa1w76r",
        "outputId": "af20fac0-9e7a-4856-accc-79f5b3861a9f"
      },
      "outputs": [
        {
          "output_type": "execute_result",
          "data": {
            "text/plain": [
              "Text(0.5, 1.0, 'Variation in CO with Month')"
            ]
          },
          "metadata": {},
          "execution_count": 170
        },
        {
          "output_type": "display_data",
          "data": {
            "text/plain": [
              "<Figure size 864x432 with 1 Axes>"
            ],
            "image/png": "[encoded data removed]"
          },
          "metadata": {
            "needs_background": "light"
          }
        }
      ],
      "source": [
        "sns.boxplot(x=df['Month'],y=df['CO'],hue=CO,palette='Set1',width=1.5, whiskerprops={'linewidth': 2})\n",
        "plt.xlabel('')\n",
        "plt.ylabel('')\n",
        "plt.title('Variation in CO with Month',fontsize=20,fontweight='bold')"
      ]
    },
    {
      "cell_type": "markdown",
      "metadata": {
        "id": "oUtWgchzDVO2"
      },
      "source": [
        "* The boxplot shows that the CO levels were generally within the Good and unhealthy categories throughout the year.\n",
        "* Overall, the boxplot suggests that the air quality in Kerala in terms of CO levels is generally good throughout the year, with only occasional instances of higher levels."
      ]
    },
    {
      "cell_type": "markdown",
      "metadata": {
        "id": "TGEIbu4bEU_C"
      },
      "source": [
        "**Variation in O3 with Month**"
      ]
    },
    {
      "cell_type": "code",
      "execution_count": null,
      "metadata": {
        "colab": {
          "base_uri": "https://localhost:8080/"
        },
        "id": "vT8IH1LwEPlN",
        "outputId": "a17be919-d08f-4ea5-e6a9-7ee209e2102e"
      },
      "outputs": [
        {
          "output_type": "execute_result",
          "data": {
            "text/plain": [
              "Good    414\n",
              "dtype: int64"
            ]
          },
          "metadata": {},
          "execution_count": 171
        }
      ],
      "source": [
        "O3=df.apply(lambda row:'Good' if row['O3']<=54\n",
        "              else 'Moderate' if row['O3']<=70\n",
        "              else 'Unhealthy for sensitive groups'if row['O3']<=85\n",
        "              else  'Unhealthy',axis=1)\n",
        "O3.value_counts()"
      ]
    },
    {
      "cell_type": "code",
      "execution_count": null,
      "metadata": {
        "colab": {
          "base_uri": "https://localhost:8080/",
          "height": 381
        },
        "id": "1_7VblYOEaqe",
        "outputId": "cc6fc9c2-987a-4959-c924-57c87507f35b"
      },
      "outputs": [
        {
          "output_type": "execute_result",
          "data": {
            "text/plain": [
              "Text(0.5, 1.0, 'Variation in O3 with Month')"
            ]
          },
          "metadata": {},
          "execution_count": 172
        },
        {
          "output_type": "display_data",
          "data": {
            "text/plain": [
              "<Figure size 864x432 with 1 Axes>"
            ],
            "image/png": "[encoded data removed]"
          },
          "metadata": {
            "needs_background": "light"
          }
        }
      ],
      "source": [
        "sns.boxplot(x=df['Month'],y=df['O3'],hue=O3,width=1.5,palette=\"Set1\",whiskerprops={'linewidth': 2})\n",
        "sns.despine(left=True)\n",
        "\n",
        "plt.xlabel('')\n",
        "plt.ylabel('')\n",
        "plt.title('Variation in O3 with Month',fontsize=20,fontweight='bold')"
      ]
    },
    {
      "cell_type": "markdown",
      "metadata": {
        "id": "E12ag3iDG2kd"
      },
      "source": [
        "\n",
        "* The data shows an increase in the concentration of O3 in the first half of the year.\n",
        "\n",
        "* This means that during the months of January to June, the levels of ozone in the air were higher compared to the second half of the year. There could be several reasons for this increase.\n",
        "\n",
        "* One reason could be due to the increase in sunlight during the first half of the year, which can lead to more photochemical reactions and the production of ozone.\n",
        "* Another reason could be related to the patterns of air circulation and temperature during this time of year, which can lead to the accumulation of pollutants that contribute to the formation of ozone"
      ]
    },
    {
      "cell_type": "markdown",
      "metadata": {
        "id": "i1xUgbUYEscq"
      },
      "source": [
        "**Variation in SO2 with Month**"
      ]
    },
    {
      "cell_type": "code",
      "execution_count": null,
      "metadata": {
        "colab": {
          "base_uri": "https://localhost:8080/"
        },
        "id": "QonKVDxfE2Kk",
        "outputId": "43ac7739-88df-4ea0-b055-d0ab9fef4439"
      },
      "outputs": [
        {
          "output_type": "execute_result",
          "data": {
            "text/plain": [
              "Good    414\n",
              "dtype: int64"
            ]
          },
          "metadata": {},
          "execution_count": 173
        }
      ],
      "source": [
        "SO2=df.apply(lambda row:'Good' if row['SO2']<=35\n",
        "              else 'Moderate' if row['SO2']<=75\n",
        "              else 'Unhealthy for sensitive groups'if row['SO2']<=185\n",
        "              else  'Unhealthy',axis=1)\n",
        "SO2.value_counts()"
      ]
    },
    {
      "cell_type": "code",
      "execution_count": null,
      "metadata": {
        "colab": {
          "base_uri": "https://localhost:8080/",
          "height": 381
        },
        "id": "XSTn6lzJE6ug",
        "outputId": "877c7fd3-4af5-4df9-c6cb-7c682b541755"
      },
      "outputs": [
        {
          "output_type": "execute_result",
          "data": {
            "text/plain": [
              "Text(0.5, 1.0, 'Variation in SO2 with Month')"
            ]
          },
          "metadata": {},
          "execution_count": 174
        },
        {
          "output_type": "display_data",
          "data": {
            "text/plain": [
              "<Figure size 864x432 with 1 Axes>"
            ],
            "image/png": "[encoded data removed]"
          },
          "metadata": {
            "needs_background": "light"
          }
        }
      ],
      "source": [
        "sns.boxplot(x=df['Month'],y=df['SO2'],hue=SO2,width=1.5,palette=\"Set1\",whiskerprops={'linewidth': 2})\n",
        "\n",
        "sns.despine(left=True)\n",
        "plt.xlabel('')\n",
        "plt.ylabel('')\n",
        "plt.title('Variation in SO2 with Month',fontsize=20,fontweight='bold')"
      ]
    },
    {
      "cell_type": "markdown",
      "metadata": {
        "id": "3WCTneycHZpm"
      },
      "source": [
        "* From the plot, we can see that the majority of the SO2 levels measured fall within a narrow range, with a median value of around 22.\n",
        "\n",
        "* There were some spikes in concentration in December,January and Februrary which might be due to Agricultural burning or Increase in Vehicular traffic.\n",
        "\n",
        "* However, there are a few outliers, particularly on the lower end of the scale, which suggests that there were some dates with particularly low levels of SO2."
      ]
    },
    {
      "cell_type": "markdown",
      "source": [
        "**Density plot of different pollutants**"
      ],
      "metadata": {
        "id": "9APzLk_NZSA-"
      }
    },
    {
      "cell_type": "code",
      "execution_count": null,
      "metadata": {
        "id": "maC-KzRCFraS"
      },
      "outputs": [],
      "source": [
        "num = df.select_dtypes(include=np.number).columns\n",
        "num=num.drop('AQI')"
      ]
    },
    {
      "cell_type": "code",
      "execution_count": null,
      "metadata": {
        "colab": {
          "base_uri": "https://localhost:8080/",
          "height": 523
        },
        "id": "TAdeD4tuFtku",
        "outputId": "c5979d93-2b7d-431e-a3bc-96291bb45042"
      },
      "outputs": [
        {
          "output_type": "display_data",
          "data": {
            "text/plain": [
              "<Figure size 864x720 with 9 Axes>"
            ],
            "image/png": "[encoded data removed]"
          },
          "metadata": {
            "needs_background": "light"
          }
        }
      ],
      "source": [
        "df[num].plot(kind='density', subplots=True, layout=(3, 3), figsize=(12, 10))\n",
        "plt.grid(True)\n",
        "sns.despine(left=True)\n",
        "plt.show()"
      ]
    },
    {
      "cell_type": "markdown",
      "metadata": {
        "id": "gO32uTO7Fjh9"
      },
      "source": [
        "* Based on the density plot of the features, it can be concluded that the data follows a Gaussian (normal) distribution.\n",
        "\n",
        "* It describes how often different values occur in a set of data, with most values being close to the average and fewer values being further away from it.\n",
        "\n",
        "* When the data follows a Gaussian distribution,Standardization is used because it does not significantly change the shape of the distribution. Instead, it only changes the scale and location of the data. \n",
        "\n",
        "* Many ML algorithms assume that the data is standardized, so applying this technique can help to improve the performance of these algorithms."
      ]
    },
    {
      "cell_type": "markdown",
      "metadata": {
        "id": "sMo5zHK4GINu"
      },
      "source": [
        "**Feature Engineering**"
      ]
    },
    {
      "cell_type": "code",
      "execution_count": null,
      "metadata": {
        "id": "1hI-32yzmIvJ"
      },
      "outputs": [],
      "source": [
        "x=df[['NOx', 'O3', 'PM10', 'CO', 'NH3', 'SO2', 'PM2.5']].values\n",
        "y=df['AQI'].values"
      ]
    },
    {
      "cell_type": "code",
      "execution_count": null,
      "metadata": {
        "colab": {
          "base_uri": "https://localhost:8080/"
        },
        "id": "qiCyyP4qUEmo",
        "outputId": "9f8124fe-deb9-4a20-c6c1-0b8f106eea27"
      },
      "outputs": [
        {
          "output_type": "execute_result",
          "data": {
            "text/plain": [
              "array([[2.8200e+01, 1.5330e+01, 4.7040e+01, ..., 5.4500e+00, 1.8170e+01,\n",
              "        3.6510e+01],\n",
              "       [2.8400e+01, 1.2200e+01, 5.6640e+01, ..., 5.5100e+00, 1.8910e+01,\n",
              "        4.4610e+01],\n",
              "       [2.7100e+01, 1.2280e+01, 5.9560e+01, ..., 5.1800e+00, 1.8740e+01,\n",
              "        4.7040e+01],\n",
              "       ...,\n",
              "       [2.0250e+01, 1.4900e+00, 1.0450e+02, ..., 0.0000e+00, 2.4460e+01,\n",
              "        7.8600e+01],\n",
              "       [4.9870e+01, 1.5100e+00, 9.5830e+01, ..., 5.0000e-02, 2.2880e+01,\n",
              "        5.7300e+01],\n",
              "       [6.5190e+01, 1.5300e+00, 1.0881e+02, ..., 4.0300e+00, 1.7520e+01,\n",
              "        7.0310e+01]])"
            ]
          },
          "metadata": {},
          "execution_count": 178
        }
      ],
      "source": [
        "x"
      ]
    },
    {
      "cell_type": "code",
      "execution_count": null,
      "metadata": {
        "colab": {
          "base_uri": "https://localhost:8080/"
        },
        "id": "GsxpT5qgGQgL",
        "outputId": "6a33af22-b84a-4417-ae1f-be895c543b8e"
      },
      "outputs": [
        {
          "output_type": "execute_result",
          "data": {
            "text/plain": [
              "array([ 72.,  74.,  78.,  92., 195., 117., 157., 104.,  77.,  83.,  76.,\n",
              "        51.,  85., 107.,  67.,  84.,  81.,  81.,  69., 125., 156., 131.,\n",
              "        78.,  57., 101.,  79.,  70.,  79., 106.,  92., 129., 117., 118.,\n",
              "       136., 159.,  64.,  70.,  98.,  77., 125., 200., 119.,  67.,  53.,\n",
              "       109.,  94.,  79.,  58.,  62.,  90., 146.,  96.,  60.,  52.,  58.,\n",
              "       149.,  95., 120.,  65., 112.,  82., 129.,  81., 138., 156.,  92.,\n",
              "        53., 136.,  93.,  89.,  93., 160.,  47.,  69.,  48.,  84., 124.,\n",
              "        60.,  57., 102.,  77.,  56.,  98.,  59.,  67.,  70.,  59.,  43.,\n",
              "        46.,  64., 100.,  71.,  79.,  70.,  62.,  63., 129.,  84.,  47.,\n",
              "       119., 106.,  71.,  64.,  47., 170.,  71.,  70.,  73., 144., 142.,\n",
              "       131.,  65.,  73.,  92., 143.,  72.,  69.,  69.,  77.,  74.,  65.,\n",
              "        76., 118., 115., 149., 136., 108., 136., 144., 108., 110.,  82.,\n",
              "        78.,  50., 150.,  69.,  83., 100.,  66.,  64.,  57.,  53.,  62.,\n",
              "        67., 140.,  66., 191.,  58.,  59., 106.,  72., 102., 130.,  70.,\n",
              "        70.,  68., 133.,  67.,  71., 101.,  61.,  64.,  60.,  55., 101.,\n",
              "        82.,  79.,  61.,  62.,  81.,  76.,  68.,  68.,  81.,  68.,  71.,\n",
              "        74.,  77.,  88.,  47.,  55.,  45.,  45.,  52., 106.,  80.,  65.,\n",
              "        97.,  94.,  92., 150.,  95.,  93., 177., 101.,  81., 145., 131.,\n",
              "        73.,  97.,  65., 102., 138.,  93.,  75.,  71., 142., 155.,  55.,\n",
              "        62., 139.,  52.,  48.,  41.,  38.,  44.,  76.,  60.,  65.,  61.,\n",
              "        46.,  45.,  40.,  44.,  47.,  44.,  44.,  57.,  54.,  53.,  50.,\n",
              "        45.,  42.,  48.,  47.,  44.,  54.,  48.,  49.,  47.,  49.,  52.,\n",
              "        44.,  45.,  49.,  44.,  48.,  53.,  48.,  59.,  52.,  56.,  53.,\n",
              "        53.,  51.,  53.,  50.,  49.,  45.,  42.,  42.,  52.,  39.,  46.,\n",
              "        48.,  39.,  49.,  69.,  48.,  45.,  69.,  61.,  53.,  47.,  54.,\n",
              "        51.,  52.,  45.,  47.,  46.,  46.,  47.,  40.,  39.,  45.,  48.,\n",
              "        57.,  49.,  49.,  49.,  58.,  60.,  55.,  57.,  55.,  58.,  56.,\n",
              "        49.,  45.,  50.,  54.,  54.,  48.,  44.,  50.,  51.,  52.,  51.,\n",
              "        50.,  53.,  53.,  52.,  59.,  48.,  50.,  49.,  51.,  46.,  48.,\n",
              "        50.,  37.,  43.,  59.,  52.,  49.,  50.,  51.,  53.,  50.,  46.,\n",
              "        48.,  50., 301., 143., 108., 126.,  98., 131.,  73.,  87., 157.,\n",
              "       135., 158., 138., 128., 128., 171., 169., 214.,  88.,  82., 102.,\n",
              "        87.,  99.,  85., 101.,  90.,  99., 155., 144., 119., 139., 122.,\n",
              "       184., 197., 154., 168., 172., 198., 198., 147., 154., 150., 120.,\n",
              "       101., 150., 170., 146., 155.,  80., 106., 212., 220., 203., 177.,\n",
              "       115., 102.,  87.,  97.,  97.,  91.,  79.,  98., 108., 108., 114.,\n",
              "       105., 113., 109., 118., 115., 121., 114., 101., 119., 103., 128.,\n",
              "       105., 106., 126., 108., 103.,  96., 106.])"
            ]
          },
          "metadata": {},
          "execution_count": 179
        }
      ],
      "source": [
        "y"
      ]
    },
    {
      "cell_type": "code",
      "execution_count": null,
      "metadata": {
        "colab": {
          "base_uri": "https://localhost:8080/"
        },
        "id": "eq-iAq5hqg8J",
        "outputId": "65a2d204-39fc-4ad1-e385-d943672de493"
      },
      "outputs": [
        {
          "output_type": "execute_result",
          "data": {
            "text/plain": [
              "array([155.,  82., 120., 118., 198.,  47.,  39.,  57.,  70.,  93.,  77.,\n",
              "        82.,  98., 149., 108., 170.,  95.,  60., 154.,  67.,  69.,  83.,\n",
              "       101., 100.,  37., 114.,  45., 100.,  62.,  81., 129.,  53., 170.,\n",
              "       102., 136.,  58.,  57., 126.,  40., 139.,  84.,  52.,  72.,  46.,\n",
              "        53., 149.,  61., 106.,  51., 119.,  44., 101., 197.,  54.,  71.,\n",
              "        69.,  67.,  82.,  60., 125., 121.,  79.,  68.,  55., 169.,  49.,\n",
              "        78.,  79.,  57., 130.,  98., 124., 120., 131., 101.,  81.,  49.,\n",
              "       103., 117.,  39.,  67.,  93.,  55.,  93.,  47., 117.,  94.,  44.,\n",
              "       171.,  81., 220., 115.,  56.,  92.,  69.,  52.,  82.,  91., 106.,\n",
              "       138.,  52.,  49.,  92.,  48.])"
            ]
          },
          "metadata": {},
          "execution_count": 180
        }
      ],
      "source": [
        "from sklearn.model_selection import train_test_split\n",
        "x_train,x_test,y_train,y_test=train_test_split(x,y,test_size=0.25,random_state=42)\n",
        "x_train\n",
        "x_test\n",
        "y_train\n",
        "y_test"
      ]
    },
    {
      "cell_type": "code",
      "execution_count": null,
      "metadata": {
        "id": "VXrh_D68oPYF"
      },
      "outputs": [],
      "source": [
        "from sklearn.preprocessing import StandardScaler\n",
        "scaler=StandardScaler()\n",
        "scaler.fit(x_train)\n",
        "x_train=scaler.fit_transform(x_train)\n",
        "x_test=scaler.fit_transform(x_test)"
      ]
    },
    {
      "cell_type": "markdown",
      "source": [
        "**Model creation**"
      ],
      "metadata": {
        "id": "RYks6TQVZ-97"
      }
    },
    {
      "cell_type": "code",
      "execution_count": null,
      "metadata": {
        "id": "mw47nnCgzSm9"
      },
      "outputs": [],
      "source": [
        "from sklearn.linear_model import LinearRegression\n",
        "from sklearn.tree import DecisionTreeRegressor\n",
        "from sklearn.ensemble import RandomForestRegressor\n",
        "\n",
        "model=LinearRegression()\n",
        "tree=DecisionTreeRegressor(max_depth=5,min_samples_split=5)\n",
        "forest=RandomForestRegressor(n_estimators=50, max_depth=5,min_samples_split=5)\n",
        "\n",
        "model_lst=[model,tree,forest]"
      ]
    },
    {
      "cell_type": "code",
      "execution_count": null,
      "metadata": {
        "colab": {
          "base_uri": "https://localhost:8080/"
        },
        "id": "WkW--X6m0MQv",
        "outputId": "0a0740a4-fc23-45d5-a44c-a6db4d7f79f7"
      },
      "outputs": [
        {
          "output_type": "stream",
          "name": "stdout",
          "text": [
            "LinearRegression()\n",
            "****************************************************************************************************\n",
            "error is 11.697249019045252\n",
            "percentage error is 0.12224368923343368\n",
            "r2 score is 0.7988473253233902\n",
            "     Original Value  Predcited Value\n",
            "0             155.0           135.49\n",
            "1              82.0            76.38\n",
            "2             120.0           109.08\n",
            "3             118.0           138.16\n",
            "4             198.0           149.18\n",
            "..              ...              ...\n",
            "99            138.0           129.47\n",
            "100            52.0            41.71\n",
            "101            49.0            41.66\n",
            "102            92.0           101.22\n",
            "103            48.0            41.36\n",
            "\n",
            "[104 rows x 2 columns]\n",
            "****************************************************************************************************\n",
            "DecisionTreeRegressor(max_depth=5, min_samples_split=5)\n",
            "****************************************************************************************************\n",
            "error is 12.027232002325208\n",
            "percentage error is 0.12257412417113779\n",
            "r2 score is 0.8082600329008528\n",
            "     Original Value  Predcited Value\n",
            "0             155.0           162.77\n",
            "1              82.0           117.00\n",
            "2             120.0            94.75\n",
            "3             118.0           115.29\n",
            "4             198.0           162.77\n",
            "..              ...              ...\n",
            "99            138.0           115.29\n",
            "100            52.0            47.39\n",
            "101            49.0            47.39\n",
            "102            92.0           115.29\n",
            "103            48.0            47.39\n",
            "\n",
            "[104 rows x 2 columns]\n",
            "****************************************************************************************************\n",
            "RandomForestRegressor(max_depth=5, min_samples_split=5, n_estimators=50)\n",
            "****************************************************************************************************\n",
            "error is 8.637595449929762\n",
            "percentage error is 0.09211748884394837\n",
            "r2 score is 0.9093946517684265\n",
            "     Original Value  Predcited Value\n",
            "0             155.0           137.29\n",
            "1              82.0            93.02\n",
            "2             120.0            95.04\n",
            "3             118.0           123.42\n",
            "4             198.0           164.60\n",
            "..              ...              ...\n",
            "99            138.0           130.68\n",
            "100            52.0            47.77\n",
            "101            49.0            47.77\n",
            "102            92.0           104.12\n",
            "103            48.0            47.77\n",
            "\n",
            "[104 rows x 2 columns]\n",
            "****************************************************************************************************\n"
          ]
        }
      ],
      "source": [
        "from sklearn.metrics import mean_absolute_error,mean_absolute_percentage_error,r2_score\n",
        "for i in model_lst:\n",
        "  print(i)\n",
        "  i.fit(x_train,y_train)\n",
        "  y_pred=i.predict(x_test)\n",
        "  print(\"*\"*100)\n",
        "  print(\"error is\",mean_absolute_error(y_test,y_pred))\n",
        "  print(\"percentage error is\",mean_absolute_percentage_error(y_test,y_pred))\n",
        "  print(\"r2 score is\",r2_score(y_test,y_pred))\n",
        "  print(pd.DataFrame({'Original Value':y_test,'Predcited Value':y_pred}).round(2))\n",
        "  print(\"*\"*100)"
      ]
    },
    {
      "cell_type": "markdown",
      "metadata": {
        "id": "fAdDtnSFrakN"
      },
      "source": [
        "**Hyper Parameter Tuning for Random Forest Regressor**"
      ]
    },
    {
      "cell_type": "code",
      "execution_count": null,
      "metadata": {
        "id": "JggTyw_dq2bP"
      },
      "outputs": [],
      "source": [
        "from sklearn.model_selection import GridSearchCV\n",
        "           \n",
        "param_grid = {\n",
        "    'n_estimators': [100, 200, 300, 400], \n",
        "    'max_depth': [5, 10, 15, 20], \n",
        "    'min_samples_split': [2, 5, 10], \n",
        "    'min_samples_leaf': [1, 2, 4]}\n",
        "grid_search = GridSearchCV(forest, param_grid, cv=5)\n",
        "grid_search.fit(x_train, y_train)\n",
        "rf_pred=grid_search.predict(x_test)"
      ]
    },
    {
      "cell_type": "code",
      "source": [
        "print(\"error is\",mean_absolute_error(y_test,rf_pred))\n",
        "print(\"percentage error is\",mean_absolute_percentage_error(y_test,rf_pred))\n",
        "print(\"r2 score is\",r2_score(y_test,rf_pred))\n",
        "print('*'*50)\n",
        "print(pd.DataFrame({'Original Value':y_test,'Predcited Value':rf_pred}).round(2))"
      ],
      "metadata": {
        "colab": {
          "base_uri": "https://localhost:8080/"
        },
        "id": "zFtdSqQDaoPT",
        "outputId": "0648cd0a-e06f-4066-c07f-f448ac6153d6"
      },
      "execution_count": null,
      "outputs": [
        {
          "output_type": "stream",
          "name": "stdout",
          "text": [
            "error is 8.060007543788124\n",
            "percentage error is 0.0878907608172937\n",
            "r2 score is 0.9213807627376851\n",
            "**************************************************\n",
            "     Original Value  Predcited Value\n",
            "0             155.0           144.75\n",
            "1              82.0            95.24\n",
            "2             120.0            97.67\n",
            "3             118.0           123.94\n",
            "4             198.0           169.98\n",
            "..              ...              ...\n",
            "99            138.0           127.26\n",
            "100            52.0            44.08\n",
            "101            49.0            42.81\n",
            "102            92.0           102.92\n",
            "103            48.0            42.91\n",
            "\n",
            "[104 rows x 2 columns]\n"
          ]
        }
      ]
    },
    {
      "cell_type": "markdown",
      "metadata": {
        "id": "7Vf9OJBaWxIK"
      },
      "source": [
        "> Model has improved after HPT"
      ]
    },
    {
      "cell_type": "markdown",
      "metadata": {
        "id": "XHLfunv8Xd5F"
      },
      "source": [
        "**Predicting aqi of March 1-13 using 'NOx', 'O3', 'PM10', 'CO', 'NH3', 'SO2', 'PM2.5' of those days**"
      ]
    },
    {
      "cell_type": "code",
      "execution_count": null,
      "metadata": {
        "colab": {
          "base_uri": "https://localhost:8080/",
          "height": 457
        },
        "id": "aSMjHntuHkdk",
        "outputId": "86400d90-3869-4382-f9c7-5840722cbfd0"
      },
      "outputs": [
        {
          "output_type": "execute_result",
          "data": {
            "text/plain": [
              "         Date    NOx    O3    PM10    CO    NH3    SO2   PM2.5  AQI\n",
              "0  2023-03-01  34.51  1.48  100.48  1.16   8.91  18.35   66.28  121\n",
              "1  2023-03-02  23.13  1.48   94.24  1.14  10.36  19.49   69.20  131\n",
              "2  2023-03-03  36.17  1.51  109.62  1.17   8.29  24.95   63.74  112\n",
              "3  2023-03-04  41.02  1.50  147.64  1.28   7.67  26.59  104.64  249\n",
              "4  2023-03-05  48.15  1.49  141.74  1.29   7.27  27.63   96.33  221\n",
              "5  2023-03-06  44.35  1.49  134.87  1.20   7.89  27.59   89.67  199\n",
              "6  2023-03-07  44.14  1.51  173.10  1.31   8.51  25.58  113.58  279\n",
              "7  2023-03-08  46.64  1.54  126.00  1.23  11.82  29.09   84.22  181\n",
              "8  2023-03-09  58.08  1.77  127.98  1.28  12.34  32.15   85.82  186\n",
              "9  2023-03-10  49.11  1.29  121.01  1.31  28.46  40.80   81.13  170\n",
              "10 2023-03-11  38.47  1.71  125.40  1.35  46.56  33.48   90.88  203\n",
              "11 2023-03-12  35.85  1.89  121.74  1.30  65.12  39.17   89.94  200\n",
              "12 2023-03-13  40.16  0.86  104.91  1.33  55.06  39.72   64.56  115"
            ],
            "text/html": [
              "\n",
              "  <div id=\"df-543918c6-8591-4200-9f45-2e6169450c31\">\n",
              "    <div class=\"colab-df-container\">\n",
              "      <div>\n",
              "<style scoped>\n",
              "    .dataframe tbody tr th:only-of-type {\n",
              "        vertical-align: middle;\n",
              "    }\n",
              "\n",
              "    .dataframe tbody tr th {\n",
              "        vertical-align: top;\n",
              "    }\n",
              "\n",
              "    .dataframe thead th {\n",
              "        text-align: right;\n",
              "    }\n",
              "</style>\n",
              "<table border=\"1\" class=\"dataframe\">\n",
              "  <thead>\n",
              "    <tr style=\"text-align: right;\">\n",
              "      <th></th>\n",
              "      <th>Date</th>\n",
              "      <th>NOx</th>\n",
              "      <th>O3</th>\n",
              "      <th>PM10</th>\n",
              "      <th>CO</th>\n",
              "      <th>NH3</th>\n",
              "      <th>SO2</th>\n",
              "      <th>PM2.5</th>\n",
              "      <th>AQI</th>\n",
              "    </tr>\n",
              "  </thead>\n",
              "  <tbody>\n",
              "    <tr>\n",
              "      <th>0</th>\n",
              "      <td>2023-03-01</td>\n",
              "      <td>34.51</td>\n",
              "      <td>1.48</td>\n",
              "      <td>100.48</td>\n",
              "      <td>1.16</td>\n",
              "      <td>8.91</td>\n",
              "      <td>18.35</td>\n",
              "      <td>66.28</td>\n",
              "      <td>121</td>\n",
              "    </tr>\n",
              "    <tr>\n",
              "      <th>1</th>\n",
              "      <td>2023-03-02</td>\n",
              "      <td>23.13</td>\n",
              "      <td>1.48</td>\n",
              "      <td>94.24</td>\n",
              "      <td>1.14</td>\n",
              "      <td>10.36</td>\n",
              "      <td>19.49</td>\n",
              "      <td>69.20</td>\n",
              "      <td>131</td>\n",
              "    </tr>\n",
              "    <tr>\n",
              "      <th>2</th>\n",
              "      <td>2023-03-03</td>\n",
              "      <td>36.17</td>\n",
              "      <td>1.51</td>\n",
              "      <td>109.62</td>\n",
              "      <td>1.17</td>\n",
              "      <td>8.29</td>\n",
              "      <td>24.95</td>\n",
              "      <td>63.74</td>\n",
              "      <td>112</td>\n",
              "    </tr>\n",
              "    <tr>\n",
              "      <th>3</th>\n",
              "      <td>2023-03-04</td>\n",
              "      <td>41.02</td>\n",
              "      <td>1.50</td>\n",
              "      <td>147.64</td>\n",
              "      <td>1.28</td>\n",
              "      <td>7.67</td>\n",
              "      <td>26.59</td>\n",
              "      <td>104.64</td>\n",
              "      <td>249</td>\n",
              "    </tr>\n",
              "    <tr>\n",
              "      <th>4</th>\n",
              "      <td>2023-03-05</td>\n",
              "      <td>48.15</td>\n",
              "      <td>1.49</td>\n",
              "      <td>141.74</td>\n",
              "      <td>1.29</td>\n",
              "      <td>7.27</td>\n",
              "      <td>27.63</td>\n",
              "      <td>96.33</td>\n",
              "      <td>221</td>\n",
              "    </tr>\n",
              "    <tr>\n",
              "      <th>5</th>\n",
              "      <td>2023-03-06</td>\n",
              "      <td>44.35</td>\n",
              "      <td>1.49</td>\n",
              "      <td>134.87</td>\n",
              "      <td>1.20</td>\n",
              "      <td>7.89</td>\n",
              "      <td>27.59</td>\n",
              "      <td>89.67</td>\n",
              "      <td>199</td>\n",
              "    </tr>\n",
              "    <tr>\n",
              "      <th>6</th>\n",
              "      <td>2023-03-07</td>\n",
              "      <td>44.14</td>\n",
              "      <td>1.51</td>\n",
              "      <td>173.10</td>\n",
              "      <td>1.31</td>\n",
              "      <td>8.51</td>\n",
              "      <td>25.58</td>\n",
              "      <td>113.58</td>\n",
              "      <td>279</td>\n",
              "    </tr>\n",
              "    <tr>\n",
              "      <th>7</th>\n",
              "      <td>2023-03-08</td>\n",
              "      <td>46.64</td>\n",
              "      <td>1.54</td>\n",
              "      <td>126.00</td>\n",
              "      <td>1.23</td>\n",
              "      <td>11.82</td>\n",
              "      <td>29.09</td>\n",
              "      <td>84.22</td>\n",
              "      <td>181</td>\n",
              "    </tr>\n",
              "    <tr>\n",
              "      <th>8</th>\n",
              "      <td>2023-03-09</td>\n",
              "      <td>58.08</td>\n",
              "      <td>1.77</td>\n",
              "      <td>127.98</td>\n",
              "      <td>1.28</td>\n",
              "      <td>12.34</td>\n",
              "      <td>32.15</td>\n",
              "      <td>85.82</td>\n",
              "      <td>186</td>\n",
              "    </tr>\n",
              "    <tr>\n",
              "      <th>9</th>\n",
              "      <td>2023-03-10</td>\n",
              "      <td>49.11</td>\n",
              "      <td>1.29</td>\n",
              "      <td>121.01</td>\n",
              "      <td>1.31</td>\n",
              "      <td>28.46</td>\n",
              "      <td>40.80</td>\n",
              "      <td>81.13</td>\n",
              "      <td>170</td>\n",
              "    </tr>\n",
              "    <tr>\n",
              "      <th>10</th>\n",
              "      <td>2023-03-11</td>\n",
              "      <td>38.47</td>\n",
              "      <td>1.71</td>\n",
              "      <td>125.40</td>\n",
              "      <td>1.35</td>\n",
              "      <td>46.56</td>\n",
              "      <td>33.48</td>\n",
              "      <td>90.88</td>\n",
              "      <td>203</td>\n",
              "    </tr>\n",
              "    <tr>\n",
              "      <th>11</th>\n",
              "      <td>2023-03-12</td>\n",
              "      <td>35.85</td>\n",
              "      <td>1.89</td>\n",
              "      <td>121.74</td>\n",
              "      <td>1.30</td>\n",
              "      <td>65.12</td>\n",
              "      <td>39.17</td>\n",
              "      <td>89.94</td>\n",
              "      <td>200</td>\n",
              "    </tr>\n",
              "    <tr>\n",
              "      <th>12</th>\n",
              "      <td>2023-03-13</td>\n",
              "      <td>40.16</td>\n",
              "      <td>0.86</td>\n",
              "      <td>104.91</td>\n",
              "      <td>1.33</td>\n",
              "      <td>55.06</td>\n",
              "      <td>39.72</td>\n",
              "      <td>64.56</td>\n",
              "      <td>115</td>\n",
              "    </tr>\n",
              "  </tbody>\n",
              "</table>\n",
              "</div>\n",
              "      <button class=\"colab-df-convert\" onclick=\"convertToInteractive('df-543918c6-8591-4200-9f45-2e6169450c31')\"\n",
              "              title=\"Convert this dataframe to an interactive table.\"\n",
              "              style=\"display:none;\">\n",
              "        \n",
              "  <svg xmlns=\"http://www.w3.org/2000/svg\" height=\"24px\"viewBox=\"0 0 24 24\"\n",
              "       width=\"24px\">\n",
              "    <path d=\"M0 0h24v24H0V0z\" fill=\"none\"/>\n",
              "    <path d=\"M18.56 5.44l.94 2.06.94-2.06 2.06-.94-2.06-.94-.94-2.06-.94 2.06-2.06.94zm-11 1L8.5 8.5l.94-2.06 2.06-.94-2.06-.94L8.5 2.5l-.94 2.06-2.06.94zm10 10l.94 2.06.94-2.06 2.06-.94-2.06-.94-.94-2.06-.94 2.06-2.06.94z\"/><path d=\"M17.41 7.96l-1.37-1.37c-.4-.4-.92-.59-1.43-.59-.52 0-1.04.2-1.43.59L10.3 9.45l-7.72 7.72c-.78.78-.78 2.05 0 2.83L4 21.41c.39.39.9.59 1.41.59.51 0 1.02-.2 1.41-.59l7.78-7.78 2.81-2.81c.8-.78.8-2.07 0-2.86zM5.41 20L4 18.59l7.72-7.72 1.47 1.35L5.41 20z\"/>\n",
              "  </svg>\n",
              "      </button>\n",
              "      \n",
              "  <style>\n",
              "    .colab-df-container {\n",
              "      display:flex;\n",
              "      flex-wrap:wrap;\n",
              "      gap: 12px;\n",
              "    }\n",
              "\n",
              "    .colab-df-convert {\n",
              "      background-color: #E8F0FE;\n",
              "      border: none;\n",
              "      border-radius: 50%;\n",
              "      cursor: pointer;\n",
              "      display: none;\n",
              "      fill: #1967D2;\n",
              "      height: 32px;\n",
              "      padding: 0 0 0 0;\n",
              "      width: 32px;\n",
              "    }\n",
              "\n",
              "    .colab-df-convert:hover {\n",
              "      background-color: #E2EBFA;\n",
              "      box-shadow: 0px 1px 2px rgba(60, 64, 67, 0.3), 0px 1px 3px 1px rgba(60, 64, 67, 0.15);\n",
              "      fill: #174EA6;\n",
              "    }\n",
              "\n",
              "    [theme=dark] .colab-df-convert {\n",
              "      background-color: #3B4455;\n",
              "      fill: #D2E3FC;\n",
              "    }\n",
              "\n",
              "    [theme=dark] .colab-df-convert:hover {\n",
              "      background-color: #434B5C;\n",
              "      box-shadow: 0px 1px 3px 1px rgba(0, 0, 0, 0.15);\n",
              "      filter: drop-shadow(0px 1px 2px rgba(0, 0, 0, 0.3));\n",
              "      fill: #FFFFFF;\n",
              "    }\n",
              "  </style>\n",
              "\n",
              "      <script>\n",
              "        const buttonEl =\n",
              "          document.querySelector('#df-543918c6-8591-4200-9f45-2e6169450c31 button.colab-df-convert');\n",
              "        buttonEl.style.display =\n",
              "          google.colab.kernel.accessAllowed ? 'block' : 'none';\n",
              "\n",
              "        async function convertToInteractive(key) {\n",
              "          const element = document.querySelector('#df-543918c6-8591-4200-9f45-2e6169450c31');\n",
              "          const dataTable =\n",
              "            await google.colab.kernel.invokeFunction('convertToInteractive',\n",
              "                                                     [key], {});\n",
              "          if (!dataTable) return;\n",
              "\n",
              "          const docLinkHtml = 'Like what you see? Visit the ' +\n",
              "            '<a target=\"_blank\" href=https://colab.research.google.com/notebooks/data_table.ipynb>data table notebook</a>'\n",
              "            + ' to learn more about interactive tables.';\n",
              "          element.innerHTML = '';\n",
              "          dataTable['output_type'] = 'display_data';\n",
              "          await google.colab.output.renderOutput(dataTable, element);\n",
              "          const docLink = document.createElement('div');\n",
              "          docLink.innerHTML = docLinkHtml;\n",
              "          element.appendChild(docLink);\n",
              "        }\n",
              "      </script>\n",
              "    </div>\n",
              "  </div>\n",
              "  "
            ]
          },
          "metadata": {},
          "execution_count": 186
        }
      ],
      "source": [
        "march_data=pd.read_excel(\"/content/Vyttila AQI March 2023 - Test Dataset.xlsx\")\n",
        "march_data"
      ]
    },
    {
      "cell_type": "code",
      "execution_count": null,
      "metadata": {
        "colab": {
          "base_uri": "https://localhost:8080/"
        },
        "id": "jm8SsVPKb8Yg",
        "outputId": "9d86ed43-01b8-4bb5-a474-557b1e9e9020"
      },
      "outputs": [
        {
          "output_type": "execute_result",
          "data": {
            "text/plain": [
              "array([[ 34.51,   1.48, 100.48,   1.16,   8.91,  18.35,  66.28],\n",
              "       [ 23.13,   1.48,  94.24,   1.14,  10.36,  19.49,  69.2 ],\n",
              "       [ 36.17,   1.51, 109.62,   1.17,   8.29,  24.95,  63.74],\n",
              "       [ 41.02,   1.5 , 147.64,   1.28,   7.67,  26.59, 104.64],\n",
              "       [ 48.15,   1.49, 141.74,   1.29,   7.27,  27.63,  96.33],\n",
              "       [ 44.35,   1.49, 134.87,   1.2 ,   7.89,  27.59,  89.67],\n",
              "       [ 44.14,   1.51, 173.1 ,   1.31,   8.51,  25.58, 113.58],\n",
              "       [ 46.64,   1.54, 126.  ,   1.23,  11.82,  29.09,  84.22],\n",
              "       [ 58.08,   1.77, 127.98,   1.28,  12.34,  32.15,  85.82],\n",
              "       [ 49.11,   1.29, 121.01,   1.31,  28.46,  40.8 ,  81.13],\n",
              "       [ 38.47,   1.71, 125.4 ,   1.35,  46.56,  33.48,  90.88],\n",
              "       [ 35.85,   1.89, 121.74,   1.3 ,  65.12,  39.17,  89.94],\n",
              "       [ 40.16,   0.86, 104.91,   1.33,  55.06,  39.72,  64.56]])"
            ]
          },
          "metadata": {},
          "execution_count": 187
        }
      ],
      "source": [
        "x1=march_data.iloc[:,1:-1].values\n",
        "x1"
      ]
    },
    {
      "cell_type": "code",
      "execution_count": null,
      "metadata": {
        "colab": {
          "base_uri": "https://localhost:8080/"
        },
        "id": "Ppn0o4IFcxeB",
        "outputId": "eaab3fcc-c905-404d-e327-591823ca8721"
      },
      "outputs": [
        {
          "output_type": "execute_result",
          "data": {
            "text/plain": [
              "array([121, 131, 112, 249, 221, 199, 279, 181, 186, 170, 203, 200, 115])"
            ]
          },
          "metadata": {},
          "execution_count": 188
        }
      ],
      "source": [
        "y1=march_data.iloc[:,-1].values\n",
        "y1"
      ]
    },
    {
      "cell_type": "code",
      "execution_count": null,
      "metadata": {
        "colab": {
          "base_uri": "https://localhost:8080/"
        },
        "id": "wRgotLEIdN1f",
        "outputId": "5562741f-b935-487f-abdf-16c6289e59e1"
      },
      "outputs": [
        {
          "output_type": "stream",
          "name": "stdout",
          "text": [
            "    Original Value  Predcited Value\n",
            "0              121           126.23\n",
            "1              131           127.95\n",
            "2              112           127.09\n",
            "3              249           244.00\n",
            "4              221           225.53\n",
            "5              199           207.57\n",
            "6              279           240.64\n",
            "7              181           186.26\n",
            "8              186           185.97\n",
            "9              170           177.57\n",
            "10             203           205.33\n",
            "11             200           201.30\n",
            "12             115           129.21\n"
          ]
        }
      ],
      "source": [
        "forest1=RandomForestRegressor(max_depth=10,min_samples_leaf=1,min_samples_split=2,n_estimators=400)\n",
        "scaler.fit_transform(x1)\n",
        "grid_search.fit(x1,y1)\n",
        "y_pred1=grid_search.predict(x1)\n",
        "print(pd.DataFrame({'Original Value':y1,'Predcited Value':y_pred1}).round(2))\n"
      ]
    },
    {
      "cell_type": "markdown",
      "metadata": {
        "id": "kVZZW6gUkNQN"
      },
      "source": [
        "**Analyzing air quality before and after Brahmapuram fire incident**"
      ]
    },
    {
      "cell_type": "code",
      "execution_count": null,
      "metadata": {
        "id": "ZvDGXmyldhtC",
        "colab": {
          "base_uri": "https://localhost:8080/",
          "height": 488
        },
        "outputId": "01d3568a-4fa2-40c9-a4c6-b0f4e41c29dc"
      },
      "outputs": [
        {
          "output_type": "execute_result",
          "data": {
            "text/plain": [
              "     Date         AQI\n",
              "0   01-22   95.258065\n",
              "1   01-23  149.870968\n",
              "2   02-22   97.714286\n",
              "3   02-23  106.321429\n",
              "4   03-22   85.290323\n",
              "5   04-22   88.724138\n",
              "6   05-22   94.838710\n",
              "7   06-22   76.933333\n",
              "8   07-22   95.838710\n",
              "9   08-22   49.400000\n",
              "10  09-22   49.068966\n",
              "11  10-22   51.423077\n",
              "12  11-22   50.103448\n",
              "13  12-22  111.866667"
            ],
            "text/html": [
              "\n",
              "  <div id=\"df-c6e02150-1404-461e-a972-0544f4ba83f5\">\n",
              "    <div class=\"colab-df-container\">\n",
              "      <div>\n",
              "<style scoped>\n",
              "    .dataframe tbody tr th:only-of-type {\n",
              "        vertical-align: middle;\n",
              "    }\n",
              "\n",
              "    .dataframe tbody tr th {\n",
              "        vertical-align: top;\n",
              "    }\n",
              "\n",
              "    .dataframe thead th {\n",
              "        text-align: right;\n",
              "    }\n",
              "</style>\n",
              "<table border=\"1\" class=\"dataframe\">\n",
              "  <thead>\n",
              "    <tr style=\"text-align: right;\">\n",
              "      <th></th>\n",
              "      <th>Date</th>\n",
              "      <th>AQI</th>\n",
              "    </tr>\n",
              "  </thead>\n",
              "  <tbody>\n",
              "    <tr>\n",
              "      <th>0</th>\n",
              "      <td>01-22</td>\n",
              "      <td>95.258065</td>\n",
              "    </tr>\n",
              "    <tr>\n",
              "      <th>1</th>\n",
              "      <td>01-23</td>\n",
              "      <td>149.870968</td>\n",
              "    </tr>\n",
              "    <tr>\n",
              "      <th>2</th>\n",
              "      <td>02-22</td>\n",
              "      <td>97.714286</td>\n",
              "    </tr>\n",
              "    <tr>\n",
              "      <th>3</th>\n",
              "      <td>02-23</td>\n",
              "      <td>106.321429</td>\n",
              "    </tr>\n",
              "    <tr>\n",
              "      <th>4</th>\n",
              "      <td>03-22</td>\n",
              "      <td>85.290323</td>\n",
              "    </tr>\n",
              "    <tr>\n",
              "      <th>5</th>\n",
              "      <td>04-22</td>\n",
              "      <td>88.724138</td>\n",
              "    </tr>\n",
              "    <tr>\n",
              "      <th>6</th>\n",
              "      <td>05-22</td>\n",
              "      <td>94.838710</td>\n",
              "    </tr>\n",
              "    <tr>\n",
              "      <th>7</th>\n",
              "      <td>06-22</td>\n",
              "      <td>76.933333</td>\n",
              "    </tr>\n",
              "    <tr>\n",
              "      <th>8</th>\n",
              "      <td>07-22</td>\n",
              "      <td>95.838710</td>\n",
              "    </tr>\n",
              "    <tr>\n",
              "      <th>9</th>\n",
              "      <td>08-22</td>\n",
              "      <td>49.400000</td>\n",
              "    </tr>\n",
              "    <tr>\n",
              "      <th>10</th>\n",
              "      <td>09-22</td>\n",
              "      <td>49.068966</td>\n",
              "    </tr>\n",
              "    <tr>\n",
              "      <th>11</th>\n",
              "      <td>10-22</td>\n",
              "      <td>51.423077</td>\n",
              "    </tr>\n",
              "    <tr>\n",
              "      <th>12</th>\n",
              "      <td>11-22</td>\n",
              "      <td>50.103448</td>\n",
              "    </tr>\n",
              "    <tr>\n",
              "      <th>13</th>\n",
              "      <td>12-22</td>\n",
              "      <td>111.866667</td>\n",
              "    </tr>\n",
              "  </tbody>\n",
              "</table>\n",
              "</div>\n",
              "      <button class=\"colab-df-convert\" onclick=\"convertToInteractive('df-c6e02150-1404-461e-a972-0544f4ba83f5')\"\n",
              "              title=\"Convert this dataframe to an interactive table.\"\n",
              "              style=\"display:none;\">\n",
              "        \n",
              "  <svg xmlns=\"http://www.w3.org/2000/svg\" height=\"24px\"viewBox=\"0 0 24 24\"\n",
              "       width=\"24px\">\n",
              "    <path d=\"M0 0h24v24H0V0z\" fill=\"none\"/>\n",
              "    <path d=\"M18.56 5.44l.94 2.06.94-2.06 2.06-.94-2.06-.94-.94-2.06-.94 2.06-2.06.94zm-11 1L8.5 8.5l.94-2.06 2.06-.94-2.06-.94L8.5 2.5l-.94 2.06-2.06.94zm10 10l.94 2.06.94-2.06 2.06-.94-2.06-.94-.94-2.06-.94 2.06-2.06.94z\"/><path d=\"M17.41 7.96l-1.37-1.37c-.4-.4-.92-.59-1.43-.59-.52 0-1.04.2-1.43.59L10.3 9.45l-7.72 7.72c-.78.78-.78 2.05 0 2.83L4 21.41c.39.39.9.59 1.41.59.51 0 1.02-.2 1.41-.59l7.78-7.78 2.81-2.81c.8-.78.8-2.07 0-2.86zM5.41 20L4 18.59l7.72-7.72 1.47 1.35L5.41 20z\"/>\n",
              "  </svg>\n",
              "      </button>\n",
              "      \n",
              "  <style>\n",
              "    .colab-df-container {\n",
              "      display:flex;\n",
              "      flex-wrap:wrap;\n",
              "      gap: 12px;\n",
              "    }\n",
              "\n",
              "    .colab-df-convert {\n",
              "      background-color: #E8F0FE;\n",
              "      border: none;\n",
              "      border-radius: 50%;\n",
              "      cursor: pointer;\n",
              "      display: none;\n",
              "      fill: #1967D2;\n",
              "      height: 32px;\n",
              "      padding: 0 0 0 0;\n",
              "      width: 32px;\n",
              "    }\n",
              "\n",
              "    .colab-df-convert:hover {\n",
              "      background-color: #E2EBFA;\n",
              "      box-shadow: 0px 1px 2px rgba(60, 64, 67, 0.3), 0px 1px 3px 1px rgba(60, 64, 67, 0.15);\n",
              "      fill: #174EA6;\n",
              "    }\n",
              "\n",
              "    [theme=dark] .colab-df-convert {\n",
              "      background-color: #3B4455;\n",
              "      fill: #D2E3FC;\n",
              "    }\n",
              "\n",
              "    [theme=dark] .colab-df-convert:hover {\n",
              "      background-color: #434B5C;\n",
              "      box-shadow: 0px 1px 3px 1px rgba(0, 0, 0, 0.15);\n",
              "      filter: drop-shadow(0px 1px 2px rgba(0, 0, 0, 0.3));\n",
              "      fill: #FFFFFF;\n",
              "    }\n",
              "  </style>\n",
              "\n",
              "      <script>\n",
              "        const buttonEl =\n",
              "          document.querySelector('#df-c6e02150-1404-461e-a972-0544f4ba83f5 button.colab-df-convert');\n",
              "        buttonEl.style.display =\n",
              "          google.colab.kernel.accessAllowed ? 'block' : 'none';\n",
              "\n",
              "        async function convertToInteractive(key) {\n",
              "          const element = document.querySelector('#df-c6e02150-1404-461e-a972-0544f4ba83f5');\n",
              "          const dataTable =\n",
              "            await google.colab.kernel.invokeFunction('convertToInteractive',\n",
              "                                                     [key], {});\n",
              "          if (!dataTable) return;\n",
              "\n",
              "          const docLinkHtml = 'Like what you see? Visit the ' +\n",
              "            '<a target=\"_blank\" href=https://colab.research.google.com/notebooks/data_table.ipynb>data table notebook</a>'\n",
              "            + ' to learn more about interactive tables.';\n",
              "          element.innerHTML = '';\n",
              "          dataTable['output_type'] = 'display_data';\n",
              "          await google.colab.output.renderOutput(dataTable, element);\n",
              "          const docLink = document.createElement('div');\n",
              "          docLink.innerHTML = docLinkHtml;\n",
              "          element.appendChild(docLink);\n",
              "        }\n",
              "      </script>\n",
              "    </div>\n",
              "  </div>\n",
              "  "
            ]
          },
          "metadata": {},
          "execution_count": 190
        }
      ],
      "source": [
        "avg_AQI=df.groupby('Month')['AQI'].mean().reset_index()\n",
        "avg_AQI.columns=['Date','AQI']\n",
        "avg_AQI"
      ]
    },
    {
      "cell_type": "code",
      "execution_count": null,
      "metadata": {
        "id": "9dEX2FV9gXvC",
        "colab": {
          "base_uri": "https://localhost:8080/",
          "height": 457
        },
        "outputId": "0355d673-f40a-467b-99b0-0f32f90803f8"
      },
      "outputs": [
        {
          "output_type": "execute_result",
          "data": {
            "text/plain": [
              "         Date  AQI\n",
              "0  2023-03-01  121\n",
              "1  2023-03-02  131\n",
              "2  2023-03-03  112\n",
              "3  2023-03-04  249\n",
              "4  2023-03-05  221\n",
              "5  2023-03-06  199\n",
              "6  2023-03-07  279\n",
              "7  2023-03-08  181\n",
              "8  2023-03-09  186\n",
              "9  2023-03-10  170\n",
              "10 2023-03-11  203\n",
              "11 2023-03-12  200\n",
              "12 2023-03-13  115"
            ],
            "text/html": [
              "\n",
              "  <div id=\"df-7fdb4a68-d059-454b-835a-647877088d5c\">\n",
              "    <div class=\"colab-df-container\">\n",
              "      <div>\n",
              "<style scoped>\n",
              "    .dataframe tbody tr th:only-of-type {\n",
              "        vertical-align: middle;\n",
              "    }\n",
              "\n",
              "    .dataframe tbody tr th {\n",
              "        vertical-align: top;\n",
              "    }\n",
              "\n",
              "    .dataframe thead th {\n",
              "        text-align: right;\n",
              "    }\n",
              "</style>\n",
              "<table border=\"1\" class=\"dataframe\">\n",
              "  <thead>\n",
              "    <tr style=\"text-align: right;\">\n",
              "      <th></th>\n",
              "      <th>Date</th>\n",
              "      <th>AQI</th>\n",
              "    </tr>\n",
              "  </thead>\n",
              "  <tbody>\n",
              "    <tr>\n",
              "      <th>0</th>\n",
              "      <td>2023-03-01</td>\n",
              "      <td>121</td>\n",
              "    </tr>\n",
              "    <tr>\n",
              "      <th>1</th>\n",
              "      <td>2023-03-02</td>\n",
              "      <td>131</td>\n",
              "    </tr>\n",
              "    <tr>\n",
              "      <th>2</th>\n",
              "      <td>2023-03-03</td>\n",
              "      <td>112</td>\n",
              "    </tr>\n",
              "    <tr>\n",
              "      <th>3</th>\n",
              "      <td>2023-03-04</td>\n",
              "      <td>249</td>\n",
              "    </tr>\n",
              "    <tr>\n",
              "      <th>4</th>\n",
              "      <td>2023-03-05</td>\n",
              "      <td>221</td>\n",
              "    </tr>\n",
              "    <tr>\n",
              "      <th>5</th>\n",
              "      <td>2023-03-06</td>\n",
              "      <td>199</td>\n",
              "    </tr>\n",
              "    <tr>\n",
              "      <th>6</th>\n",
              "      <td>2023-03-07</td>\n",
              "      <td>279</td>\n",
              "    </tr>\n",
              "    <tr>\n",
              "      <th>7</th>\n",
              "      <td>2023-03-08</td>\n",
              "      <td>181</td>\n",
              "    </tr>\n",
              "    <tr>\n",
              "      <th>8</th>\n",
              "      <td>2023-03-09</td>\n",
              "      <td>186</td>\n",
              "    </tr>\n",
              "    <tr>\n",
              "      <th>9</th>\n",
              "      <td>2023-03-10</td>\n",
              "      <td>170</td>\n",
              "    </tr>\n",
              "    <tr>\n",
              "      <th>10</th>\n",
              "      <td>2023-03-11</td>\n",
              "      <td>203</td>\n",
              "    </tr>\n",
              "    <tr>\n",
              "      <th>11</th>\n",
              "      <td>2023-03-12</td>\n",
              "      <td>200</td>\n",
              "    </tr>\n",
              "    <tr>\n",
              "      <th>12</th>\n",
              "      <td>2023-03-13</td>\n",
              "      <td>115</td>\n",
              "    </tr>\n",
              "  </tbody>\n",
              "</table>\n",
              "</div>\n",
              "      <button class=\"colab-df-convert\" onclick=\"convertToInteractive('df-7fdb4a68-d059-454b-835a-647877088d5c')\"\n",
              "              title=\"Convert this dataframe to an interactive table.\"\n",
              "              style=\"display:none;\">\n",
              "        \n",
              "  <svg xmlns=\"http://www.w3.org/2000/svg\" height=\"24px\"viewBox=\"0 0 24 24\"\n",
              "       width=\"24px\">\n",
              "    <path d=\"M0 0h24v24H0V0z\" fill=\"none\"/>\n",
              "    <path d=\"M18.56 5.44l.94 2.06.94-2.06 2.06-.94-2.06-.94-.94-2.06-.94 2.06-2.06.94zm-11 1L8.5 8.5l.94-2.06 2.06-.94-2.06-.94L8.5 2.5l-.94 2.06-2.06.94zm10 10l.94 2.06.94-2.06 2.06-.94-2.06-.94-.94-2.06-.94 2.06-2.06.94z\"/><path d=\"M17.41 7.96l-1.37-1.37c-.4-.4-.92-.59-1.43-.59-.52 0-1.04.2-1.43.59L10.3 9.45l-7.72 7.72c-.78.78-.78 2.05 0 2.83L4 21.41c.39.39.9.59 1.41.59.51 0 1.02-.2 1.41-.59l7.78-7.78 2.81-2.81c.8-.78.8-2.07 0-2.86zM5.41 20L4 18.59l7.72-7.72 1.47 1.35L5.41 20z\"/>\n",
              "  </svg>\n",
              "      </button>\n",
              "      \n",
              "  <style>\n",
              "    .colab-df-container {\n",
              "      display:flex;\n",
              "      flex-wrap:wrap;\n",
              "      gap: 12px;\n",
              "    }\n",
              "\n",
              "    .colab-df-convert {\n",
              "      background-color: #E8F0FE;\n",
              "      border: none;\n",
              "      border-radius: 50%;\n",
              "      cursor: pointer;\n",
              "      display: none;\n",
              "      fill: #1967D2;\n",
              "      height: 32px;\n",
              "      padding: 0 0 0 0;\n",
              "      width: 32px;\n",
              "    }\n",
              "\n",
              "    .colab-df-convert:hover {\n",
              "      background-color: #E2EBFA;\n",
              "      box-shadow: 0px 1px 2px rgba(60, 64, 67, 0.3), 0px 1px 3px 1px rgba(60, 64, 67, 0.15);\n",
              "      fill: #174EA6;\n",
              "    }\n",
              "\n",
              "    [theme=dark] .colab-df-convert {\n",
              "      background-color: #3B4455;\n",
              "      fill: #D2E3FC;\n",
              "    }\n",
              "\n",
              "    [theme=dark] .colab-df-convert:hover {\n",
              "      background-color: #434B5C;\n",
              "      box-shadow: 0px 1px 3px 1px rgba(0, 0, 0, 0.15);\n",
              "      filter: drop-shadow(0px 1px 2px rgba(0, 0, 0, 0.3));\n",
              "      fill: #FFFFFF;\n",
              "    }\n",
              "  </style>\n",
              "\n",
              "      <script>\n",
              "        const buttonEl =\n",
              "          document.querySelector('#df-7fdb4a68-d059-454b-835a-647877088d5c button.colab-df-convert');\n",
              "        buttonEl.style.display =\n",
              "          google.colab.kernel.accessAllowed ? 'block' : 'none';\n",
              "\n",
              "        async function convertToInteractive(key) {\n",
              "          const element = document.querySelector('#df-7fdb4a68-d059-454b-835a-647877088d5c');\n",
              "          const dataTable =\n",
              "            await google.colab.kernel.invokeFunction('convertToInteractive',\n",
              "                                                     [key], {});\n",
              "          if (!dataTable) return;\n",
              "\n",
              "          const docLinkHtml = 'Like what you see? Visit the ' +\n",
              "            '<a target=\"_blank\" href=https://colab.research.google.com/notebooks/data_table.ipynb>data table notebook</a>'\n",
              "            + ' to learn more about interactive tables.';\n",
              "          element.innerHTML = '';\n",
              "          dataTable['output_type'] = 'display_data';\n",
              "          await google.colab.output.renderOutput(dataTable, element);\n",
              "          const docLink = document.createElement('div');\n",
              "          docLink.innerHTML = docLinkHtml;\n",
              "          element.appendChild(docLink);\n",
              "        }\n",
              "      </script>\n",
              "    </div>\n",
              "  </div>\n",
              "  "
            ]
          },
          "metadata": {},
          "execution_count": 191
        }
      ],
      "source": [
        "march=march_data[['Date','AQI']]\n",
        "march"
      ]
    },
    {
      "cell_type": "code",
      "execution_count": null,
      "metadata": {
        "id": "p2IY2R8vgnD9",
        "colab": {
          "base_uri": "https://localhost:8080/",
          "height": 896
        },
        "outputId": "69e3c3c5-80ab-43b7-b348-5672b920b0d4"
      },
      "outputs": [
        {
          "output_type": "execute_result",
          "data": {
            "text/plain": [
              "        Date         AQI\n",
              "0      01/22   95.258065\n",
              "1      01/23  149.870968\n",
              "2      02/22   97.714286\n",
              "3      02/23  106.321429\n",
              "4      03/22   85.290323\n",
              "5      04/22   88.724138\n",
              "6      05/22   94.838710\n",
              "7      06/22   76.933333\n",
              "8      07/22   95.838710\n",
              "9      08/22   49.400000\n",
              "10     09/22   49.068966\n",
              "11     10/22   51.423077\n",
              "12     11/22   50.103448\n",
              "13     12/22  111.866667\n",
              "14  01/03/23  121.000000\n",
              "15  02/03/23  131.000000\n",
              "16  03/03/23  112.000000\n",
              "17  04/03/23  249.000000\n",
              "18  05/03/23  221.000000\n",
              "19  06/03/23  199.000000\n",
              "20  07/03/23  279.000000\n",
              "21  08/03/23  181.000000\n",
              "22  09/03/23  186.000000\n",
              "23  10/03/23  170.000000\n",
              "24  11/03/23  203.000000\n",
              "25  12/03/23  200.000000\n",
              "26  13/03/23  115.000000"
            ],
            "text/html": [
              "\n",
              "  <div id=\"df-5031be37-caf8-4b1b-b2a3-df5eda9ea38d\">\n",
              "    <div class=\"colab-df-container\">\n",
              "      <div>\n",
              "<style scoped>\n",
              "    .dataframe tbody tr th:only-of-type {\n",
              "        vertical-align: middle;\n",
              "    }\n",
              "\n",
              "    .dataframe tbody tr th {\n",
              "        vertical-align: top;\n",
              "    }\n",
              "\n",
              "    .dataframe thead th {\n",
              "        text-align: right;\n",
              "    }\n",
              "</style>\n",
              "<table border=\"1\" class=\"dataframe\">\n",
              "  <thead>\n",
              "    <tr style=\"text-align: right;\">\n",
              "      <th></th>\n",
              "      <th>Date</th>\n",
              "      <th>AQI</th>\n",
              "    </tr>\n",
              "  </thead>\n",
              "  <tbody>\n",
              "    <tr>\n",
              "      <th>0</th>\n",
              "      <td>01/22</td>\n",
              "      <td>95.258065</td>\n",
              "    </tr>\n",
              "    <tr>\n",
              "      <th>1</th>\n",
              "      <td>01/23</td>\n",
              "      <td>149.870968</td>\n",
              "    </tr>\n",
              "    <tr>\n",
              "      <th>2</th>\n",
              "      <td>02/22</td>\n",
              "      <td>97.714286</td>\n",
              "    </tr>\n",
              "    <tr>\n",
              "      <th>3</th>\n",
              "      <td>02/23</td>\n",
              "      <td>106.321429</td>\n",
              "    </tr>\n",
              "    <tr>\n",
              "      <th>4</th>\n",
              "      <td>03/22</td>\n",
              "      <td>85.290323</td>\n",
              "    </tr>\n",
              "    <tr>\n",
              "      <th>5</th>\n",
              "      <td>04/22</td>\n",
              "      <td>88.724138</td>\n",
              "    </tr>\n",
              "    <tr>\n",
              "      <th>6</th>\n",
              "      <td>05/22</td>\n",
              "      <td>94.838710</td>\n",
              "    </tr>\n",
              "    <tr>\n",
              "      <th>7</th>\n",
              "      <td>06/22</td>\n",
              "      <td>76.933333</td>\n",
              "    </tr>\n",
              "    <tr>\n",
              "      <th>8</th>\n",
              "      <td>07/22</td>\n",
              "      <td>95.838710</td>\n",
              "    </tr>\n",
              "    <tr>\n",
              "      <th>9</th>\n",
              "      <td>08/22</td>\n",
              "      <td>49.400000</td>\n",
              "    </tr>\n",
              "    <tr>\n",
              "      <th>10</th>\n",
              "      <td>09/22</td>\n",
              "      <td>49.068966</td>\n",
              "    </tr>\n",
              "    <tr>\n",
              "      <th>11</th>\n",
              "      <td>10/22</td>\n",
              "      <td>51.423077</td>\n",
              "    </tr>\n",
              "    <tr>\n",
              "      <th>12</th>\n",
              "      <td>11/22</td>\n",
              "      <td>50.103448</td>\n",
              "    </tr>\n",
              "    <tr>\n",
              "      <th>13</th>\n",
              "      <td>12/22</td>\n",
              "      <td>111.866667</td>\n",
              "    </tr>\n",
              "    <tr>\n",
              "      <th>14</th>\n",
              "      <td>01/03/23</td>\n",
              "      <td>121.000000</td>\n",
              "    </tr>\n",
              "    <tr>\n",
              "      <th>15</th>\n",
              "      <td>02/03/23</td>\n",
              "      <td>131.000000</td>\n",
              "    </tr>\n",
              "    <tr>\n",
              "      <th>16</th>\n",
              "      <td>03/03/23</td>\n",
              "      <td>112.000000</td>\n",
              "    </tr>\n",
              "    <tr>\n",
              "      <th>17</th>\n",
              "      <td>04/03/23</td>\n",
              "      <td>249.000000</td>\n",
              "    </tr>\n",
              "    <tr>\n",
              "      <th>18</th>\n",
              "      <td>05/03/23</td>\n",
              "      <td>221.000000</td>\n",
              "    </tr>\n",
              "    <tr>\n",
              "      <th>19</th>\n",
              "      <td>06/03/23</td>\n",
              "      <td>199.000000</td>\n",
              "    </tr>\n",
              "    <tr>\n",
              "      <th>20</th>\n",
              "      <td>07/03/23</td>\n",
              "      <td>279.000000</td>\n",
              "    </tr>\n",
              "    <tr>\n",
              "      <th>21</th>\n",
              "      <td>08/03/23</td>\n",
              "      <td>181.000000</td>\n",
              "    </tr>\n",
              "    <tr>\n",
              "      <th>22</th>\n",
              "      <td>09/03/23</td>\n",
              "      <td>186.000000</td>\n",
              "    </tr>\n",
              "    <tr>\n",
              "      <th>23</th>\n",
              "      <td>10/03/23</td>\n",
              "      <td>170.000000</td>\n",
              "    </tr>\n",
              "    <tr>\n",
              "      <th>24</th>\n",
              "      <td>11/03/23</td>\n",
              "      <td>203.000000</td>\n",
              "    </tr>\n",
              "    <tr>\n",
              "      <th>25</th>\n",
              "      <td>12/03/23</td>\n",
              "      <td>200.000000</td>\n",
              "    </tr>\n",
              "    <tr>\n",
              "      <th>26</th>\n",
              "      <td>13/03/23</td>\n",
              "      <td>115.000000</td>\n",
              "    </tr>\n",
              "  </tbody>\n",
              "</table>\n",
              "</div>\n",
              "      <button class=\"colab-df-convert\" onclick=\"convertToInteractive('df-5031be37-caf8-4b1b-b2a3-df5eda9ea38d')\"\n",
              "              title=\"Convert this dataframe to an interactive table.\"\n",
              "              style=\"display:none;\">\n",
              "        \n",
              "  <svg xmlns=\"http://www.w3.org/2000/svg\" height=\"24px\"viewBox=\"0 0 24 24\"\n",
              "       width=\"24px\">\n",
              "    <path d=\"M0 0h24v24H0V0z\" fill=\"none\"/>\n",
              "    <path d=\"M18.56 5.44l.94 2.06.94-2.06 2.06-.94-2.06-.94-.94-2.06-.94 2.06-2.06.94zm-11 1L8.5 8.5l.94-2.06 2.06-.94-2.06-.94L8.5 2.5l-.94 2.06-2.06.94zm10 10l.94 2.06.94-2.06 2.06-.94-2.06-.94-.94-2.06-.94 2.06-2.06.94z\"/><path d=\"M17.41 7.96l-1.37-1.37c-.4-.4-.92-.59-1.43-.59-.52 0-1.04.2-1.43.59L10.3 9.45l-7.72 7.72c-.78.78-.78 2.05 0 2.83L4 21.41c.39.39.9.59 1.41.59.51 0 1.02-.2 1.41-.59l7.78-7.78 2.81-2.81c.8-.78.8-2.07 0-2.86zM5.41 20L4 18.59l7.72-7.72 1.47 1.35L5.41 20z\"/>\n",
              "  </svg>\n",
              "      </button>\n",
              "      \n",
              "  <style>\n",
              "    .colab-df-container {\n",
              "      display:flex;\n",
              "      flex-wrap:wrap;\n",
              "      gap: 12px;\n",
              "    }\n",
              "\n",
              "    .colab-df-convert {\n",
              "      background-color: #E8F0FE;\n",
              "      border: none;\n",
              "      border-radius: 50%;\n",
              "      cursor: pointer;\n",
              "      display: none;\n",
              "      fill: #1967D2;\n",
              "      height: 32px;\n",
              "      padding: 0 0 0 0;\n",
              "      width: 32px;\n",
              "    }\n",
              "\n",
              "    .colab-df-convert:hover {\n",
              "      background-color: #E2EBFA;\n",
              "      box-shadow: 0px 1px 2px rgba(60, 64, 67, 0.3), 0px 1px 3px 1px rgba(60, 64, 67, 0.15);\n",
              "      fill: #174EA6;\n",
              "    }\n",
              "\n",
              "    [theme=dark] .colab-df-convert {\n",
              "      background-color: #3B4455;\n",
              "      fill: #D2E3FC;\n",
              "    }\n",
              "\n",
              "    [theme=dark] .colab-df-convert:hover {\n",
              "      background-color: #434B5C;\n",
              "      box-shadow: 0px 1px 3px 1px rgba(0, 0, 0, 0.15);\n",
              "      filter: drop-shadow(0px 1px 2px rgba(0, 0, 0, 0.3));\n",
              "      fill: #FFFFFF;\n",
              "    }\n",
              "  </style>\n",
              "\n",
              "      <script>\n",
              "        const buttonEl =\n",
              "          document.querySelector('#df-5031be37-caf8-4b1b-b2a3-df5eda9ea38d button.colab-df-convert');\n",
              "        buttonEl.style.display =\n",
              "          google.colab.kernel.accessAllowed ? 'block' : 'none';\n",
              "\n",
              "        async function convertToInteractive(key) {\n",
              "          const element = document.querySelector('#df-5031be37-caf8-4b1b-b2a3-df5eda9ea38d');\n",
              "          const dataTable =\n",
              "            await google.colab.kernel.invokeFunction('convertToInteractive',\n",
              "                                                     [key], {});\n",
              "          if (!dataTable) return;\n",
              "\n",
              "          const docLinkHtml = 'Like what you see? Visit the ' +\n",
              "            '<a target=\"_blank\" href=https://colab.research.google.com/notebooks/data_table.ipynb>data table notebook</a>'\n",
              "            + ' to learn more about interactive tables.';\n",
              "          element.innerHTML = '';\n",
              "          dataTable['output_type'] = 'display_data';\n",
              "          await google.colab.output.renderOutput(dataTable, element);\n",
              "          const docLink = document.createElement('div');\n",
              "          docLink.innerHTML = docLinkHtml;\n",
              "          element.appendChild(docLink);\n",
              "        }\n",
              "      </script>\n",
              "    </div>\n",
              "  </div>\n",
              "  "
            ]
          },
          "metadata": {},
          "execution_count": 192
        }
      ],
      "source": [
        "AQI_var=pd.concat([avg_AQI,march],ignore_index=True)\n",
        "AQI_var['Date']=['01/22','01/23','02/22','02/23','03/22','04/22','05/22','06/22','07/22','08/22','09/22','10/22','11/22','12/22','01/03/23','02/03/23','03/03/23','04/03/23','05/03/23','06/03/23','07/03/23','08/03/23','09/03/23','10/03/23','11/03/23','12/03/23','13/03/23']\n",
        "AQI_var"
      ]
    },
    {
      "cell_type": "code",
      "execution_count": null,
      "metadata": {
        "id": "AFpeBwOfl9cy"
      },
      "outputs": [],
      "source": [
        "AQI_var['Category']=AQI_var.apply(lambda row:'Good' if row['AQI']<=50\n",
        "                                 else 'Satisfactory' if row['AQI']<=100\n",
        "                                 else 'Moderate' if row['AQI']<=200\n",
        "                                 else 'Poor' if row['AQI']<=300\n",
        "                                 else 'Very Poor' if row['AQI']<=400\n",
        "                                 else 'Severe', axis=1)"
      ]
    },
    {
      "cell_type": "code",
      "execution_count": null,
      "metadata": {
        "id": "vxCPbxodgnww",
        "colab": {
          "base_uri": "https://localhost:8080/",
          "height": 387
        },
        "outputId": "e4339e9c-2b85-4572-fa06-24b01e02e033"
      },
      "outputs": [
        {
          "output_type": "display_data",
          "data": {
            "text/plain": [
              "<Figure size 864x432 with 1 Axes>"
            ],
            "image/png": "[encoded data removed]"
          },
          "metadata": {
            "needs_background": "light"
          }
        }
      ],
      "source": [
        "sns.lineplot(x='Date',y='AQI',hue='Category',data=AQI_var,linewidth=2.5,marker='o',markerfacecolor='k')\n",
        "plt.grid(True)\n",
        "sns.despine(left=True)\n",
        "plt.xticks(rotation=45)\n",
        "plt.xlabel('')\n",
        "plt.ylabel('')\n",
        "plt.title('AQI Concentration Over Time',fontsize=20,fontweight='bold',color='r')\n",
        "plt.show()"
      ]
    },
    {
      "cell_type": "markdown",
      "metadata": {
        "id": "M1VTJEDWjqZx"
      },
      "source": [
        "* Before the Brahmapulam fire incident, the AQI levels were mostly in the Satisfactory and Good categories, with a few instances of Moderate levels.\n",
        "* During the Brahmapuam fire incident, the AQI levels increased significantly and remained in the Moderate to Poor categories for the duration of the incident.\n",
        "* After the Brahmapuam fire incident, the AQI levels returned to the Satisfactory category initially, and then gradually increased to the Moderate category towards the end of the data period.\n",
        "* Overall, the Brahmapuam fire incident had a significant impact on the AQI levels, causing a spike in pollution levels that persisted for several days. The incident highlights the need for effective measures to control and prevent wildfires to avoid such environmental disasters.\n",
        "* After March 12, 2023, a decrease in AQI was observed, indicating a reduction in the intensity of the fire incident.After March 12 the AQI\n",
        "\n",
        "\n",
        "\n"
      ]
    },
    {
      "cell_type": "markdown",
      "metadata": {
        "id": "LSyoN-fLZJXg"
      },
      "source": [
        "**Analysing Pollutant Concentrations Over Time**"
      ]
    },
    {
      "cell_type": "code",
      "execution_count": null,
      "metadata": {
        "id": "qaJKGaq3hWyE",
        "colab": {
          "base_uri": "https://localhost:8080/",
          "height": 563
        },
        "outputId": "947b6048-c51a-4419-d0ba-9b98db44fd40"
      },
      "outputs": [
        {
          "output_type": "execute_result",
          "data": {
            "text/plain": [
              "             NOx         O3        PM10        CO        NH3        SO2  \\\n",
              "Month                                                                     \n",
              "01-22  29.151613  15.849032   77.737419  1.036774   4.844516  13.920968   \n",
              "01-23  45.076129   1.554194   93.284839  1.112258  34.485806  22.956452   \n",
              "02-22  42.017857   7.077143   75.608929  0.883929  10.248571   7.430000   \n",
              "02-23  58.216786   1.513214  104.473571  1.042500  13.897500  12.646429   \n",
              "03-22  37.493548   6.689032   73.227419  0.767097   6.394194   4.481935   \n",
              "04-22  44.737931   2.035172   74.623103  0.901724  10.126552   2.601379   \n",
              "05-22  46.835484   1.399032   84.414516  1.393548  20.228065   3.629032   \n",
              "06-22  52.503333   1.733333   53.395000  0.980667   5.273333   3.245000   \n",
              "07-22  37.445161   1.464839   77.359032  1.037419  11.755806   1.168387   \n",
              "08-22  29.711667   1.433333   44.275667  0.638333  12.396667   0.819333   \n",
              "09-22  12.653448   1.396207   40.708276  0.452414   5.430000   0.783103   \n",
              "10-22   3.320000   1.418846   42.250385  0.415000   3.904231   0.611923   \n",
              "11-22   5.501034   1.398276   40.878621  0.785172   4.062069   0.613103   \n",
              "12-22  50.831000   1.507333   70.907667  1.280667  19.028000  14.916667   \n",
              "\n",
              "           PM2.5  \n",
              "Month             \n",
              "01-22  52.296430  \n",
              "01-23  74.465161  \n",
              "02-22  52.151404  \n",
              "02-23  75.299643  \n",
              "03-22  46.026580  \n",
              "04-22  40.975815  \n",
              "05-22  48.932408  \n",
              "06-22  28.514155  \n",
              "07-22  43.015462  \n",
              "08-22  28.528000  \n",
              "09-22  28.950345  \n",
              "10-22  30.113077  \n",
              "11-22  29.858276  \n",
              "12-22  55.023000  "
            ],
            "text/html": [
              "\n",
              "  <div id=\"df-5e048557-f478-4e24-8185-3f62c85643b8\">\n",
              "    <div class=\"colab-df-container\">\n",
              "      <div>\n",
              "<style scoped>\n",
              "    .dataframe tbody tr th:only-of-type {\n",
              "        vertical-align: middle;\n",
              "    }\n",
              "\n",
              "    .dataframe tbody tr th {\n",
              "        vertical-align: top;\n",
              "    }\n",
              "\n",
              "    .dataframe thead th {\n",
              "        text-align: right;\n",
              "    }\n",
              "</style>\n",
              "<table border=\"1\" class=\"dataframe\">\n",
              "  <thead>\n",
              "    <tr style=\"text-align: right;\">\n",
              "      <th></th>\n",
              "      <th>NOx</th>\n",
              "      <th>O3</th>\n",
              "      <th>PM10</th>\n",
              "      <th>CO</th>\n",
              "      <th>NH3</th>\n",
              "      <th>SO2</th>\n",
              "      <th>PM2.5</th>\n",
              "    </tr>\n",
              "    <tr>\n",
              "      <th>Month</th>\n",
              "      <th></th>\n",
              "      <th></th>\n",
              "      <th></th>\n",
              "      <th></th>\n",
              "      <th></th>\n",
              "      <th></th>\n",
              "      <th></th>\n",
              "    </tr>\n",
              "  </thead>\n",
              "  <tbody>\n",
              "    <tr>\n",
              "      <th>01-22</th>\n",
              "      <td>29.151613</td>\n",
              "      <td>15.849032</td>\n",
              "      <td>77.737419</td>\n",
              "      <td>1.036774</td>\n",
              "      <td>4.844516</td>\n",
              "      <td>13.920968</td>\n",
              "      <td>52.296430</td>\n",
              "    </tr>\n",
              "    <tr>\n",
              "      <th>01-23</th>\n",
              "      <td>45.076129</td>\n",
              "      <td>1.554194</td>\n",
              "      <td>93.284839</td>\n",
              "      <td>1.112258</td>\n",
              "      <td>34.485806</td>\n",
              "      <td>22.956452</td>\n",
              "      <td>74.465161</td>\n",
              "    </tr>\n",
              "    <tr>\n",
              "      <th>02-22</th>\n",
              "      <td>42.017857</td>\n",
              "      <td>7.077143</td>\n",
              "      <td>75.608929</td>\n",
              "      <td>0.883929</td>\n",
              "      <td>10.248571</td>\n",
              "      <td>7.430000</td>\n",
              "      <td>52.151404</td>\n",
              "    </tr>\n",
              "    <tr>\n",
              "      <th>02-23</th>\n",
              "      <td>58.216786</td>\n",
              "      <td>1.513214</td>\n",
              "      <td>104.473571</td>\n",
              "      <td>1.042500</td>\n",
              "      <td>13.897500</td>\n",
              "      <td>12.646429</td>\n",
              "      <td>75.299643</td>\n",
              "    </tr>\n",
              "    <tr>\n",
              "      <th>03-22</th>\n",
              "      <td>37.493548</td>\n",
              "      <td>6.689032</td>\n",
              "      <td>73.227419</td>\n",
              "      <td>0.767097</td>\n",
              "      <td>6.394194</td>\n",
              "      <td>4.481935</td>\n",
              "      <td>46.026580</td>\n",
              "    </tr>\n",
              "    <tr>\n",
              "      <th>04-22</th>\n",
              "      <td>44.737931</td>\n",
              "      <td>2.035172</td>\n",
              "      <td>74.623103</td>\n",
              "      <td>0.901724</td>\n",
              "      <td>10.126552</td>\n",
              "      <td>2.601379</td>\n",
              "      <td>40.975815</td>\n",
              "    </tr>\n",
              "    <tr>\n",
              "      <th>05-22</th>\n",
              "      <td>46.835484</td>\n",
              "      <td>1.399032</td>\n",
              "      <td>84.414516</td>\n",
              "      <td>1.393548</td>\n",
              "      <td>20.228065</td>\n",
              "      <td>3.629032</td>\n",
              "      <td>48.932408</td>\n",
              "    </tr>\n",
              "    <tr>\n",
              "      <th>06-22</th>\n",
              "      <td>52.503333</td>\n",
              "      <td>1.733333</td>\n",
              "      <td>53.395000</td>\n",
              "      <td>0.980667</td>\n",
              "      <td>5.273333</td>\n",
              "      <td>3.245000</td>\n",
              "      <td>28.514155</td>\n",
              "    </tr>\n",
              "    <tr>\n",
              "      <th>07-22</th>\n",
              "      <td>37.445161</td>\n",
              "      <td>1.464839</td>\n",
              "      <td>77.359032</td>\n",
              "      <td>1.037419</td>\n",
              "      <td>11.755806</td>\n",
              "      <td>1.168387</td>\n",
              "      <td>43.015462</td>\n",
              "    </tr>\n",
              "    <tr>\n",
              "      <th>08-22</th>\n",
              "      <td>29.711667</td>\n",
              "      <td>1.433333</td>\n",
              "      <td>44.275667</td>\n",
              "      <td>0.638333</td>\n",
              "      <td>12.396667</td>\n",
              "      <td>0.819333</td>\n",
              "      <td>28.528000</td>\n",
              "    </tr>\n",
              "    <tr>\n",
              "      <th>09-22</th>\n",
              "      <td>12.653448</td>\n",
              "      <td>1.396207</td>\n",
              "      <td>40.708276</td>\n",
              "      <td>0.452414</td>\n",
              "      <td>5.430000</td>\n",
              "      <td>0.783103</td>\n",
              "      <td>28.950345</td>\n",
              "    </tr>\n",
              "    <tr>\n",
              "      <th>10-22</th>\n",
              "      <td>3.320000</td>\n",
              "      <td>1.418846</td>\n",
              "      <td>42.250385</td>\n",
              "      <td>0.415000</td>\n",
              "      <td>3.904231</td>\n",
              "      <td>0.611923</td>\n",
              "      <td>30.113077</td>\n",
              "    </tr>\n",
              "    <tr>\n",
              "      <th>11-22</th>\n",
              "      <td>5.501034</td>\n",
              "      <td>1.398276</td>\n",
              "      <td>40.878621</td>\n",
              "      <td>0.785172</td>\n",
              "      <td>4.062069</td>\n",
              "      <td>0.613103</td>\n",
              "      <td>29.858276</td>\n",
              "    </tr>\n",
              "    <tr>\n",
              "      <th>12-22</th>\n",
              "      <td>50.831000</td>\n",
              "      <td>1.507333</td>\n",
              "      <td>70.907667</td>\n",
              "      <td>1.280667</td>\n",
              "      <td>19.028000</td>\n",
              "      <td>14.916667</td>\n",
              "      <td>55.023000</td>\n",
              "    </tr>\n",
              "  </tbody>\n",
              "</table>\n",
              "</div>\n",
              "      <button class=\"colab-df-convert\" onclick=\"convertToInteractive('df-5e048557-f478-4e24-8185-3f62c85643b8')\"\n",
              "              title=\"Convert this dataframe to an interactive table.\"\n",
              "              style=\"display:none;\">\n",
              "        \n",
              "  <svg xmlns=\"http://www.w3.org/2000/svg\" height=\"24px\"viewBox=\"0 0 24 24\"\n",
              "       width=\"24px\">\n",
              "    <path d=\"M0 0h24v24H0V0z\" fill=\"none\"/>\n",
              "    <path d=\"M18.56 5.44l.94 2.06.94-2.06 2.06-.94-2.06-.94-.94-2.06-.94 2.06-2.06.94zm-11 1L8.5 8.5l.94-2.06 2.06-.94-2.06-.94L8.5 2.5l-.94 2.06-2.06.94zm10 10l.94 2.06.94-2.06 2.06-.94-2.06-.94-.94-2.06-.94 2.06-2.06.94z\"/><path d=\"M17.41 7.96l-1.37-1.37c-.4-.4-.92-.59-1.43-.59-.52 0-1.04.2-1.43.59L10.3 9.45l-7.72 7.72c-.78.78-.78 2.05 0 2.83L4 21.41c.39.39.9.59 1.41.59.51 0 1.02-.2 1.41-.59l7.78-7.78 2.81-2.81c.8-.78.8-2.07 0-2.86zM5.41 20L4 18.59l7.72-7.72 1.47 1.35L5.41 20z\"/>\n",
              "  </svg>\n",
              "      </button>\n",
              "      \n",
              "  <style>\n",
              "    .colab-df-container {\n",
              "      display:flex;\n",
              "      flex-wrap:wrap;\n",
              "      gap: 12px;\n",
              "    }\n",
              "\n",
              "    .colab-df-convert {\n",
              "      background-color: #E8F0FE;\n",
              "      border: none;\n",
              "      border-radius: 50%;\n",
              "      cursor: pointer;\n",
              "      display: none;\n",
              "      fill: #1967D2;\n",
              "      height: 32px;\n",
              "      padding: 0 0 0 0;\n",
              "      width: 32px;\n",
              "    }\n",
              "\n",
              "    .colab-df-convert:hover {\n",
              "      background-color: #E2EBFA;\n",
              "      box-shadow: 0px 1px 2px rgba(60, 64, 67, 0.3), 0px 1px 3px 1px rgba(60, 64, 67, 0.15);\n",
              "      fill: #174EA6;\n",
              "    }\n",
              "\n",
              "    [theme=dark] .colab-df-convert {\n",
              "      background-color: #3B4455;\n",
              "      fill: #D2E3FC;\n",
              "    }\n",
              "\n",
              "    [theme=dark] .colab-df-convert:hover {\n",
              "      background-color: #434B5C;\n",
              "      box-shadow: 0px 1px 3px 1px rgba(0, 0, 0, 0.15);\n",
              "      filter: drop-shadow(0px 1px 2px rgba(0, 0, 0, 0.3));\n",
              "      fill: #FFFFFF;\n",
              "    }\n",
              "  </style>\n",
              "\n",
              "      <script>\n",
              "        const buttonEl =\n",
              "          document.querySelector('#df-5e048557-f478-4e24-8185-3f62c85643b8 button.colab-df-convert');\n",
              "        buttonEl.style.display =\n",
              "          google.colab.kernel.accessAllowed ? 'block' : 'none';\n",
              "\n",
              "        async function convertToInteractive(key) {\n",
              "          const element = document.querySelector('#df-5e048557-f478-4e24-8185-3f62c85643b8');\n",
              "          const dataTable =\n",
              "            await google.colab.kernel.invokeFunction('convertToInteractive',\n",
              "                                                     [key], {});\n",
              "          if (!dataTable) return;\n",
              "\n",
              "          const docLinkHtml = 'Like what you see? Visit the ' +\n",
              "            '<a target=\"_blank\" href=https://colab.research.google.com/notebooks/data_table.ipynb>data table notebook</a>'\n",
              "            + ' to learn more about interactive tables.';\n",
              "          element.innerHTML = '';\n",
              "          dataTable['output_type'] = 'display_data';\n",
              "          await google.colab.output.renderOutput(dataTable, element);\n",
              "          const docLink = document.createElement('div');\n",
              "          docLink.innerHTML = docLinkHtml;\n",
              "          element.appendChild(docLink);\n",
              "        }\n",
              "      </script>\n",
              "    </div>\n",
              "  </div>\n",
              "  "
            ]
          },
          "metadata": {},
          "execution_count": 195
        }
      ],
      "source": [
        "avg_gas=df.groupby('Month').mean()\n",
        "avg_gas=avg_gas.rename(columns={'Month':'Date'})\n",
        "avg_gas.drop('AQI',axis=1,inplace=True)\n",
        "avg_gas"
      ]
    },
    {
      "cell_type": "code",
      "execution_count": null,
      "metadata": {
        "id": "KMYmbsjIY1VJ",
        "colab": {
          "base_uri": "https://localhost:8080/",
          "height": 457
        },
        "outputId": "761d769b-5fcf-4bd9-d7b0-a7e14fca341f"
      },
      "outputs": [
        {
          "output_type": "execute_result",
          "data": {
            "text/plain": [
              "         Date    NOx    O3    PM10    CO    NH3    SO2   PM2.5\n",
              "0  2023-03-01  34.51  1.48  100.48  1.16   8.91  18.35   66.28\n",
              "1  2023-03-02  23.13  1.48   94.24  1.14  10.36  19.49   69.20\n",
              "2  2023-03-03  36.17  1.51  109.62  1.17   8.29  24.95   63.74\n",
              "3  2023-03-04  41.02  1.50  147.64  1.28   7.67  26.59  104.64\n",
              "4  2023-03-05  48.15  1.49  141.74  1.29   7.27  27.63   96.33\n",
              "5  2023-03-06  44.35  1.49  134.87  1.20   7.89  27.59   89.67\n",
              "6  2023-03-07  44.14  1.51  173.10  1.31   8.51  25.58  113.58\n",
              "7  2023-03-08  46.64  1.54  126.00  1.23  11.82  29.09   84.22\n",
              "8  2023-03-09  58.08  1.77  127.98  1.28  12.34  32.15   85.82\n",
              "9  2023-03-10  49.11  1.29  121.01  1.31  28.46  40.80   81.13\n",
              "10 2023-03-11  38.47  1.71  125.40  1.35  46.56  33.48   90.88\n",
              "11 2023-03-12  35.85  1.89  121.74  1.30  65.12  39.17   89.94\n",
              "12 2023-03-13  40.16  0.86  104.91  1.33  55.06  39.72   64.56"
            ],
            "text/html": [
              "\n",
              "  <div id=\"df-5143bac1-6d57-49d6-817e-359bc4077df7\">\n",
              "    <div class=\"colab-df-container\">\n",
              "      <div>\n",
              "<style scoped>\n",
              "    .dataframe tbody tr th:only-of-type {\n",
              "        vertical-align: middle;\n",
              "    }\n",
              "\n",
              "    .dataframe tbody tr th {\n",
              "        vertical-align: top;\n",
              "    }\n",
              "\n",
              "    .dataframe thead th {\n",
              "        text-align: right;\n",
              "    }\n",
              "</style>\n",
              "<table border=\"1\" class=\"dataframe\">\n",
              "  <thead>\n",
              "    <tr style=\"text-align: right;\">\n",
              "      <th></th>\n",
              "      <th>Date</th>\n",
              "      <th>NOx</th>\n",
              "      <th>O3</th>\n",
              "      <th>PM10</th>\n",
              "      <th>CO</th>\n",
              "      <th>NH3</th>\n",
              "      <th>SO2</th>\n",
              "      <th>PM2.5</th>\n",
              "    </tr>\n",
              "  </thead>\n",
              "  <tbody>\n",
              "    <tr>\n",
              "      <th>0</th>\n",
              "      <td>2023-03-01</td>\n",
              "      <td>34.51</td>\n",
              "      <td>1.48</td>\n",
              "      <td>100.48</td>\n",
              "      <td>1.16</td>\n",
              "      <td>8.91</td>\n",
              "      <td>18.35</td>\n",
              "      <td>66.28</td>\n",
              "    </tr>\n",
              "    <tr>\n",
              "      <th>1</th>\n",
              "      <td>2023-03-02</td>\n",
              "      <td>23.13</td>\n",
              "      <td>1.48</td>\n",
              "      <td>94.24</td>\n",
              "      <td>1.14</td>\n",
              "      <td>10.36</td>\n",
              "      <td>19.49</td>\n",
              "      <td>69.20</td>\n",
              "    </tr>\n",
              "    <tr>\n",
              "      <th>2</th>\n",
              "      <td>2023-03-03</td>\n",
              "      <td>36.17</td>\n",
              "      <td>1.51</td>\n",
              "      <td>109.62</td>\n",
              "      <td>1.17</td>\n",
              "      <td>8.29</td>\n",
              "      <td>24.95</td>\n",
              "      <td>63.74</td>\n",
              "    </tr>\n",
              "    <tr>\n",
              "      <th>3</th>\n",
              "      <td>2023-03-04</td>\n",
              "      <td>41.02</td>\n",
              "      <td>1.50</td>\n",
              "      <td>147.64</td>\n",
              "      <td>1.28</td>\n",
              "      <td>7.67</td>\n",
              "      <td>26.59</td>\n",
              "      <td>104.64</td>\n",
              "    </tr>\n",
              "    <tr>\n",
              "      <th>4</th>\n",
              "      <td>2023-03-05</td>\n",
              "      <td>48.15</td>\n",
              "      <td>1.49</td>\n",
              "      <td>141.74</td>\n",
              "      <td>1.29</td>\n",
              "      <td>7.27</td>\n",
              "      <td>27.63</td>\n",
              "      <td>96.33</td>\n",
              "    </tr>\n",
              "    <tr>\n",
              "      <th>5</th>\n",
              "      <td>2023-03-06</td>\n",
              "      <td>44.35</td>\n",
              "      <td>1.49</td>\n",
              "      <td>134.87</td>\n",
              "      <td>1.20</td>\n",
              "      <td>7.89</td>\n",
              "      <td>27.59</td>\n",
              "      <td>89.67</td>\n",
              "    </tr>\n",
              "    <tr>\n",
              "      <th>6</th>\n",
              "      <td>2023-03-07</td>\n",
              "      <td>44.14</td>\n",
              "      <td>1.51</td>\n",
              "      <td>173.10</td>\n",
              "      <td>1.31</td>\n",
              "      <td>8.51</td>\n",
              "      <td>25.58</td>\n",
              "      <td>113.58</td>\n",
              "    </tr>\n",
              "    <tr>\n",
              "      <th>7</th>\n",
              "      <td>2023-03-08</td>\n",
              "      <td>46.64</td>\n",
              "      <td>1.54</td>\n",
              "      <td>126.00</td>\n",
              "      <td>1.23</td>\n",
              "      <td>11.82</td>\n",
              "      <td>29.09</td>\n",
              "      <td>84.22</td>\n",
              "    </tr>\n",
              "    <tr>\n",
              "      <th>8</th>\n",
              "      <td>2023-03-09</td>\n",
              "      <td>58.08</td>\n",
              "      <td>1.77</td>\n",
              "      <td>127.98</td>\n",
              "      <td>1.28</td>\n",
              "      <td>12.34</td>\n",
              "      <td>32.15</td>\n",
              "      <td>85.82</td>\n",
              "    </tr>\n",
              "    <tr>\n",
              "      <th>9</th>\n",
              "      <td>2023-03-10</td>\n",
              "      <td>49.11</td>\n",
              "      <td>1.29</td>\n",
              "      <td>121.01</td>\n",
              "      <td>1.31</td>\n",
              "      <td>28.46</td>\n",
              "      <td>40.80</td>\n",
              "      <td>81.13</td>\n",
              "    </tr>\n",
              "    <tr>\n",
              "      <th>10</th>\n",
              "      <td>2023-03-11</td>\n",
              "      <td>38.47</td>\n",
              "      <td>1.71</td>\n",
              "      <td>125.40</td>\n",
              "      <td>1.35</td>\n",
              "      <td>46.56</td>\n",
              "      <td>33.48</td>\n",
              "      <td>90.88</td>\n",
              "    </tr>\n",
              "    <tr>\n",
              "      <th>11</th>\n",
              "      <td>2023-03-12</td>\n",
              "      <td>35.85</td>\n",
              "      <td>1.89</td>\n",
              "      <td>121.74</td>\n",
              "      <td>1.30</td>\n",
              "      <td>65.12</td>\n",
              "      <td>39.17</td>\n",
              "      <td>89.94</td>\n",
              "    </tr>\n",
              "    <tr>\n",
              "      <th>12</th>\n",
              "      <td>2023-03-13</td>\n",
              "      <td>40.16</td>\n",
              "      <td>0.86</td>\n",
              "      <td>104.91</td>\n",
              "      <td>1.33</td>\n",
              "      <td>55.06</td>\n",
              "      <td>39.72</td>\n",
              "      <td>64.56</td>\n",
              "    </tr>\n",
              "  </tbody>\n",
              "</table>\n",
              "</div>\n",
              "      <button class=\"colab-df-convert\" onclick=\"convertToInteractive('df-5143bac1-6d57-49d6-817e-359bc4077df7')\"\n",
              "              title=\"Convert this dataframe to an interactive table.\"\n",
              "              style=\"display:none;\">\n",
              "        \n",
              "  <svg xmlns=\"http://www.w3.org/2000/svg\" height=\"24px\"viewBox=\"0 0 24 24\"\n",
              "       width=\"24px\">\n",
              "    <path d=\"M0 0h24v24H0V0z\" fill=\"none\"/>\n",
              "    <path d=\"M18.56 5.44l.94 2.06.94-2.06 2.06-.94-2.06-.94-.94-2.06-.94 2.06-2.06.94zm-11 1L8.5 8.5l.94-2.06 2.06-.94-2.06-.94L8.5 2.5l-.94 2.06-2.06.94zm10 10l.94 2.06.94-2.06 2.06-.94-2.06-.94-.94-2.06-.94 2.06-2.06.94z\"/><path d=\"M17.41 7.96l-1.37-1.37c-.4-.4-.92-.59-1.43-.59-.52 0-1.04.2-1.43.59L10.3 9.45l-7.72 7.72c-.78.78-.78 2.05 0 2.83L4 21.41c.39.39.9.59 1.41.59.51 0 1.02-.2 1.41-.59l7.78-7.78 2.81-2.81c.8-.78.8-2.07 0-2.86zM5.41 20L4 18.59l7.72-7.72 1.47 1.35L5.41 20z\"/>\n",
              "  </svg>\n",
              "      </button>\n",
              "      \n",
              "  <style>\n",
              "    .colab-df-container {\n",
              "      display:flex;\n",
              "      flex-wrap:wrap;\n",
              "      gap: 12px;\n",
              "    }\n",
              "\n",
              "    .colab-df-convert {\n",
              "      background-color: #E8F0FE;\n",
              "      border: none;\n",
              "      border-radius: 50%;\n",
              "      cursor: pointer;\n",
              "      display: none;\n",
              "      fill: #1967D2;\n",
              "      height: 32px;\n",
              "      padding: 0 0 0 0;\n",
              "      width: 32px;\n",
              "    }\n",
              "\n",
              "    .colab-df-convert:hover {\n",
              "      background-color: #E2EBFA;\n",
              "      box-shadow: 0px 1px 2px rgba(60, 64, 67, 0.3), 0px 1px 3px 1px rgba(60, 64, 67, 0.15);\n",
              "      fill: #174EA6;\n",
              "    }\n",
              "\n",
              "    [theme=dark] .colab-df-convert {\n",
              "      background-color: #3B4455;\n",
              "      fill: #D2E3FC;\n",
              "    }\n",
              "\n",
              "    [theme=dark] .colab-df-convert:hover {\n",
              "      background-color: #434B5C;\n",
              "      box-shadow: 0px 1px 3px 1px rgba(0, 0, 0, 0.15);\n",
              "      filter: drop-shadow(0px 1px 2px rgba(0, 0, 0, 0.3));\n",
              "      fill: #FFFFFF;\n",
              "    }\n",
              "  </style>\n",
              "\n",
              "      <script>\n",
              "        const buttonEl =\n",
              "          document.querySelector('#df-5143bac1-6d57-49d6-817e-359bc4077df7 button.colab-df-convert');\n",
              "        buttonEl.style.display =\n",
              "          google.colab.kernel.accessAllowed ? 'block' : 'none';\n",
              "\n",
              "        async function convertToInteractive(key) {\n",
              "          const element = document.querySelector('#df-5143bac1-6d57-49d6-817e-359bc4077df7');\n",
              "          const dataTable =\n",
              "            await google.colab.kernel.invokeFunction('convertToInteractive',\n",
              "                                                     [key], {});\n",
              "          if (!dataTable) return;\n",
              "\n",
              "          const docLinkHtml = 'Like what you see? Visit the ' +\n",
              "            '<a target=\"_blank\" href=https://colab.research.google.com/notebooks/data_table.ipynb>data table notebook</a>'\n",
              "            + ' to learn more about interactive tables.';\n",
              "          element.innerHTML = '';\n",
              "          dataTable['output_type'] = 'display_data';\n",
              "          await google.colab.output.renderOutput(dataTable, element);\n",
              "          const docLink = document.createElement('div');\n",
              "          docLink.innerHTML = docLinkHtml;\n",
              "          element.appendChild(docLink);\n",
              "        }\n",
              "      </script>\n",
              "    </div>\n",
              "  </div>\n",
              "  "
            ]
          },
          "metadata": {},
          "execution_count": 196
        }
      ],
      "source": [
        "march_gas=march_data.iloc[:,:-1]\n",
        "march_gas"
      ]
    },
    {
      "cell_type": "code",
      "execution_count": null,
      "metadata": {
        "id": "w8W5KMD8Y3yh"
      },
      "outputs": [],
      "source": [
        "Gas_var=pd.concat([avg_gas,march_gas],ignore_index=True)\n",
        "Gas_var['Date']=['01/22','01/23','02/22','02/23','03/22','04/22','05/22','06/22','07/22','08/22','09/22','10/22','11/22','12/22','01/03/23','02/03/23','03/03/23','04/03/23','05/03/23','06/03/23','07/03/23','08/03/23','09/03/23','10/03/23','11/03/23','12/03/23','13/03/23']"
      ]
    },
    {
      "cell_type": "code",
      "execution_count": null,
      "metadata": {
        "id": "pNW6t4oaY5mi",
        "colab": {
          "base_uri": "https://localhost:8080/",
          "height": 387
        },
        "outputId": "6794da7a-43b3-43cc-8b10-f8fe5f0db228"
      },
      "outputs": [
        {
          "output_type": "display_data",
          "data": {
            "text/plain": [
              "<Figure size 864x432 with 1 Axes>"
            ],
            "image/png": "[encoded data removed]"
          },
          "metadata": {
            "needs_background": "light"
          }
        }
      ],
      "source": [
        "fig, ax = plt.subplots()\n",
        "\n",
        "ax.plot(Gas_var[\"Date\"], Gas_var[\"NOx\"], label=\"NOx\")\n",
        "ax.plot(Gas_var[\"Date\"], Gas_var[\"O3\"], label=\"O3\")\n",
        "ax.plot(Gas_var[\"Date\"], Gas_var[\"PM10\"], label=\"PM10\")\n",
        "ax.plot(Gas_var[\"Date\"], Gas_var[\"CO\"], label=\"CO\")\n",
        "ax.plot(Gas_var[\"Date\"], Gas_var[\"NH3\"], label=\"NH3\")\n",
        "ax.plot(Gas_var[\"Date\"], Gas_var[\"SO2\"], label=\"SO2\")\n",
        "ax.plot(Gas_var[\"Date\"], Gas_var[\"PM2.5\"], label=\"PM2.5\")\n",
        "\n",
        "sns.despine(left=True)\n",
        "ax.set_title(\"Pollutant Concentrations Over Time\",fontsize=20,fontweight='bold',color='r')\n",
        "plt.grid(True)\n",
        "plt.xlabel('')\n",
        "plt.ylabel('')\n",
        "plt.xticks(rotation=45)\n",
        "ax.legend()\n",
        "plt.show()"
      ]
    },
    {
      "cell_type": "markdown",
      "metadata": {
        "id": "O0GroUILZAqO"
      },
      "source": [
        "* The concentrations of all pollutants increased sharply after the Brahmapuram fire incident, with the highest increase seen in PM10 concentrations. This indicates that the fire incident had a significant impact on air quality in the region.\n",
        "* According to experts, several chemicals have been spreading at dangerous levels in Kochi’s atmosphere over the last two months. After the fire at Brahmapuram, the presence of a chemical cocktail has made matters worse, making the air quality in Kochi dangerous for human habitation.We can see a spike in January and February 2023 in the plot.\n",
        "* * After March 7 2023,there is a decrease in pollutant concentration, indicating a decrease in the intensity of the fire incident."
      ]
    },
    {
      "cell_type": "markdown",
      "metadata": {
        "id": "3_1SbZ0ke-N4"
      },
      "source": [
        "#**Conclusion**"
      ]
    },
    {
      "cell_type": "markdown",
      "metadata": {
        "id": "k5jdvuByfC7j"
      },
      "source": [
        "👉Based on the results of this project,from the analysis of the data collected before the sewage plant fire incident, it was observed that there was a certain level of variation in the concentration of the pollutant gases and the distribution of AQI over the period studied.\n",
        "\n",
        "\n",
        "👉With this information, a machine learning model using Random Forest Regression was developed, and hyperparameters were tuned to predict the AQI during the fire incident.\n",
        "\n",
        "\n",
        "👉The model performed well in predicting the AQI during the incident, showing the potential of using machine learning for real-time monitoring of air quality during such emergencies.\n",
        "\n",
        "👉Finally, by comparing the AQI before and after the incident, it was found that there was a significant increase in AQI during the fire, highlighting the importance of effective measures to control air pollution and minimize the impact of such incidents on public health and the environment."
      ]
    }
  ],
  "metadata": {
    "colab": {
      "provenance": [],
      "authorship_tag": "ABX9TyNAsbTbkAUVfG6MlJO/09rE"
    },
    "kernelspec": {
      "display_name": "Python 3",
      "name": "python3"
    },
    "language_info": {
      "name": "python"
    }
  },
  "nbformat": 4,
  "nbformat_minor": 0
}