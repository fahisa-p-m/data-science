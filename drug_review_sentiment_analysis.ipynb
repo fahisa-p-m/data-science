{
  "cells": [
    {
      "cell_type": "markdown",
      "metadata": {
        "id": "Etfk2f4WyIH9"
      },
      "source": [
        "# **Drug Review Sentiment Analysis**"
      ]
    },
    {
      "cell_type": "markdown",
      "metadata": {
        "id": "02P2Ds5DyRVq"
      },
      "source": [
        "**Objective:** \n",
        "> The objective of this project is to develop a classification model that predicts whether a drug review will receive a positive or negative rating based on the sentiment of the review, the condition being treated, useful counts of the review etc."
      ]
    },
    {
      "cell_type": "markdown",
      "metadata": {
        "id": "lXEPRKsHyrwp"
      },
      "source": [
        "**About Dataset:**\n",
        ">* The Drug Review Dataset is taken from kaggle. This Dataset provides patient reviews on specific drugs along with related conditions and a 10-star patient rating reflecting the overall patient satisfaction. The Drug Review Data Set is of shape (161297, 7) i.e. It has 7 features including the review and 161297 Data Points or entries.\n",
        "\n"
      ]
    },
    {
      "cell_type": "markdown",
      "metadata": {
        "id": "s-XirfEBzINV"
      },
      "source": [
        "#**Importing required libraries and loading dataset**"
      ]
    },
    {
      "cell_type": "code",
      "execution_count": null,
      "metadata": {
        "id": "4bzB8chTOXaX"
      },
      "outputs": [],
      "source": [
        "import re\n",
        "import numpy as np\n",
        "import pandas as pd\n",
        "import matplotlib.pyplot as plt\n",
        "import seaborn as sns\n",
        "import nltk\n",
        "from nltk.stem import WordNetLemmatizer\n",
        "from nltk.sentiment.vader import SentimentIntensityAnalyzer\n",
        "\n",
        "import warnings\n",
        "warnings.filterwarnings('ignore')"
      ]
    },
    {
      "cell_type": "code",
      "execution_count": null,
      "metadata": {
        "colab": {
          "base_uri": "https://localhost:8080/"
        },
        "id": "nAya-uiacGO4",
        "outputId": "78ca2a00-3b2b-4ebb-f1ff-dabf9bd523ef"
      },
      "outputs": [
        {
          "output_type": "stream",
          "name": "stdout",
          "text": [
            "Drive already mounted at /content/drive; to attempt to forcibly remount, call drive.mount(\"/content/drive\", force_remount=True).\n"
          ]
        }
      ],
      "source": [
        "from google.colab import drive\n",
        "drive.mount('/content/drive')"
      ]
    },
    {
      "cell_type": "code",
      "execution_count": null,
      "metadata": {
        "colab": {
          "base_uri": "https://localhost:8080/",
          "height": 423
        },
        "id": "8DvmsENLzm3X",
        "outputId": "5e13a24c-5219-4f5a-bad6-1d2bd18e115d"
      },
      "outputs": [
        {
          "output_type": "execute_result",
          "data": {
            "text/plain": [
              "        uniqueID                  drugName                     condition  \\\n",
              "0         206461                 Valsartan  Left Ventricular Dysfunction   \n",
              "1          95260                Guanfacine                          ADHD   \n",
              "2          92703                    Lybrel                 Birth Control   \n",
              "3         138000                Ortho Evra                 Birth Control   \n",
              "4          35696  Buprenorphine / naloxone             Opiate Dependence   \n",
              "...          ...                       ...                           ...   \n",
              "161292    191035                   Campral            Alcohol Dependence   \n",
              "161293    127085            Metoclopramide               Nausea/Vomiting   \n",
              "161294    187382                   Orencia          Rheumatoid Arthritis   \n",
              "161295     47128        Thyroid desiccated           Underactive Thyroid   \n",
              "161296    215220              Lubiprostone         Constipation, Chronic   \n",
              "\n",
              "                                                   review  rating       date  \\\n",
              "0       \"It has no side effect, I take it in combinati...       9  20-May-12   \n",
              "1       \"My son is halfway through his fourth week of ...       8  27-Apr-10   \n",
              "2       \"I used to take another oral contraceptive, wh...       5  14-Dec-09   \n",
              "3       \"This is my first time using any form of birth...       8   3-Nov-15   \n",
              "4       \"Suboxone has completely turned my life around...       9  27-Nov-16   \n",
              "...                                                   ...     ...        ...   \n",
              "161292  \"I wrote my first report in Mid-October of 201...      10  31-May-15   \n",
              "161293  \"I was given this in IV before surgey. I immed...       1   1-Nov-11   \n",
              "161294  \"Limited improvement after 4 months, developed...       2  15-Mar-14   \n",
              "161295  \"I&#039;ve been on thyroid medication 49 years...      10  19-Sep-15   \n",
              "161296  \"I&#039;ve had chronic constipation all my adu...       9  13-Dec-14   \n",
              "\n",
              "        usefulCount  \n",
              "0                27  \n",
              "1               192  \n",
              "2                17  \n",
              "3                10  \n",
              "4                37  \n",
              "...             ...  \n",
              "161292          125  \n",
              "161293           34  \n",
              "161294           35  \n",
              "161295           79  \n",
              "161296          116  \n",
              "\n",
              "[161297 rows x 7 columns]"
            ],
            "text/html": [
              "\n",
              "  <div id=\"df-f97138da-aa69-41a7-b7b7-b1f545d3c1c5\">\n",
              "    <div class=\"colab-df-container\">\n",
              "      <div>\n",
              "<style scoped>\n",
              "    .dataframe tbody tr th:only-of-type {\n",
              "        vertical-align: middle;\n",
              "    }\n",
              "\n",
              "    .dataframe tbody tr th {\n",
              "        vertical-align: top;\n",
              "    }\n",
              "\n",
              "    .dataframe thead th {\n",
              "        text-align: right;\n",
              "    }\n",
              "</style>\n",
              "<table border=\"1\" class=\"dataframe\">\n",
              "  <thead>\n",
              "    <tr style=\"text-align: right;\">\n",
              "      <th></th>\n",
              "      <th>uniqueID</th>\n",
              "      <th>drugName</th>\n",
              "      <th>condition</th>\n",
              "      <th>review</th>\n",
              "      <th>rating</th>\n",
              "      <th>date</th>\n",
              "      <th>usefulCount</th>\n",
              "    </tr>\n",
              "  </thead>\n",
              "  <tbody>\n",
              "    <tr>\n",
              "      <th>0</th>\n",
              "      <td>206461</td>\n",
              "      <td>Valsartan</td>\n",
              "      <td>Left Ventricular Dysfunction</td>\n",
              "      <td>\"It has no side effect, I take it in combinati...</td>\n",
              "      <td>9</td>\n",
              "      <td>20-May-12</td>\n",
              "      <td>27</td>\n",
              "    </tr>\n",
              "    <tr>\n",
              "      <th>1</th>\n",
              "      <td>95260</td>\n",
              "      <td>Guanfacine</td>\n",
              "      <td>ADHD</td>\n",
              "      <td>\"My son is halfway through his fourth week of ...</td>\n",
              "      <td>8</td>\n",
              "      <td>27-Apr-10</td>\n",
              "      <td>192</td>\n",
              "    </tr>\n",
              "    <tr>\n",
              "      <th>2</th>\n",
              "      <td>92703</td>\n",
              "      <td>Lybrel</td>\n",
              "      <td>Birth Control</td>\n",
              "      <td>\"I used to take another oral contraceptive, wh...</td>\n",
              "      <td>5</td>\n",
              "      <td>14-Dec-09</td>\n",
              "      <td>17</td>\n",
              "    </tr>\n",
              "    <tr>\n",
              "      <th>3</th>\n",
              "      <td>138000</td>\n",
              "      <td>Ortho Evra</td>\n",
              "      <td>Birth Control</td>\n",
              "      <td>\"This is my first time using any form of birth...</td>\n",
              "      <td>8</td>\n",
              "      <td>3-Nov-15</td>\n",
              "      <td>10</td>\n",
              "    </tr>\n",
              "    <tr>\n",
              "      <th>4</th>\n",
              "      <td>35696</td>\n",
              "      <td>Buprenorphine / naloxone</td>\n",
              "      <td>Opiate Dependence</td>\n",
              "      <td>\"Suboxone has completely turned my life around...</td>\n",
              "      <td>9</td>\n",
              "      <td>27-Nov-16</td>\n",
              "      <td>37</td>\n",
              "    </tr>\n",
              "    <tr>\n",
              "      <th>...</th>\n",
              "      <td>...</td>\n",
              "      <td>...</td>\n",
              "      <td>...</td>\n",
              "      <td>...</td>\n",
              "      <td>...</td>\n",
              "      <td>...</td>\n",
              "      <td>...</td>\n",
              "    </tr>\n",
              "    <tr>\n",
              "      <th>161292</th>\n",
              "      <td>191035</td>\n",
              "      <td>Campral</td>\n",
              "      <td>Alcohol Dependence</td>\n",
              "      <td>\"I wrote my first report in Mid-October of 201...</td>\n",
              "      <td>10</td>\n",
              "      <td>31-May-15</td>\n",
              "      <td>125</td>\n",
              "    </tr>\n",
              "    <tr>\n",
              "      <th>161293</th>\n",
              "      <td>127085</td>\n",
              "      <td>Metoclopramide</td>\n",
              "      <td>Nausea/Vomiting</td>\n",
              "      <td>\"I was given this in IV before surgey. I immed...</td>\n",
              "      <td>1</td>\n",
              "      <td>1-Nov-11</td>\n",
              "      <td>34</td>\n",
              "    </tr>\n",
              "    <tr>\n",
              "      <th>161294</th>\n",
              "      <td>187382</td>\n",
              "      <td>Orencia</td>\n",
              "      <td>Rheumatoid Arthritis</td>\n",
              "      <td>\"Limited improvement after 4 months, developed...</td>\n",
              "      <td>2</td>\n",
              "      <td>15-Mar-14</td>\n",
              "      <td>35</td>\n",
              "    </tr>\n",
              "    <tr>\n",
              "      <th>161295</th>\n",
              "      <td>47128</td>\n",
              "      <td>Thyroid desiccated</td>\n",
              "      <td>Underactive Thyroid</td>\n",
              "      <td>\"I&amp;#039;ve been on thyroid medication 49 years...</td>\n",
              "      <td>10</td>\n",
              "      <td>19-Sep-15</td>\n",
              "      <td>79</td>\n",
              "    </tr>\n",
              "    <tr>\n",
              "      <th>161296</th>\n",
              "      <td>215220</td>\n",
              "      <td>Lubiprostone</td>\n",
              "      <td>Constipation, Chronic</td>\n",
              "      <td>\"I&amp;#039;ve had chronic constipation all my adu...</td>\n",
              "      <td>9</td>\n",
              "      <td>13-Dec-14</td>\n",
              "      <td>116</td>\n",
              "    </tr>\n",
              "  </tbody>\n",
              "</table>\n",
              "<p>161297 rows × 7 columns</p>\n",
              "</div>\n",
              "      <button class=\"colab-df-convert\" onclick=\"convertToInteractive('df-f97138da-aa69-41a7-b7b7-b1f545d3c1c5')\"\n",
              "              title=\"Convert this dataframe to an interactive table.\"\n",
              "              style=\"display:none;\">\n",
              "        \n",
              "  <svg xmlns=\"http://www.w3.org/2000/svg\" height=\"24px\"viewBox=\"0 0 24 24\"\n",
              "       width=\"24px\">\n",
              "    <path d=\"M0 0h24v24H0V0z\" fill=\"none\"/>\n",
              "    <path d=\"M18.56 5.44l.94 2.06.94-2.06 2.06-.94-2.06-.94-.94-2.06-.94 2.06-2.06.94zm-11 1L8.5 8.5l.94-2.06 2.06-.94-2.06-.94L8.5 2.5l-.94 2.06-2.06.94zm10 10l.94 2.06.94-2.06 2.06-.94-2.06-.94-.94-2.06-.94 2.06-2.06.94z\"/><path d=\"M17.41 7.96l-1.37-1.37c-.4-.4-.92-.59-1.43-.59-.52 0-1.04.2-1.43.59L10.3 9.45l-7.72 7.72c-.78.78-.78 2.05 0 2.83L4 21.41c.39.39.9.59 1.41.59.51 0 1.02-.2 1.41-.59l7.78-7.78 2.81-2.81c.8-.78.8-2.07 0-2.86zM5.41 20L4 18.59l7.72-7.72 1.47 1.35L5.41 20z\"/>\n",
              "  </svg>\n",
              "      </button>\n",
              "      \n",
              "  <style>\n",
              "    .colab-df-container {\n",
              "      display:flex;\n",
              "      flex-wrap:wrap;\n",
              "      gap: 12px;\n",
              "    }\n",
              "\n",
              "    .colab-df-convert {\n",
              "      background-color: #E8F0FE;\n",
              "      border: none;\n",
              "      border-radius: 50%;\n",
              "      cursor: pointer;\n",
              "      display: none;\n",
              "      fill: #1967D2;\n",
              "      height: 32px;\n",
              "      padding: 0 0 0 0;\n",
              "      width: 32px;\n",
              "    }\n",
              "\n",
              "    .colab-df-convert:hover {\n",
              "      background-color: #E2EBFA;\n",
              "      box-shadow: 0px 1px 2px rgba(60, 64, 67, 0.3), 0px 1px 3px 1px rgba(60, 64, 67, 0.15);\n",
              "      fill: #174EA6;\n",
              "    }\n",
              "\n",
              "    [theme=dark] .colab-df-convert {\n",
              "      background-color: #3B4455;\n",
              "      fill: #D2E3FC;\n",
              "    }\n",
              "\n",
              "    [theme=dark] .colab-df-convert:hover {\n",
              "      background-color: #434B5C;\n",
              "      box-shadow: 0px 1px 3px 1px rgba(0, 0, 0, 0.15);\n",
              "      filter: drop-shadow(0px 1px 2px rgba(0, 0, 0, 0.3));\n",
              "      fill: #FFFFFF;\n",
              "    }\n",
              "  </style>\n",
              "\n",
              "      <script>\n",
              "        const buttonEl =\n",
              "          document.querySelector('#df-f97138da-aa69-41a7-b7b7-b1f545d3c1c5 button.colab-df-convert');\n",
              "        buttonEl.style.display =\n",
              "          google.colab.kernel.accessAllowed ? 'block' : 'none';\n",
              "\n",
              "        async function convertToInteractive(key) {\n",
              "          const element = document.querySelector('#df-f97138da-aa69-41a7-b7b7-b1f545d3c1c5');\n",
              "          const dataTable =\n",
              "            await google.colab.kernel.invokeFunction('convertToInteractive',\n",
              "                                                     [key], {});\n",
              "          if (!dataTable) return;\n",
              "\n",
              "          const docLinkHtml = 'Like what you see? Visit the ' +\n",
              "            '<a target=\"_blank\" href=https://colab.research.google.com/notebooks/data_table.ipynb>data table notebook</a>'\n",
              "            + ' to learn more about interactive tables.';\n",
              "          element.innerHTML = '';\n",
              "          dataTable['output_type'] = 'display_data';\n",
              "          await google.colab.output.renderOutput(dataTable, element);\n",
              "          const docLink = document.createElement('div');\n",
              "          docLink.innerHTML = docLinkHtml;\n",
              "          element.appendChild(docLink);\n",
              "        }\n",
              "      </script>\n",
              "    </div>\n",
              "  </div>\n",
              "  "
            ]
          },
          "metadata": {},
          "execution_count": 61
        }
      ],
      "source": [
        "df=pd.read_csv(\"/content/drive/MyDrive/project_files/drugsComTrain_raw.csv\",encoding=\"ISO-8859-1\")\n",
        "df"
      ]
    },
    {
      "cell_type": "markdown",
      "source": [
        ">* The features are 'drugName' which is the name of the drug, 'condition' which is the condition the patient is suffering from, 'review' is the patients review, 'rating' is the 10-star patient rating for the drug, 'date' is the date of the entry and the 'usefulcount' is the number of users who found the review useful."
      ],
      "metadata": {
        "id": "CkA2K3HAlQt6"
      }
    },
    {
      "cell_type": "code",
      "execution_count": null,
      "metadata": {
        "colab": {
          "base_uri": "https://localhost:8080/",
          "height": 206
        },
        "id": "gk8ZVCmf0GTx",
        "outputId": "b9cb4abd-b955-415c-b235-5b4a576029dc"
      },
      "outputs": [
        {
          "data": {
            "text/html": [
              "\n",
              "  <div id=\"df-c110630d-c6e5-4f73-99f0-dae299741f23\">\n",
              "    <div class=\"colab-df-container\">\n",
              "      <div>\n",
              "<style scoped>\n",
              "    .dataframe tbody tr th:only-of-type {\n",
              "        vertical-align: middle;\n",
              "    }\n",
              "\n",
              "    .dataframe tbody tr th {\n",
              "        vertical-align: top;\n",
              "    }\n",
              "\n",
              "    .dataframe thead th {\n",
              "        text-align: right;\n",
              "    }\n",
              "</style>\n",
              "<table border=\"1\" class=\"dataframe\">\n",
              "  <thead>\n",
              "    <tr style=\"text-align: right;\">\n",
              "      <th></th>\n",
              "      <th>uniqueID</th>\n",
              "      <th>drugName</th>\n",
              "      <th>condition</th>\n",
              "      <th>review</th>\n",
              "      <th>rating</th>\n",
              "      <th>date</th>\n",
              "      <th>usefulCount</th>\n",
              "    </tr>\n",
              "  </thead>\n",
              "  <tbody>\n",
              "    <tr>\n",
              "      <th>0</th>\n",
              "      <td>206461</td>\n",
              "      <td>Valsartan</td>\n",
              "      <td>Left Ventricular Dysfunction</td>\n",
              "      <td>\"It has no side effect, I take it in combinati...</td>\n",
              "      <td>9</td>\n",
              "      <td>20-May-12</td>\n",
              "      <td>27</td>\n",
              "    </tr>\n",
              "    <tr>\n",
              "      <th>1</th>\n",
              "      <td>95260</td>\n",
              "      <td>Guanfacine</td>\n",
              "      <td>ADHD</td>\n",
              "      <td>\"My son is halfway through his fourth week of ...</td>\n",
              "      <td>8</td>\n",
              "      <td>27-Apr-10</td>\n",
              "      <td>192</td>\n",
              "    </tr>\n",
              "    <tr>\n",
              "      <th>2</th>\n",
              "      <td>92703</td>\n",
              "      <td>Lybrel</td>\n",
              "      <td>Birth Control</td>\n",
              "      <td>\"I used to take another oral contraceptive, wh...</td>\n",
              "      <td>5</td>\n",
              "      <td>14-Dec-09</td>\n",
              "      <td>17</td>\n",
              "    </tr>\n",
              "    <tr>\n",
              "      <th>3</th>\n",
              "      <td>138000</td>\n",
              "      <td>Ortho Evra</td>\n",
              "      <td>Birth Control</td>\n",
              "      <td>\"This is my first time using any form of birth...</td>\n",
              "      <td>8</td>\n",
              "      <td>3-Nov-15</td>\n",
              "      <td>10</td>\n",
              "    </tr>\n",
              "    <tr>\n",
              "      <th>4</th>\n",
              "      <td>35696</td>\n",
              "      <td>Buprenorphine / naloxone</td>\n",
              "      <td>Opiate Dependence</td>\n",
              "      <td>\"Suboxone has completely turned my life around...</td>\n",
              "      <td>9</td>\n",
              "      <td>27-Nov-16</td>\n",
              "      <td>37</td>\n",
              "    </tr>\n",
              "  </tbody>\n",
              "</table>\n",
              "</div>\n",
              "      <button class=\"colab-df-convert\" onclick=\"convertToInteractive('df-c110630d-c6e5-4f73-99f0-dae299741f23')\"\n",
              "              title=\"Convert this dataframe to an interactive table.\"\n",
              "              style=\"display:none;\">\n",
              "        \n",
              "  <svg xmlns=\"http://www.w3.org/2000/svg\" height=\"24px\"viewBox=\"0 0 24 24\"\n",
              "       width=\"24px\">\n",
              "    <path d=\"M0 0h24v24H0V0z\" fill=\"none\"/>\n",
              "    <path d=\"M18.56 5.44l.94 2.06.94-2.06 2.06-.94-2.06-.94-.94-2.06-.94 2.06-2.06.94zm-11 1L8.5 8.5l.94-2.06 2.06-.94-2.06-.94L8.5 2.5l-.94 2.06-2.06.94zm10 10l.94 2.06.94-2.06 2.06-.94-2.06-.94-.94-2.06-.94 2.06-2.06.94z\"/><path d=\"M17.41 7.96l-1.37-1.37c-.4-.4-.92-.59-1.43-.59-.52 0-1.04.2-1.43.59L10.3 9.45l-7.72 7.72c-.78.78-.78 2.05 0 2.83L4 21.41c.39.39.9.59 1.41.59.51 0 1.02-.2 1.41-.59l7.78-7.78 2.81-2.81c.8-.78.8-2.07 0-2.86zM5.41 20L4 18.59l7.72-7.72 1.47 1.35L5.41 20z\"/>\n",
              "  </svg>\n",
              "      </button>\n",
              "      \n",
              "  <style>\n",
              "    .colab-df-container {\n",
              "      display:flex;\n",
              "      flex-wrap:wrap;\n",
              "      gap: 12px;\n",
              "    }\n",
              "\n",
              "    .colab-df-convert {\n",
              "      background-color: #E8F0FE;\n",
              "      border: none;\n",
              "      border-radius: 50%;\n",
              "      cursor: pointer;\n",
              "      display: none;\n",
              "      fill: #1967D2;\n",
              "      height: 32px;\n",
              "      padding: 0 0 0 0;\n",
              "      width: 32px;\n",
              "    }\n",
              "\n",
              "    .colab-df-convert:hover {\n",
              "      background-color: #E2EBFA;\n",
              "      box-shadow: 0px 1px 2px rgba(60, 64, 67, 0.3), 0px 1px 3px 1px rgba(60, 64, 67, 0.15);\n",
              "      fill: #174EA6;\n",
              "    }\n",
              "\n",
              "    [theme=dark] .colab-df-convert {\n",
              "      background-color: #3B4455;\n",
              "      fill: #D2E3FC;\n",
              "    }\n",
              "\n",
              "    [theme=dark] .colab-df-convert:hover {\n",
              "      background-color: #434B5C;\n",
              "      box-shadow: 0px 1px 3px 1px rgba(0, 0, 0, 0.15);\n",
              "      filter: drop-shadow(0px 1px 2px rgba(0, 0, 0, 0.3));\n",
              "      fill: #FFFFFF;\n",
              "    }\n",
              "  </style>\n",
              "\n",
              "      <script>\n",
              "        const buttonEl =\n",
              "          document.querySelector('#df-c110630d-c6e5-4f73-99f0-dae299741f23 button.colab-df-convert');\n",
              "        buttonEl.style.display =\n",
              "          google.colab.kernel.accessAllowed ? 'block' : 'none';\n",
              "\n",
              "        async function convertToInteractive(key) {\n",
              "          const element = document.querySelector('#df-c110630d-c6e5-4f73-99f0-dae299741f23');\n",
              "          const dataTable =\n",
              "            await google.colab.kernel.invokeFunction('convertToInteractive',\n",
              "                                                     [key], {});\n",
              "          if (!dataTable) return;\n",
              "\n",
              "          const docLinkHtml = 'Like what you see? Visit the ' +\n",
              "            '<a target=\"_blank\" href=https://colab.research.google.com/notebooks/data_table.ipynb>data table notebook</a>'\n",
              "            + ' to learn more about interactive tables.';\n",
              "          element.innerHTML = '';\n",
              "          dataTable['output_type'] = 'display_data';\n",
              "          await google.colab.output.renderOutput(dataTable, element);\n",
              "          const docLink = document.createElement('div');\n",
              "          docLink.innerHTML = docLinkHtml;\n",
              "          element.appendChild(docLink);\n",
              "        }\n",
              "      </script>\n",
              "    </div>\n",
              "  </div>\n",
              "  "
            ],
            "text/plain": [
              "   uniqueID                  drugName                     condition  \\\n",
              "0    206461                 Valsartan  Left Ventricular Dysfunction   \n",
              "1     95260                Guanfacine                          ADHD   \n",
              "2     92703                    Lybrel                 Birth Control   \n",
              "3    138000                Ortho Evra                 Birth Control   \n",
              "4     35696  Buprenorphine / naloxone             Opiate Dependence   \n",
              "\n",
              "                                              review  rating       date  \\\n",
              "0  \"It has no side effect, I take it in combinati...       9  20-May-12   \n",
              "1  \"My son is halfway through his fourth week of ...       8  27-Apr-10   \n",
              "2  \"I used to take another oral contraceptive, wh...       5  14-Dec-09   \n",
              "3  \"This is my first time using any form of birth...       8   3-Nov-15   \n",
              "4  \"Suboxone has completely turned my life around...       9  27-Nov-16   \n",
              "\n",
              "   usefulCount  \n",
              "0           27  \n",
              "1          192  \n",
              "2           17  \n",
              "3           10  \n",
              "4           37  "
            ]
          },
          "execution_count": 4,
          "metadata": {},
          "output_type": "execute_result"
        }
      ],
      "source": [
        "df.head()"
      ]
    },
    {
      "cell_type": "code",
      "execution_count": null,
      "metadata": {
        "colab": {
          "base_uri": "https://localhost:8080/",
          "height": 206
        },
        "id": "4HMurRyY0WAw",
        "outputId": "e42844d4-5739-4c1a-cee8-952a8ae83bde"
      },
      "outputs": [
        {
          "data": {
            "text/html": [
              "\n",
              "  <div id=\"df-94a25bfb-b1cf-4256-8575-46b907cb6c5d\">\n",
              "    <div class=\"colab-df-container\">\n",
              "      <div>\n",
              "<style scoped>\n",
              "    .dataframe tbody tr th:only-of-type {\n",
              "        vertical-align: middle;\n",
              "    }\n",
              "\n",
              "    .dataframe tbody tr th {\n",
              "        vertical-align: top;\n",
              "    }\n",
              "\n",
              "    .dataframe thead th {\n",
              "        text-align: right;\n",
              "    }\n",
              "</style>\n",
              "<table border=\"1\" class=\"dataframe\">\n",
              "  <thead>\n",
              "    <tr style=\"text-align: right;\">\n",
              "      <th></th>\n",
              "      <th>uniqueID</th>\n",
              "      <th>drugName</th>\n",
              "      <th>condition</th>\n",
              "      <th>review</th>\n",
              "      <th>rating</th>\n",
              "      <th>date</th>\n",
              "      <th>usefulCount</th>\n",
              "    </tr>\n",
              "  </thead>\n",
              "  <tbody>\n",
              "    <tr>\n",
              "      <th>161292</th>\n",
              "      <td>191035</td>\n",
              "      <td>Campral</td>\n",
              "      <td>Alcohol Dependence</td>\n",
              "      <td>\"I wrote my first report in Mid-October of 201...</td>\n",
              "      <td>10</td>\n",
              "      <td>31-May-15</td>\n",
              "      <td>125</td>\n",
              "    </tr>\n",
              "    <tr>\n",
              "      <th>161293</th>\n",
              "      <td>127085</td>\n",
              "      <td>Metoclopramide</td>\n",
              "      <td>Nausea/Vomiting</td>\n",
              "      <td>\"I was given this in IV before surgey. I immed...</td>\n",
              "      <td>1</td>\n",
              "      <td>1-Nov-11</td>\n",
              "      <td>34</td>\n",
              "    </tr>\n",
              "    <tr>\n",
              "      <th>161294</th>\n",
              "      <td>187382</td>\n",
              "      <td>Orencia</td>\n",
              "      <td>Rheumatoid Arthritis</td>\n",
              "      <td>\"Limited improvement after 4 months, developed...</td>\n",
              "      <td>2</td>\n",
              "      <td>15-Mar-14</td>\n",
              "      <td>35</td>\n",
              "    </tr>\n",
              "    <tr>\n",
              "      <th>161295</th>\n",
              "      <td>47128</td>\n",
              "      <td>Thyroid desiccated</td>\n",
              "      <td>Underactive Thyroid</td>\n",
              "      <td>\"I&amp;#039;ve been on thyroid medication 49 years...</td>\n",
              "      <td>10</td>\n",
              "      <td>19-Sep-15</td>\n",
              "      <td>79</td>\n",
              "    </tr>\n",
              "    <tr>\n",
              "      <th>161296</th>\n",
              "      <td>215220</td>\n",
              "      <td>Lubiprostone</td>\n",
              "      <td>Constipation, Chronic</td>\n",
              "      <td>\"I&amp;#039;ve had chronic constipation all my adu...</td>\n",
              "      <td>9</td>\n",
              "      <td>13-Dec-14</td>\n",
              "      <td>116</td>\n",
              "    </tr>\n",
              "  </tbody>\n",
              "</table>\n",
              "</div>\n",
              "      <button class=\"colab-df-convert\" onclick=\"convertToInteractive('df-94a25bfb-b1cf-4256-8575-46b907cb6c5d')\"\n",
              "              title=\"Convert this dataframe to an interactive table.\"\n",
              "              style=\"display:none;\">\n",
              "        \n",
              "  <svg xmlns=\"http://www.w3.org/2000/svg\" height=\"24px\"viewBox=\"0 0 24 24\"\n",
              "       width=\"24px\">\n",
              "    <path d=\"M0 0h24v24H0V0z\" fill=\"none\"/>\n",
              "    <path d=\"M18.56 5.44l.94 2.06.94-2.06 2.06-.94-2.06-.94-.94-2.06-.94 2.06-2.06.94zm-11 1L8.5 8.5l.94-2.06 2.06-.94-2.06-.94L8.5 2.5l-.94 2.06-2.06.94zm10 10l.94 2.06.94-2.06 2.06-.94-2.06-.94-.94-2.06-.94 2.06-2.06.94z\"/><path d=\"M17.41 7.96l-1.37-1.37c-.4-.4-.92-.59-1.43-.59-.52 0-1.04.2-1.43.59L10.3 9.45l-7.72 7.72c-.78.78-.78 2.05 0 2.83L4 21.41c.39.39.9.59 1.41.59.51 0 1.02-.2 1.41-.59l7.78-7.78 2.81-2.81c.8-.78.8-2.07 0-2.86zM5.41 20L4 18.59l7.72-7.72 1.47 1.35L5.41 20z\"/>\n",
              "  </svg>\n",
              "      </button>\n",
              "      \n",
              "  <style>\n",
              "    .colab-df-container {\n",
              "      display:flex;\n",
              "      flex-wrap:wrap;\n",
              "      gap: 12px;\n",
              "    }\n",
              "\n",
              "    .colab-df-convert {\n",
              "      background-color: #E8F0FE;\n",
              "      border: none;\n",
              "      border-radius: 50%;\n",
              "      cursor: pointer;\n",
              "      display: none;\n",
              "      fill: #1967D2;\n",
              "      height: 32px;\n",
              "      padding: 0 0 0 0;\n",
              "      width: 32px;\n",
              "    }\n",
              "\n",
              "    .colab-df-convert:hover {\n",
              "      background-color: #E2EBFA;\n",
              "      box-shadow: 0px 1px 2px rgba(60, 64, 67, 0.3), 0px 1px 3px 1px rgba(60, 64, 67, 0.15);\n",
              "      fill: #174EA6;\n",
              "    }\n",
              "\n",
              "    [theme=dark] .colab-df-convert {\n",
              "      background-color: #3B4455;\n",
              "      fill: #D2E3FC;\n",
              "    }\n",
              "\n",
              "    [theme=dark] .colab-df-convert:hover {\n",
              "      background-color: #434B5C;\n",
              "      box-shadow: 0px 1px 3px 1px rgba(0, 0, 0, 0.15);\n",
              "      filter: drop-shadow(0px 1px 2px rgba(0, 0, 0, 0.3));\n",
              "      fill: #FFFFFF;\n",
              "    }\n",
              "  </style>\n",
              "\n",
              "      <script>\n",
              "        const buttonEl =\n",
              "          document.querySelector('#df-94a25bfb-b1cf-4256-8575-46b907cb6c5d button.colab-df-convert');\n",
              "        buttonEl.style.display =\n",
              "          google.colab.kernel.accessAllowed ? 'block' : 'none';\n",
              "\n",
              "        async function convertToInteractive(key) {\n",
              "          const element = document.querySelector('#df-94a25bfb-b1cf-4256-8575-46b907cb6c5d');\n",
              "          const dataTable =\n",
              "            await google.colab.kernel.invokeFunction('convertToInteractive',\n",
              "                                                     [key], {});\n",
              "          if (!dataTable) return;\n",
              "\n",
              "          const docLinkHtml = 'Like what you see? Visit the ' +\n",
              "            '<a target=\"_blank\" href=https://colab.research.google.com/notebooks/data_table.ipynb>data table notebook</a>'\n",
              "            + ' to learn more about interactive tables.';\n",
              "          element.innerHTML = '';\n",
              "          dataTable['output_type'] = 'display_data';\n",
              "          await google.colab.output.renderOutput(dataTable, element);\n",
              "          const docLink = document.createElement('div');\n",
              "          docLink.innerHTML = docLinkHtml;\n",
              "          element.appendChild(docLink);\n",
              "        }\n",
              "      </script>\n",
              "    </div>\n",
              "  </div>\n",
              "  "
            ],
            "text/plain": [
              "        uniqueID            drugName              condition  \\\n",
              "161292    191035             Campral     Alcohol Dependence   \n",
              "161293    127085      Metoclopramide        Nausea/Vomiting   \n",
              "161294    187382             Orencia   Rheumatoid Arthritis   \n",
              "161295     47128  Thyroid desiccated    Underactive Thyroid   \n",
              "161296    215220        Lubiprostone  Constipation, Chronic   \n",
              "\n",
              "                                                   review  rating       date  \\\n",
              "161292  \"I wrote my first report in Mid-October of 201...      10  31-May-15   \n",
              "161293  \"I was given this in IV before surgey. I immed...       1   1-Nov-11   \n",
              "161294  \"Limited improvement after 4 months, developed...       2  15-Mar-14   \n",
              "161295  \"I&#039;ve been on thyroid medication 49 years...      10  19-Sep-15   \n",
              "161296  \"I&#039;ve had chronic constipation all my adu...       9  13-Dec-14   \n",
              "\n",
              "        usefulCount  \n",
              "161292          125  \n",
              "161293           34  \n",
              "161294           35  \n",
              "161295           79  \n",
              "161296          116  "
            ]
          },
          "execution_count": 5,
          "metadata": {},
          "output_type": "execute_result"
        }
      ],
      "source": [
        "df.tail()"
      ]
    },
    {
      "cell_type": "code",
      "execution_count": null,
      "metadata": {
        "colab": {
          "base_uri": "https://localhost:8080/"
        },
        "id": "R9V4GTjK0XGM",
        "outputId": "dfc9369d-ad7c-4d88-c8b5-bb30908e427c"
      },
      "outputs": [
        {
          "data": {
            "text/plain": [
              "Index(['uniqueID', 'drugName', 'condition', 'review', 'rating', 'date',\n",
              "       'usefulCount'],\n",
              "      dtype='object')"
            ]
          },
          "execution_count": 6,
          "metadata": {},
          "output_type": "execute_result"
        }
      ],
      "source": [
        "df.columns"
      ]
    },
    {
      "cell_type": "code",
      "execution_count": null,
      "metadata": {
        "colab": {
          "base_uri": "https://localhost:8080/"
        },
        "id": "g3Fk6biCnJaG",
        "outputId": "3f2df699-ea3f-40ad-a9ef-b5adac3bf3bb"
      },
      "outputs": [
        {
          "data": {
            "text/plain": [
              "uniqueID        int64\n",
              "drugName       object\n",
              "condition      object\n",
              "review         object\n",
              "rating          int64\n",
              "date           object\n",
              "usefulCount     int64\n",
              "dtype: object"
            ]
          },
          "execution_count": 4,
          "metadata": {},
          "output_type": "execute_result"
        }
      ],
      "source": [
        "df.dtypes"
      ]
    },
    {
      "cell_type": "code",
      "execution_count": null,
      "metadata": {
        "colab": {
          "base_uri": "https://localhost:8080/",
          "height": 341
        },
        "id": "lJjFv1aynL7Z",
        "outputId": "7cd25ca4-b818-4a88-bb3b-b0a30bbd0e39"
      },
      "outputs": [
        {
          "data": {
            "text/html": [
              "\n",
              "  <div id=\"df-00f985b8-4b74-4a02-b5ad-cfe67ba4a6d8\">\n",
              "    <div class=\"colab-df-container\">\n",
              "      <div>\n",
              "<style scoped>\n",
              "    .dataframe tbody tr th:only-of-type {\n",
              "        vertical-align: middle;\n",
              "    }\n",
              "\n",
              "    .dataframe tbody tr th {\n",
              "        vertical-align: top;\n",
              "    }\n",
              "\n",
              "    .dataframe thead th {\n",
              "        text-align: right;\n",
              "    }\n",
              "</style>\n",
              "<table border=\"1\" class=\"dataframe\">\n",
              "  <thead>\n",
              "    <tr style=\"text-align: right;\">\n",
              "      <th></th>\n",
              "      <th>uniqueID</th>\n",
              "      <th>drugName</th>\n",
              "      <th>condition</th>\n",
              "      <th>review</th>\n",
              "      <th>rating</th>\n",
              "      <th>date</th>\n",
              "      <th>usefulCount</th>\n",
              "    </tr>\n",
              "  </thead>\n",
              "  <tbody>\n",
              "    <tr>\n",
              "      <th>count</th>\n",
              "      <td>161297.000000</td>\n",
              "      <td>161297</td>\n",
              "      <td>160398</td>\n",
              "      <td>161297</td>\n",
              "      <td>161297.000000</td>\n",
              "      <td>161297</td>\n",
              "      <td>161297.000000</td>\n",
              "    </tr>\n",
              "    <tr>\n",
              "      <th>unique</th>\n",
              "      <td>NaN</td>\n",
              "      <td>3436</td>\n",
              "      <td>884</td>\n",
              "      <td>112329</td>\n",
              "      <td>NaN</td>\n",
              "      <td>3579</td>\n",
              "      <td>NaN</td>\n",
              "    </tr>\n",
              "    <tr>\n",
              "      <th>top</th>\n",
              "      <td>NaN</td>\n",
              "      <td>Levonorgestrel</td>\n",
              "      <td>Birth Control</td>\n",
              "      <td>\"Good\"</td>\n",
              "      <td>NaN</td>\n",
              "      <td>1-Mar-16</td>\n",
              "      <td>NaN</td>\n",
              "    </tr>\n",
              "    <tr>\n",
              "      <th>freq</th>\n",
              "      <td>NaN</td>\n",
              "      <td>3657</td>\n",
              "      <td>28788</td>\n",
              "      <td>33</td>\n",
              "      <td>NaN</td>\n",
              "      <td>146</td>\n",
              "      <td>NaN</td>\n",
              "    </tr>\n",
              "    <tr>\n",
              "      <th>mean</th>\n",
              "      <td>115923.585305</td>\n",
              "      <td>NaN</td>\n",
              "      <td>NaN</td>\n",
              "      <td>NaN</td>\n",
              "      <td>6.994377</td>\n",
              "      <td>NaN</td>\n",
              "      <td>28.004755</td>\n",
              "    </tr>\n",
              "    <tr>\n",
              "      <th>std</th>\n",
              "      <td>67004.445170</td>\n",
              "      <td>NaN</td>\n",
              "      <td>NaN</td>\n",
              "      <td>NaN</td>\n",
              "      <td>3.272329</td>\n",
              "      <td>NaN</td>\n",
              "      <td>36.403742</td>\n",
              "    </tr>\n",
              "    <tr>\n",
              "      <th>min</th>\n",
              "      <td>2.000000</td>\n",
              "      <td>NaN</td>\n",
              "      <td>NaN</td>\n",
              "      <td>NaN</td>\n",
              "      <td>1.000000</td>\n",
              "      <td>NaN</td>\n",
              "      <td>0.000000</td>\n",
              "    </tr>\n",
              "    <tr>\n",
              "      <th>25%</th>\n",
              "      <td>58063.000000</td>\n",
              "      <td>NaN</td>\n",
              "      <td>NaN</td>\n",
              "      <td>NaN</td>\n",
              "      <td>5.000000</td>\n",
              "      <td>NaN</td>\n",
              "      <td>6.000000</td>\n",
              "    </tr>\n",
              "    <tr>\n",
              "      <th>50%</th>\n",
              "      <td>115744.000000</td>\n",
              "      <td>NaN</td>\n",
              "      <td>NaN</td>\n",
              "      <td>NaN</td>\n",
              "      <td>8.000000</td>\n",
              "      <td>NaN</td>\n",
              "      <td>16.000000</td>\n",
              "    </tr>\n",
              "    <tr>\n",
              "      <th>75%</th>\n",
              "      <td>173776.000000</td>\n",
              "      <td>NaN</td>\n",
              "      <td>NaN</td>\n",
              "      <td>NaN</td>\n",
              "      <td>10.000000</td>\n",
              "      <td>NaN</td>\n",
              "      <td>36.000000</td>\n",
              "    </tr>\n",
              "    <tr>\n",
              "      <th>max</th>\n",
              "      <td>232291.000000</td>\n",
              "      <td>NaN</td>\n",
              "      <td>NaN</td>\n",
              "      <td>NaN</td>\n",
              "      <td>10.000000</td>\n",
              "      <td>NaN</td>\n",
              "      <td>1291.000000</td>\n",
              "    </tr>\n",
              "  </tbody>\n",
              "</table>\n",
              "</div>\n",
              "      <button class=\"colab-df-convert\" onclick=\"convertToInteractive('df-00f985b8-4b74-4a02-b5ad-cfe67ba4a6d8')\"\n",
              "              title=\"Convert this dataframe to an interactive table.\"\n",
              "              style=\"display:none;\">\n",
              "        \n",
              "  <svg xmlns=\"http://www.w3.org/2000/svg\" height=\"24px\"viewBox=\"0 0 24 24\"\n",
              "       width=\"24px\">\n",
              "    <path d=\"M0 0h24v24H0V0z\" fill=\"none\"/>\n",
              "    <path d=\"M18.56 5.44l.94 2.06.94-2.06 2.06-.94-2.06-.94-.94-2.06-.94 2.06-2.06.94zm-11 1L8.5 8.5l.94-2.06 2.06-.94-2.06-.94L8.5 2.5l-.94 2.06-2.06.94zm10 10l.94 2.06.94-2.06 2.06-.94-2.06-.94-.94-2.06-.94 2.06-2.06.94z\"/><path d=\"M17.41 7.96l-1.37-1.37c-.4-.4-.92-.59-1.43-.59-.52 0-1.04.2-1.43.59L10.3 9.45l-7.72 7.72c-.78.78-.78 2.05 0 2.83L4 21.41c.39.39.9.59 1.41.59.51 0 1.02-.2 1.41-.59l7.78-7.78 2.81-2.81c.8-.78.8-2.07 0-2.86zM5.41 20L4 18.59l7.72-7.72 1.47 1.35L5.41 20z\"/>\n",
              "  </svg>\n",
              "      </button>\n",
              "      \n",
              "  <style>\n",
              "    .colab-df-container {\n",
              "      display:flex;\n",
              "      flex-wrap:wrap;\n",
              "      gap: 12px;\n",
              "    }\n",
              "\n",
              "    .colab-df-convert {\n",
              "      background-color: #E8F0FE;\n",
              "      border: none;\n",
              "      border-radius: 50%;\n",
              "      cursor: pointer;\n",
              "      display: none;\n",
              "      fill: #1967D2;\n",
              "      height: 32px;\n",
              "      padding: 0 0 0 0;\n",
              "      width: 32px;\n",
              "    }\n",
              "\n",
              "    .colab-df-convert:hover {\n",
              "      background-color: #E2EBFA;\n",
              "      box-shadow: 0px 1px 2px rgba(60, 64, 67, 0.3), 0px 1px 3px 1px rgba(60, 64, 67, 0.15);\n",
              "      fill: #174EA6;\n",
              "    }\n",
              "\n",
              "    [theme=dark] .colab-df-convert {\n",
              "      background-color: #3B4455;\n",
              "      fill: #D2E3FC;\n",
              "    }\n",
              "\n",
              "    [theme=dark] .colab-df-convert:hover {\n",
              "      background-color: #434B5C;\n",
              "      box-shadow: 0px 1px 3px 1px rgba(0, 0, 0, 0.15);\n",
              "      filter: drop-shadow(0px 1px 2px rgba(0, 0, 0, 0.3));\n",
              "      fill: #FFFFFF;\n",
              "    }\n",
              "  </style>\n",
              "\n",
              "      <script>\n",
              "        const buttonEl =\n",
              "          document.querySelector('#df-00f985b8-4b74-4a02-b5ad-cfe67ba4a6d8 button.colab-df-convert');\n",
              "        buttonEl.style.display =\n",
              "          google.colab.kernel.accessAllowed ? 'block' : 'none';\n",
              "\n",
              "        async function convertToInteractive(key) {\n",
              "          const element = document.querySelector('#df-00f985b8-4b74-4a02-b5ad-cfe67ba4a6d8');\n",
              "          const dataTable =\n",
              "            await google.colab.kernel.invokeFunction('convertToInteractive',\n",
              "                                                     [key], {});\n",
              "          if (!dataTable) return;\n",
              "\n",
              "          const docLinkHtml = 'Like what you see? Visit the ' +\n",
              "            '<a target=\"_blank\" href=https://colab.research.google.com/notebooks/data_table.ipynb>data table notebook</a>'\n",
              "            + ' to learn more about interactive tables.';\n",
              "          element.innerHTML = '';\n",
              "          dataTable['output_type'] = 'display_data';\n",
              "          await google.colab.output.renderOutput(dataTable, element);\n",
              "          const docLink = document.createElement('div');\n",
              "          docLink.innerHTML = docLinkHtml;\n",
              "          element.appendChild(docLink);\n",
              "        }\n",
              "      </script>\n",
              "    </div>\n",
              "  </div>\n",
              "  "
            ],
            "text/plain": [
              "             uniqueID        drugName      condition  review         rating  \\\n",
              "count   161297.000000          161297         160398  161297  161297.000000   \n",
              "unique            NaN            3436            884  112329            NaN   \n",
              "top               NaN  Levonorgestrel  Birth Control  \"Good\"            NaN   \n",
              "freq              NaN            3657          28788      33            NaN   \n",
              "mean    115923.585305             NaN            NaN     NaN       6.994377   \n",
              "std      67004.445170             NaN            NaN     NaN       3.272329   \n",
              "min          2.000000             NaN            NaN     NaN       1.000000   \n",
              "25%      58063.000000             NaN            NaN     NaN       5.000000   \n",
              "50%     115744.000000             NaN            NaN     NaN       8.000000   \n",
              "75%     173776.000000             NaN            NaN     NaN      10.000000   \n",
              "max     232291.000000             NaN            NaN     NaN      10.000000   \n",
              "\n",
              "            date    usefulCount  \n",
              "count     161297  161297.000000  \n",
              "unique      3579            NaN  \n",
              "top     1-Mar-16            NaN  \n",
              "freq         146            NaN  \n",
              "mean         NaN      28.004755  \n",
              "std          NaN      36.403742  \n",
              "min          NaN       0.000000  \n",
              "25%          NaN       6.000000  \n",
              "50%          NaN      16.000000  \n",
              "75%          NaN      36.000000  \n",
              "max          NaN    1291.000000  "
            ]
          },
          "execution_count": 5,
          "metadata": {},
          "output_type": "execute_result"
        }
      ],
      "source": [
        "df.describe(include='all')"
      ]
    },
    {
      "cell_type": "code",
      "execution_count": null,
      "metadata": {
        "colab": {
          "base_uri": "https://localhost:8080/"
        },
        "id": "SJSnT-EOnW3j",
        "outputId": "cb5201cf-b110-4e8e-a440-bd6f9fe93bc2"
      },
      "outputs": [
        {
          "name": "stdout",
          "output_type": "stream",
          "text": [
            "<class 'pandas.core.frame.DataFrame'>\n",
            "RangeIndex: 161297 entries, 0 to 161296\n",
            "Data columns (total 7 columns):\n",
            " #   Column       Non-Null Count   Dtype \n",
            "---  ------       --------------   ----- \n",
            " 0   uniqueID     161297 non-null  int64 \n",
            " 1   drugName     161297 non-null  object\n",
            " 2   condition    160398 non-null  object\n",
            " 3   review       161297 non-null  object\n",
            " 4   rating       161297 non-null  int64 \n",
            " 5   date         161297 non-null  object\n",
            " 6   usefulCount  161297 non-null  int64 \n",
            "dtypes: int64(3), object(4)\n",
            "memory usage: 8.6+ MB\n"
          ]
        }
      ],
      "source": [
        "df.info()"
      ]
    },
    {
      "cell_type": "code",
      "execution_count": null,
      "metadata": {
        "colab": {
          "base_uri": "https://localhost:8080/"
        },
        "id": "EJD6Il9rnbc-",
        "outputId": "4cac8e95-a617-4064-c4af-e9f3bf2703bd"
      },
      "outputs": [
        {
          "data": {
            "text/plain": [
              "uniqueID         0\n",
              "drugName         0\n",
              "condition      899\n",
              "review           0\n",
              "rating           0\n",
              "date             0\n",
              "usefulCount      0\n",
              "dtype: int64"
            ]
          },
          "execution_count": 7,
          "metadata": {},
          "output_type": "execute_result"
        }
      ],
      "source": [
        "df.isna().sum()"
      ]
    },
    {
      "cell_type": "markdown",
      "metadata": {
        "id": "-__74sBj1M-U"
      },
      "source": [
        "#**Preliminary data exploration**"
      ]
    },
    {
      "cell_type": "markdown",
      "source": [
        "**Analyzing 'drugName' column**"
      ],
      "metadata": {
        "id": "7H6TXnbPsPmc"
      }
    },
    {
      "cell_type": "code",
      "execution_count": null,
      "metadata": {
        "colab": {
          "base_uri": "https://localhost:8080/"
        },
        "id": "aRBBE09W0jdT",
        "outputId": "0f65dec6-9c90-471d-96ff-b8be8e6e262d"
      },
      "outputs": [
        {
          "data": {
            "text/plain": [
              "Levonorgestrel                       3657\n",
              "Etonogestrel                         3336\n",
              "Ethinyl estradiol / norethindrone    2850\n",
              "Nexplanon                            2156\n",
              "Ethinyl estradiol / norgestimate     2117\n",
              "                                     ... \n",
              "Omnipaque 350                           1\n",
              "Vontrol                                 1\n",
              "Ivabradine                              1\n",
              "Neo-Poly-Dex                            1\n",
              "Grifulvin V                             1\n",
              "Name: drugName, Length: 3436, dtype: int64"
            ]
          },
          "execution_count": 8,
          "metadata": {},
          "output_type": "execute_result"
        }
      ],
      "source": [
        "drug=df['drugName'].value_counts()\n",
        "drug"
      ]
    },
    {
      "cell_type": "markdown",
      "metadata": {
        "id": "pANxq8M65w2O"
      },
      "source": [
        "> **plotting top 20 drugs**"
      ]
    },
    {
      "cell_type": "code",
      "execution_count": null,
      "metadata": {
        "colab": {
          "base_uri": "https://localhost:8080/",
          "height": 636
        },
        "id": "-fapWR4u1pUP",
        "outputId": "b650ed5b-aefd-4062-94ee-e792578cc1cf"
      },
      "outputs": [
        {
          "data": {
            "text/plain": [
              "Text(0, 0.5, 'count')"
            ]
          },
          "execution_count": 9,
          "metadata": {},
          "output_type": "execute_result"
        },
        {
          "data": {
            "image/png": "[encoded data removed]",
            "text/plain": [
              "<Figure size 1080x432 with 1 Axes>"
            ]
          },
          "metadata": {},
          "output_type": "display_data"
        }
      ],
      "source": [
        "plt.figure(figsize=(15,6))\n",
        "sns.set(font_scale=1.2)\n",
        "\n",
        "drug[:20].plot.bar()\n",
        "plt.title(\"top 20 most prescribed drugs\")\n",
        "plt.xlabel(\"drugs\")\n",
        "plt.ylabel(\"count\")"
      ]
    },
    {
      "cell_type": "markdown",
      "source": [
        "**Analyzing 'condition' column**"
      ],
      "metadata": {
        "id": "-3R_EWdnsIRd"
      }
    },
    {
      "cell_type": "code",
      "execution_count": null,
      "metadata": {
        "colab": {
          "base_uri": "https://localhost:8080/"
        },
        "id": "6IRZo9932G49",
        "outputId": "93518a94-6c40-41fc-9f89-132e6b16caa2"
      },
      "outputs": [
        {
          "data": {
            "text/plain": [
              "Birth Control                                              28788\n",
              "Depression                                                  9069\n",
              "Pain                                                        6145\n",
              "Anxiety                                                     5904\n",
              "Acne                                                        5588\n",
              "                                                           ...  \n",
              "Dissociative Identity Disorde                                  1\n",
              "Hydrocephalus                                                  1\n",
              "Hyperlipoproteinemia Type III, Elevated beta-VLDL   IDL        1\n",
              "Q Feve                                                         1\n",
              "Neutropenia                                                    1\n",
              "Name: condition, Length: 884, dtype: int64"
            ]
          },
          "execution_count": 10,
          "metadata": {},
          "output_type": "execute_result"
        }
      ],
      "source": [
        "condition=df['condition'].value_counts()\n",
        "condition"
      ]
    },
    {
      "cell_type": "markdown",
      "metadata": {
        "id": "Cj8ptBnC6fZr"
      },
      "source": [
        "> **ploting top 20 common conditions**"
      ]
    },
    {
      "cell_type": "code",
      "execution_count": null,
      "metadata": {
        "colab": {
          "base_uri": "https://localhost:8080/",
          "height": 599
        },
        "id": "_Rh_1Eh66VOf",
        "outputId": "aabf538c-d817-41ce-eff1-863325387942"
      },
      "outputs": [
        {
          "data": {
            "text/plain": [
              "Text(0, 0.5, 'count')"
            ]
          },
          "execution_count": 11,
          "metadata": {},
          "output_type": "execute_result"
        },
        {
          "data": {
            "image/png": "[encoded data removed]",
            "text/plain": [
              "<Figure size 1080x432 with 1 Axes>"
            ]
          },
          "metadata": {},
          "output_type": "display_data"
        }
      ],
      "source": [
        "plt.figure(figsize=(15,6))\n",
        "sns.set(font_scale=1.2)\n",
        "\n",
        "condition[:20].plot.bar()\n",
        "plt.title(\"top 20 most common conditions\")\n",
        "plt.xlabel(\"condition\")\n",
        "plt.ylabel(\"count\")"
      ]
    },
    {
      "cell_type": "markdown",
      "metadata": {
        "id": "kgz-i4wdzEbl"
      },
      "source": [
        "> **Plotting least 20 common conditions**"
      ]
    },
    {
      "cell_type": "code",
      "execution_count": null,
      "metadata": {
        "colab": {
          "base_uri": "https://localhost:8080/",
          "height": 786
        },
        "id": "wmthNwJDzEAR",
        "outputId": "99208016-106a-4dce-d7c8-9e34b238757e"
      },
      "outputs": [
        {
          "data": {
            "text/plain": [
              "Text(0, 0.5, 'count')"
            ]
          },
          "execution_count": 12,
          "metadata": {},
          "output_type": "execute_result"
        },
        {
          "data": {
            "image/png": "[encoded data removed]",
            "text/plain": [
              "<Figure size 1080x432 with 1 Axes>"
            ]
          },
          "metadata": {},
          "output_type": "display_data"
        }
      ],
      "source": [
        "plt.figure(figsize=(15,6))\n",
        "sns.set(font_scale=1.2)\n",
        "\n",
        "condition[-20:].plot.bar()\n",
        "plt.title(\"least 20 most common conditions\")\n",
        "plt.xlabel(\"condition\")\n",
        "plt.ylabel(\"count\")"
      ]
    },
    {
      "cell_type": "markdown",
      "metadata": {
        "id": "QeLhx1rGzgRg"
      },
      "source": [
        "> it should be noted that the phrase \"<./span> users found this comment helpful\" appears in the condition. we will delete these rows during preprocessing step\n",
        "\n"
      ]
    },
    {
      "cell_type": "markdown",
      "metadata": {
        "id": "VWXmhc3DkXcX"
      },
      "source": [
        "> **ploting Top 10 drugs which are used for the top condition, that is Birth Control**"
      ]
    },
    {
      "cell_type": "code",
      "execution_count": null,
      "metadata": {
        "colab": {
          "base_uri": "https://localhost:8080/",
          "height": 810
        },
        "id": "7Pk--MfNkWY0",
        "outputId": "06084dde-2408-4c1a-edfd-598c52a529f2"
      },
      "outputs": [
        {
          "data": {
            "text/plain": [
              "Etonogestrel                          3314\n",
              "Ethinyl estradiol / norethindrone     2337\n",
              "Nexplanon                             2149\n",
              "Levonorgestrel                        2129\n",
              "Ethinyl estradiol / levonorgestrel    1600\n",
              "Ethinyl estradiol / norgestimate      1580\n",
              "Implanon                              1095\n",
              "Mirena                                 965\n",
              "Skyla                                  822\n",
              "Lo Loestrin Fe                         667\n",
              "Name: drugName, dtype: int64"
            ]
          },
          "execution_count": 15,
          "metadata": {},
          "output_type": "execute_result"
        },
        {
          "data": {
            "image/png": "[encoded data removed]",
            "text/plain": [
              "<Figure size 1080x432 with 1 Axes>"
            ]
          },
          "metadata": {},
          "output_type": "display_data"
        }
      ],
      "source": [
        "drug1=df[df['condition']=='Birth Control']['drugName'].value_counts()[0:10]\n",
        "\n",
        "sns.set(font_scale = 1.2)\n",
        "plt.figure(figsize=(15,6))\n",
        "sns.barplot(x=drug1.index,y=drug1.values).set(title=\"Top 10 Drugs used for Birth Control\",xlabel='drug Names',ylabel='counts')\n",
        "plt.xticks(rotation=90)\n",
        "drug1"
      ]
    },
    {
      "cell_type": "markdown",
      "source": [
        ">**Analyzing rating column**"
      ],
      "metadata": {
        "id": "tuKQTbIgsAr_"
      }
    },
    {
      "cell_type": "code",
      "execution_count": null,
      "metadata": {
        "colab": {
          "base_uri": "https://localhost:8080/"
        },
        "id": "FysqaYuU8-J8",
        "outputId": "e2e693fa-7ec6-4649-ddbc-5471ad298b6b"
      },
      "outputs": [
        {
          "data": {
            "text/plain": [
              "10    50989\n",
              "9     27531\n",
              "1     21619\n",
              "8     18890\n",
              "7      9456\n",
              "5      8013\n",
              "2      6931\n",
              "3      6513\n",
              "6      6343\n",
              "4      5012\n",
              "Name: rating, dtype: int64"
            ]
          },
          "execution_count": 16,
          "metadata": {},
          "output_type": "execute_result"
        }
      ],
      "source": [
        "ratings=df['rating'].value_counts()\n",
        "ratings"
      ]
    },
    {
      "cell_type": "code",
      "execution_count": null,
      "metadata": {
        "colab": {
          "base_uri": "https://localhost:8080/",
          "height": 415
        },
        "id": "dZTjpzLq9JCC",
        "outputId": "39295069-146e-41fa-dec6-12158529b219"
      },
      "outputs": [
        {
          "data": {
            "text/plain": [
              "<AxesSubplot:xlabel='rating', ylabel='count'>"
            ]
          },
          "execution_count": 17,
          "metadata": {},
          "output_type": "execute_result"
        },
        {
          "data": {
            "image/png": "[encoded data removed]",
            "text/plain": [
              "<Figure size 1080x432 with 1 Axes>"
            ]
          },
          "metadata": {},
          "output_type": "display_data"
        }
      ],
      "source": [
        "plt.figure(figsize=(15,6))\n",
        "sns.set(font_scale=1.2)\n",
        "sns.countplot('rating',data=df)"
      ]
    },
    {
      "cell_type": "markdown",
      "metadata": {
        "id": "opmLp6im9pTP"
      },
      "source": [
        "> **ploting top 10 drugs with 10/10 rating**"
      ]
    },
    {
      "cell_type": "code",
      "execution_count": null,
      "metadata": {
        "colab": {
          "base_uri": "https://localhost:8080/",
          "height": 809
        },
        "id": "-hMpjJz29bg4",
        "outputId": "0e6722be-5043-4e11-816a-ca2cb8cb5920"
      },
      "outputs": [
        {
          "data": {
            "text/plain": [
              "(array([0, 1, 2, 3, 4, 5, 6, 7, 8, 9]),\n",
              " [Text(0, 0, 'Levonorgestrel'),\n",
              "  Text(1, 0, 'Phentermine'),\n",
              "  Text(2, 0, 'Etonogestrel'),\n",
              "  Text(3, 0, 'Varenicline'),\n",
              "  Text(4, 0, 'Ethinyl estradiol / norethindrone'),\n",
              "  Text(5, 0, 'Escitalopram'),\n",
              "  Text(6, 0, 'Clonazepam'),\n",
              "  Text(7, 0, 'Alprazolam'),\n",
              "  Text(8, 0, 'Plan B'),\n",
              "  Text(9, 0, 'Sertraline')])"
            ]
          },
          "execution_count": 6,
          "metadata": {},
          "output_type": "execute_result"
        },
        {
          "data": {
            "image/png": "[encoded data removed]",
            "text/plain": [
              "<Figure size 1080x432 with 1 Axes>"
            ]
          },
          "metadata": {},
          "output_type": "display_data"
        }
      ],
      "source": [
        "rating1=df[df['rating']==10]['drugName'].value_counts()[:10]\n",
        "\n",
        "sns.set(font_scale = 1.2)\n",
        "plt.figure(figsize=(15,6))\n",
        "sns.barplot(x=rating1.index,y=rating1.values).set(title=\"Top 10 drugs with 10/10 rating\",xlabel='drug Names',ylabel='Number of Ratings')\n",
        "plt.xticks(rotation=90)"
      ]
    },
    {
      "cell_type": "markdown",
      "metadata": {
        "id": "BXNOueMzgrMv"
      },
      "source": [
        "> **Ploting 10 drugs with the 1/10 rating**"
      ]
    },
    {
      "cell_type": "code",
      "execution_count": null,
      "metadata": {
        "colab": {
          "base_uri": "https://localhost:8080/",
          "height": 810
        },
        "id": "eAmrrghlg5Hn",
        "outputId": "756268dc-a8ee-4632-8c49-c353bf5a0823"
      },
      "outputs": [
        {
          "data": {
            "text/plain": [
              "(array([0, 1, 2, 3, 4, 5, 6, 7, 8, 9]),\n",
              " [Text(0, 0, 'Ethinyl estradiol / norethindrone'),\n",
              "  Text(1, 0, 'Miconazole'),\n",
              "  Text(2, 0, 'Etonogestrel'),\n",
              "  Text(3, 0, 'Levonorgestrel'),\n",
              "  Text(4, 0, 'Nexplanon'),\n",
              "  Text(5, 0, 'Ethinyl estradiol / norgestimate'),\n",
              "  Text(6, 0, 'Medroxyprogesterone'),\n",
              "  Text(7, 0, 'Depo-Provera'),\n",
              "  Text(8, 0, 'Ethinyl estradiol / levonorgestrel'),\n",
              "  Text(9, 0, 'Tioconazole')])"
            ]
          },
          "execution_count": 18,
          "metadata": {},
          "output_type": "execute_result"
        },
        {
          "data": {
            "image/png": "[encoded data removed]",
            "text/plain": [
              "<Figure size 1080x432 with 1 Axes>"
            ]
          },
          "metadata": {},
          "output_type": "display_data"
        }
      ],
      "source": [
        "rating1=df[df['rating']==1]['drugName'].value_counts()[:10]\n",
        "\n",
        "sns.set(font_scale = 1.2)\n",
        "plt.figure(figsize=(15,6))\n",
        "sns.barplot(x=rating1.index,y=rating1.values).set(title=\"10 drugs with 1/10 rating\",xlabel='drug Names',ylabel='Number of Ratings')\n",
        "plt.xticks(rotation=90)"
      ]
    },
    {
      "cell_type": "markdown",
      "source": [
        ">**Analyzing 'usefulcount' column**"
      ],
      "metadata": {
        "id": "PUTsus0_s7Nq"
      }
    },
    {
      "cell_type": "markdown",
      "source": [
        "> **printing 10 rows of the dataframe with most number of useful counts**"
      ],
      "metadata": {
        "id": "7tYhPPVrtVQA"
      }
    },
    {
      "cell_type": "code",
      "execution_count": null,
      "metadata": {
        "colab": {
          "base_uri": "https://localhost:8080/",
          "height": 363
        },
        "id": "VWTA20r9GLpT",
        "outputId": "d45eca43-2bca-4827-db7d-d640428c77c1"
      },
      "outputs": [
        {
          "data": {
            "text/html": [
              "\n",
              "  <div id=\"df-150738e9-e292-40af-b0e5-46fb565558e5\">\n",
              "    <div class=\"colab-df-container\">\n",
              "      <div>\n",
              "<style scoped>\n",
              "    .dataframe tbody tr th:only-of-type {\n",
              "        vertical-align: middle;\n",
              "    }\n",
              "\n",
              "    .dataframe tbody tr th {\n",
              "        vertical-align: top;\n",
              "    }\n",
              "\n",
              "    .dataframe thead th {\n",
              "        text-align: right;\n",
              "    }\n",
              "</style>\n",
              "<table border=\"1\" class=\"dataframe\">\n",
              "  <thead>\n",
              "    <tr style=\"text-align: right;\">\n",
              "      <th></th>\n",
              "      <th>uniqueID</th>\n",
              "      <th>drugName</th>\n",
              "      <th>condition</th>\n",
              "      <th>review</th>\n",
              "      <th>rating</th>\n",
              "      <th>date</th>\n",
              "      <th>usefulCount</th>\n",
              "    </tr>\n",
              "  </thead>\n",
              "  <tbody>\n",
              "    <tr>\n",
              "      <th>6716</th>\n",
              "      <td>96616</td>\n",
              "      <td>Sertraline</td>\n",
              "      <td>Depression</td>\n",
              "      <td>\"I remember reading people&amp;#039;s opinions, on...</td>\n",
              "      <td>10</td>\n",
              "      <td>31-Jul-08</td>\n",
              "      <td>1291</td>\n",
              "    </tr>\n",
              "    <tr>\n",
              "      <th>33552</th>\n",
              "      <td>119152</td>\n",
              "      <td>Zoloft</td>\n",
              "      <td>Depression</td>\n",
              "      <td>\"I remember reading people&amp;#039;s opinions, on...</td>\n",
              "      <td>10</td>\n",
              "      <td>31-Jul-08</td>\n",
              "      <td>1291</td>\n",
              "    </tr>\n",
              "    <tr>\n",
              "      <th>21708</th>\n",
              "      <td>131116</td>\n",
              "      <td>Levonorgestrel</td>\n",
              "      <td>Birth Control</td>\n",
              "      <td>\"I have had my IUD for over a year now and I t...</td>\n",
              "      <td>10</td>\n",
              "      <td>1-Apr-09</td>\n",
              "      <td>1247</td>\n",
              "    </tr>\n",
              "    <tr>\n",
              "      <th>4249</th>\n",
              "      <td>182560</td>\n",
              "      <td>Mirena</td>\n",
              "      <td>Birth Control</td>\n",
              "      <td>\"I have had my IUD for over a year now and I t...</td>\n",
              "      <td>10</td>\n",
              "      <td>1-Apr-09</td>\n",
              "      <td>1247</td>\n",
              "    </tr>\n",
              "    <tr>\n",
              "      <th>146145</th>\n",
              "      <td>119151</td>\n",
              "      <td>Zoloft</td>\n",
              "      <td>Depression</td>\n",
              "      <td>\"I&amp;#039;ve been on Zoloft 50mg for over two ye...</td>\n",
              "      <td>9</td>\n",
              "      <td>5-Aug-08</td>\n",
              "      <td>949</td>\n",
              "    </tr>\n",
              "    <tr>\n",
              "      <th>58608</th>\n",
              "      <td>139141</td>\n",
              "      <td>Phentermine</td>\n",
              "      <td>Weight Loss</td>\n",
              "      <td>\"I have used this pill off and on for the past...</td>\n",
              "      <td>10</td>\n",
              "      <td>19-Oct-08</td>\n",
              "      <td>796</td>\n",
              "    </tr>\n",
              "    <tr>\n",
              "      <th>16889</th>\n",
              "      <td>52305</td>\n",
              "      <td>Adipex-P</td>\n",
              "      <td>Weight Loss</td>\n",
              "      <td>\"I have used this pill off and on for the past...</td>\n",
              "      <td>10</td>\n",
              "      <td>19-Oct-08</td>\n",
              "      <td>796</td>\n",
              "    </tr>\n",
              "    <tr>\n",
              "      <th>2039</th>\n",
              "      <td>62757</td>\n",
              "      <td>Citalopram</td>\n",
              "      <td>Depression</td>\n",
              "      <td>\"I responded after one week. The side effects ...</td>\n",
              "      <td>8</td>\n",
              "      <td>25-Mar-08</td>\n",
              "      <td>771</td>\n",
              "    </tr>\n",
              "    <tr>\n",
              "      <th>152838</th>\n",
              "      <td>89825</td>\n",
              "      <td>Celexa</td>\n",
              "      <td>Depression</td>\n",
              "      <td>\"I responded after one week. The side effects ...</td>\n",
              "      <td>8</td>\n",
              "      <td>25-Mar-08</td>\n",
              "      <td>771</td>\n",
              "    </tr>\n",
              "    <tr>\n",
              "      <th>5218</th>\n",
              "      <td>107655</td>\n",
              "      <td>Implanon</td>\n",
              "      <td>Birth Control</td>\n",
              "      <td>\"I was very nervous about trying Implanon afte...</td>\n",
              "      <td>10</td>\n",
              "      <td>19-Jul-10</td>\n",
              "      <td>730</td>\n",
              "    </tr>\n",
              "  </tbody>\n",
              "</table>\n",
              "</div>\n",
              "      <button class=\"colab-df-convert\" onclick=\"convertToInteractive('df-150738e9-e292-40af-b0e5-46fb565558e5')\"\n",
              "              title=\"Convert this dataframe to an interactive table.\"\n",
              "              style=\"display:none;\">\n",
              "        \n",
              "  <svg xmlns=\"http://www.w3.org/2000/svg\" height=\"24px\"viewBox=\"0 0 24 24\"\n",
              "       width=\"24px\">\n",
              "    <path d=\"M0 0h24v24H0V0z\" fill=\"none\"/>\n",
              "    <path d=\"M18.56 5.44l.94 2.06.94-2.06 2.06-.94-2.06-.94-.94-2.06-.94 2.06-2.06.94zm-11 1L8.5 8.5l.94-2.06 2.06-.94-2.06-.94L8.5 2.5l-.94 2.06-2.06.94zm10 10l.94 2.06.94-2.06 2.06-.94-2.06-.94-.94-2.06-.94 2.06-2.06.94z\"/><path d=\"M17.41 7.96l-1.37-1.37c-.4-.4-.92-.59-1.43-.59-.52 0-1.04.2-1.43.59L10.3 9.45l-7.72 7.72c-.78.78-.78 2.05 0 2.83L4 21.41c.39.39.9.59 1.41.59.51 0 1.02-.2 1.41-.59l7.78-7.78 2.81-2.81c.8-.78.8-2.07 0-2.86zM5.41 20L4 18.59l7.72-7.72 1.47 1.35L5.41 20z\"/>\n",
              "  </svg>\n",
              "      </button>\n",
              "      \n",
              "  <style>\n",
              "    .colab-df-container {\n",
              "      display:flex;\n",
              "      flex-wrap:wrap;\n",
              "      gap: 12px;\n",
              "    }\n",
              "\n",
              "    .colab-df-convert {\n",
              "      background-color: #E8F0FE;\n",
              "      border: none;\n",
              "      border-radius: 50%;\n",
              "      cursor: pointer;\n",
              "      display: none;\n",
              "      fill: #1967D2;\n",
              "      height: 32px;\n",
              "      padding: 0 0 0 0;\n",
              "      width: 32px;\n",
              "    }\n",
              "\n",
              "    .colab-df-convert:hover {\n",
              "      background-color: #E2EBFA;\n",
              "      box-shadow: 0px 1px 2px rgba(60, 64, 67, 0.3), 0px 1px 3px 1px rgba(60, 64, 67, 0.15);\n",
              "      fill: #174EA6;\n",
              "    }\n",
              "\n",
              "    [theme=dark] .colab-df-convert {\n",
              "      background-color: #3B4455;\n",
              "      fill: #D2E3FC;\n",
              "    }\n",
              "\n",
              "    [theme=dark] .colab-df-convert:hover {\n",
              "      background-color: #434B5C;\n",
              "      box-shadow: 0px 1px 3px 1px rgba(0, 0, 0, 0.15);\n",
              "      filter: drop-shadow(0px 1px 2px rgba(0, 0, 0, 0.3));\n",
              "      fill: #FFFFFF;\n",
              "    }\n",
              "  </style>\n",
              "\n",
              "      <script>\n",
              "        const buttonEl =\n",
              "          document.querySelector('#df-150738e9-e292-40af-b0e5-46fb565558e5 button.colab-df-convert');\n",
              "        buttonEl.style.display =\n",
              "          google.colab.kernel.accessAllowed ? 'block' : 'none';\n",
              "\n",
              "        async function convertToInteractive(key) {\n",
              "          const element = document.querySelector('#df-150738e9-e292-40af-b0e5-46fb565558e5');\n",
              "          const dataTable =\n",
              "            await google.colab.kernel.invokeFunction('convertToInteractive',\n",
              "                                                     [key], {});\n",
              "          if (!dataTable) return;\n",
              "\n",
              "          const docLinkHtml = 'Like what you see? Visit the ' +\n",
              "            '<a target=\"_blank\" href=https://colab.research.google.com/notebooks/data_table.ipynb>data table notebook</a>'\n",
              "            + ' to learn more about interactive tables.';\n",
              "          element.innerHTML = '';\n",
              "          dataTable['output_type'] = 'display_data';\n",
              "          await google.colab.output.renderOutput(dataTable, element);\n",
              "          const docLink = document.createElement('div');\n",
              "          docLink.innerHTML = docLinkHtml;\n",
              "          element.appendChild(docLink);\n",
              "        }\n",
              "      </script>\n",
              "    </div>\n",
              "  </div>\n",
              "  "
            ],
            "text/plain": [
              "        uniqueID        drugName      condition  \\\n",
              "6716       96616      Sertraline     Depression   \n",
              "33552     119152          Zoloft     Depression   \n",
              "21708     131116  Levonorgestrel  Birth Control   \n",
              "4249      182560          Mirena  Birth Control   \n",
              "146145    119151          Zoloft     Depression   \n",
              "58608     139141     Phentermine    Weight Loss   \n",
              "16889      52305        Adipex-P    Weight Loss   \n",
              "2039       62757      Citalopram     Depression   \n",
              "152838     89825          Celexa     Depression   \n",
              "5218      107655        Implanon  Birth Control   \n",
              "\n",
              "                                                   review  rating       date  \\\n",
              "6716    \"I remember reading people&#039;s opinions, on...      10  31-Jul-08   \n",
              "33552   \"I remember reading people&#039;s opinions, on...      10  31-Jul-08   \n",
              "21708   \"I have had my IUD for over a year now and I t...      10   1-Apr-09   \n",
              "4249    \"I have had my IUD for over a year now and I t...      10   1-Apr-09   \n",
              "146145  \"I&#039;ve been on Zoloft 50mg for over two ye...       9   5-Aug-08   \n",
              "58608   \"I have used this pill off and on for the past...      10  19-Oct-08   \n",
              "16889   \"I have used this pill off and on for the past...      10  19-Oct-08   \n",
              "2039    \"I responded after one week. The side effects ...       8  25-Mar-08   \n",
              "152838  \"I responded after one week. The side effects ...       8  25-Mar-08   \n",
              "5218    \"I was very nervous about trying Implanon afte...      10  19-Jul-10   \n",
              "\n",
              "        usefulCount  \n",
              "6716           1291  \n",
              "33552          1291  \n",
              "21708          1247  \n",
              "4249           1247  \n",
              "146145          949  \n",
              "58608           796  \n",
              "16889           796  \n",
              "2039            771  \n",
              "152838          771  \n",
              "5218            730  "
            ]
          },
          "execution_count": 18,
          "metadata": {},
          "output_type": "execute_result"
        }
      ],
      "source": [
        "# Sort dataframe from most to least useful\n",
        "\n",
        "useful=df.sort_values(by='usefulCount',ascending=False)\n",
        "useful.iloc[:10]"
      ]
    },
    {
      "cell_type": "markdown",
      "source": [
        ">**Printing some rows of dataframe with the least number of useful counts**"
      ],
      "metadata": {
        "id": "5F5GSTt7thEU"
      }
    },
    {
      "cell_type": "code",
      "execution_count": null,
      "metadata": {
        "colab": {
          "base_uri": "https://localhost:8080/",
          "height": 331
        },
        "id": "Sk4QHRx79cKt",
        "outputId": "5b5d1181-57e5-463d-a873-2c101f64e11e"
      },
      "outputs": [
        {
          "data": {
            "text/html": [
              "\n",
              "  <div id=\"df-c8cd8222-ee32-4381-a971-fc9e4a67c6e2\">\n",
              "    <div class=\"colab-df-container\">\n",
              "      <div>\n",
              "<style scoped>\n",
              "    .dataframe tbody tr th:only-of-type {\n",
              "        vertical-align: middle;\n",
              "    }\n",
              "\n",
              "    .dataframe tbody tr th {\n",
              "        vertical-align: top;\n",
              "    }\n",
              "\n",
              "    .dataframe thead th {\n",
              "        text-align: right;\n",
              "    }\n",
              "</style>\n",
              "<table border=\"1\" class=\"dataframe\">\n",
              "  <thead>\n",
              "    <tr style=\"text-align: right;\">\n",
              "      <th></th>\n",
              "      <th>uniqueID</th>\n",
              "      <th>drugName</th>\n",
              "      <th>condition</th>\n",
              "      <th>review</th>\n",
              "      <th>rating</th>\n",
              "      <th>date</th>\n",
              "      <th>usefulCount</th>\n",
              "    </tr>\n",
              "  </thead>\n",
              "  <tbody>\n",
              "    <tr>\n",
              "      <th>133874</th>\n",
              "      <td>152154</td>\n",
              "      <td>Chantix</td>\n",
              "      <td>0&lt;/span&gt; users found this comment helpful.</td>\n",
              "      <td>\"I started taking Chantix some time after Chri...</td>\n",
              "      <td>8</td>\n",
              "      <td>26-Feb-09</td>\n",
              "      <td>0</td>\n",
              "    </tr>\n",
              "    <tr>\n",
              "      <th>45450</th>\n",
              "      <td>103115</td>\n",
              "      <td>Estarylla</td>\n",
              "      <td>Birth Control</td>\n",
              "      <td>\"I DO NOT recommend this birth control to anyo...</td>\n",
              "      <td>2</td>\n",
              "      <td>3-Dec-17</td>\n",
              "      <td>0</td>\n",
              "    </tr>\n",
              "    <tr>\n",
              "      <th>92658</th>\n",
              "      <td>177151</td>\n",
              "      <td>Imiglucerase</td>\n",
              "      <td>Gaucher Disease</td>\n",
              "      <td>\"I had very good results using Cerezyme.  I wa...</td>\n",
              "      <td>9</td>\n",
              "      <td>15-Nov-12</td>\n",
              "      <td>0</td>\n",
              "    </tr>\n",
              "    <tr>\n",
              "      <th>73634</th>\n",
              "      <td>142237</td>\n",
              "      <td>Levonorgestrel</td>\n",
              "      <td>Birth Control</td>\n",
              "      <td>\"Skyla is the third birth control method I&amp;rsq...</td>\n",
              "      <td>6</td>\n",
              "      <td>22-Nov-17</td>\n",
              "      <td>0</td>\n",
              "    </tr>\n",
              "    <tr>\n",
              "      <th>27359</th>\n",
              "      <td>6895</td>\n",
              "      <td>Aluminum chloride hexahydrate</td>\n",
              "      <td>Hyperhidrosis</td>\n",
              "      <td>\"It only burns when putting on after shaving o...</td>\n",
              "      <td>10</td>\n",
              "      <td>21-Aug-17</td>\n",
              "      <td>0</td>\n",
              "    </tr>\n",
              "    <tr>\n",
              "      <th>35698</th>\n",
              "      <td>168048</td>\n",
              "      <td>Imipramine</td>\n",
              "      <td>Depression</td>\n",
              "      <td>\"I was on imipramine for a little over a year,...</td>\n",
              "      <td>7</td>\n",
              "      <td>13-Nov-17</td>\n",
              "      <td>0</td>\n",
              "    </tr>\n",
              "    <tr>\n",
              "      <th>35703</th>\n",
              "      <td>107357</td>\n",
              "      <td>Implanon</td>\n",
              "      <td>Birth Control</td>\n",
              "      <td>\"I received Implanon in May of 2008. I am due ...</td>\n",
              "      <td>5</td>\n",
              "      <td>9-Nov-11</td>\n",
              "      <td>0</td>\n",
              "    </tr>\n",
              "    <tr>\n",
              "      <th>92637</th>\n",
              "      <td>123484</td>\n",
              "      <td>Skyla</td>\n",
              "      <td>Birth Control</td>\n",
              "      <td>\"The only warning my gyno gave me was that I w...</td>\n",
              "      <td>8</td>\n",
              "      <td>17-Oct-17</td>\n",
              "      <td>0</td>\n",
              "    </tr>\n",
              "    <tr>\n",
              "      <th>80187</th>\n",
              "      <td>110752</td>\n",
              "      <td>Tri-Luma</td>\n",
              "      <td>Melasma</td>\n",
              "      <td>\"I started yesterday and today I see it darker...</td>\n",
              "      <td>5</td>\n",
              "      <td>20-Jul-17</td>\n",
              "      <td>0</td>\n",
              "    </tr>\n",
              "  </tbody>\n",
              "</table>\n",
              "</div>\n",
              "      <button class=\"colab-df-convert\" onclick=\"convertToInteractive('df-c8cd8222-ee32-4381-a971-fc9e4a67c6e2')\"\n",
              "              title=\"Convert this dataframe to an interactive table.\"\n",
              "              style=\"display:none;\">\n",
              "        \n",
              "  <svg xmlns=\"http://www.w3.org/2000/svg\" height=\"24px\"viewBox=\"0 0 24 24\"\n",
              "       width=\"24px\">\n",
              "    <path d=\"M0 0h24v24H0V0z\" fill=\"none\"/>\n",
              "    <path d=\"M18.56 5.44l.94 2.06.94-2.06 2.06-.94-2.06-.94-.94-2.06-.94 2.06-2.06.94zm-11 1L8.5 8.5l.94-2.06 2.06-.94-2.06-.94L8.5 2.5l-.94 2.06-2.06.94zm10 10l.94 2.06.94-2.06 2.06-.94-2.06-.94-.94-2.06-.94 2.06-2.06.94z\"/><path d=\"M17.41 7.96l-1.37-1.37c-.4-.4-.92-.59-1.43-.59-.52 0-1.04.2-1.43.59L10.3 9.45l-7.72 7.72c-.78.78-.78 2.05 0 2.83L4 21.41c.39.39.9.59 1.41.59.51 0 1.02-.2 1.41-.59l7.78-7.78 2.81-2.81c.8-.78.8-2.07 0-2.86zM5.41 20L4 18.59l7.72-7.72 1.47 1.35L5.41 20z\"/>\n",
              "  </svg>\n",
              "      </button>\n",
              "      \n",
              "  <style>\n",
              "    .colab-df-container {\n",
              "      display:flex;\n",
              "      flex-wrap:wrap;\n",
              "      gap: 12px;\n",
              "    }\n",
              "\n",
              "    .colab-df-convert {\n",
              "      background-color: #E8F0FE;\n",
              "      border: none;\n",
              "      border-radius: 50%;\n",
              "      cursor: pointer;\n",
              "      display: none;\n",
              "      fill: #1967D2;\n",
              "      height: 32px;\n",
              "      padding: 0 0 0 0;\n",
              "      width: 32px;\n",
              "    }\n",
              "\n",
              "    .colab-df-convert:hover {\n",
              "      background-color: #E2EBFA;\n",
              "      box-shadow: 0px 1px 2px rgba(60, 64, 67, 0.3), 0px 1px 3px 1px rgba(60, 64, 67, 0.15);\n",
              "      fill: #174EA6;\n",
              "    }\n",
              "\n",
              "    [theme=dark] .colab-df-convert {\n",
              "      background-color: #3B4455;\n",
              "      fill: #D2E3FC;\n",
              "    }\n",
              "\n",
              "    [theme=dark] .colab-df-convert:hover {\n",
              "      background-color: #434B5C;\n",
              "      box-shadow: 0px 1px 3px 1px rgba(0, 0, 0, 0.15);\n",
              "      filter: drop-shadow(0px 1px 2px rgba(0, 0, 0, 0.3));\n",
              "      fill: #FFFFFF;\n",
              "    }\n",
              "  </style>\n",
              "\n",
              "      <script>\n",
              "        const buttonEl =\n",
              "          document.querySelector('#df-c8cd8222-ee32-4381-a971-fc9e4a67c6e2 button.colab-df-convert');\n",
              "        buttonEl.style.display =\n",
              "          google.colab.kernel.accessAllowed ? 'block' : 'none';\n",
              "\n",
              "        async function convertToInteractive(key) {\n",
              "          const element = document.querySelector('#df-c8cd8222-ee32-4381-a971-fc9e4a67c6e2');\n",
              "          const dataTable =\n",
              "            await google.colab.kernel.invokeFunction('convertToInteractive',\n",
              "                                                     [key], {});\n",
              "          if (!dataTable) return;\n",
              "\n",
              "          const docLinkHtml = 'Like what you see? Visit the ' +\n",
              "            '<a target=\"_blank\" href=https://colab.research.google.com/notebooks/data_table.ipynb>data table notebook</a>'\n",
              "            + ' to learn more about interactive tables.';\n",
              "          element.innerHTML = '';\n",
              "          dataTable['output_type'] = 'display_data';\n",
              "          await google.colab.output.renderOutput(dataTable, element);\n",
              "          const docLink = document.createElement('div');\n",
              "          docLink.innerHTML = docLinkHtml;\n",
              "          element.appendChild(docLink);\n",
              "        }\n",
              "      </script>\n",
              "    </div>\n",
              "  </div>\n",
              "  "
            ],
            "text/plain": [
              "        uniqueID                       drugName  \\\n",
              "133874    152154                        Chantix   \n",
              "45450     103115                      Estarylla   \n",
              "92658     177151                   Imiglucerase   \n",
              "73634     142237                 Levonorgestrel   \n",
              "27359       6895  Aluminum chloride hexahydrate   \n",
              "35698     168048                     Imipramine   \n",
              "35703     107357                       Implanon   \n",
              "92637     123484                          Skyla   \n",
              "80187     110752                       Tri-Luma   \n",
              "\n",
              "                                         condition  \\\n",
              "133874  0</span> users found this comment helpful.   \n",
              "45450                                Birth Control   \n",
              "92658                              Gaucher Disease   \n",
              "73634                                Birth Control   \n",
              "27359                                Hyperhidrosis   \n",
              "35698                                   Depression   \n",
              "35703                                Birth Control   \n",
              "92637                                Birth Control   \n",
              "80187                                      Melasma   \n",
              "\n",
              "                                                   review  rating       date  \\\n",
              "133874  \"I started taking Chantix some time after Chri...       8  26-Feb-09   \n",
              "45450   \"I DO NOT recommend this birth control to anyo...       2   3-Dec-17   \n",
              "92658   \"I had very good results using Cerezyme.  I wa...       9  15-Nov-12   \n",
              "73634   \"Skyla is the third birth control method I&rsq...       6  22-Nov-17   \n",
              "27359   \"It only burns when putting on after shaving o...      10  21-Aug-17   \n",
              "35698   \"I was on imipramine for a little over a year,...       7  13-Nov-17   \n",
              "35703   \"I received Implanon in May of 2008. I am due ...       5   9-Nov-11   \n",
              "92637   \"The only warning my gyno gave me was that I w...       8  17-Oct-17   \n",
              "80187   \"I started yesterday and today I see it darker...       5  20-Jul-17   \n",
              "\n",
              "        usefulCount  \n",
              "133874            0  \n",
              "45450             0  \n",
              "92658             0  \n",
              "73634             0  \n",
              "27359             0  \n",
              "35698             0  \n",
              "35703             0  \n",
              "92637             0  \n",
              "80187             0  "
            ]
          },
          "execution_count": 19,
          "metadata": {},
          "output_type": "execute_result"
        }
      ],
      "source": [
        "useful.iloc[-9:]"
      ]
    },
    {
      "cell_type": "markdown",
      "metadata": {
        "id": "KFGMHabUSoh8"
      },
      "source": [
        "# **Data preprocessing**"
      ]
    },
    {
      "cell_type": "code",
      "execution_count": null,
      "metadata": {
        "colab": {
          "base_uri": "https://localhost:8080/"
        },
        "id": "V_TBz6U7ejx7",
        "outputId": "da15be82-fca9-4f22-b216-4fae7c5a970a"
      },
      "outputs": [
        {
          "output_type": "stream",
          "name": "stdout",
          "text": [
            "Total Size of the dataset :  161297\n",
            "Null values:  899\n",
            "PERCENTAGE :  0.5573569254232875\n"
          ]
        }
      ],
      "source": [
        "# Calculating what percentage of data is null\n",
        "size=len(df)\n",
        "\n",
        "print(\"Total Size of the dataset : \",size)\n",
        "\n",
        "total_na=df.isna().sum()['condition']\n",
        "print(\"Null values: \",total_na)\n",
        "\n",
        "print(\"PERCENTAGE : \",(total_na/size)*100)"
      ]
    },
    {
      "cell_type": "code",
      "execution_count": null,
      "metadata": {
        "colab": {
          "base_uri": "https://localhost:8080/"
        },
        "id": "iR3QcW3Hfm_I",
        "outputId": "ef60cd05-3293-4538-c87b-93e687bd9808"
      },
      "outputs": [
        {
          "output_type": "execute_result",
          "data": {
            "text/plain": [
              "(160398, 7)"
            ]
          },
          "metadata": {},
          "execution_count": 63
        }
      ],
      "source": [
        "# Dropping the data points with null values as it's very much less than 1% of the whole dataset\n",
        "df=df.dropna(axis=0)\n",
        "\n",
        "df = df.reset_index(drop=True)\n",
        "\n",
        "df.shape"
      ]
    },
    {
      "cell_type": "code",
      "execution_count": null,
      "metadata": {
        "colab": {
          "base_uri": "https://localhost:8080/"
        },
        "id": "Ic7FUfxS74hU",
        "outputId": "1755c56f-ef95-4a13-920f-fddbd61b1b35"
      },
      "outputs": [
        {
          "output_type": "execute_result",
          "data": {
            "text/plain": [
              "(159498, 7)"
            ]
          },
          "metadata": {},
          "execution_count": 64
        }
      ],
      "source": [
        "#removing rows in 'contition' column containing \"</span> users found this comment helpful\"\n",
        "\n",
        "all_list = set(df.index)\n",
        "span_list = []\n",
        "for i,j in enumerate(df['condition']):\n",
        "    if '</span>' in j:\n",
        "        span_list.append(i)\n",
        "\n",
        "new_idx = all_list.difference(set(span_list))\n",
        "df = df.iloc[list(new_idx)].reset_index()\n",
        "del df['index']\n",
        "\n",
        "df.shape"
      ]
    },
    {
      "cell_type": "code",
      "execution_count": null,
      "metadata": {
        "colab": {
          "base_uri": "https://localhost:8080/",
          "height": 206
        },
        "id": "IMgIpZDJNeci",
        "outputId": "fc3d9792-22d3-41b2-bbb4-8381a8c0ec30"
      },
      "outputs": [
        {
          "output_type": "execute_result",
          "data": {
            "text/plain": [
              "   uniqueID                  drugName                     condition  \\\n",
              "0    206461                 Valsartan  Left Ventricular Dysfunction   \n",
              "1     95260                Guanfacine                          ADHD   \n",
              "2     92703                    Lybrel                 Birth Control   \n",
              "3    138000                Ortho Evra                 Birth Control   \n",
              "4     35696  Buprenorphine / naloxone             Opiate Dependence   \n",
              "\n",
              "                                              review  rating       date  \\\n",
              "0  \"It has no side effect, I take it in combinati...       9 2012-05-20   \n",
              "1  \"My son is halfway through his fourth week of ...       8 2010-04-27   \n",
              "2  \"I used to take another oral contraceptive, wh...       5 2009-12-14   \n",
              "3  \"This is my first time using any form of birth...       8 2015-11-03   \n",
              "4  \"Suboxone has completely turned my life around...       9 2016-11-27   \n",
              "\n",
              "   usefulCount  Year  month  day  \n",
              "0           27  2012      5   20  \n",
              "1          192  2010      4   27  \n",
              "2           17  2009     12   14  \n",
              "3           10  2015     11    3  \n",
              "4           37  2016     11   27  "
            ],
            "text/html": [
              "\n",
              "  <div id=\"df-c1c1d669-f150-4177-b64d-1e40d64859c7\">\n",
              "    <div class=\"colab-df-container\">\n",
              "      <div>\n",
              "<style scoped>\n",
              "    .dataframe tbody tr th:only-of-type {\n",
              "        vertical-align: middle;\n",
              "    }\n",
              "\n",
              "    .dataframe tbody tr th {\n",
              "        vertical-align: top;\n",
              "    }\n",
              "\n",
              "    .dataframe thead th {\n",
              "        text-align: right;\n",
              "    }\n",
              "</style>\n",
              "<table border=\"1\" class=\"dataframe\">\n",
              "  <thead>\n",
              "    <tr style=\"text-align: right;\">\n",
              "      <th></th>\n",
              "      <th>uniqueID</th>\n",
              "      <th>drugName</th>\n",
              "      <th>condition</th>\n",
              "      <th>review</th>\n",
              "      <th>rating</th>\n",
              "      <th>date</th>\n",
              "      <th>usefulCount</th>\n",
              "      <th>Year</th>\n",
              "      <th>month</th>\n",
              "      <th>day</th>\n",
              "    </tr>\n",
              "  </thead>\n",
              "  <tbody>\n",
              "    <tr>\n",
              "      <th>0</th>\n",
              "      <td>206461</td>\n",
              "      <td>Valsartan</td>\n",
              "      <td>Left Ventricular Dysfunction</td>\n",
              "      <td>\"It has no side effect, I take it in combinati...</td>\n",
              "      <td>9</td>\n",
              "      <td>2012-05-20</td>\n",
              "      <td>27</td>\n",
              "      <td>2012</td>\n",
              "      <td>5</td>\n",
              "      <td>20</td>\n",
              "    </tr>\n",
              "    <tr>\n",
              "      <th>1</th>\n",
              "      <td>95260</td>\n",
              "      <td>Guanfacine</td>\n",
              "      <td>ADHD</td>\n",
              "      <td>\"My son is halfway through his fourth week of ...</td>\n",
              "      <td>8</td>\n",
              "      <td>2010-04-27</td>\n",
              "      <td>192</td>\n",
              "      <td>2010</td>\n",
              "      <td>4</td>\n",
              "      <td>27</td>\n",
              "    </tr>\n",
              "    <tr>\n",
              "      <th>2</th>\n",
              "      <td>92703</td>\n",
              "      <td>Lybrel</td>\n",
              "      <td>Birth Control</td>\n",
              "      <td>\"I used to take another oral contraceptive, wh...</td>\n",
              "      <td>5</td>\n",
              "      <td>2009-12-14</td>\n",
              "      <td>17</td>\n",
              "      <td>2009</td>\n",
              "      <td>12</td>\n",
              "      <td>14</td>\n",
              "    </tr>\n",
              "    <tr>\n",
              "      <th>3</th>\n",
              "      <td>138000</td>\n",
              "      <td>Ortho Evra</td>\n",
              "      <td>Birth Control</td>\n",
              "      <td>\"This is my first time using any form of birth...</td>\n",
              "      <td>8</td>\n",
              "      <td>2015-11-03</td>\n",
              "      <td>10</td>\n",
              "      <td>2015</td>\n",
              "      <td>11</td>\n",
              "      <td>3</td>\n",
              "    </tr>\n",
              "    <tr>\n",
              "      <th>4</th>\n",
              "      <td>35696</td>\n",
              "      <td>Buprenorphine / naloxone</td>\n",
              "      <td>Opiate Dependence</td>\n",
              "      <td>\"Suboxone has completely turned my life around...</td>\n",
              "      <td>9</td>\n",
              "      <td>2016-11-27</td>\n",
              "      <td>37</td>\n",
              "      <td>2016</td>\n",
              "      <td>11</td>\n",
              "      <td>27</td>\n",
              "    </tr>\n",
              "  </tbody>\n",
              "</table>\n",
              "</div>\n",
              "      <button class=\"colab-df-convert\" onclick=\"convertToInteractive('df-c1c1d669-f150-4177-b64d-1e40d64859c7')\"\n",
              "              title=\"Convert this dataframe to an interactive table.\"\n",
              "              style=\"display:none;\">\n",
              "        \n",
              "  <svg xmlns=\"http://www.w3.org/2000/svg\" height=\"24px\"viewBox=\"0 0 24 24\"\n",
              "       width=\"24px\">\n",
              "    <path d=\"M0 0h24v24H0V0z\" fill=\"none\"/>\n",
              "    <path d=\"M18.56 5.44l.94 2.06.94-2.06 2.06-.94-2.06-.94-.94-2.06-.94 2.06-2.06.94zm-11 1L8.5 8.5l.94-2.06 2.06-.94-2.06-.94L8.5 2.5l-.94 2.06-2.06.94zm10 10l.94 2.06.94-2.06 2.06-.94-2.06-.94-.94-2.06-.94 2.06-2.06.94z\"/><path d=\"M17.41 7.96l-1.37-1.37c-.4-.4-.92-.59-1.43-.59-.52 0-1.04.2-1.43.59L10.3 9.45l-7.72 7.72c-.78.78-.78 2.05 0 2.83L4 21.41c.39.39.9.59 1.41.59.51 0 1.02-.2 1.41-.59l7.78-7.78 2.81-2.81c.8-.78.8-2.07 0-2.86zM5.41 20L4 18.59l7.72-7.72 1.47 1.35L5.41 20z\"/>\n",
              "  </svg>\n",
              "      </button>\n",
              "      \n",
              "  <style>\n",
              "    .colab-df-container {\n",
              "      display:flex;\n",
              "      flex-wrap:wrap;\n",
              "      gap: 12px;\n",
              "    }\n",
              "\n",
              "    .colab-df-convert {\n",
              "      background-color: #E8F0FE;\n",
              "      border: none;\n",
              "      border-radius: 50%;\n",
              "      cursor: pointer;\n",
              "      display: none;\n",
              "      fill: #1967D2;\n",
              "      height: 32px;\n",
              "      padding: 0 0 0 0;\n",
              "      width: 32px;\n",
              "    }\n",
              "\n",
              "    .colab-df-convert:hover {\n",
              "      background-color: #E2EBFA;\n",
              "      box-shadow: 0px 1px 2px rgba(60, 64, 67, 0.3), 0px 1px 3px 1px rgba(60, 64, 67, 0.15);\n",
              "      fill: #174EA6;\n",
              "    }\n",
              "\n",
              "    [theme=dark] .colab-df-convert {\n",
              "      background-color: #3B4455;\n",
              "      fill: #D2E3FC;\n",
              "    }\n",
              "\n",
              "    [theme=dark] .colab-df-convert:hover {\n",
              "      background-color: #434B5C;\n",
              "      box-shadow: 0px 1px 3px 1px rgba(0, 0, 0, 0.15);\n",
              "      filter: drop-shadow(0px 1px 2px rgba(0, 0, 0, 0.3));\n",
              "      fill: #FFFFFF;\n",
              "    }\n",
              "  </style>\n",
              "\n",
              "      <script>\n",
              "        const buttonEl =\n",
              "          document.querySelector('#df-c1c1d669-f150-4177-b64d-1e40d64859c7 button.colab-df-convert');\n",
              "        buttonEl.style.display =\n",
              "          google.colab.kernel.accessAllowed ? 'block' : 'none';\n",
              "\n",
              "        async function convertToInteractive(key) {\n",
              "          const element = document.querySelector('#df-c1c1d669-f150-4177-b64d-1e40d64859c7');\n",
              "          const dataTable =\n",
              "            await google.colab.kernel.invokeFunction('convertToInteractive',\n",
              "                                                     [key], {});\n",
              "          if (!dataTable) return;\n",
              "\n",
              "          const docLinkHtml = 'Like what you see? Visit the ' +\n",
              "            '<a target=\"_blank\" href=https://colab.research.google.com/notebooks/data_table.ipynb>data table notebook</a>'\n",
              "            + ' to learn more about interactive tables.';\n",
              "          element.innerHTML = '';\n",
              "          dataTable['output_type'] = 'display_data';\n",
              "          await google.colab.output.renderOutput(dataTable, element);\n",
              "          const docLink = document.createElement('div');\n",
              "          docLink.innerHTML = docLinkHtml;\n",
              "          element.appendChild(docLink);\n",
              "        }\n",
              "      </script>\n",
              "    </div>\n",
              "  </div>\n",
              "  "
            ]
          },
          "metadata": {},
          "execution_count": 65
        }
      ],
      "source": [
        "# converting the date into datetime format\n",
        "df['date']=pd.to_datetime(df['date'],errors='coerce')\n",
        "\n",
        "# now extracting year from date\n",
        "df['Year']=df['date'].dt.year\n",
        "\n",
        "# extracting the month from the date\n",
        "df['month']=df['date'].dt.month\n",
        "\n",
        "# extracting the days from the date\n",
        "df['day']=df['date'].dt.day\n",
        "\n",
        "df.head()"
      ]
    },
    {
      "cell_type": "markdown",
      "source": [
        "> **Printing most reviewed drugs in each year**"
      ],
      "metadata": {
        "id": "FAj2QInfvJsh"
      }
    },
    {
      "cell_type": "code",
      "execution_count": null,
      "metadata": {
        "colab": {
          "base_uri": "https://localhost:8080/"
        },
        "id": "QLpHRB1NG6_0",
        "outputId": "30849300-6200-4b53-8d82-e67603e6e4b1"
      },
      "outputs": [
        {
          "data": {
            "text/plain": [
              "Year\n",
              "2008     Zyvox\n",
              "2009     Zyvox\n",
              "2010    femhrt\n",
              "2011    femhrt\n",
              "2012      ella\n",
              "2013      ella\n",
              "2014      ella\n",
              "2015      ella\n",
              "2016      ella\n",
              "2017      ella\n",
              "Name: drugName, dtype: object"
            ]
          },
          "execution_count": 102,
          "metadata": {},
          "output_type": "execute_result"
        }
      ],
      "source": [
        "df.groupby('Year') ['drugName'].max()"
      ]
    },
    {
      "cell_type": "markdown",
      "source": [
        ">**Printing most reviewed drug each month**"
      ],
      "metadata": {
        "id": "AdbI_stlvh7b"
      }
    },
    {
      "cell_type": "code",
      "execution_count": null,
      "metadata": {
        "colab": {
          "base_uri": "https://localhost:8080/"
        },
        "id": "fZauuUkvGfhZ",
        "outputId": "b2cee286-2fff-4890-d581-af952f559f4d"
      },
      "outputs": [
        {
          "data": {
            "text/plain": [
              "month\n",
              "1     femhrt\n",
              "2       ella\n",
              "3       ella\n",
              "4       ella\n",
              "5       ella\n",
              "6       ella\n",
              "7       ella\n",
              "8       ella\n",
              "9       ella\n",
              "10      ella\n",
              "11      ella\n",
              "12      ella\n",
              "Name: drugName, dtype: object"
            ]
          },
          "execution_count": 101,
          "metadata": {},
          "output_type": "execute_result"
        }
      ],
      "source": [
        "df.groupby('month') ['drugName'].max()"
      ]
    },
    {
      "cell_type": "code",
      "execution_count": null,
      "metadata": {
        "colab": {
          "base_uri": "https://localhost:8080/",
          "height": 431
        },
        "id": "WpleTF6PeJVe",
        "outputId": "ae2063f7-85fd-45cf-c381-065e9fbf5953"
      },
      "outputs": [
        {
          "data": {
            "text/plain": [
              "Text(0, 0.5, 'Count of Reviews')"
            ]
          },
          "execution_count": 5,
          "metadata": {},
          "output_type": "execute_result"
        },
        {
          "data": {
            "image/png": "[encoded data removed]",
            "text/plain": [
              "<Figure size 1080x432 with 1 Axes>"
            ]
          },
          "metadata": {},
          "output_type": "display_data"
        }
      ],
      "source": [
        "#looking at the no. of reviews in each of the year\n",
        "\n",
        "plt.figure(figsize=(15,6))\n",
        "sns.countplot(df['Year'])\n",
        "plt.title('The No. of Reviews each year',fontsize=20)\n",
        "plt.xlabel('Year', fontsize = 15)\n",
        "plt.ylabel('Count of Reviews', fontsize = 15)"
      ]
    },
    {
      "cell_type": "markdown",
      "metadata": {
        "id": "gZsbfuHUgNlM"
      },
      "source": [
        "> The barplot shows that the year 2016 has the most number of reviews and 2008 has the least number of reviews."
      ]
    },
    {
      "cell_type": "code",
      "execution_count": null,
      "metadata": {
        "colab": {
          "base_uri": "https://localhost:8080/",
          "height": 431
        },
        "id": "YeBTyn52fkON",
        "outputId": "bab94c73-acb5-459a-bba7-cb6b815904ab"
      },
      "outputs": [
        {
          "data": {
            "text/plain": [
              "Text(0, 0.5, 'Ratings')"
            ]
          },
          "execution_count": 6,
          "metadata": {},
          "output_type": "execute_result"
        },
        {
          "data": {
            "image/png": "[encoded data removed]",
            "text/plain": [
              "<Figure size 1080x432 with 1 Axes>"
            ]
          },
          "metadata": {},
          "output_type": "display_data"
        }
      ],
      "source": [
        "# looking at the no. of reviews in each of the months\n",
        "\n",
        "plt.figure(figsize=(15,6))\n",
        "sns.countplot(df['month'])\n",
        "plt.title('The No. of Reviews each Month', fontsize = 20)\n",
        "plt.xlabel('Months', fontsize = 15)\n",
        "plt.ylabel('Ratings', fontsize = 15)\n"
      ]
    },
    {
      "cell_type": "markdown",
      "metadata": {
        "id": "uZP8TVjvgilF"
      },
      "source": [
        "> the barplot shows the number of reviews is most in the month of august"
      ]
    },
    {
      "cell_type": "code",
      "execution_count": null,
      "metadata": {
        "colab": {
          "base_uri": "https://localhost:8080/",
          "height": 431
        },
        "id": "lEaLAF6Wirca",
        "outputId": "fc8efe67-df8b-4877-dc73-ae9edf90be49"
      },
      "outputs": [
        {
          "data": {
            "text/plain": [
              "Text(0, 0.5, 'Ratings')"
            ]
          },
          "execution_count": 7,
          "metadata": {},
          "output_type": "execute_result"
        },
        {
          "data": {
            "image/png": "[encoded data removed]",
            "text/plain": [
              "<Figure size 1080x432 with 1 Axes>"
            ]
          },
          "metadata": {},
          "output_type": "display_data"
        }
      ],
      "source": [
        "# looking at the no. of reviews in each of the day\n",
        "\n",
        "plt.figure(figsize=(15,6))\n",
        "sns.countplot(df['day'])\n",
        "plt.title('The No. of Reviews each Day', fontsize = 20)\n",
        "plt.xlabel('Days', fontsize = 15)\n",
        "plt.ylabel('Ratings', fontsize = 15)"
      ]
    },
    {
      "cell_type": "markdown",
      "metadata": {
        "id": "eBXW8J_lmHiQ"
      },
      "source": [
        "> **Preprocessing 'review' column using NLP**"
      ]
    },
    {
      "cell_type": "code",
      "execution_count": null,
      "metadata": {
        "colab": {
          "base_uri": "https://localhost:8080/"
        },
        "id": "napJrMZIC0Wd",
        "outputId": "22494be7-d90e-4c2e-a4bd-da8512b3846f"
      },
      "outputs": [
        {
          "output_type": "stream",
          "name": "stderr",
          "text": [
            "[nltk_data] Downloading package wordnet to /root/nltk_data...\n",
            "[nltk_data]   Package wordnet is already up-to-date!\n",
            "[nltk_data] Downloading package stopwords to /root/nltk_data...\n",
            "[nltk_data]   Package stopwords is already up-to-date!\n",
            "[nltk_data] Downloading package punkt to /root/nltk_data...\n",
            "[nltk_data]   Package punkt is already up-to-date!\n",
            "[nltk_data] Downloading package vader_lexicon to /root/nltk_data...\n",
            "[nltk_data]   Package vader_lexicon is already up-to-date!\n"
          ]
        },
        {
          "output_type": "execute_result",
          "data": {
            "text/plain": [
              "True"
            ]
          },
          "metadata": {},
          "execution_count": 66
        }
      ],
      "source": [
        "#downloading required libraries\n",
        "\n",
        "nltk.download('wordnet')        #for lemmatization\n",
        "nltk.download('stopwords')\n",
        "nltk.download('punkt')          #for tokenization\n",
        "nltk.download('vader_lexicon')  #for Sentiment analysis"
      ]
    },
    {
      "cell_type": "markdown",
      "metadata": {
        "id": "2-K5NucxNrjn"
      },
      "source": [
        "> VADER (Valence Aware Dictionary and sEntiment Reasoner) is a pre-trained sentiment lexicon. "
      ]
    },
    {
      "cell_type": "code",
      "execution_count": null,
      "metadata": {
        "colab": {
          "base_uri": "https://localhost:8080/"
        },
        "id": "vjkdMm3Qj-LM",
        "outputId": "4c87e012-5059-4743-b5bb-44b12d367858"
      },
      "outputs": [
        {
          "output_type": "execute_result",
          "data": {
            "text/plain": [
              "0         \"It has no side effect, I take it in combinati...\n",
              "1         \"My son is halfway through his fourth week of ...\n",
              "2         \"I used to take another oral contraceptive, wh...\n",
              "3         \"This is my first time using any form of birth...\n",
              "4         \"Suboxone has completely turned my life around...\n",
              "                                ...                        \n",
              "159493    \"I wrote my first report in Mid-October of 201...\n",
              "159494    \"I was given this in IV before surgey. I immed...\n",
              "159495    \"Limited improvement after 4 months, developed...\n",
              "159496    \"I&#039;ve been on thyroid medication 49 years...\n",
              "159497    \"I&#039;ve had chronic constipation all my adu...\n",
              "Name: review, Length: 159498, dtype: object"
            ]
          },
          "metadata": {},
          "execution_count": 67
        }
      ],
      "source": [
        "reviews=df['review']\n",
        "reviews"
      ]
    },
    {
      "cell_type": "markdown",
      "metadata": {
        "id": "d0lr8UvTG7SC"
      },
      "source": [
        "> **Tokenization using TweetTokenizer**"
      ]
    },
    {
      "cell_type": "code",
      "execution_count": null,
      "metadata": {
        "colab": {
          "base_uri": "https://localhost:8080/"
        },
        "id": "as6JsOTbG4ll",
        "outputId": "d1dad83a-eecf-4748-a516-101caf8e4646"
      },
      "outputs": [
        {
          "output_type": "execute_result",
          "data": {
            "text/plain": [
              "0         \" It has no side effect , I take it in combina...\n",
              "1         \" My son is halfway through his fourth week of...\n",
              "2         \" I used to take another oral contraceptive , ...\n",
              "3         \" This is my first time using any form of birt...\n",
              "4         \" Suboxone has completely turned my life aroun...\n",
              "                                ...                        \n",
              "159493    \" I wrote my first report in Mid-October of 20...\n",
              "159494    \" I was given this in IV before surgey . I imm...\n",
              "159495    \" Limited improvement after 4 months , develop...\n",
              "159496    \" I've been on thyroid medication 49 years , I...\n",
              "159497    \" I've had chronic constipation all my adult l...\n",
              "Name: review, Length: 159498, dtype: object"
            ]
          },
          "metadata": {},
          "execution_count": 68
        }
      ],
      "source": [
        "from nltk import TweetTokenizer\n",
        "tk=TweetTokenizer()\n",
        "reviews=reviews.apply(lambda x:tk.tokenize(x)).apply(lambda x:\" \".join(x))\n",
        "reviews"
      ]
    },
    {
      "cell_type": "markdown",
      "metadata": {
        "id": "-bEvK2tvHJ2i"
      },
      "source": [
        "> **Removing characters**"
      ]
    },
    {
      "cell_type": "code",
      "execution_count": null,
      "metadata": {
        "colab": {
          "base_uri": "https://localhost:8080/"
        },
        "id": "B594FuibHE2R",
        "outputId": "31c57602-7647-4915-a168-8fe96398432b"
      },
      "outputs": [
        {
          "output_type": "execute_result",
          "data": {
            "text/plain": [
              "0          It has no side effect I take it in combinatio...\n",
              "1          My son is halfway through his fourth week of ...\n",
              "2          I used to take another oral contraceptive whi...\n",
              "3          This is my first time using any form of birth...\n",
              "4          Suboxone has completely turned my life around...\n",
              "                                ...                        \n",
              "159493     I wrote my first report in Mid October of 201...\n",
              "159494     I was given this in IV before surgey I immedi...\n",
              "159495     Limited improvement after 4 months developed ...\n",
              "159496     I ve been on thyroid medication 49 years I sp...\n",
              "159497     I ve had chronic constipation all my adult li...\n",
              "Name: review, Length: 159498, dtype: object"
            ]
          },
          "metadata": {},
          "execution_count": 69
        }
      ],
      "source": [
        "reviews=reviews.str.replace('[^a-zA-Z0-9]+',' ')\n",
        "reviews"
      ]
    },
    {
      "cell_type": "markdown",
      "metadata": {
        "id": "E08DsO1mMrcJ"
      },
      "source": [
        "> **Lemmatization using SnowballStemmer and coverting into lowercase**\n"
      ]
    },
    {
      "cell_type": "code",
      "execution_count": null,
      "metadata": {
        "colab": {
          "base_uri": "https://localhost:8080/"
        },
        "id": "q68Ao01fTYK3",
        "outputId": "65ef9e65-c8a4-4b78-f289-2eb52ee50f86"
      },
      "outputs": [
        {
          "output_type": "execute_result",
          "data": {
            "text/plain": [
              "0         it has no side effect i take it in combin of b...\n",
              "1         my son is halfway through his fourth week of i...\n",
              "2         i use to take anoth oral contracept which had ...\n",
              "3         this is my first time use ani form of birth co...\n",
              "4         suboxon has complet turn my life around i feel...\n",
              "                                ...                        \n",
              "159493    i wrote my first report in mid octob of 2014 i...\n",
              "159494    i was given this in iv befor surgey i immedi b...\n",
              "159495    limit improv after 4 month develop bad rash an...\n",
              "159496    i ve been on thyroid medic 49 year i spent my ...\n",
              "159497    i ve had chronic constip all my adult life tri...\n",
              "Name: review, Length: 159498, dtype: object"
            ]
          },
          "metadata": {},
          "execution_count": 70
        }
      ],
      "source": [
        "from nltk import SnowballStemmer\n",
        "sb=SnowballStemmer('english')\n",
        "reviews=reviews.apply(lambda x:[sb.stem(i.lower()) for i in tk.tokenize(x)]).apply(lambda x:' '.join(x))\n",
        "reviews"
      ]
    },
    {
      "cell_type": "markdown",
      "metadata": {
        "id": "3VvNaSVDMwJj"
      },
      "source": [
        "> **Removing stop words**"
      ]
    },
    {
      "cell_type": "code",
      "execution_count": null,
      "metadata": {
        "colab": {
          "base_uri": "https://localhost:8080/"
        },
        "id": "3P6hT0i4F_X9",
        "outputId": "837f1e1d-9b8b-48be-acec-3b22f6445ddd"
      },
      "outputs": [
        {
          "output_type": "execute_result",
          "data": {
            "text/plain": [
              "0              side effect take combin bystol 5 mg fish oil\n",
              "1         son halfway fourth week intuniv becam concern ...\n",
              "2         use take anoth oral contracept 21 pill cycl ve...\n",
              "3         first time use ani form birth control glad wen...\n",
              "4         suboxon complet turn life around feel healthie...\n",
              "                                ...                        \n",
              "159493    wrote first report mid octob 2014 ani alcohol ...\n",
              "159494    given iv befor surgey immedi becam anxious cou...\n",
              "159495    limit improv 4 month develop bad rash md refus...\n",
              "159496    thyroid medic 49 year spent first 38 synthroid...\n",
              "159497    chronic constip adult life tri linzess work mo...\n",
              "Name: review, Length: 159498, dtype: object"
            ]
          },
          "metadata": {},
          "execution_count": 71
        }
      ],
      "source": [
        "from nltk.corpus import stopwords\n",
        "stop_words=stopwords.words('english')\n",
        "reviews=reviews.apply(lambda x:[i for i in tk.tokenize(x) if i not in stop_words]).apply(lambda x:\" \".join(x))\n",
        "reviews"
      ]
    },
    {
      "cell_type": "markdown",
      "metadata": {
        "id": "ka2QewkANeSJ"
      },
      "source": [
        "> **Quantifying sentiments of the reviews using SentimentIntensityAnalyzer**"
      ]
    },
    {
      "cell_type": "code",
      "execution_count": null,
      "metadata": {
        "colab": {
          "base_uri": "https://localhost:8080/",
          "height": 206
        },
        "id": "oLQRQFpgGNH9",
        "outputId": "cd5d6425-4eda-43e5-cd7d-cb1798f82262"
      },
      "outputs": [
        {
          "output_type": "execute_result",
          "data": {
            "text/plain": [
              "   uniqueID                  drugName                     condition  \\\n",
              "0    206461                 Valsartan  Left Ventricular Dysfunction   \n",
              "1     95260                Guanfacine                          ADHD   \n",
              "2     92703                    Lybrel                 Birth Control   \n",
              "3    138000                Ortho Evra                 Birth Control   \n",
              "4     35696  Buprenorphine / naloxone             Opiate Dependence   \n",
              "\n",
              "                                              review  rating       date  \\\n",
              "0  \"It has no side effect, I take it in combinati...       9 2012-05-20   \n",
              "1  \"My son is halfway through his fourth week of ...       8 2010-04-27   \n",
              "2  \"I used to take another oral contraceptive, wh...       5 2009-12-14   \n",
              "3  \"This is my first time using any form of birth...       8 2015-11-03   \n",
              "4  \"Suboxone has completely turned my life around...       9 2016-11-27   \n",
              "\n",
              "   usefulCount  Year  month  day  sentiment  \n",
              "0           27  2012      5   20     0.0000  \n",
              "1          192  2010      4   27     0.6929  \n",
              "2           17  2009     12   14     0.5106  \n",
              "3           10  2015     11    3     0.1027  \n",
              "4           37  2016     11   27     0.8934  "
            ],
            "text/html": [
              "\n",
              "  <div id=\"df-7dcf0909-8e61-432b-ba10-665a3d879d10\">\n",
              "    <div class=\"colab-df-container\">\n",
              "      <div>\n",
              "<style scoped>\n",
              "    .dataframe tbody tr th:only-of-type {\n",
              "        vertical-align: middle;\n",
              "    }\n",
              "\n",
              "    .dataframe tbody tr th {\n",
              "        vertical-align: top;\n",
              "    }\n",
              "\n",
              "    .dataframe thead th {\n",
              "        text-align: right;\n",
              "    }\n",
              "</style>\n",
              "<table border=\"1\" class=\"dataframe\">\n",
              "  <thead>\n",
              "    <tr style=\"text-align: right;\">\n",
              "      <th></th>\n",
              "      <th>uniqueID</th>\n",
              "      <th>drugName</th>\n",
              "      <th>condition</th>\n",
              "      <th>review</th>\n",
              "      <th>rating</th>\n",
              "      <th>date</th>\n",
              "      <th>usefulCount</th>\n",
              "      <th>Year</th>\n",
              "      <th>month</th>\n",
              "      <th>day</th>\n",
              "      <th>sentiment</th>\n",
              "    </tr>\n",
              "  </thead>\n",
              "  <tbody>\n",
              "    <tr>\n",
              "      <th>0</th>\n",
              "      <td>206461</td>\n",
              "      <td>Valsartan</td>\n",
              "      <td>Left Ventricular Dysfunction</td>\n",
              "      <td>\"It has no side effect, I take it in combinati...</td>\n",
              "      <td>9</td>\n",
              "      <td>2012-05-20</td>\n",
              "      <td>27</td>\n",
              "      <td>2012</td>\n",
              "      <td>5</td>\n",
              "      <td>20</td>\n",
              "      <td>0.0000</td>\n",
              "    </tr>\n",
              "    <tr>\n",
              "      <th>1</th>\n",
              "      <td>95260</td>\n",
              "      <td>Guanfacine</td>\n",
              "      <td>ADHD</td>\n",
              "      <td>\"My son is halfway through his fourth week of ...</td>\n",
              "      <td>8</td>\n",
              "      <td>2010-04-27</td>\n",
              "      <td>192</td>\n",
              "      <td>2010</td>\n",
              "      <td>4</td>\n",
              "      <td>27</td>\n",
              "      <td>0.6929</td>\n",
              "    </tr>\n",
              "    <tr>\n",
              "      <th>2</th>\n",
              "      <td>92703</td>\n",
              "      <td>Lybrel</td>\n",
              "      <td>Birth Control</td>\n",
              "      <td>\"I used to take another oral contraceptive, wh...</td>\n",
              "      <td>5</td>\n",
              "      <td>2009-12-14</td>\n",
              "      <td>17</td>\n",
              "      <td>2009</td>\n",
              "      <td>12</td>\n",
              "      <td>14</td>\n",
              "      <td>0.5106</td>\n",
              "    </tr>\n",
              "    <tr>\n",
              "      <th>3</th>\n",
              "      <td>138000</td>\n",
              "      <td>Ortho Evra</td>\n",
              "      <td>Birth Control</td>\n",
              "      <td>\"This is my first time using any form of birth...</td>\n",
              "      <td>8</td>\n",
              "      <td>2015-11-03</td>\n",
              "      <td>10</td>\n",
              "      <td>2015</td>\n",
              "      <td>11</td>\n",
              "      <td>3</td>\n",
              "      <td>0.1027</td>\n",
              "    </tr>\n",
              "    <tr>\n",
              "      <th>4</th>\n",
              "      <td>35696</td>\n",
              "      <td>Buprenorphine / naloxone</td>\n",
              "      <td>Opiate Dependence</td>\n",
              "      <td>\"Suboxone has completely turned my life around...</td>\n",
              "      <td>9</td>\n",
              "      <td>2016-11-27</td>\n",
              "      <td>37</td>\n",
              "      <td>2016</td>\n",
              "      <td>11</td>\n",
              "      <td>27</td>\n",
              "      <td>0.8934</td>\n",
              "    </tr>\n",
              "  </tbody>\n",
              "</table>\n",
              "</div>\n",
              "      <button class=\"colab-df-convert\" onclick=\"convertToInteractive('df-7dcf0909-8e61-432b-ba10-665a3d879d10')\"\n",
              "              title=\"Convert this dataframe to an interactive table.\"\n",
              "              style=\"display:none;\">\n",
              "        \n",
              "  <svg xmlns=\"http://www.w3.org/2000/svg\" height=\"24px\"viewBox=\"0 0 24 24\"\n",
              "       width=\"24px\">\n",
              "    <path d=\"M0 0h24v24H0V0z\" fill=\"none\"/>\n",
              "    <path d=\"M18.56 5.44l.94 2.06.94-2.06 2.06-.94-2.06-.94-.94-2.06-.94 2.06-2.06.94zm-11 1L8.5 8.5l.94-2.06 2.06-.94-2.06-.94L8.5 2.5l-.94 2.06-2.06.94zm10 10l.94 2.06.94-2.06 2.06-.94-2.06-.94-.94-2.06-.94 2.06-2.06.94z\"/><path d=\"M17.41 7.96l-1.37-1.37c-.4-.4-.92-.59-1.43-.59-.52 0-1.04.2-1.43.59L10.3 9.45l-7.72 7.72c-.78.78-.78 2.05 0 2.83L4 21.41c.39.39.9.59 1.41.59.51 0 1.02-.2 1.41-.59l7.78-7.78 2.81-2.81c.8-.78.8-2.07 0-2.86zM5.41 20L4 18.59l7.72-7.72 1.47 1.35L5.41 20z\"/>\n",
              "  </svg>\n",
              "      </button>\n",
              "      \n",
              "  <style>\n",
              "    .colab-df-container {\n",
              "      display:flex;\n",
              "      flex-wrap:wrap;\n",
              "      gap: 12px;\n",
              "    }\n",
              "\n",
              "    .colab-df-convert {\n",
              "      background-color: #E8F0FE;\n",
              "      border: none;\n",
              "      border-radius: 50%;\n",
              "      cursor: pointer;\n",
              "      display: none;\n",
              "      fill: #1967D2;\n",
              "      height: 32px;\n",
              "      padding: 0 0 0 0;\n",
              "      width: 32px;\n",
              "    }\n",
              "\n",
              "    .colab-df-convert:hover {\n",
              "      background-color: #E2EBFA;\n",
              "      box-shadow: 0px 1px 2px rgba(60, 64, 67, 0.3), 0px 1px 3px 1px rgba(60, 64, 67, 0.15);\n",
              "      fill: #174EA6;\n",
              "    }\n",
              "\n",
              "    [theme=dark] .colab-df-convert {\n",
              "      background-color: #3B4455;\n",
              "      fill: #D2E3FC;\n",
              "    }\n",
              "\n",
              "    [theme=dark] .colab-df-convert:hover {\n",
              "      background-color: #434B5C;\n",
              "      box-shadow: 0px 1px 3px 1px rgba(0, 0, 0, 0.15);\n",
              "      filter: drop-shadow(0px 1px 2px rgba(0, 0, 0, 0.3));\n",
              "      fill: #FFFFFF;\n",
              "    }\n",
              "  </style>\n",
              "\n",
              "      <script>\n",
              "        const buttonEl =\n",
              "          document.querySelector('#df-7dcf0909-8e61-432b-ba10-665a3d879d10 button.colab-df-convert');\n",
              "        buttonEl.style.display =\n",
              "          google.colab.kernel.accessAllowed ? 'block' : 'none';\n",
              "\n",
              "        async function convertToInteractive(key) {\n",
              "          const element = document.querySelector('#df-7dcf0909-8e61-432b-ba10-665a3d879d10');\n",
              "          const dataTable =\n",
              "            await google.colab.kernel.invokeFunction('convertToInteractive',\n",
              "                                                     [key], {});\n",
              "          if (!dataTable) return;\n",
              "\n",
              "          const docLinkHtml = 'Like what you see? Visit the ' +\n",
              "            '<a target=\"_blank\" href=https://colab.research.google.com/notebooks/data_table.ipynb>data table notebook</a>'\n",
              "            + ' to learn more about interactive tables.';\n",
              "          element.innerHTML = '';\n",
              "          dataTable['output_type'] = 'display_data';\n",
              "          await google.colab.output.renderOutput(dataTable, element);\n",
              "          const docLink = document.createElement('div');\n",
              "          docLink.innerHTML = docLinkHtml;\n",
              "          element.appendChild(docLink);\n",
              "        }\n",
              "      </script>\n",
              "    </div>\n",
              "  </div>\n",
              "  "
            ]
          },
          "metadata": {},
          "execution_count": 72
        }
      ],
      "source": [
        "si=SentimentIntensityAnalyzer()\n",
        "# Create list (cast to array) of compound polarity sentiment scores for reviews\n",
        "sentiments=[]\n",
        "\n",
        "for i in reviews:\n",
        "    sentiments.append(si.polarity_scores(i).get('compound'))\n",
        "\n",
        "df['sentiment']=pd.Series(sentiments)\n",
        "df.head() "
      ]
    },
    {
      "cell_type": "code",
      "execution_count": null,
      "metadata": {
        "id": "uJpIErlqDmF_"
      },
      "outputs": [],
      "source": [
        "# Label Encoding Drugname and Conditions\n",
        "from sklearn.preprocessing import LabelEncoder\n",
        "le=LabelEncoder()\n",
        "for feature in ['drugName','condition']:\n",
        "    df[feature]=le.fit_transform(df[feature])"
      ]
    },
    {
      "cell_type": "code",
      "execution_count": null,
      "metadata": {
        "id": "-0cOOWr1Hotw"
      },
      "outputs": [],
      "source": [
        "# classifying ratings as positive and negative\n",
        "\n",
        "df['rating']=df['rating'].apply(lambda x: 1 if x>5 else 0)"
      ]
    },
    {
      "cell_type": "markdown",
      "source": [
        ">**Checking the distribution of rating**"
      ],
      "metadata": {
        "id": "CECFYPq6p2DI"
      }
    },
    {
      "cell_type": "code",
      "source": [
        "rating=df['rating'].value_counts()\n",
        "print(rating)\n",
        "plt.figure(figsize=(15,6))\n",
        "\n",
        "rating.plot.pie()"
      ],
      "metadata": {
        "colab": {
          "base_uri": "https://localhost:8080/",
          "height": 426
        },
        "id": "HBs3XmgzpOMK",
        "outputId": "d1bfc5a3-d4fc-4d59-c0ec-316d4b536bbd"
      },
      "execution_count": null,
      "outputs": [
        {
          "output_type": "stream",
          "name": "stdout",
          "text": [
            "1    112003\n",
            "0     47495\n",
            "Name: rating, dtype: int64\n"
          ]
        },
        {
          "output_type": "execute_result",
          "data": {
            "text/plain": [
              "<AxesSubplot:ylabel='rating'>"
            ]
          },
          "metadata": {},
          "execution_count": 75
        },
        {
          "output_type": "display_data",
          "data": {
            "text/plain": [
              "<Figure size 1080x432 with 1 Axes>"
            ],
            "image/png": "[encoded data removed]"
          },
          "metadata": {}
        }
      ]
    },
    {
      "cell_type": "markdown",
      "source": [
        "> Positively rated reviews are more."
      ],
      "metadata": {
        "id": "LfgslFbWp8PX"
      }
    },
    {
      "cell_type": "code",
      "execution_count": null,
      "metadata": {
        "colab": {
          "base_uri": "https://localhost:8080/",
          "height": 206
        },
        "id": "MZ8gB32EOwty",
        "outputId": "9be7fe94-0295-4d69-b023-6f75b51bfdcd"
      },
      "outputs": [
        {
          "output_type": "execute_result",
          "data": {
            "text/plain": [
              "   drugName  condition  rating  usefulCount  Year  month  day  sentiment\n",
              "0      3179        393       1           27  2012      5   20     0.0000\n",
              "1      1422          0       1          192  2010      4   27     0.6929\n",
              "2      1842         92       0           17  2009     12   14     0.5106\n",
              "3      2266         92       1           10  2015     11    3     0.1027\n",
              "4       513        501       1           37  2016     11   27     0.8934"
            ],
            "text/html": [
              "\n",
              "  <div id=\"df-74080b7b-5afa-4925-923e-04aa66d5ca4d\">\n",
              "    <div class=\"colab-df-container\">\n",
              "      <div>\n",
              "<style scoped>\n",
              "    .dataframe tbody tr th:only-of-type {\n",
              "        vertical-align: middle;\n",
              "    }\n",
              "\n",
              "    .dataframe tbody tr th {\n",
              "        vertical-align: top;\n",
              "    }\n",
              "\n",
              "    .dataframe thead th {\n",
              "        text-align: right;\n",
              "    }\n",
              "</style>\n",
              "<table border=\"1\" class=\"dataframe\">\n",
              "  <thead>\n",
              "    <tr style=\"text-align: right;\">\n",
              "      <th></th>\n",
              "      <th>drugName</th>\n",
              "      <th>condition</th>\n",
              "      <th>rating</th>\n",
              "      <th>usefulCount</th>\n",
              "      <th>Year</th>\n",
              "      <th>month</th>\n",
              "      <th>day</th>\n",
              "      <th>sentiment</th>\n",
              "    </tr>\n",
              "  </thead>\n",
              "  <tbody>\n",
              "    <tr>\n",
              "      <th>0</th>\n",
              "      <td>3179</td>\n",
              "      <td>393</td>\n",
              "      <td>1</td>\n",
              "      <td>27</td>\n",
              "      <td>2012</td>\n",
              "      <td>5</td>\n",
              "      <td>20</td>\n",
              "      <td>0.0000</td>\n",
              "    </tr>\n",
              "    <tr>\n",
              "      <th>1</th>\n",
              "      <td>1422</td>\n",
              "      <td>0</td>\n",
              "      <td>1</td>\n",
              "      <td>192</td>\n",
              "      <td>2010</td>\n",
              "      <td>4</td>\n",
              "      <td>27</td>\n",
              "      <td>0.6929</td>\n",
              "    </tr>\n",
              "    <tr>\n",
              "      <th>2</th>\n",
              "      <td>1842</td>\n",
              "      <td>92</td>\n",
              "      <td>0</td>\n",
              "      <td>17</td>\n",
              "      <td>2009</td>\n",
              "      <td>12</td>\n",
              "      <td>14</td>\n",
              "      <td>0.5106</td>\n",
              "    </tr>\n",
              "    <tr>\n",
              "      <th>3</th>\n",
              "      <td>2266</td>\n",
              "      <td>92</td>\n",
              "      <td>1</td>\n",
              "      <td>10</td>\n",
              "      <td>2015</td>\n",
              "      <td>11</td>\n",
              "      <td>3</td>\n",
              "      <td>0.1027</td>\n",
              "    </tr>\n",
              "    <tr>\n",
              "      <th>4</th>\n",
              "      <td>513</td>\n",
              "      <td>501</td>\n",
              "      <td>1</td>\n",
              "      <td>37</td>\n",
              "      <td>2016</td>\n",
              "      <td>11</td>\n",
              "      <td>27</td>\n",
              "      <td>0.8934</td>\n",
              "    </tr>\n",
              "  </tbody>\n",
              "</table>\n",
              "</div>\n",
              "      <button class=\"colab-df-convert\" onclick=\"convertToInteractive('df-74080b7b-5afa-4925-923e-04aa66d5ca4d')\"\n",
              "              title=\"Convert this dataframe to an interactive table.\"\n",
              "              style=\"display:none;\">\n",
              "        \n",
              "  <svg xmlns=\"http://www.w3.org/2000/svg\" height=\"24px\"viewBox=\"0 0 24 24\"\n",
              "       width=\"24px\">\n",
              "    <path d=\"M0 0h24v24H0V0z\" fill=\"none\"/>\n",
              "    <path d=\"M18.56 5.44l.94 2.06.94-2.06 2.06-.94-2.06-.94-.94-2.06-.94 2.06-2.06.94zm-11 1L8.5 8.5l.94-2.06 2.06-.94-2.06-.94L8.5 2.5l-.94 2.06-2.06.94zm10 10l.94 2.06.94-2.06 2.06-.94-2.06-.94-.94-2.06-.94 2.06-2.06.94z\"/><path d=\"M17.41 7.96l-1.37-1.37c-.4-.4-.92-.59-1.43-.59-.52 0-1.04.2-1.43.59L10.3 9.45l-7.72 7.72c-.78.78-.78 2.05 0 2.83L4 21.41c.39.39.9.59 1.41.59.51 0 1.02-.2 1.41-.59l7.78-7.78 2.81-2.81c.8-.78.8-2.07 0-2.86zM5.41 20L4 18.59l7.72-7.72 1.47 1.35L5.41 20z\"/>\n",
              "  </svg>\n",
              "      </button>\n",
              "      \n",
              "  <style>\n",
              "    .colab-df-container {\n",
              "      display:flex;\n",
              "      flex-wrap:wrap;\n",
              "      gap: 12px;\n",
              "    }\n",
              "\n",
              "    .colab-df-convert {\n",
              "      background-color: #E8F0FE;\n",
              "      border: none;\n",
              "      border-radius: 50%;\n",
              "      cursor: pointer;\n",
              "      display: none;\n",
              "      fill: #1967D2;\n",
              "      height: 32px;\n",
              "      padding: 0 0 0 0;\n",
              "      width: 32px;\n",
              "    }\n",
              "\n",
              "    .colab-df-convert:hover {\n",
              "      background-color: #E2EBFA;\n",
              "      box-shadow: 0px 1px 2px rgba(60, 64, 67, 0.3), 0px 1px 3px 1px rgba(60, 64, 67, 0.15);\n",
              "      fill: #174EA6;\n",
              "    }\n",
              "\n",
              "    [theme=dark] .colab-df-convert {\n",
              "      background-color: #3B4455;\n",
              "      fill: #D2E3FC;\n",
              "    }\n",
              "\n",
              "    [theme=dark] .colab-df-convert:hover {\n",
              "      background-color: #434B5C;\n",
              "      box-shadow: 0px 1px 3px 1px rgba(0, 0, 0, 0.15);\n",
              "      filter: drop-shadow(0px 1px 2px rgba(0, 0, 0, 0.3));\n",
              "      fill: #FFFFFF;\n",
              "    }\n",
              "  </style>\n",
              "\n",
              "      <script>\n",
              "        const buttonEl =\n",
              "          document.querySelector('#df-74080b7b-5afa-4925-923e-04aa66d5ca4d button.colab-df-convert');\n",
              "        buttonEl.style.display =\n",
              "          google.colab.kernel.accessAllowed ? 'block' : 'none';\n",
              "\n",
              "        async function convertToInteractive(key) {\n",
              "          const element = document.querySelector('#df-74080b7b-5afa-4925-923e-04aa66d5ca4d');\n",
              "          const dataTable =\n",
              "            await google.colab.kernel.invokeFunction('convertToInteractive',\n",
              "                                                     [key], {});\n",
              "          if (!dataTable) return;\n",
              "\n",
              "          const docLinkHtml = 'Like what you see? Visit the ' +\n",
              "            '<a target=\"_blank\" href=https://colab.research.google.com/notebooks/data_table.ipynb>data table notebook</a>'\n",
              "            + ' to learn more about interactive tables.';\n",
              "          element.innerHTML = '';\n",
              "          dataTable['output_type'] = 'display_data';\n",
              "          await google.colab.output.renderOutput(dataTable, element);\n",
              "          const docLink = document.createElement('div');\n",
              "          docLink.innerHTML = docLinkHtml;\n",
              "          element.appendChild(docLink);\n",
              "        }\n",
              "      </script>\n",
              "    </div>\n",
              "  </div>\n",
              "  "
            ]
          },
          "metadata": {},
          "execution_count": 76
        }
      ],
      "source": [
        "df.drop(['uniqueID','review','date'],axis=1,inplace=True)\n",
        "df.head()"
      ]
    },
    {
      "cell_type": "markdown",
      "metadata": {
        "id": "q0lN4NZXPAAl"
      },
      "source": [
        "> **Plotting correlation matrix of all the features**"
      ]
    },
    {
      "cell_type": "code",
      "source": [
        "print(df.corr())\n",
        "plt.figure(figsize=(15,6))\n",
        "sns.heatmap(df.corr())"
      ],
      "metadata": {
        "colab": {
          "base_uri": "https://localhost:8080/",
          "height": 725
        },
        "id": "bqb9XxHMGS3g",
        "outputId": "5f8a0127-2f48-4727-be01-df032d88441b"
      },
      "execution_count": null,
      "outputs": [
        {
          "output_type": "stream",
          "name": "stdout",
          "text": [
            "             drugName  condition    rating  usefulCount      Year     month  \\\n",
            "drugName     1.000000   0.082349  0.008006     0.024519  0.010411  0.002863   \n",
            "condition    0.082349   1.000000  0.050023     0.091171 -0.058603 -0.002516   \n",
            "rating       0.008006   0.050023  1.000000     0.211502 -0.189150 -0.020687   \n",
            "usefulCount  0.024519   0.091171  0.211502     1.000000 -0.271660 -0.032444   \n",
            "Year         0.010411  -0.058603 -0.189150    -0.271660  1.000000 -0.083896   \n",
            "month        0.002863  -0.002516 -0.020687    -0.032444 -0.083896  1.000000   \n",
            "day         -0.002119  -0.003023  0.002940     0.002253 -0.012135 -0.016959   \n",
            "sentiment   -0.013459  -0.037741  0.196511     0.016744 -0.069239 -0.011387   \n",
            "\n",
            "                  day  sentiment  \n",
            "drugName    -0.002119  -0.013459  \n",
            "condition   -0.003023  -0.037741  \n",
            "rating       0.002940   0.196511  \n",
            "usefulCount  0.002253   0.016744  \n",
            "Year        -0.012135  -0.069239  \n",
            "month       -0.016959  -0.011387  \n",
            "day          1.000000   0.001536  \n",
            "sentiment    0.001536   1.000000  \n"
          ]
        },
        {
          "output_type": "execute_result",
          "data": {
            "text/plain": [
              "<AxesSubplot:>"
            ]
          },
          "metadata": {},
          "execution_count": 77
        },
        {
          "output_type": "display_data",
          "data": {
            "text/plain": [
              "<Figure size 1080x432 with 2 Axes>"
            ],
            "image/png": "[encoded data removed]"
          },
          "metadata": {
            "needs_background": "light"
          }
        }
      ]
    },
    {
      "cell_type": "markdown",
      "metadata": {
        "id": "-z4fG1eMOaPh"
      },
      "source": [
        "> **Observations**\n",
        ">* Year and useful count are least correlated\n",
        ">* Year and rating are least correlated\n",
        ">* useful count and rating are moderalety correlated\n",
        ">* rating and sentiment are moderately correlated\n",
        ">* The output feature 'rating' is negtively correlated with the features 'year' and 'month'."
      ]
    },
    {
      "cell_type": "markdown",
      "metadata": {
        "id": "o271ZidxP95I"
      },
      "source": [
        "#**Model Creation and performance evaluation**"
      ]
    },
    {
      "cell_type": "markdown",
      "metadata": {
        "id": "2UAkWoGZwnPq"
      },
      "source": [
        "> **Splitting the dataframe into x any y**\n"
      ]
    },
    {
      "cell_type": "code",
      "execution_count": null,
      "metadata": {
        "colab": {
          "base_uri": "https://localhost:8080/"
        },
        "id": "z3kzA6E0Pu6O",
        "outputId": "a3507d04-1f90-46ad-d749-d8572841fd27"
      },
      "outputs": [
        {
          "output_type": "stream",
          "name": "stdout",
          "text": [
            "[[ 3.179e+03  3.930e+02  2.700e+01 ...  5.000e+00  2.000e+01  0.000e+00]\n",
            " [ 1.422e+03  0.000e+00  1.920e+02 ...  4.000e+00  2.700e+01  6.929e-01]\n",
            " [ 1.842e+03  9.200e+01  1.700e+01 ...  1.200e+01  1.400e+01  5.106e-01]\n",
            " ...\n",
            " [ 2.260e+03  6.280e+02  3.500e+01 ...  3.000e+00  1.500e+01 -7.351e-01]\n",
            " [ 3.005e+03  7.390e+02  7.900e+01 ...  9.000e+00  1.900e+01  8.763e-01]\n",
            " [ 1.828e+03  1.600e+02  1.160e+02 ...  1.200e+01  1.300e+01 -4.588e-01]]\n"
          ]
        }
      ],
      "source": [
        "x=df.drop(['rating'],axis=1).values\n",
        "print(x)"
      ]
    },
    {
      "cell_type": "code",
      "execution_count": null,
      "metadata": {
        "colab": {
          "base_uri": "https://localhost:8080/"
        },
        "id": "PVtJAL5dwO3C",
        "outputId": "ae74bce6-c144-4b71-cbee-479008ebbdba"
      },
      "outputs": [
        {
          "output_type": "execute_result",
          "data": {
            "text/plain": [
              "array([1, 1, 0, ..., 0, 1, 1])"
            ]
          },
          "metadata": {},
          "execution_count": 140
        }
      ],
      "source": [
        "y=df['rating'].values\n",
        "y "
      ]
    },
    {
      "cell_type": "markdown",
      "metadata": {
        "id": "J4WLRtHswtoQ"
      },
      "source": [
        "> **Splitting into training data and testing data**"
      ]
    },
    {
      "cell_type": "code",
      "execution_count": null,
      "metadata": {
        "id": "CgiCp4P_wSAN"
      },
      "outputs": [],
      "source": [
        "from sklearn.model_selection import train_test_split\n",
        "x_train,x_test,y_train,y_test=train_test_split(x,y,test_size=0.30,random_state=42)"
      ]
    },
    {
      "cell_type": "markdown",
      "metadata": {
        "id": "tEWaBSL7w1gH"
      },
      "source": [
        "> **Normalization**"
      ]
    },
    {
      "cell_type": "code",
      "execution_count": null,
      "metadata": {
        "id": "uvu6ML6sq0p1"
      },
      "outputs": [],
      "source": [
        "from sklearn.preprocessing import MinMaxScaler\n",
        "scaler=MinMaxScaler()\n",
        "scaler.fit(x_train)\n",
        "x_train=scaler.fit_transform(x_train)\n",
        "x_test=scaler.fit_transform(x_test)"
      ]
    },
    {
      "cell_type": "markdown",
      "metadata": {
        "id": "PWAqzgCFxNzm"
      },
      "source": [
        "> **Model creation**"
      ]
    },
    {
      "cell_type": "code",
      "execution_count": null,
      "metadata": {
        "id": "PFKekR_xZhwI"
      },
      "outputs": [],
      "source": [
        "from sklearn.neighbors import KNeighborsClassifier\n",
        "from sklearn.naive_bayes import MultinomialNB\n",
        "from sklearn.tree import DecisionTreeClassifier\n",
        "from sklearn.ensemble import RandomForestClassifier\n",
        "\n",
        "knn=KNeighborsClassifier(n_neighbors=5)\n",
        "nb=MultinomialNB()\n",
        "tree=DecisionTreeClassifier(criterion='entropy')\n",
        "forest=RandomForestClassifier(n_estimators=100,criterion='entropy')\n",
        "\n",
        "model_lst=[knn,nb,tree,forest]"
      ]
    },
    {
      "cell_type": "code",
      "execution_count": null,
      "metadata": {
        "colab": {
          "base_uri": "https://localhost:8080/"
        },
        "id": "touh3Nz4ZqVb",
        "outputId": "c7f8673a-efd1-40e5-ed95-3f4132a8154c"
      },
      "outputs": [
        {
          "output_type": "stream",
          "name": "stdout",
          "text": [
            "KNeighborsClassifier()\n",
            "**************************************************************************\n",
            "              precision    recall  f1-score   support\n",
            "\n",
            "           0       0.47      0.36      0.41     14300\n",
            "           1       0.75      0.82      0.79     33550\n",
            "\n",
            "    accuracy                           0.69     47850\n",
            "   macro avg       0.61      0.59      0.60     47850\n",
            "weighted avg       0.67      0.69      0.67     47850\n",
            "\n",
            "**************************************************************************\n",
            "MultinomialNB()\n",
            "**************************************************************************\n",
            "              precision    recall  f1-score   support\n",
            "\n",
            "           0       0.00      0.00      0.00     14300\n",
            "           1       0.70      1.00      0.82     33550\n",
            "\n",
            "    accuracy                           0.70     47850\n",
            "   macro avg       0.35      0.50      0.41     47850\n",
            "weighted avg       0.49      0.70      0.58     47850\n",
            "\n",
            "**************************************************************************\n",
            "DecisionTreeClassifier(criterion='entropy')\n",
            "**************************************************************************\n",
            "              precision    recall  f1-score   support\n",
            "\n",
            "           0       0.54      0.56      0.55     14300\n",
            "           1       0.81      0.80      0.80     33550\n",
            "\n",
            "    accuracy                           0.72     47850\n",
            "   macro avg       0.67      0.68      0.67     47850\n",
            "weighted avg       0.73      0.72      0.73     47850\n",
            "\n",
            "**************************************************************************\n",
            "RandomForestClassifier(criterion='entropy')\n",
            "**************************************************************************\n",
            "              precision    recall  f1-score   support\n",
            "\n",
            "           0       0.71      0.50      0.58     14300\n",
            "           1       0.81      0.91      0.86     33550\n",
            "\n",
            "    accuracy                           0.79     47850\n",
            "   macro avg       0.76      0.70      0.72     47850\n",
            "weighted avg       0.78      0.79      0.78     47850\n",
            "\n",
            "**************************************************************************\n"
          ]
        }
      ],
      "source": [
        "from sklearn.metrics import confusion_matrix,accuracy_score,classification_report\n",
        "for i in model_lst:\n",
        "  print(i)\n",
        "  i.fit(x_train,y_train)\n",
        "  y_pred=i.predict(x_test)\n",
        "  print(\"**************************************************************************\")\n",
        "  print(classification_report(y_test,y_pred))\n",
        "  print(\"**************************************************************************\")\n"
      ]
    },
    {
      "cell_type": "code",
      "source": [
        "sns.heatmap(confusion_matrix(y_test,forest.predict(x_test)),annot=True,fmt=\"d\")"
      ],
      "metadata": {
        "colab": {
          "base_uri": "https://localhost:8080/",
          "height": 282
        },
        "id": "tSmSn8XfS4HT",
        "outputId": "f6edcdd0-2c78-4712-9e5d-f97ca3ba1e9d"
      },
      "execution_count": null,
      "outputs": [
        {
          "output_type": "execute_result",
          "data": {
            "text/plain": [
              "<AxesSubplot:>"
            ]
          },
          "metadata": {},
          "execution_count": 127
        },
        {
          "output_type": "display_data",
          "data": {
            "text/plain": [
              "<Figure size 432x288 with 2 Axes>"
            ],
            "image/png": "[encoded data removed]"
          },
          "metadata": {
            "needs_background": "light"
          }
        }
      ]
    },
    {
      "cell_type": "markdown",
      "source": [
        "> **Obervations**\n",
        ">* Random forest gives the maximum accuracy of 79%\n",
        ">* From the confusion matrix of randon forest, the values of false positve(7190) is high. So we are performing feature selection to improve performance of the model."
      ],
      "metadata": {
        "id": "jv85zfa0V7PT"
      }
    },
    {
      "cell_type": "markdown",
      "source": [
        "> **Feature selection using chi2**"
      ],
      "metadata": {
        "id": "Kr2BbGHdTZqb"
      }
    },
    {
      "cell_type": "code",
      "source": [
        "from sklearn.feature_selection import SelectKBest, chi2\n",
        "\n",
        "# Convert x_train to a pandas DataFrame\n",
        "x_train_df = pd.DataFrame(x_train, columns=['drugName', 'condition', 'usefulCount', 'Year', 'month', 'day','sentiment'])\n",
        "\n",
        "# Apply feature selection using SelectKBest and chi2\n",
        "select_feature = SelectKBest(chi2, k=5).fit(x_train_df, y_train)\n",
        "\n",
        "# Print the selected feature scores and names\n",
        "\n",
        "score=pd.DataFrame(list(zip(select_feature.scores_, x_train_df.columns)), columns=['Score', 'Feature'])\n",
        "print(score.sort_values(by='Score'))\n",
        "\n",
        "print('Feature list:', x_train_df.columns[select_feature.get_support()])"
      ],
      "metadata": {
        "colab": {
          "base_uri": "https://localhost:8080/"
        },
        "id": "tB9_7-xBRMQW",
        "outputId": "7827ce0e-faea-4cea-90b3-193e364f25f6"
      },
      "execution_count": null,
      "outputs": [
        {
          "output_type": "stream",
          "name": "stdout",
          "text": [
            "        Score      Feature\n",
            "5    0.007636          day\n",
            "0    0.967780     drugName\n",
            "4    8.045422        month\n",
            "1   67.589046    condition\n",
            "2  186.280850  usefulCount\n",
            "3  559.358345         Year\n",
            "6  787.159306    sentiment\n",
            "Feature list: Index(['condition', 'usefulCount', 'Year', 'month', 'sentiment'], dtype='object')\n"
          ]
        }
      ]
    },
    {
      "cell_type": "markdown",
      "source": [
        "> **Creating new model removing irrelevant features**"
      ],
      "metadata": {
        "id": "peJi4cQUz-0w"
      }
    },
    {
      "cell_type": "code",
      "source": [
        "x1=df[['condition', 'usefulCount', 'Year', 'month', 'sentiment']].values\n",
        "y1=df['rating'].values"
      ],
      "metadata": {
        "id": "vse4imDmRg0K"
      },
      "execution_count": null,
      "outputs": []
    },
    {
      "cell_type": "code",
      "source": [
        "from sklearn.model_selection import train_test_split\n",
        "x1_train,x1_test,y1_train,y1_test=train_test_split(x1,y1,test_size=0.30,random_state=42)"
      ],
      "metadata": {
        "id": "z9_VLtqTRsln"
      },
      "execution_count": null,
      "outputs": []
    },
    {
      "cell_type": "code",
      "source": [
        "from sklearn.preprocessing import MinMaxScaler\n",
        "scaler=MinMaxScaler()\n",
        "scaler.fit(x1_train)\n",
        "x1_train=scaler.fit_transform(x1_train)\n",
        "x1_test=scaler.fit_transform(x1_test)"
      ],
      "metadata": {
        "id": "0KBBripxR-GM"
      },
      "execution_count": null,
      "outputs": []
    },
    {
      "cell_type": "code",
      "source": [
        "from sklearn.metrics import confusion_matrix,accuracy_score,classification_report\n",
        "for i in model_lst:\n",
        "  print(i)\n",
        "  i.fit(x1_train,y1_train)\n",
        "  y1_pred=i.predict(x1_test)\n",
        "  print(\"**************************************************************************\")\n",
        "  print(classification_report(y1_test,y1_pred))\n",
        "  print(\"**************************************************************************\")\n"
      ],
      "metadata": {
        "colab": {
          "base_uri": "https://localhost:8080/"
        },
        "id": "qxsSCHY7R0Ns",
        "outputId": "17a5747b-ca92-4195-8860-bcdad5a99029"
      },
      "execution_count": null,
      "outputs": [
        {
          "output_type": "stream",
          "name": "stdout",
          "text": [
            "KNeighborsClassifier()\n",
            "**************************************************************************\n",
            "              precision    recall  f1-score   support\n",
            "\n",
            "           0       0.53      0.45      0.48     14300\n",
            "           1       0.78      0.83      0.80     33550\n",
            "\n",
            "    accuracy                           0.72     47850\n",
            "   macro avg       0.65      0.64      0.64     47850\n",
            "weighted avg       0.70      0.72      0.71     47850\n",
            "\n",
            "**************************************************************************\n",
            "MultinomialNB()\n",
            "**************************************************************************\n",
            "              precision    recall  f1-score   support\n",
            "\n",
            "           0       0.00      0.00      0.00     14300\n",
            "           1       0.70      1.00      0.82     33550\n",
            "\n",
            "    accuracy                           0.70     47850\n",
            "   macro avg       0.35      0.50      0.41     47850\n",
            "weighted avg       0.49      0.70      0.58     47850\n",
            "\n",
            "**************************************************************************\n",
            "DecisionTreeClassifier(criterion='entropy')\n",
            "**************************************************************************\n",
            "              precision    recall  f1-score   support\n",
            "\n",
            "           0       0.62      0.65      0.64     14300\n",
            "           1       0.85      0.83      0.84     33550\n",
            "\n",
            "    accuracy                           0.78     47850\n",
            "   macro avg       0.74      0.74      0.74     47850\n",
            "weighted avg       0.78      0.78      0.78     47850\n",
            "\n",
            "**************************************************************************\n",
            "RandomForestClassifier(criterion='entropy')\n",
            "**************************************************************************\n",
            "              precision    recall  f1-score   support\n",
            "\n",
            "           0       0.76      0.64      0.69     14300\n",
            "           1       0.86      0.91      0.88     33550\n",
            "\n",
            "    accuracy                           0.83     47850\n",
            "   macro avg       0.81      0.78      0.79     47850\n",
            "weighted avg       0.83      0.83      0.83     47850\n",
            "\n",
            "**************************************************************************\n"
          ]
        }
      ]
    },
    {
      "cell_type": "code",
      "source": [
        "sns.heatmap(confusion_matrix(y1_test,forest.predict(x1_test)),annot=True,fmt=\"d\")"
      ],
      "metadata": {
        "colab": {
          "base_uri": "https://localhost:8080/",
          "height": 282
        },
        "id": "kN61bM3kSNNZ",
        "outputId": "99c1a5e5-3056-4051-ecbe-b94967af4a3e"
      },
      "execution_count": null,
      "outputs": [
        {
          "output_type": "execute_result",
          "data": {
            "text/plain": [
              "<AxesSubplot:>"
            ]
          },
          "metadata": {},
          "execution_count": 133
        },
        {
          "output_type": "display_data",
          "data": {
            "text/plain": [
              "<Figure size 432x288 with 2 Axes>"
            ],
            "image/png": "[encoded data removed]"
          },
          "metadata": {
            "needs_background": "light"
          }
        }
      ]
    },
    {
      "cell_type": "markdown",
      "source": [
        ">**Observations**\n",
        "\n",
        ">* Accuracy of the model is increased after featurev selection.\n",
        ">* From the confusion matrix it may be observed that, the value of True positive(30593) and False negative(2957) remain the same . but the values of False positice has decresed and True negative has increased\n"
      ],
      "metadata": {
        "id": "ZMWgo5yNTxyy"
      }
    },
    {
      "cell_type": "markdown",
      "source": [
        "#**Conclusion**\n",
        "\n",
        ">* The dataset consists of 7 columns: 'uniqueID', 'drugName', 'condition', 'review', 'rating', 'date', and 'usefulCount'.\n",
        ">* I have performed NLP to find sentiment intensity of reviews\n",
        ">* Feature selection was performed to select the most important input features for the model. The selected features were found to be 'usefulCount', 'sentiment', 'Year', 'condition', and 'month'.\n",
        ">* The output feature was 'rating', which is a categorical variable representing the overall rating of the drug.\n",
        ">* Amoung all other classifiers, the Random Forest classifier achieved the maximum accuracy in predicting the rating of the drug."
      ],
      "metadata": {
        "id": "mMdWW16SXywv"
      }
    }
  ],
  "metadata": {
    "colab": {
      "provenance": [],
      "authorship_tag": "ABX9TyMl0cwXMFaIaeuIBnHXrU+I"
    },
    "kernelspec": {
      "display_name": "Python 3",
      "name": "python3"
    },
    "language_info": {
      "name": "python"
    }
  },
  "nbformat": 4,
  "nbformat_minor": 0
}