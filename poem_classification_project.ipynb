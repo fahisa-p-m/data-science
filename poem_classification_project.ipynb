{
  "nbformat": 4,
  "nbformat_minor": 0,
  "metadata": {
    "colab": {
      "provenance": [],
      "authorship_tag": "ABX9TyOx0ZrVN6WROZhZny9qOejE"
    },
    "kernelspec": {
      "name": "python3",
      "display_name": "Python 3"
    },
    "language_info": {
      "name": "python"
    }
  },
  "cells": [
    {
      "cell_type": "markdown",
      "source": [
        "# Poem Classification unsing NLP"
      ],
      "metadata": {
        "id": "CsROAawOH800"
      }
    },
    {
      "cell_type": "markdown",
      "source": [
        "Dataset is classified in 4 poem genres :Affection,Environment,Music and Death"
      ],
      "metadata": {
        "id": "jEIryhiCZg0N"
      }
    },
    {
      "cell_type": "markdown",
      "source": [
        "> importing required libraries"
      ],
      "metadata": {
        "id": "_pMM6XLxxWYy"
      }
    },
    {
      "cell_type": "code",
      "execution_count": null,
      "metadata": {
        "id": "7rCa0lg7vfJq"
      },
      "outputs": [],
      "source": [
        "import re\n",
        "import numpy as np\n",
        "import pandas as pd\n",
        "import matplotlib.pyplot as plt\n",
        "import seaborn as sns\n",
        "import nltk\n",
        "from nltk.stem import WordNetLemmatizer\n",
        "import warnings\n",
        "warnings.filterwarnings('ignore')"
      ]
    },
    {
      "cell_type": "markdown",
      "source": [
        "> Importing data\n"
      ],
      "metadata": {
        "id": "7UOMmjT5Zuxi"
      }
    },
    {
      "cell_type": "code",
      "source": [
        "train=pd.read_csv(\"/content/Poem_classification - train_data.csv\",encoding=\"ISO-8859-1\")\n",
        "test=pd.read_csv(\"/content/Poem_classification - test_data.csv\",encoding=\"ISO-8859-1\")\n",
        "df=pd.concat([train,test],axis=0,ignore_index=True)\n",
        "df"
      ],
      "metadata": {
        "colab": {
          "base_uri": "https://localhost:8080/",
          "height": 423
        },
        "id": "l5P6aITfZslD",
        "outputId": "3e2233e9-349f-4a82-a63d-eacd6d328e56"
      },
      "execution_count": null,
      "outputs": [
        {
          "output_type": "execute_result",
          "data": {
            "text/plain": [
              "           Genre                                               Poem\n",
              "0          Music                                                NaN\n",
              "1          Music  Â  Â  Â  Â  Â  Â  Â  In the thick brushthey sp...\n",
              "2          Music  Â  Â Storms are generous.Â  Â  Â  Â  Â  Â  Â  ...\n",
              "3          Music   âAfter Ana Mendieta Did you carry around th...\n",
              "4          Music   for Aja Sherrard at 20The portent may itself ...\n",
              "..           ...                                                ...\n",
              "986  Environment  To pick a tulip from the garden, the red one. ...\n",
              "987  Environment  We are as clouds that veil the midnight moon; ...\n",
              "988  Environment  When pulled, the spider web took another form....\n",
              "989  Environment  Whose woods these are I think I know. His hous...\n",
              "990  Environment  you can make the maples blazejust by stopping ...\n",
              "\n",
              "[991 rows x 2 columns]"
            ],
            "text/html": [
              "\n",
              "  <div id=\"df-fd932b84-63fc-4b2f-91c7-98749b215352\">\n",
              "    <div class=\"colab-df-container\">\n",
              "      <div>\n",
              "<style scoped>\n",
              "    .dataframe tbody tr th:only-of-type {\n",
              "        vertical-align: middle;\n",
              "    }\n",
              "\n",
              "    .dataframe tbody tr th {\n",
              "        vertical-align: top;\n",
              "    }\n",
              "\n",
              "    .dataframe thead th {\n",
              "        text-align: right;\n",
              "    }\n",
              "</style>\n",
              "<table border=\"1\" class=\"dataframe\">\n",
              "  <thead>\n",
              "    <tr style=\"text-align: right;\">\n",
              "      <th></th>\n",
              "      <th>Genre</th>\n",
              "      <th>Poem</th>\n",
              "    </tr>\n",
              "  </thead>\n",
              "  <tbody>\n",
              "    <tr>\n",
              "      <th>0</th>\n",
              "      <td>Music</td>\n",
              "      <td>NaN</td>\n",
              "    </tr>\n",
              "    <tr>\n",
              "      <th>1</th>\n",
              "      <td>Music</td>\n",
              "      <td>Â  Â  Â  Â  Â  Â  Â  In the thick brushthey sp...</td>\n",
              "    </tr>\n",
              "    <tr>\n",
              "      <th>2</th>\n",
              "      <td>Music</td>\n",
              "      <td>Â  Â Storms are generous.Â  Â  Â  Â  Â  Â  Â  ...</td>\n",
              "    </tr>\n",
              "    <tr>\n",
              "      <th>3</th>\n",
              "      <td>Music</td>\n",
              "      <td>âAfter Ana Mendieta Did you carry around th...</td>\n",
              "    </tr>\n",
              "    <tr>\n",
              "      <th>4</th>\n",
              "      <td>Music</td>\n",
              "      <td>for Aja Sherrard at 20The portent may itself ...</td>\n",
              "    </tr>\n",
              "    <tr>\n",
              "      <th>...</th>\n",
              "      <td>...</td>\n",
              "      <td>...</td>\n",
              "    </tr>\n",
              "    <tr>\n",
              "      <th>986</th>\n",
              "      <td>Environment</td>\n",
              "      <td>To pick a tulip from the garden, the red one. ...</td>\n",
              "    </tr>\n",
              "    <tr>\n",
              "      <th>987</th>\n",
              "      <td>Environment</td>\n",
              "      <td>We are as clouds that veil the midnight moon; ...</td>\n",
              "    </tr>\n",
              "    <tr>\n",
              "      <th>988</th>\n",
              "      <td>Environment</td>\n",
              "      <td>When pulled, the spider web took another form....</td>\n",
              "    </tr>\n",
              "    <tr>\n",
              "      <th>989</th>\n",
              "      <td>Environment</td>\n",
              "      <td>Whose woods these are I think I know. His hous...</td>\n",
              "    </tr>\n",
              "    <tr>\n",
              "      <th>990</th>\n",
              "      <td>Environment</td>\n",
              "      <td>you can make the maples blazejust by stopping ...</td>\n",
              "    </tr>\n",
              "  </tbody>\n",
              "</table>\n",
              "<p>991 rows × 2 columns</p>\n",
              "</div>\n",
              "      <button class=\"colab-df-convert\" onclick=\"convertToInteractive('df-fd932b84-63fc-4b2f-91c7-98749b215352')\"\n",
              "              title=\"Convert this dataframe to an interactive table.\"\n",
              "              style=\"display:none;\">\n",
              "        \n",
              "  <svg xmlns=\"http://www.w3.org/2000/svg\" height=\"24px\"viewBox=\"0 0 24 24\"\n",
              "       width=\"24px\">\n",
              "    <path d=\"M0 0h24v24H0V0z\" fill=\"none\"/>\n",
              "    <path d=\"M18.56 5.44l.94 2.06.94-2.06 2.06-.94-2.06-.94-.94-2.06-.94 2.06-2.06.94zm-11 1L8.5 8.5l.94-2.06 2.06-.94-2.06-.94L8.5 2.5l-.94 2.06-2.06.94zm10 10l.94 2.06.94-2.06 2.06-.94-2.06-.94-.94-2.06-.94 2.06-2.06.94z\"/><path d=\"M17.41 7.96l-1.37-1.37c-.4-.4-.92-.59-1.43-.59-.52 0-1.04.2-1.43.59L10.3 9.45l-7.72 7.72c-.78.78-.78 2.05 0 2.83L4 21.41c.39.39.9.59 1.41.59.51 0 1.02-.2 1.41-.59l7.78-7.78 2.81-2.81c.8-.78.8-2.07 0-2.86zM5.41 20L4 18.59l7.72-7.72 1.47 1.35L5.41 20z\"/>\n",
              "  </svg>\n",
              "      </button>\n",
              "      \n",
              "  <style>\n",
              "    .colab-df-container {\n",
              "      display:flex;\n",
              "      flex-wrap:wrap;\n",
              "      gap: 12px;\n",
              "    }\n",
              "\n",
              "    .colab-df-convert {\n",
              "      background-color: #E8F0FE;\n",
              "      border: none;\n",
              "      border-radius: 50%;\n",
              "      cursor: pointer;\n",
              "      display: none;\n",
              "      fill: #1967D2;\n",
              "      height: 32px;\n",
              "      padding: 0 0 0 0;\n",
              "      width: 32px;\n",
              "    }\n",
              "\n",
              "    .colab-df-convert:hover {\n",
              "      background-color: #E2EBFA;\n",
              "      box-shadow: 0px 1px 2px rgba(60, 64, 67, 0.3), 0px 1px 3px 1px rgba(60, 64, 67, 0.15);\n",
              "      fill: #174EA6;\n",
              "    }\n",
              "\n",
              "    [theme=dark] .colab-df-convert {\n",
              "      background-color: #3B4455;\n",
              "      fill: #D2E3FC;\n",
              "    }\n",
              "\n",
              "    [theme=dark] .colab-df-convert:hover {\n",
              "      background-color: #434B5C;\n",
              "      box-shadow: 0px 1px 3px 1px rgba(0, 0, 0, 0.15);\n",
              "      filter: drop-shadow(0px 1px 2px rgba(0, 0, 0, 0.3));\n",
              "      fill: #FFFFFF;\n",
              "    }\n",
              "  </style>\n",
              "\n",
              "      <script>\n",
              "        const buttonEl =\n",
              "          document.querySelector('#df-fd932b84-63fc-4b2f-91c7-98749b215352 button.colab-df-convert');\n",
              "        buttonEl.style.display =\n",
              "          google.colab.kernel.accessAllowed ? 'block' : 'none';\n",
              "\n",
              "        async function convertToInteractive(key) {\n",
              "          const element = document.querySelector('#df-fd932b84-63fc-4b2f-91c7-98749b215352');\n",
              "          const dataTable =\n",
              "            await google.colab.kernel.invokeFunction('convertToInteractive',\n",
              "                                                     [key], {});\n",
              "          if (!dataTable) return;\n",
              "\n",
              "          const docLinkHtml = 'Like what you see? Visit the ' +\n",
              "            '<a target=\"_blank\" href=https://colab.research.google.com/notebooks/data_table.ipynb>data table notebook</a>'\n",
              "            + ' to learn more about interactive tables.';\n",
              "          element.innerHTML = '';\n",
              "          dataTable['output_type'] = 'display_data';\n",
              "          await google.colab.output.renderOutput(dataTable, element);\n",
              "          const docLink = document.createElement('div');\n",
              "          docLink.innerHTML = docLinkHtml;\n",
              "          element.appendChild(docLink);\n",
              "        }\n",
              "      </script>\n",
              "    </div>\n",
              "  </div>\n",
              "  "
            ]
          },
          "metadata": {},
          "execution_count": 312
        }
      ]
    },
    {
      "cell_type": "code",
      "source": [
        "df.head()"
      ],
      "metadata": {
        "colab": {
          "base_uri": "https://localhost:8080/",
          "height": 206
        },
        "id": "Bm7hpFG5bfIF",
        "outputId": "8cb1bda0-9f5d-4e39-a682-e455ed21dd32"
      },
      "execution_count": null,
      "outputs": [
        {
          "output_type": "execute_result",
          "data": {
            "text/plain": [
              "   Genre                                               Poem\n",
              "0  Music                                                NaN\n",
              "1  Music  Â  Â  Â  Â  Â  Â  Â  In the thick brushthey sp...\n",
              "2  Music  Â  Â Storms are generous.Â  Â  Â  Â  Â  Â  Â  ...\n",
              "3  Music   âAfter Ana Mendieta Did you carry around th...\n",
              "4  Music   for Aja Sherrard at 20The portent may itself ..."
            ],
            "text/html": [
              "\n",
              "  <div id=\"df-f122349a-d7a0-4534-99ff-fa7341d7a013\">\n",
              "    <div class=\"colab-df-container\">\n",
              "      <div>\n",
              "<style scoped>\n",
              "    .dataframe tbody tr th:only-of-type {\n",
              "        vertical-align: middle;\n",
              "    }\n",
              "\n",
              "    .dataframe tbody tr th {\n",
              "        vertical-align: top;\n",
              "    }\n",
              "\n",
              "    .dataframe thead th {\n",
              "        text-align: right;\n",
              "    }\n",
              "</style>\n",
              "<table border=\"1\" class=\"dataframe\">\n",
              "  <thead>\n",
              "    <tr style=\"text-align: right;\">\n",
              "      <th></th>\n",
              "      <th>Genre</th>\n",
              "      <th>Poem</th>\n",
              "    </tr>\n",
              "  </thead>\n",
              "  <tbody>\n",
              "    <tr>\n",
              "      <th>0</th>\n",
              "      <td>Music</td>\n",
              "      <td>NaN</td>\n",
              "    </tr>\n",
              "    <tr>\n",
              "      <th>1</th>\n",
              "      <td>Music</td>\n",
              "      <td>Â  Â  Â  Â  Â  Â  Â  In the thick brushthey sp...</td>\n",
              "    </tr>\n",
              "    <tr>\n",
              "      <th>2</th>\n",
              "      <td>Music</td>\n",
              "      <td>Â  Â Storms are generous.Â  Â  Â  Â  Â  Â  Â  ...</td>\n",
              "    </tr>\n",
              "    <tr>\n",
              "      <th>3</th>\n",
              "      <td>Music</td>\n",
              "      <td>âAfter Ana Mendieta Did you carry around th...</td>\n",
              "    </tr>\n",
              "    <tr>\n",
              "      <th>4</th>\n",
              "      <td>Music</td>\n",
              "      <td>for Aja Sherrard at 20The portent may itself ...</td>\n",
              "    </tr>\n",
              "  </tbody>\n",
              "</table>\n",
              "</div>\n",
              "      <button class=\"colab-df-convert\" onclick=\"convertToInteractive('df-f122349a-d7a0-4534-99ff-fa7341d7a013')\"\n",
              "              title=\"Convert this dataframe to an interactive table.\"\n",
              "              style=\"display:none;\">\n",
              "        \n",
              "  <svg xmlns=\"http://www.w3.org/2000/svg\" height=\"24px\"viewBox=\"0 0 24 24\"\n",
              "       width=\"24px\">\n",
              "    <path d=\"M0 0h24v24H0V0z\" fill=\"none\"/>\n",
              "    <path d=\"M18.56 5.44l.94 2.06.94-2.06 2.06-.94-2.06-.94-.94-2.06-.94 2.06-2.06.94zm-11 1L8.5 8.5l.94-2.06 2.06-.94-2.06-.94L8.5 2.5l-.94 2.06-2.06.94zm10 10l.94 2.06.94-2.06 2.06-.94-2.06-.94-.94-2.06-.94 2.06-2.06.94z\"/><path d=\"M17.41 7.96l-1.37-1.37c-.4-.4-.92-.59-1.43-.59-.52 0-1.04.2-1.43.59L10.3 9.45l-7.72 7.72c-.78.78-.78 2.05 0 2.83L4 21.41c.39.39.9.59 1.41.59.51 0 1.02-.2 1.41-.59l7.78-7.78 2.81-2.81c.8-.78.8-2.07 0-2.86zM5.41 20L4 18.59l7.72-7.72 1.47 1.35L5.41 20z\"/>\n",
              "  </svg>\n",
              "      </button>\n",
              "      \n",
              "  <style>\n",
              "    .colab-df-container {\n",
              "      display:flex;\n",
              "      flex-wrap:wrap;\n",
              "      gap: 12px;\n",
              "    }\n",
              "\n",
              "    .colab-df-convert {\n",
              "      background-color: #E8F0FE;\n",
              "      border: none;\n",
              "      border-radius: 50%;\n",
              "      cursor: pointer;\n",
              "      display: none;\n",
              "      fill: #1967D2;\n",
              "      height: 32px;\n",
              "      padding: 0 0 0 0;\n",
              "      width: 32px;\n",
              "    }\n",
              "\n",
              "    .colab-df-convert:hover {\n",
              "      background-color: #E2EBFA;\n",
              "      box-shadow: 0px 1px 2px rgba(60, 64, 67, 0.3), 0px 1px 3px 1px rgba(60, 64, 67, 0.15);\n",
              "      fill: #174EA6;\n",
              "    }\n",
              "\n",
              "    [theme=dark] .colab-df-convert {\n",
              "      background-color: #3B4455;\n",
              "      fill: #D2E3FC;\n",
              "    }\n",
              "\n",
              "    [theme=dark] .colab-df-convert:hover {\n",
              "      background-color: #434B5C;\n",
              "      box-shadow: 0px 1px 3px 1px rgba(0, 0, 0, 0.15);\n",
              "      filter: drop-shadow(0px 1px 2px rgba(0, 0, 0, 0.3));\n",
              "      fill: #FFFFFF;\n",
              "    }\n",
              "  </style>\n",
              "\n",
              "      <script>\n",
              "        const buttonEl =\n",
              "          document.querySelector('#df-f122349a-d7a0-4534-99ff-fa7341d7a013 button.colab-df-convert');\n",
              "        buttonEl.style.display =\n",
              "          google.colab.kernel.accessAllowed ? 'block' : 'none';\n",
              "\n",
              "        async function convertToInteractive(key) {\n",
              "          const element = document.querySelector('#df-f122349a-d7a0-4534-99ff-fa7341d7a013');\n",
              "          const dataTable =\n",
              "            await google.colab.kernel.invokeFunction('convertToInteractive',\n",
              "                                                     [key], {});\n",
              "          if (!dataTable) return;\n",
              "\n",
              "          const docLinkHtml = 'Like what you see? Visit the ' +\n",
              "            '<a target=\"_blank\" href=https://colab.research.google.com/notebooks/data_table.ipynb>data table notebook</a>'\n",
              "            + ' to learn more about interactive tables.';\n",
              "          element.innerHTML = '';\n",
              "          dataTable['output_type'] = 'display_data';\n",
              "          await google.colab.output.renderOutput(dataTable, element);\n",
              "          const docLink = document.createElement('div');\n",
              "          docLink.innerHTML = docLinkHtml;\n",
              "          element.appendChild(docLink);\n",
              "        }\n",
              "      </script>\n",
              "    </div>\n",
              "  </div>\n",
              "  "
            ]
          },
          "metadata": {},
          "execution_count": 313
        }
      ]
    },
    {
      "cell_type": "code",
      "source": [
        "df.tail()"
      ],
      "metadata": {
        "colab": {
          "base_uri": "https://localhost:8080/",
          "height": 206
        },
        "id": "QW2-T1fFbz0s",
        "outputId": "c8e4ce68-9067-4996-cdef-44033c032752"
      },
      "execution_count": null,
      "outputs": [
        {
          "output_type": "execute_result",
          "data": {
            "text/plain": [
              "           Genre                                               Poem\n",
              "986  Environment  To pick a tulip from the garden, the red one. ...\n",
              "987  Environment  We are as clouds that veil the midnight moon; ...\n",
              "988  Environment  When pulled, the spider web took another form....\n",
              "989  Environment  Whose woods these are I think I know. His hous...\n",
              "990  Environment  you can make the maples blazejust by stopping ..."
            ],
            "text/html": [
              "\n",
              "  <div id=\"df-c687863b-f9fb-4299-976c-a8425f2be232\">\n",
              "    <div class=\"colab-df-container\">\n",
              "      <div>\n",
              "<style scoped>\n",
              "    .dataframe tbody tr th:only-of-type {\n",
              "        vertical-align: middle;\n",
              "    }\n",
              "\n",
              "    .dataframe tbody tr th {\n",
              "        vertical-align: top;\n",
              "    }\n",
              "\n",
              "    .dataframe thead th {\n",
              "        text-align: right;\n",
              "    }\n",
              "</style>\n",
              "<table border=\"1\" class=\"dataframe\">\n",
              "  <thead>\n",
              "    <tr style=\"text-align: right;\">\n",
              "      <th></th>\n",
              "      <th>Genre</th>\n",
              "      <th>Poem</th>\n",
              "    </tr>\n",
              "  </thead>\n",
              "  <tbody>\n",
              "    <tr>\n",
              "      <th>986</th>\n",
              "      <td>Environment</td>\n",
              "      <td>To pick a tulip from the garden, the red one. ...</td>\n",
              "    </tr>\n",
              "    <tr>\n",
              "      <th>987</th>\n",
              "      <td>Environment</td>\n",
              "      <td>We are as clouds that veil the midnight moon; ...</td>\n",
              "    </tr>\n",
              "    <tr>\n",
              "      <th>988</th>\n",
              "      <td>Environment</td>\n",
              "      <td>When pulled, the spider web took another form....</td>\n",
              "    </tr>\n",
              "    <tr>\n",
              "      <th>989</th>\n",
              "      <td>Environment</td>\n",
              "      <td>Whose woods these are I think I know. His hous...</td>\n",
              "    </tr>\n",
              "    <tr>\n",
              "      <th>990</th>\n",
              "      <td>Environment</td>\n",
              "      <td>you can make the maples blazejust by stopping ...</td>\n",
              "    </tr>\n",
              "  </tbody>\n",
              "</table>\n",
              "</div>\n",
              "      <button class=\"colab-df-convert\" onclick=\"convertToInteractive('df-c687863b-f9fb-4299-976c-a8425f2be232')\"\n",
              "              title=\"Convert this dataframe to an interactive table.\"\n",
              "              style=\"display:none;\">\n",
              "        \n",
              "  <svg xmlns=\"http://www.w3.org/2000/svg\" height=\"24px\"viewBox=\"0 0 24 24\"\n",
              "       width=\"24px\">\n",
              "    <path d=\"M0 0h24v24H0V0z\" fill=\"none\"/>\n",
              "    <path d=\"M18.56 5.44l.94 2.06.94-2.06 2.06-.94-2.06-.94-.94-2.06-.94 2.06-2.06.94zm-11 1L8.5 8.5l.94-2.06 2.06-.94-2.06-.94L8.5 2.5l-.94 2.06-2.06.94zm10 10l.94 2.06.94-2.06 2.06-.94-2.06-.94-.94-2.06-.94 2.06-2.06.94z\"/><path d=\"M17.41 7.96l-1.37-1.37c-.4-.4-.92-.59-1.43-.59-.52 0-1.04.2-1.43.59L10.3 9.45l-7.72 7.72c-.78.78-.78 2.05 0 2.83L4 21.41c.39.39.9.59 1.41.59.51 0 1.02-.2 1.41-.59l7.78-7.78 2.81-2.81c.8-.78.8-2.07 0-2.86zM5.41 20L4 18.59l7.72-7.72 1.47 1.35L5.41 20z\"/>\n",
              "  </svg>\n",
              "      </button>\n",
              "      \n",
              "  <style>\n",
              "    .colab-df-container {\n",
              "      display:flex;\n",
              "      flex-wrap:wrap;\n",
              "      gap: 12px;\n",
              "    }\n",
              "\n",
              "    .colab-df-convert {\n",
              "      background-color: #E8F0FE;\n",
              "      border: none;\n",
              "      border-radius: 50%;\n",
              "      cursor: pointer;\n",
              "      display: none;\n",
              "      fill: #1967D2;\n",
              "      height: 32px;\n",
              "      padding: 0 0 0 0;\n",
              "      width: 32px;\n",
              "    }\n",
              "\n",
              "    .colab-df-convert:hover {\n",
              "      background-color: #E2EBFA;\n",
              "      box-shadow: 0px 1px 2px rgba(60, 64, 67, 0.3), 0px 1px 3px 1px rgba(60, 64, 67, 0.15);\n",
              "      fill: #174EA6;\n",
              "    }\n",
              "\n",
              "    [theme=dark] .colab-df-convert {\n",
              "      background-color: #3B4455;\n",
              "      fill: #D2E3FC;\n",
              "    }\n",
              "\n",
              "    [theme=dark] .colab-df-convert:hover {\n",
              "      background-color: #434B5C;\n",
              "      box-shadow: 0px 1px 3px 1px rgba(0, 0, 0, 0.15);\n",
              "      filter: drop-shadow(0px 1px 2px rgba(0, 0, 0, 0.3));\n",
              "      fill: #FFFFFF;\n",
              "    }\n",
              "  </style>\n",
              "\n",
              "      <script>\n",
              "        const buttonEl =\n",
              "          document.querySelector('#df-c687863b-f9fb-4299-976c-a8425f2be232 button.colab-df-convert');\n",
              "        buttonEl.style.display =\n",
              "          google.colab.kernel.accessAllowed ? 'block' : 'none';\n",
              "\n",
              "        async function convertToInteractive(key) {\n",
              "          const element = document.querySelector('#df-c687863b-f9fb-4299-976c-a8425f2be232');\n",
              "          const dataTable =\n",
              "            await google.colab.kernel.invokeFunction('convertToInteractive',\n",
              "                                                     [key], {});\n",
              "          if (!dataTable) return;\n",
              "\n",
              "          const docLinkHtml = 'Like what you see? Visit the ' +\n",
              "            '<a target=\"_blank\" href=https://colab.research.google.com/notebooks/data_table.ipynb>data table notebook</a>'\n",
              "            + ' to learn more about interactive tables.';\n",
              "          element.innerHTML = '';\n",
              "          dataTable['output_type'] = 'display_data';\n",
              "          await google.colab.output.renderOutput(dataTable, element);\n",
              "          const docLink = document.createElement('div');\n",
              "          docLink.innerHTML = docLinkHtml;\n",
              "          element.appendChild(docLink);\n",
              "        }\n",
              "      </script>\n",
              "    </div>\n",
              "  </div>\n",
              "  "
            ]
          },
          "metadata": {},
          "execution_count": 314
        }
      ]
    },
    {
      "cell_type": "code",
      "source": [
        "df.columns"
      ],
      "metadata": {
        "colab": {
          "base_uri": "https://localhost:8080/"
        },
        "id": "kjhbjRQpb07f",
        "outputId": "9e25576f-0062-4731-d347-bd416ee5728d"
      },
      "execution_count": null,
      "outputs": [
        {
          "output_type": "execute_result",
          "data": {
            "text/plain": [
              "Index(['Genre', 'Poem'], dtype='object')"
            ]
          },
          "metadata": {},
          "execution_count": 315
        }
      ]
    },
    {
      "cell_type": "code",
      "source": [
        "df.isna().sum()"
      ],
      "metadata": {
        "colab": {
          "base_uri": "https://localhost:8080/"
        },
        "id": "PUhBawXHb284",
        "outputId": "f9aac4ae-277f-4768-f57c-e382adcb0625"
      },
      "execution_count": null,
      "outputs": [
        {
          "output_type": "execute_result",
          "data": {
            "text/plain": [
              "Genre    0\n",
              "Poem     4\n",
              "dtype: int64"
            ]
          },
          "metadata": {},
          "execution_count": 316
        }
      ]
    },
    {
      "cell_type": "markdown",
      "source": [
        "> we may drop the missing rows."
      ],
      "metadata": {
        "id": "238aN1FUb-hM"
      }
    },
    {
      "cell_type": "code",
      "source": [
        "df.dropna(axis=0,inplace=True)\n",
        "df.isna().sum()"
      ],
      "metadata": {
        "colab": {
          "base_uri": "https://localhost:8080/"
        },
        "id": "juBxyQAsiEsx",
        "outputId": "abfeae07-391d-4517-e02b-c80f9bf3fd48"
      },
      "execution_count": null,
      "outputs": [
        {
          "output_type": "execute_result",
          "data": {
            "text/plain": [
              "Genre    0\n",
              "Poem     0\n",
              "dtype: int64"
            ]
          },
          "metadata": {},
          "execution_count": 317
        }
      ]
    },
    {
      "cell_type": "markdown",
      "source": [
        "> finding value counts of poem genres"
      ],
      "metadata": {
        "id": "qhNa0lswivEP"
      }
    },
    {
      "cell_type": "code",
      "source": [
        "df.reset_index(drop=True,inplace=True)\n",
        "df"
      ],
      "metadata": {
        "colab": {
          "base_uri": "https://localhost:8080/",
          "height": 423
        },
        "id": "SUIaa3CjktOC",
        "outputId": "02c132d0-b051-425c-e24c-bfcadf23de65"
      },
      "execution_count": null,
      "outputs": [
        {
          "output_type": "execute_result",
          "data": {
            "text/plain": [
              "           Genre                                               Poem\n",
              "0          Music  Â  Â  Â  Â  Â  Â  Â  In the thick brushthey sp...\n",
              "1          Music  Â  Â Storms are generous.Â  Â  Â  Â  Â  Â  Â  ...\n",
              "2          Music   âAfter Ana Mendieta Did you carry around th...\n",
              "3          Music   for Aja Sherrard at 20The portent may itself ...\n",
              "4          Music   for Bob Marley, Bavaria, November 1980 Here i...\n",
              "..           ...                                                ...\n",
              "982  Environment  To pick a tulip from the garden, the red one. ...\n",
              "983  Environment  We are as clouds that veil the midnight moon; ...\n",
              "984  Environment  When pulled, the spider web took another form....\n",
              "985  Environment  Whose woods these are I think I know. His hous...\n",
              "986  Environment  you can make the maples blazejust by stopping ...\n",
              "\n",
              "[987 rows x 2 columns]"
            ],
            "text/html": [
              "\n",
              "  <div id=\"df-89bd941a-0959-472e-bcd0-c7fee585d869\">\n",
              "    <div class=\"colab-df-container\">\n",
              "      <div>\n",
              "<style scoped>\n",
              "    .dataframe tbody tr th:only-of-type {\n",
              "        vertical-align: middle;\n",
              "    }\n",
              "\n",
              "    .dataframe tbody tr th {\n",
              "        vertical-align: top;\n",
              "    }\n",
              "\n",
              "    .dataframe thead th {\n",
              "        text-align: right;\n",
              "    }\n",
              "</style>\n",
              "<table border=\"1\" class=\"dataframe\">\n",
              "  <thead>\n",
              "    <tr style=\"text-align: right;\">\n",
              "      <th></th>\n",
              "      <th>Genre</th>\n",
              "      <th>Poem</th>\n",
              "    </tr>\n",
              "  </thead>\n",
              "  <tbody>\n",
              "    <tr>\n",
              "      <th>0</th>\n",
              "      <td>Music</td>\n",
              "      <td>Â  Â  Â  Â  Â  Â  Â  In the thick brushthey sp...</td>\n",
              "    </tr>\n",
              "    <tr>\n",
              "      <th>1</th>\n",
              "      <td>Music</td>\n",
              "      <td>Â  Â Storms are generous.Â  Â  Â  Â  Â  Â  Â  ...</td>\n",
              "    </tr>\n",
              "    <tr>\n",
              "      <th>2</th>\n",
              "      <td>Music</td>\n",
              "      <td>âAfter Ana Mendieta Did you carry around th...</td>\n",
              "    </tr>\n",
              "    <tr>\n",
              "      <th>3</th>\n",
              "      <td>Music</td>\n",
              "      <td>for Aja Sherrard at 20The portent may itself ...</td>\n",
              "    </tr>\n",
              "    <tr>\n",
              "      <th>4</th>\n",
              "      <td>Music</td>\n",
              "      <td>for Bob Marley, Bavaria, November 1980 Here i...</td>\n",
              "    </tr>\n",
              "    <tr>\n",
              "      <th>...</th>\n",
              "      <td>...</td>\n",
              "      <td>...</td>\n",
              "    </tr>\n",
              "    <tr>\n",
              "      <th>982</th>\n",
              "      <td>Environment</td>\n",
              "      <td>To pick a tulip from the garden, the red one. ...</td>\n",
              "    </tr>\n",
              "    <tr>\n",
              "      <th>983</th>\n",
              "      <td>Environment</td>\n",
              "      <td>We are as clouds that veil the midnight moon; ...</td>\n",
              "    </tr>\n",
              "    <tr>\n",
              "      <th>984</th>\n",
              "      <td>Environment</td>\n",
              "      <td>When pulled, the spider web took another form....</td>\n",
              "    </tr>\n",
              "    <tr>\n",
              "      <th>985</th>\n",
              "      <td>Environment</td>\n",
              "      <td>Whose woods these are I think I know. His hous...</td>\n",
              "    </tr>\n",
              "    <tr>\n",
              "      <th>986</th>\n",
              "      <td>Environment</td>\n",
              "      <td>you can make the maples blazejust by stopping ...</td>\n",
              "    </tr>\n",
              "  </tbody>\n",
              "</table>\n",
              "<p>987 rows × 2 columns</p>\n",
              "</div>\n",
              "      <button class=\"colab-df-convert\" onclick=\"convertToInteractive('df-89bd941a-0959-472e-bcd0-c7fee585d869')\"\n",
              "              title=\"Convert this dataframe to an interactive table.\"\n",
              "              style=\"display:none;\">\n",
              "        \n",
              "  <svg xmlns=\"http://www.w3.org/2000/svg\" height=\"24px\"viewBox=\"0 0 24 24\"\n",
              "       width=\"24px\">\n",
              "    <path d=\"M0 0h24v24H0V0z\" fill=\"none\"/>\n",
              "    <path d=\"M18.56 5.44l.94 2.06.94-2.06 2.06-.94-2.06-.94-.94-2.06-.94 2.06-2.06.94zm-11 1L8.5 8.5l.94-2.06 2.06-.94-2.06-.94L8.5 2.5l-.94 2.06-2.06.94zm10 10l.94 2.06.94-2.06 2.06-.94-2.06-.94-.94-2.06-.94 2.06-2.06.94z\"/><path d=\"M17.41 7.96l-1.37-1.37c-.4-.4-.92-.59-1.43-.59-.52 0-1.04.2-1.43.59L10.3 9.45l-7.72 7.72c-.78.78-.78 2.05 0 2.83L4 21.41c.39.39.9.59 1.41.59.51 0 1.02-.2 1.41-.59l7.78-7.78 2.81-2.81c.8-.78.8-2.07 0-2.86zM5.41 20L4 18.59l7.72-7.72 1.47 1.35L5.41 20z\"/>\n",
              "  </svg>\n",
              "      </button>\n",
              "      \n",
              "  <style>\n",
              "    .colab-df-container {\n",
              "      display:flex;\n",
              "      flex-wrap:wrap;\n",
              "      gap: 12px;\n",
              "    }\n",
              "\n",
              "    .colab-df-convert {\n",
              "      background-color: #E8F0FE;\n",
              "      border: none;\n",
              "      border-radius: 50%;\n",
              "      cursor: pointer;\n",
              "      display: none;\n",
              "      fill: #1967D2;\n",
              "      height: 32px;\n",
              "      padding: 0 0 0 0;\n",
              "      width: 32px;\n",
              "    }\n",
              "\n",
              "    .colab-df-convert:hover {\n",
              "      background-color: #E2EBFA;\n",
              "      box-shadow: 0px 1px 2px rgba(60, 64, 67, 0.3), 0px 1px 3px 1px rgba(60, 64, 67, 0.15);\n",
              "      fill: #174EA6;\n",
              "    }\n",
              "\n",
              "    [theme=dark] .colab-df-convert {\n",
              "      background-color: #3B4455;\n",
              "      fill: #D2E3FC;\n",
              "    }\n",
              "\n",
              "    [theme=dark] .colab-df-convert:hover {\n",
              "      background-color: #434B5C;\n",
              "      box-shadow: 0px 1px 3px 1px rgba(0, 0, 0, 0.15);\n",
              "      filter: drop-shadow(0px 1px 2px rgba(0, 0, 0, 0.3));\n",
              "      fill: #FFFFFF;\n",
              "    }\n",
              "  </style>\n",
              "\n",
              "      <script>\n",
              "        const buttonEl =\n",
              "          document.querySelector('#df-89bd941a-0959-472e-bcd0-c7fee585d869 button.colab-df-convert');\n",
              "        buttonEl.style.display =\n",
              "          google.colab.kernel.accessAllowed ? 'block' : 'none';\n",
              "\n",
              "        async function convertToInteractive(key) {\n",
              "          const element = document.querySelector('#df-89bd941a-0959-472e-bcd0-c7fee585d869');\n",
              "          const dataTable =\n",
              "            await google.colab.kernel.invokeFunction('convertToInteractive',\n",
              "                                                     [key], {});\n",
              "          if (!dataTable) return;\n",
              "\n",
              "          const docLinkHtml = 'Like what you see? Visit the ' +\n",
              "            '<a target=\"_blank\" href=https://colab.research.google.com/notebooks/data_table.ipynb>data table notebook</a>'\n",
              "            + ' to learn more about interactive tables.';\n",
              "          element.innerHTML = '';\n",
              "          dataTable['output_type'] = 'display_data';\n",
              "          await google.colab.output.renderOutput(dataTable, element);\n",
              "          const docLink = document.createElement('div');\n",
              "          docLink.innerHTML = docLinkHtml;\n",
              "          element.appendChild(docLink);\n",
              "        }\n",
              "      </script>\n",
              "    </div>\n",
              "  </div>\n",
              "  "
            ]
          },
          "metadata": {},
          "execution_count": 318
        }
      ]
    },
    {
      "cell_type": "code",
      "source": [
        "genre=df['Genre'].value_counts()\n",
        "print(genre)\n",
        "sns.countplot('Genre',data=df)"
      ],
      "metadata": {
        "colab": {
          "base_uri": "https://localhost:8080/",
          "height": 383
        },
        "id": "1VRW_ihniuhi",
        "outputId": "4759de47-7d9b-40b4-f448-859c6a1230e2"
      },
      "execution_count": null,
      "outputs": [
        {
          "output_type": "stream",
          "name": "stdout",
          "text": [
            "Environment    252\n",
            "Music          250\n",
            "Death          244\n",
            "Affection      241\n",
            "Name: Genre, dtype: int64\n"
          ]
        },
        {
          "output_type": "execute_result",
          "data": {
            "text/plain": [
              "<matplotlib.axes._subplots.AxesSubplot at 0x7f4805b976a0>"
            ]
          },
          "metadata": {},
          "execution_count": 319
        },
        {
          "output_type": "display_data",
          "data": {
            "text/plain": [
              "<Figure size 432x288 with 1 Axes>"
            ],
            "image/png": "[encoded data removed]"
          },
          "metadata": {
            "needs_background": "light"
          }
        }
      ]
    },
    {
      "cell_type": "markdown",
      "source": [
        "> giving numerival values to each genre"
      ],
      "metadata": {
        "id": "gFuNIH98kM_G"
      }
    },
    {
      "cell_type": "code",
      "source": [
        "df['Genre']=df['Genre'].map({'Environment':1,'Music':2,'Death':3,'Affection':4})\n",
        "df"
      ],
      "metadata": {
        "colab": {
          "base_uri": "https://localhost:8080/",
          "height": 423
        },
        "id": "UOCI-dlBjKLZ",
        "outputId": "2b3ecc06-245e-4d8c-a3a1-402e5272a53e"
      },
      "execution_count": null,
      "outputs": [
        {
          "output_type": "execute_result",
          "data": {
            "text/plain": [
              "     Genre                                               Poem\n",
              "0        2  Â  Â  Â  Â  Â  Â  Â  In the thick brushthey sp...\n",
              "1        2  Â  Â Storms are generous.Â  Â  Â  Â  Â  Â  Â  ...\n",
              "2        2   âAfter Ana Mendieta Did you carry around th...\n",
              "3        2   for Aja Sherrard at 20The portent may itself ...\n",
              "4        2   for Bob Marley, Bavaria, November 1980 Here i...\n",
              "..     ...                                                ...\n",
              "982      1  To pick a tulip from the garden, the red one. ...\n",
              "983      1  We are as clouds that veil the midnight moon; ...\n",
              "984      1  When pulled, the spider web took another form....\n",
              "985      1  Whose woods these are I think I know. His hous...\n",
              "986      1  you can make the maples blazejust by stopping ...\n",
              "\n",
              "[987 rows x 2 columns]"
            ],
            "text/html": [
              "\n",
              "  <div id=\"df-bc1b19fb-f62b-4bb1-979b-17b93fd1c126\">\n",
              "    <div class=\"colab-df-container\">\n",
              "      <div>\n",
              "<style scoped>\n",
              "    .dataframe tbody tr th:only-of-type {\n",
              "        vertical-align: middle;\n",
              "    }\n",
              "\n",
              "    .dataframe tbody tr th {\n",
              "        vertical-align: top;\n",
              "    }\n",
              "\n",
              "    .dataframe thead th {\n",
              "        text-align: right;\n",
              "    }\n",
              "</style>\n",
              "<table border=\"1\" class=\"dataframe\">\n",
              "  <thead>\n",
              "    <tr style=\"text-align: right;\">\n",
              "      <th></th>\n",
              "      <th>Genre</th>\n",
              "      <th>Poem</th>\n",
              "    </tr>\n",
              "  </thead>\n",
              "  <tbody>\n",
              "    <tr>\n",
              "      <th>0</th>\n",
              "      <td>2</td>\n",
              "      <td>Â  Â  Â  Â  Â  Â  Â  In the thick brushthey sp...</td>\n",
              "    </tr>\n",
              "    <tr>\n",
              "      <th>1</th>\n",
              "      <td>2</td>\n",
              "      <td>Â  Â Storms are generous.Â  Â  Â  Â  Â  Â  Â  ...</td>\n",
              "    </tr>\n",
              "    <tr>\n",
              "      <th>2</th>\n",
              "      <td>2</td>\n",
              "      <td>âAfter Ana Mendieta Did you carry around th...</td>\n",
              "    </tr>\n",
              "    <tr>\n",
              "      <th>3</th>\n",
              "      <td>2</td>\n",
              "      <td>for Aja Sherrard at 20The portent may itself ...</td>\n",
              "    </tr>\n",
              "    <tr>\n",
              "      <th>4</th>\n",
              "      <td>2</td>\n",
              "      <td>for Bob Marley, Bavaria, November 1980 Here i...</td>\n",
              "    </tr>\n",
              "    <tr>\n",
              "      <th>...</th>\n",
              "      <td>...</td>\n",
              "      <td>...</td>\n",
              "    </tr>\n",
              "    <tr>\n",
              "      <th>982</th>\n",
              "      <td>1</td>\n",
              "      <td>To pick a tulip from the garden, the red one. ...</td>\n",
              "    </tr>\n",
              "    <tr>\n",
              "      <th>983</th>\n",
              "      <td>1</td>\n",
              "      <td>We are as clouds that veil the midnight moon; ...</td>\n",
              "    </tr>\n",
              "    <tr>\n",
              "      <th>984</th>\n",
              "      <td>1</td>\n",
              "      <td>When pulled, the spider web took another form....</td>\n",
              "    </tr>\n",
              "    <tr>\n",
              "      <th>985</th>\n",
              "      <td>1</td>\n",
              "      <td>Whose woods these are I think I know. His hous...</td>\n",
              "    </tr>\n",
              "    <tr>\n",
              "      <th>986</th>\n",
              "      <td>1</td>\n",
              "      <td>you can make the maples blazejust by stopping ...</td>\n",
              "    </tr>\n",
              "  </tbody>\n",
              "</table>\n",
              "<p>987 rows × 2 columns</p>\n",
              "</div>\n",
              "      <button class=\"colab-df-convert\" onclick=\"convertToInteractive('df-bc1b19fb-f62b-4bb1-979b-17b93fd1c126')\"\n",
              "              title=\"Convert this dataframe to an interactive table.\"\n",
              "              style=\"display:none;\">\n",
              "        \n",
              "  <svg xmlns=\"http://www.w3.org/2000/svg\" height=\"24px\"viewBox=\"0 0 24 24\"\n",
              "       width=\"24px\">\n",
              "    <path d=\"M0 0h24v24H0V0z\" fill=\"none\"/>\n",
              "    <path d=\"M18.56 5.44l.94 2.06.94-2.06 2.06-.94-2.06-.94-.94-2.06-.94 2.06-2.06.94zm-11 1L8.5 8.5l.94-2.06 2.06-.94-2.06-.94L8.5 2.5l-.94 2.06-2.06.94zm10 10l.94 2.06.94-2.06 2.06-.94-2.06-.94-.94-2.06-.94 2.06-2.06.94z\"/><path d=\"M17.41 7.96l-1.37-1.37c-.4-.4-.92-.59-1.43-.59-.52 0-1.04.2-1.43.59L10.3 9.45l-7.72 7.72c-.78.78-.78 2.05 0 2.83L4 21.41c.39.39.9.59 1.41.59.51 0 1.02-.2 1.41-.59l7.78-7.78 2.81-2.81c.8-.78.8-2.07 0-2.86zM5.41 20L4 18.59l7.72-7.72 1.47 1.35L5.41 20z\"/>\n",
              "  </svg>\n",
              "      </button>\n",
              "      \n",
              "  <style>\n",
              "    .colab-df-container {\n",
              "      display:flex;\n",
              "      flex-wrap:wrap;\n",
              "      gap: 12px;\n",
              "    }\n",
              "\n",
              "    .colab-df-convert {\n",
              "      background-color: #E8F0FE;\n",
              "      border: none;\n",
              "      border-radius: 50%;\n",
              "      cursor: pointer;\n",
              "      display: none;\n",
              "      fill: #1967D2;\n",
              "      height: 32px;\n",
              "      padding: 0 0 0 0;\n",
              "      width: 32px;\n",
              "    }\n",
              "\n",
              "    .colab-df-convert:hover {\n",
              "      background-color: #E2EBFA;\n",
              "      box-shadow: 0px 1px 2px rgba(60, 64, 67, 0.3), 0px 1px 3px 1px rgba(60, 64, 67, 0.15);\n",
              "      fill: #174EA6;\n",
              "    }\n",
              "\n",
              "    [theme=dark] .colab-df-convert {\n",
              "      background-color: #3B4455;\n",
              "      fill: #D2E3FC;\n",
              "    }\n",
              "\n",
              "    [theme=dark] .colab-df-convert:hover {\n",
              "      background-color: #434B5C;\n",
              "      box-shadow: 0px 1px 3px 1px rgba(0, 0, 0, 0.15);\n",
              "      filter: drop-shadow(0px 1px 2px rgba(0, 0, 0, 0.3));\n",
              "      fill: #FFFFFF;\n",
              "    }\n",
              "  </style>\n",
              "\n",
              "      <script>\n",
              "        const buttonEl =\n",
              "          document.querySelector('#df-bc1b19fb-f62b-4bb1-979b-17b93fd1c126 button.colab-df-convert');\n",
              "        buttonEl.style.display =\n",
              "          google.colab.kernel.accessAllowed ? 'block' : 'none';\n",
              "\n",
              "        async function convertToInteractive(key) {\n",
              "          const element = document.querySelector('#df-bc1b19fb-f62b-4bb1-979b-17b93fd1c126');\n",
              "          const dataTable =\n",
              "            await google.colab.kernel.invokeFunction('convertToInteractive',\n",
              "                                                     [key], {});\n",
              "          if (!dataTable) return;\n",
              "\n",
              "          const docLinkHtml = 'Like what you see? Visit the ' +\n",
              "            '<a target=\"_blank\" href=https://colab.research.google.com/notebooks/data_table.ipynb>data table notebook</a>'\n",
              "            + ' to learn more about interactive tables.';\n",
              "          element.innerHTML = '';\n",
              "          dataTable['output_type'] = 'display_data';\n",
              "          await google.colab.output.renderOutput(dataTable, element);\n",
              "          const docLink = document.createElement('div');\n",
              "          docLink.innerHTML = docLinkHtml;\n",
              "          element.appendChild(docLink);\n",
              "        }\n",
              "      </script>\n",
              "    </div>\n",
              "  </div>\n",
              "  "
            ]
          },
          "metadata": {},
          "execution_count": 320
        }
      ]
    },
    {
      "cell_type": "markdown",
      "source": [
        "> download required packages from nltk"
      ],
      "metadata": {
        "id": "osPyQSFklac2"
      }
    },
    {
      "cell_type": "code",
      "source": [
        "nltk.download('wordnet')            #for lemmatization\n",
        "nltk.download('stopwords')          #to get stop words\n",
        "nltk.download('punkt')              #for tokenization"
      ],
      "metadata": {
        "colab": {
          "base_uri": "https://localhost:8080/"
        },
        "id": "zhek5AKak_Nz",
        "outputId": "a7365b90-e424-4cc5-c32e-c6c0367cd16b"
      },
      "execution_count": null,
      "outputs": [
        {
          "output_type": "stream",
          "name": "stderr",
          "text": [
            "[nltk_data] Downloading package wordnet to /root/nltk_data...\n",
            "[nltk_data]   Package wordnet is already up-to-date!\n",
            "[nltk_data] Downloading package stopwords to /root/nltk_data...\n",
            "[nltk_data]   Package stopwords is already up-to-date!\n",
            "[nltk_data] Downloading package punkt to /root/nltk_data...\n",
            "[nltk_data]   Package punkt is already up-to-date!\n"
          ]
        },
        {
          "output_type": "execute_result",
          "data": {
            "text/plain": [
              "True"
            ]
          },
          "metadata": {},
          "execution_count": 321
        }
      ]
    },
    {
      "cell_type": "markdown",
      "source": [
        "> creating an object for 'Poem' column to preprocess it using NLP"
      ],
      "metadata": {
        "id": "AQOoMh0jl4mS"
      }
    },
    {
      "cell_type": "code",
      "source": [
        "poems=df['Poem']\n",
        "poems"
      ],
      "metadata": {
        "colab": {
          "base_uri": "https://localhost:8080/"
        },
        "id": "fJ929FvSmGl9",
        "outputId": "6116ed49-da8d-402c-87fd-c881db1e924c"
      },
      "execution_count": null,
      "outputs": [
        {
          "output_type": "execute_result",
          "data": {
            "text/plain": [
              "0      Â  Â  Â  Â  Â  Â  Â  In the thick brushthey sp...\n",
              "1      Â  Â Storms are generous.Â  Â  Â  Â  Â  Â  Â  ...\n",
              "2       âAfter Ana Mendieta Did you carry around th...\n",
              "3       for Aja Sherrard at 20The portent may itself ...\n",
              "4       for Bob Marley, Bavaria, November 1980 Here i...\n",
              "                             ...                        \n",
              "982    To pick a tulip from the garden, the red one. ...\n",
              "983    We are as clouds that veil the midnight moon; ...\n",
              "984    When pulled, the spider web took another form....\n",
              "985    Whose woods these are I think I know. His hous...\n",
              "986    you can make the maples blazejust by stopping ...\n",
              "Name: Poem, Length: 987, dtype: object"
            ]
          },
          "metadata": {},
          "execution_count": 322
        }
      ]
    },
    {
      "cell_type": "markdown",
      "source": [
        "> Tokenization using TweetTokenizer"
      ],
      "metadata": {
        "id": "ld6ydZQSmnOC"
      }
    },
    {
      "cell_type": "code",
      "source": [
        "from nltk import TweetTokenizer\n",
        "tk=TweetTokenizer()\n",
        "poems=poems.apply(lambda x:tk.tokenize(x)).apply(lambda x:\" \".join(x))\n",
        "poems"
      ],
      "metadata": {
        "colab": {
          "base_uri": "https://localhost:8080/"
        },
        "id": "ZRH_c5OimLPc",
        "outputId": "146cf695-c44e-40f3-90cc-c43e80f10c7a"
      },
      "execution_count": null,
      "outputs": [
        {
          "output_type": "execute_result",
          "data": {
            "text/plain": [
              "0      Â Â Â Â Â Â Â In the thick brushthey spend the...\n",
              "1      Â Â Storms are generous . Â Â Â Â Â Â Â Â Â Â ...\n",
              "2      â   After Ana Mendieta Did you carry around ...\n",
              "3      for Aja Sherrard at 20The portent may itself b...\n",
              "4      for Bob Marley , Bavaria , November 1980 Here ...\n",
              "                             ...                        \n",
              "982    To pick a tulip from the garden , the red one ...\n",
              "983    We are as clouds that veil the midnight moon ;...\n",
              "984    When pulled , the spider web took another form...\n",
              "985    Whose woods these are I think I know . His hou...\n",
              "986    you can make the maples blazejust by stopping ...\n",
              "Name: Poem, Length: 987, dtype: object"
            ]
          },
          "metadata": {},
          "execution_count": 323
        }
      ]
    },
    {
      "cell_type": "markdown",
      "source": [
        "> removing charcters"
      ],
      "metadata": {
        "id": "r6BRe1HMnvnn"
      }
    },
    {
      "cell_type": "code",
      "source": [
        "poems=poems.str.replace('[^a-zA-Z0-9]+',' ')\n",
        "poems"
      ],
      "metadata": {
        "colab": {
          "base_uri": "https://localhost:8080/"
        },
        "id": "aixposDenbkZ",
        "outputId": "1312fb48-5922-4b91-f854-c7c89612bd85"
      },
      "execution_count": null,
      "outputs": [
        {
          "output_type": "execute_result",
          "data": {
            "text/plain": [
              "0       In the thick brushthey spend the hottest part...\n",
              "1       Storms are generous Something so easy to surr...\n",
              "2       After Ana Mendieta Did you carry around the m...\n",
              "3      for Aja Sherrard at 20The portent may itself b...\n",
              "4      for Bob Marley Bavaria November 1980 Here is t...\n",
              "                             ...                        \n",
              "982    To pick a tulip from the garden the red one To...\n",
              "983    We are as clouds that veil the midnight moon H...\n",
              "984    When pulled the spider web took another form T...\n",
              "985    Whose woods these are I think I know His house...\n",
              "986    you can make the maples blazejust by stopping ...\n",
              "Name: Poem, Length: 987, dtype: object"
            ]
          },
          "metadata": {},
          "execution_count": 324
        }
      ]
    },
    {
      "cell_type": "markdown",
      "source": [
        "> next we tokenize words of length more than 3 to get a meaningful word using word_tokenize"
      ],
      "metadata": {
        "id": "4gWdrSIZ2IUm"
      }
    },
    {
      "cell_type": "code",
      "source": [
        "from nltk import word_tokenize\n",
        "poems=poems.apply(lambda x:' '.join(w for w in word_tokenize(x) if len(w)>=3))\n",
        "poems"
      ],
      "metadata": {
        "colab": {
          "base_uri": "https://localhost:8080/"
        },
        "id": "X9gN9haWoH8D",
        "outputId": "f3a0c24d-06b3-429f-db13-078b5c1a6643"
      },
      "execution_count": null,
      "outputs": [
        {
          "output_type": "execute_result",
          "data": {
            "text/plain": [
              "0      the thick brushthey spend the hottest part the...\n",
              "1      Storms are generous Something easy surrender s...\n",
              "2      After Ana Mendieta Did you carry around the ma...\n",
              "3      for Aja Sherrard 20The portent may itself memo...\n",
              "4      for Bob Marley Bavaria November 1980 Here the ...\n",
              "                             ...                        \n",
              "982    pick tulip from the garden the red one put the...\n",
              "983    are clouds that veil the midnight moon How res...\n",
              "984    When pulled the spider web took another form T...\n",
              "985    Whose woods these are think know His house the...\n",
              "986    you can make the maples blazejust stopping loo...\n",
              "Name: Poem, Length: 987, dtype: object"
            ]
          },
          "metadata": {},
          "execution_count": 325
        }
      ]
    },
    {
      "cell_type": "markdown",
      "source": [
        "> lemmatization using SnowballStemmer and coverting into lowercase\n",
        "\n"
      ],
      "metadata": {
        "id": "cZLiFThp3wYH"
      }
    },
    {
      "cell_type": "code",
      "source": [
        "from nltk import SnowballStemmer\n",
        "sb=SnowballStemmer('english')\n",
        "poems=poems.apply(lambda x:[sb.stem(i.lower()) for i in tk.tokenize(x)]).apply(lambda x:' '.join(x))\n",
        "poems"
      ],
      "metadata": {
        "colab": {
          "base_uri": "https://localhost:8080/"
        },
        "id": "xj6HTR9b3tRi",
        "outputId": "4eeaa9c9-dcc7-4d34-81ac-b27bd0bfa406"
      },
      "execution_count": null,
      "outputs": [
        {
          "output_type": "execute_result",
          "data": {
            "text/plain": [
              "0      the thick brushthey spend the hottest part the...\n",
              "1      storm are generous someth easi surrend sit the...\n",
              "2      after ana mendieta did you carri around the ma...\n",
              "3      for aja sherrard 20the portent may itself memo...\n",
              "4      for bob marley bavaria novemb 1980 here the br...\n",
              "                             ...                        \n",
              "982    pick tulip from the garden the red one put the...\n",
              "983    are cloud that veil the midnight moon how rest...\n",
              "984    when pull the spider web took anoth form the b...\n",
              "985    whose wood these are think know his hous the v...\n",
              "986    you can make the mapl blazejust stop look you ...\n",
              "Name: Poem, Length: 987, dtype: object"
            ]
          },
          "metadata": {},
          "execution_count": 326
        }
      ]
    },
    {
      "cell_type": "markdown",
      "source": [
        "> removing stop words"
      ],
      "metadata": {
        "id": "78BGANNe43vp"
      }
    },
    {
      "cell_type": "code",
      "source": [
        "from nltk.corpus import stopwords\n",
        "stop_words=stopwords.words('english')\n",
        "poems=poems.apply(lambda x:[i for i in tk.tokenize(x) if i not in stop_words]).apply(lambda x:\" \".join(x))\n",
        "poems"
      ],
      "metadata": {
        "colab": {
          "base_uri": "https://localhost:8080/"
        },
        "id": "ivFIqMLA4xK2",
        "outputId": "b9b93e93-d0ed-4237-ecda-9fb6843cc54b"
      },
      "execution_count": null,
      "outputs": [
        {
          "output_type": "execute_result",
          "data": {
            "text/plain": [
              "0      thick brushthey spend hottest part day soak ho...\n",
              "1      storm generous someth easi surrend sit window ...\n",
              "2      ana mendieta carri around matin star hold fore...\n",
              "3      aja sherrard 20the portent may memori wallac s...\n",
              "4      bob marley bavaria novemb 1980 brilliant morn ...\n",
              "                             ...                        \n",
              "982    pick tulip garden red one put desk small blue ...\n",
              "983    cloud veil midnight moon restless speed gleam ...\n",
              "984    pull spider web took anoth form bull eye relax...\n",
              "985             whose wood think know hous villag though\n",
              "986    make mapl blazejust stop look set clock barkso...\n",
              "Name: Poem, Length: 987, dtype: object"
            ]
          },
          "metadata": {},
          "execution_count": 327
        }
      ]
    },
    {
      "cell_type": "markdown",
      "source": [
        "> vectorization using TFIDF"
      ],
      "metadata": {
        "id": "ujcd5kmX5xxj"
      }
    },
    {
      "cell_type": "code",
      "source": [
        "from sklearn.feature_extraction.text import TfidfVectorizer\n",
        "vec=TfidfVectorizer()\n",
        "train_data=vec.fit_transform(poems)\n",
        "print(train_data)"
      ],
      "metadata": {
        "colab": {
          "base_uri": "https://localhost:8080/"
        },
        "id": "mzaAc_8Q5jRL",
        "outputId": "d54b7a39-3546-4e42-8734-8ba0c5f5e9d5"
      },
      "execution_count": null,
      "outputs": [
        {
          "output_type": "stream",
          "name": "stdout",
          "text": [
            "  (0, 4220)\t0.30146689607718635\n",
            "  (0, 539)\t0.30146689607718635\n",
            "  (0, 2938)\t0.30146689607718635\n",
            "  (0, 4827)\t0.28449588533836073\n",
            "  (0, 6784)\t0.15981099929334805\n",
            "  (0, 3975)\t0.19575085026029168\n",
            "  (0, 6417)\t0.25548375085469155\n",
            "  (0, 2971)\t0.30146689607718635\n",
            "  (0, 5577)\t0.2631149404105736\n",
            "  (0, 1557)\t0.13731010360255008\n",
            "  (0, 4370)\t0.2144304926261788\n",
            "  (0, 2986)\t0.28449588533836073\n",
            "  (0, 5679)\t0.2631149404105736\n",
            "  (0, 834)\t0.30146689607718635\n",
            "  (0, 6184)\t0.22647161637102237\n",
            "  (1, 716)\t0.352379822465326\n",
            "  (1, 2503)\t0.27234897303169536\n",
            "  (1, 5796)\t0.2828744064962698\n",
            "  (1, 6920)\t0.24894145012192798\n",
            "  (1, 5461)\t0.28005774764516433\n",
            "  (1, 5995)\t0.3923952471821413\n",
            "  (1, 1894)\t0.3228898312130851\n",
            "  (1, 5611)\t0.2773721445933574\n",
            "  (1, 2529)\t0.3923952471821413\n",
            "  (1, 5846)\t0.3034652705549318\n",
            "  :\t:\n",
            "  (985, 3352)\t0.30465358123002245\n",
            "  (986, 617)\t0.23869569629989867\n",
            "  (986, 469)\t0.23869569629989867\n",
            "  (986, 5360)\t0.23869569629989867\n",
            "  (986, 3191)\t0.23869569629989867\n",
            "  (986, 2643)\t0.23869569629989867\n",
            "  (986, 2526)\t0.23869569629989867\n",
            "  (986, 448)\t0.23869569629989867\n",
            "  (986, 634)\t0.23869569629989867\n",
            "  (986, 5783)\t0.21572444561918497\n",
            "  (986, 3446)\t0.18884980513341923\n",
            "  (986, 3699)\t0.19275319493847123\n",
            "  (986, 4319)\t0.19717849331629167\n",
            "  (986, 5615)\t0.19275319493847123\n",
            "  (986, 1189)\t0.19717849331629167\n",
            "  (986, 1360)\t0.19275319493847123\n",
            "  (986, 5835)\t0.17931587469558838\n",
            "  (986, 5281)\t0.17931587469558838\n",
            "  (986, 4540)\t0.20832935465036276\n",
            "  (986, 6361)\t0.17931587469558838\n",
            "  (986, 541)\t0.16238685328893535\n",
            "  (986, 2113)\t0.1340710940404277\n",
            "  (986, 3670)\t0.23987210618255625\n",
            "  (986, 661)\t0.12767816827220235\n",
            "  (986, 3584)\t0.12134650039469053\n"
          ]
        }
      ]
    },
    {
      "cell_type": "markdown",
      "source": [
        "> model creation\n"
      ],
      "metadata": {
        "id": "axtSN1xG7W-x"
      }
    },
    {
      "cell_type": "markdown",
      "source": [
        "> defing a and y values"
      ],
      "metadata": {
        "id": "eY6bcINt7h1f"
      }
    },
    {
      "cell_type": "code",
      "source": [
        "x=train_data\n",
        "y=df['Genre'].values"
      ],
      "metadata": {
        "id": "AB2fneTh7luB"
      },
      "execution_count": null,
      "outputs": []
    },
    {
      "cell_type": "markdown",
      "source": [
        "> splitting into training and testing data"
      ],
      "metadata": {
        "id": "WkWBJ_gQ7a9a"
      }
    },
    {
      "cell_type": "code",
      "source": [
        "from sklearn.model_selection import train_test_split\n",
        "x_train,x_test,y_train,y_test=train_test_split(x,y,test_size=0.30,random_state=42)"
      ],
      "metadata": {
        "id": "gWK6tBvO6fLJ"
      },
      "execution_count": null,
      "outputs": []
    },
    {
      "cell_type": "markdown",
      "source": [
        "> importing various classifiers,creating models and comparing accuracy of each model"
      ],
      "metadata": {
        "id": "Xc2kaMY383Mh"
      }
    },
    {
      "cell_type": "code",
      "source": [
        "from sklearn.neighbors import KNeighborsClassifier\n",
        "from sklearn.naive_bayes import MultinomialNB\n",
        "from sklearn.svm import SVC\n",
        "from sklearn.tree import DecisionTreeClassifier\n",
        "from sklearn.ensemble import RandomForestClassifier\n",
        "\n",
        "knn=KNeighborsClassifier(n_neighbors=5)\n",
        "nb=MultinomialNB()\n",
        "svc=SVC()\n",
        "tree=DecisionTreeClassifier(criterion='entropy')\n",
        "forest=RandomForestClassifier(n_estimators=10,criterion='entropy')\n",
        "\n",
        "model_lst=[knn,nb,svc,tree,forest]"
      ],
      "metadata": {
        "id": "f-7noH0y8N7l"
      },
      "execution_count": null,
      "outputs": []
    },
    {
      "cell_type": "code",
      "source": [
        "from sklearn.metrics import confusion_matrix,accuracy_score,classification_report\n",
        "for i in model_lst:\n",
        "  print(i)\n",
        "  i.fit(x_train,y_train)\n",
        "  y_pred=i.predict(x_test)\n",
        "  print(\"**************************************************************************\")\n",
        "  print(classification_report(y_test,y_pred))\n",
        "  print(\"**************************************************************************\")\n",
        "\n"
      ],
      "metadata": {
        "colab": {
          "base_uri": "https://localhost:8080/"
        },
        "id": "gVWb-T_w9m-7",
        "outputId": "749e61c4-4643-40bf-e807-48ea1287b5e3"
      },
      "execution_count": null,
      "outputs": [
        {
          "output_type": "stream",
          "name": "stdout",
          "text": [
            "KNeighborsClassifier()\n",
            "**************************************************************************\n",
            "              precision    recall  f1-score   support\n",
            "\n",
            "           1       0.35      0.64      0.45        70\n",
            "           2       0.36      0.32      0.34        69\n",
            "           3       0.31      0.14      0.20        83\n",
            "           4       0.31      0.28      0.30        75\n",
            "\n",
            "    accuracy                           0.34       297\n",
            "   macro avg       0.33      0.35      0.32       297\n",
            "weighted avg       0.33      0.34      0.31       297\n",
            "\n",
            "**************************************************************************\n",
            "MultinomialNB()\n",
            "**************************************************************************\n",
            "              precision    recall  f1-score   support\n",
            "\n",
            "           1       0.43      0.69      0.53        70\n",
            "           2       0.33      0.42      0.37        69\n",
            "           3       0.47      0.18      0.26        83\n",
            "           4       0.35      0.31      0.33        75\n",
            "\n",
            "    accuracy                           0.39       297\n",
            "   macro avg       0.40      0.40      0.37       297\n",
            "weighted avg       0.40      0.39      0.37       297\n",
            "\n",
            "**************************************************************************\n",
            "SVC()\n",
            "**************************************************************************\n",
            "              precision    recall  f1-score   support\n",
            "\n",
            "           1       0.43      0.57      0.49        70\n",
            "           2       0.28      0.62      0.39        69\n",
            "           3       0.30      0.07      0.12        83\n",
            "           4       0.48      0.20      0.28        75\n",
            "\n",
            "    accuracy                           0.35       297\n",
            "   macro avg       0.37      0.37      0.32       297\n",
            "weighted avg       0.37      0.35      0.31       297\n",
            "\n",
            "**************************************************************************\n",
            "DecisionTreeClassifier(criterion='entropy')\n",
            "**************************************************************************\n",
            "              precision    recall  f1-score   support\n",
            "\n",
            "           1       0.40      0.47      0.43        70\n",
            "           2       0.31      0.38      0.34        69\n",
            "           3       0.45      0.31      0.37        83\n",
            "           4       0.36      0.35      0.35        75\n",
            "\n",
            "    accuracy                           0.37       297\n",
            "   macro avg       0.38      0.38      0.37       297\n",
            "weighted avg       0.38      0.37      0.37       297\n",
            "\n",
            "**************************************************************************\n",
            "RandomForestClassifier(criterion='entropy', n_estimators=10)\n",
            "**************************************************************************\n",
            "              precision    recall  f1-score   support\n",
            "\n",
            "           1       0.39      0.64      0.48        70\n",
            "           2       0.23      0.28      0.25        69\n",
            "           3       0.47      0.27      0.34        83\n",
            "           4       0.45      0.32      0.38        75\n",
            "\n",
            "    accuracy                           0.37       297\n",
            "   macro avg       0.39      0.38      0.36       297\n",
            "weighted avg       0.39      0.37      0.36       297\n",
            "\n",
            "**************************************************************************\n"
          ]
        }
      ]
    },
    {
      "cell_type": "markdown",
      "source": [
        "> MultinomialNb gives maximum accuracy"
      ],
      "metadata": {
        "id": "h1KVvRgYAgXv"
      }
    },
    {
      "cell_type": "markdown",
      "source": [
        "> now we may use hyperparameter tuning to increase accuracy"
      ],
      "metadata": {
        "id": "cSFWDHW6F8QW"
      }
    },
    {
      "cell_type": "code",
      "source": [
        "params={'alpha':[0.01,0.1,1.0,10.0,100.0],'fit_prior':[True, False]}\n",
        "clf=GridSearchCV(nb,params,cv=10,scoring='accuracy')\n",
        "clf.fit(x_train,y_train)"
      ],
      "metadata": {
        "colab": {
          "base_uri": "https://localhost:8080/"
        },
        "id": "TnQAeo_lFz7k",
        "outputId": "8c7d17d6-f473-435c-9870-0ea7dbf7aa1d"
      },
      "execution_count": null,
      "outputs": [
        {
          "output_type": "execute_result",
          "data": {
            "text/plain": [
              "GridSearchCV(cv=10, estimator=MultinomialNB(),\n",
              "             param_grid={'alpha': [0.01, 0.1, 1.0, 10.0, 100.0],\n",
              "                         'fit_prior': [True, False]},\n",
              "             scoring='accuracy')"
            ]
          },
          "metadata": {},
          "execution_count": 333
        }
      ]
    },
    {
      "cell_type": "code",
      "source": [
        "print(clf.best_params_)"
      ],
      "metadata": {
        "colab": {
          "base_uri": "https://localhost:8080/"
        },
        "id": "TslmxRo9Aycw",
        "outputId": "4b8ddfbf-716c-4a53-d64b-160f07b16a69"
      },
      "execution_count": null,
      "outputs": [
        {
          "output_type": "stream",
          "name": "stdout",
          "text": [
            "{'alpha': 100.0, 'fit_prior': False}\n"
          ]
        }
      ]
    },
    {
      "cell_type": "code",
      "source": [
        "nb1=MultinomialNB(alpha=100.0,fit_prior=False)\n",
        "nb1.fit(x_train,y_train)\n",
        "y_pred1=nb1.predict(x_test)\n",
        "y_pred1"
      ],
      "metadata": {
        "colab": {
          "base_uri": "https://localhost:8080/"
        },
        "id": "IF0wAj-iJxOo",
        "outputId": "6d1c8d5b-47b6-4f5d-b94c-e7004aa281bc"
      },
      "execution_count": null,
      "outputs": [
        {
          "output_type": "execute_result",
          "data": {
            "text/plain": [
              "array([2, 4, 4, 4, 4, 1, 4, 2, 4, 4, 4, 1, 3, 1, 2, 2, 4, 3, 1, 2, 1, 2,\n",
              "       1, 4, 4, 2, 4, 1, 4, 4, 1, 2, 1, 2, 4, 3, 4, 1, 4, 4, 3, 2, 3, 3,\n",
              "       2, 4, 4, 2, 3, 1, 3, 1, 2, 1, 4, 4, 2, 4, 4, 4, 1, 4, 3, 1, 4, 4,\n",
              "       3, 4, 4, 3, 3, 2, 1, 2, 4, 1, 1, 3, 4, 1, 4, 2, 3, 1, 1, 1, 1, 1,\n",
              "       4, 2, 3, 3, 1, 1, 1, 2, 4, 3, 3, 2, 1, 3, 2, 4, 2, 4, 2, 4, 3, 3,\n",
              "       4, 4, 2, 1, 2, 4, 3, 4, 3, 1, 2, 2, 4, 1, 2, 4, 4, 4, 4, 2, 1, 1,\n",
              "       4, 1, 1, 1, 1, 4, 4, 1, 3, 1, 4, 4, 4, 1, 2, 2, 1, 2, 3, 2, 1, 2,\n",
              "       1, 3, 1, 1, 4, 3, 3, 2, 4, 1, 3, 1, 2, 1, 2, 4, 1, 1, 4, 2, 1, 3,\n",
              "       1, 4, 1, 3, 1, 4, 1, 1, 1, 1, 4, 4, 4, 1, 1, 4, 4, 1, 1, 2, 4, 4,\n",
              "       3, 1, 1, 1, 1, 1, 4, 3, 2, 4, 1, 4, 4, 2, 1, 4, 1, 4, 4, 3, 3, 2,\n",
              "       1, 2, 1, 4, 1, 2, 3, 3, 4, 3, 1, 3, 4, 3, 4, 1, 4, 4, 4, 4, 3, 1,\n",
              "       4, 1, 4, 1, 4, 4, 3, 1, 2, 4, 4, 4, 4, 3, 4, 1, 3, 4, 1, 2, 4, 4,\n",
              "       4, 4, 4, 2, 1, 4, 1, 4, 1, 2, 1, 3, 3, 4, 3, 2, 2, 3, 4, 1, 1, 1,\n",
              "       1, 3, 1, 1, 3, 1, 4, 2, 3, 1, 4])"
            ]
          },
          "metadata": {},
          "execution_count": 335
        }
      ]
    },
    {
      "cell_type": "code",
      "source": [
        "new_score=accuracy_score(y_pred1,y_test)\n",
        "new_score"
      ],
      "metadata": {
        "colab": {
          "base_uri": "https://localhost:8080/"
        },
        "id": "vjwTevE6K5AJ",
        "outputId": "658d4925-f6d2-4e74-8760-dfca0709c896"
      },
      "execution_count": null,
      "outputs": [
        {
          "output_type": "execute_result",
          "data": {
            "text/plain": [
              "0.4276094276094276"
            ]
          },
          "metadata": {},
          "execution_count": 336
        }
      ]
    },
    {
      "cell_type": "markdown",
      "source": [
        "> using HPT we have increased the accuracy score."
      ],
      "metadata": {
        "id": "J37CnoRQNtAp"
      }
    }
  ]
}